{
 "cells": [
  {
   "attachments": {},
   "cell_type": "markdown",
   "metadata": {},
   "source": [
    "ORDER BY\n",
    "\n",
    "Когда мы говорили о последовательности столбцов в выводе, вы, вероятно, задались вопросом: «А в каком порядке выводятся строки?»\n",
    "\n",
    "Порядок вывода строк может задаваться в настройках базы данных для каждой таблицы. Более того, этот порядок может быть не задан, и тогда от вывода к выводу он будет разным.\n",
    "\n",
    "Чтобы задать порядок вывода строк в запросе, применим новое ключевое слово ORDER BY.\n",
    "\n",
    "⛏\n",
    "ПОПРОБУЙТЕ В METABASE!\n",
    "\n",
    "Для примера отсортируем фильмы по их названию в алфавитном порядке.\n",
    "\n",
    "SELECT *\n",
    "FROM sql.kinopoisk\n",
    "ORDER BY movie_title\n",
    "Задание 3.1 (External resource)\n",
    "(1.0 points possible)\n",
    "\n",
    "Как видите, сортировка по возрастанию проводится по умолчанию.\n",
    "\n",
    "Наш запрос с сортировкой по названию аналогичен такому:\n",
    "\n",
    "SELECT *\n",
    "FROM sql.kinopoisk\n",
    "ORDER BY rating ASC\n",
    "Здесь ASC — явное указание порядка сортировки по возрастанию (англ. ascending).\n",
    "\n",
    "Для обратного порядка используется ключевое слово DESC (англ. descending).\n",
    "\n",
    "Разумеется, мы можем комбинировать в нашем запросе фильтрацию строк и сортировку вывода, а также выводить только необходимые столбцы.\n",
    "\n",
    "Выведем названия, имена режиссёров и сценаристов, а также год выхода в прокат фильмов, выпущенных в СССР, и отсортируем результат по убыванию рейтинга."
   ]
  },
  {
   "cell_type": "code",
   "execution_count": null,
   "metadata": {},
   "outputs": [],
   "source": [
    "\"\"\"\n",
    "SELECT\n",
    "    movie_title,\n",
    "    director,\n",
    "    screenwriter,\n",
    "    year\n",
    "FROM sql.kinopoisk\n",
    "WHERE country = 'СССР'\n",
    "ORDER BY rating DESC\n",
    "\"\"\""
   ]
  },
  {
   "attachments": {},
   "cell_type": "markdown",
   "metadata": {},
   "source": [
    "## NULLS FIRST / NULLS LAST\n",
    "\n",
    "Также в ORDER BY можно указывать, где должны идти пустые значения — в начале или в конце.\n",
    "\n",
    "Такая настройка порядка вывода задаётся с помощью ключевых слов NULLS FIRST / NULLS LAST."
   ]
  },
  {
   "cell_type": "code",
   "execution_count": null,
   "metadata": {},
   "outputs": [],
   "source": [
    "\"\"\"\n",
    "SELECT  /*выбор*/\n",
    "    movie_title,  /*столбец movie_table*/\n",
    "    rating,  /*столбец rating*/\n",
    "    overview,  /*столбец overview*/\n",
    "    year /*столбец year*/\n",
    "FROM sql.kinopoisk  /*из таблицы sql.kinopoisk*/\n",
    "ORDER BY overview /*сортировка по столбцу overview*/\n",
    "\"\"\""
   ]
  },
  {
   "attachments": {},
   "cell_type": "markdown",
   "metadata": {},
   "source": [
    "### DESC\n",
    "Напишите запрос, чтобы вывести названия всех фильмов (столбец Название фильма), у которых рейтинг выше 8.3 и страна производства — Франция. Отсортируйте по рейтингу в порядке убывания, далее — по году выхода в прокат (также в порядке убывания)."
   ]
  },
  {
   "cell_type": "code",
   "execution_count": null,
   "metadata": {},
   "outputs": [],
   "source": [
    "\"\"\"\n",
    "SELECT\n",
    "    movie_title\n",
    "FROM sql.kinopoisk\n",
    "where rating > 8.3\n",
    "    and country = 'Франция'\n",
    "ORDER BY rating DESC,year DESC\n",
    "\"\"\""
   ]
  },
  {
   "attachments": {},
   "cell_type": "markdown",
   "metadata": {},
   "source": [
    "Для упрощения работы с ORDER BY можно использовать не названия столбцов, а их номера из вывода.\n",
    "\n",
    "⛏\n",
    "ПОПРОБУЙТЕ В METABASE!\n",
    "\n",
    "\n",
    "Сортировку по номеру столбца стоит использовать с осторожностью, поскольку при изменении вывода в SELECT всё может сбиться.\n",
    "\n",
    "При добавлении новых столбцов в SELECT нужно проверить и при необходимости поправить номера столбцов в ORDER BY."
   ]
  },
  {
   "cell_type": "code",
   "execution_count": null,
   "metadata": {},
   "outputs": [],
   "source": [
    "\"\"\"\"\n",
    "SELECT\n",
    "    director,\n",
    "    movie_title,\n",
    "    year\n",
    "FROM sql.kinopoisk\n",
    "ORDER BY 1, 3 DESC\n",
    "\"\"\""
   ]
  },
  {
   "attachments": {},
   "cell_type": "markdown",
   "metadata": {},
   "source": [
    "### LIMIT\n",
    "\n",
    "По умолчанию при любом запросе вы получаете в выводе все строки, попадающие под условия запроса.\n",
    "\n",
    "Чаще всего именно этого вы и ожидаете, но иногда, например, вам нужно просто взглянуть на содержание таблицы, при этом чем она она больше, тем дольше будет работать запрос.\n",
    "\n",
    "Ограничим вывод первыми десятью строками и сможем легко понять, какие данные хранятся в таблице, не утяжеляя результат."
   ]
  },
  {
   "cell_type": "code",
   "execution_count": null,
   "metadata": {},
   "outputs": [],
   "source": [
    "'''\n",
    "SELECT *\n",
    "FROM sql.kinopoisk\n",
    "LIMIT 10\n",
    "'''"
   ]
  },
  {
   "attachments": {},
   "cell_type": "markdown",
   "metadata": {},
   "source": [
    "### OFFSET\n",
    "\n",
    "Если LIMIT «оставляет» указанное число первых строк из вывода, то OFFSET, наоборот, «обрезает» указанное число первых строк.\n",
    "\n",
    "LIMIT и OFFSET можно использовать вместе, их порядок не важен.\n",
    "\n",
    "Выведем название и рейтинг фильмов с четвёртого по восьмое место."
   ]
  },
  {
   "cell_type": "code",
   "execution_count": null,
   "metadata": {},
   "outputs": [],
   "source": [
    "\"\"\"\n",
    "SELECT\n",
    "    movie_title,\n",
    "    rating \n",
    "FROM sql.kinopoisk\n",
    "ORDER BY rating DESC\n",
    "OFFSET 3 LIMIT 5\n",
    "\"\"\""
   ]
  },
  {
   "attachments": {},
   "cell_type": "markdown",
   "metadata": {},
   "source": [
    "Напишите запрос, чтобы вывести названия фильмов, \n",
    "\n",
    "которые вышли в прокат после 1990 года и были сняты не в России. \n",
    "\n",
    "Из этого списка оставьте только те фильмы, которые занимают с 20 по 47 места в рейтинге. \n",
    "\n",
    "Отсортируйте результат по убыванию рейтинга фильмов.\n"
   ]
  },
  {
   "cell_type": "code",
   "execution_count": null,
   "metadata": {},
   "outputs": [],
   "source": [
    "\"\"\"\n",
    "SELECT\n",
    "    movie_title\n",
    "FROM sql.kinopoisk\n",
    "where year > 1990\n",
    "    and country != 'Россия'\n",
    "ORDER BY rating desc\n",
    "limit 28 offset 19\n",
    "\"\"\""
   ]
  },
  {
   "cell_type": "code",
   "execution_count": null,
   "metadata": {},
   "outputs": [],
   "source": [
    "\"\"\"\n",
    "SELECT\n",
    "    столбец1 AS новое_название,\n",
    "    столбец2,\n",
    "    столбец3\n",
    "FROM таблица\n",
    "WHERE (условие1 OR условие2)\n",
    "    AND условие3\n",
    "ORDER BY сортировка1, сортировка2\n",
    "OFFSET 1 LIMIT 2\n",
    "\"\"\""
   ]
  }
 ],
 "metadata": {
  "kernelspec": {
   "display_name": "Python 3",
   "language": "python",
   "name": "python3"
  },
  "language_info": {
   "codemirror_mode": {
    "name": "ipython",
    "version": 3
   },
   "file_extension": ".py",
   "mimetype": "text/x-python",
   "name": "python",
   "nbconvert_exporter": "python",
   "pygments_lexer": "ipython3",
   "version": "3.9.13"
  },
  "orig_nbformat": 4
 },
 "nbformat": 4,
 "nbformat_minor": 2
}
