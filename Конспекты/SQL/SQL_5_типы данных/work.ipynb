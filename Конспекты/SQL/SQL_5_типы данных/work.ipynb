{
 "cells": [
  {
   "cell_type": "code",
   "execution_count": null,
   "metadata": {},
   "outputs": [],
   "source": [
    "#/*Напишите запрос, выводящий для каждого жанра средний рейтинг и количество фильмов этого жанра.\n",
    "#\n",
    "#Столбцы к выводу:\n",
    "#\n",
    "#genre_name (название жанра),\n",
    "#average_rating (средний рейтинг),\n",
    "#movie_count (количество фильмов).\n",
    "#Результат отсортируйте по убыванию среднего рейтинга.*/\n",
    "\"\"\"\n",
    "SELECT\n",
    "    g.name genre_name ,\n",
    "    avg(m.rating) average_rating ,\n",
    "    count(m.id) movie_count \n",
    "FROM sqlprotest.movie_genres mg\n",
    "    left join sqlprotest.movies m on m.id = mg.movie_id\n",
    "    full join sqlprotest.genres g on g.id = mg.genre_id\n",
    "group by g.name\n",
    "ORDER BY 2 desc\n",
    "\"\"\""
   ]
  },
  {
   "cell_type": "code",
   "execution_count": null,
   "metadata": {},
   "outputs": [],
   "source": [
    "#*Напишите запрос, чтобы вывести все названия фильмов и их рейтинги. Если у фильма нет рейтинга, то проставьте 0 в качестве значения рейтинга.\n",
    "#\n",
    "#Результат отсортируйте по названию фильма в алфавитном порядке.\n",
    "#\n",
    "#Примечание: Буква \"ё\" в SQL не является алфавитной и не сортируется, не обращайте внимание на это во время решения задания.*/\n",
    "\"\"\"\n",
    "SELECT \n",
    "    name ,\n",
    "    rating\n",
    "FROM sqlprotest.movies\n",
    "where rating is not null\n",
    "union all\n",
    "SELECT \n",
    "    name ,\n",
    "    0 as rating\n",
    "FROM sqlprotest.movies\n",
    "where rating is null\n",
    "order by 1\n",
    "\"\"\""
   ]
  },
  {
   "cell_type": "code",
   "execution_count": null,
   "metadata": {},
   "outputs": [],
   "source": [
    "#/*Напишите запрос, который выведет количество фильмов в каждом жанре для случаев, когда в жанре представлено три или больше фильмов.\n",
    "\n",
    "#Столбцы к выводу:\n",
    "\n",
    "#genre_name (имя жанра)\n",
    "#movies_count (количество фильмов).\n",
    "#Результат отсортируйте по убыванию количества фильмов.*/\n",
    "\"\"\"\n",
    "SELECT\n",
    "    g.name genre_name ,\n",
    "    count(m.id) movie_count \n",
    "FROM sqlprotest.movie_genres mg\n",
    "    left join sqlprotest.movies m on m.id = mg.movie_id\n",
    "    full join sqlprotest.genres g on g.id = mg.genre_id\n",
    "group by g.name\n",
    "having count(m.id) >= 3\n",
    "order by 2 desc\n",
    "\"\"\""
   ]
  }
 ],
 "metadata": {
  "language_info": {
   "name": "python"
  },
  "orig_nbformat": 4
 },
 "nbformat": 4,
 "nbformat_minor": 2
}
