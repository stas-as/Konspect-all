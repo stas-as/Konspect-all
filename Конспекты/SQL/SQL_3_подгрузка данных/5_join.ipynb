{
 "cells": [
  {
   "attachments": {},
   "cell_type": "markdown",
   "metadata": {},
   "source": [
    "- **id** - id команды\n",
    "- **api_id** - ключ на таблицу matches\n",
    "- **long_name**\t-    полное название команды\n",
    "- **short_name** -\tсокращённое название команды\n",
    " \n",
    " ### math\n",
    "\n",
    "- **id** -\tid матча\n",
    "- **season**-\tсезон\n",
    "- **date** -\tдата матча\n",
    "- **home_team_api_id** -\tapi_id домашней команды, ключ на таблицу teams\n",
    "- **away_team_api_id**\t-api_id гостевой команды, ключ на таблицу teams\n",
    "- **home_team_goals** -\tколичество голов домашней команды\n",
    "- **away_team_goals** -\tколичество голов гостевой команды"
   ]
  },
  {
   "attachments": {},
   "cell_type": "markdown",
   "metadata": {},
   "source": [
    "Для **INNER JOIN** работает следующее правило: присоединяются только те строки таблиц, которые удовлетворяют условию соединения. Если в любой из соединяемых таблиц находятся такие строки, которые не удовлетворяют заявленному условию, — они отбрасываются.\n",
    "\n",
    "Рассмотрим на примере нашего датасета. \n",
    "\n",
    "В таблице teams есть данные о 299 различных командах — можем проверить это с помощью запроса."
   ]
  },
  {
   "cell_type": "code",
   "execution_count": null,
   "metadata": {},
   "outputs": [],
   "source": [
    "\"\"\"\n",
    "SELECT \n",
    "COUNT(DISTINCT api_id) /*оператор подсчёта строк; оператор исключения повторяющихся строк; столбец api_id*/\n",
    "FROM sql.teams\n",
    "\"\"\"\n",
    "#Теперь добавим к teams таблицу с матчами.\n",
    "\n",
    "\"\"\"\n",
    "SELECT \n",
    "COUNT(DISTINCT t.id) /*оператор подсчёта строк; оператор исключения повторяющихся строк; столбец id*/\n",
    "FROM \n",
    "sql.teams t /*таблица teams с алиасом t*/\n",
    "JOIN sql.matches m ON t.api_id = m.home_team_api_id OR t.api_id = m.away_team_api_id \n",
    "/*оператор соединения inner JOIN; таблица teams с алиасом t; условие: home_team_api_id \n",
    "таблицы m равен api_id таблицы t или away_team_api_id таблицы m равен api_id таблицы t*/\n",
    "\"\"\""
   ]
  },
  {
   "attachments": {},
   "cell_type": "markdown",
   "metadata": {},
   "source": [
    "И в таблице останется уже не 299 команд, а только 292.\n",
    "Почему?\n",
    "\n",
    "Дело в том, что таблица sql.matches по какой-то причине не содержит информацию о командах Lierse SK, KVC Westerlo, KAS Eupen, Club Brugge KV, KV Oostende, RSC Anderlecht и Hull City, зато они есть в таблице sql.teams. Возможно, эти команды не участвовали ни в одном матче или записи по этим матчам были удалены."
   ]
  },
  {
   "attachments": {},
   "cell_type": "markdown",
   "metadata": {},
   "source": [
    "### LEFT OUTER JOIN И RIGHT OUTER JOIN\n",
    "Также существуют схожие друг с другом типы соединения — LEFT JOIN и RIGHT JOIN (слово outer в операторе можно опустить).\n",
    "\n",
    "Для LEFT JOIN работает следующее правило: из левой (относительно оператора) таблицы сохраняются все строки, а из правой добавляются только те, которые соответствуют условию соединения. Если в правой таблице не находится соответствия, то значения строк второй таблицы будут иметь значение NULL.\n",
    "\n",
    "LEFT JOIN может быть полезен, когда соответствующих записей во второй таблице может не быть, но важно сохранить записи из первой таблицы.\n",
    "\n",
    "?\n",
    "Почему соответствий может не быть?\n",
    "\n",
    "Причины могут быть разные, назовём две основные:\n",
    "\n",
    "1\n",
    "Различная бизнес-логика таблиц.\n",
    "\n",
    "Пример: в интернет-магазине почти всегда можно оформить заказ с промокодом. Вполне вероятно, что информация о промокодах хранится в отдельной таблице, но при этом не для каждого заказа будет существовать промокод, поскольку покупку можно оформить и без него.\n",
    "\n",
    "2\n",
    "Разное время обновления таблиц.\n",
    "\n",
    "Пример: клиент зарегистрировался на сайте интернет-магазина и оформил заказ. Данные о регистрации клиентов могут обновляться в базе данных раз в неделю, а о заказах — раз в сутки.\n",
    "\n",
    "→ Поставим следующую задачу: вывести полные названия команд, данных по которым нет в таблице matches.\n",
    "\n",
    "Для начала посмотрим на результат запроса после соединения."
   ]
  },
  {
   "cell_type": "code",
   "execution_count": null,
   "metadata": {},
   "outputs": [],
   "source": [
    "#Обратите внимание! Если мы добавим какой-либо фильтр по значению для таблицы matches, то LEFT JOIN превратится в INNER JOIN, поскольку для второй таблицы станет необходимым присутствие значения в строке.\n",
    "\"\"\"\n",
    "SELECT\n",
    "    t.long_name \n",
    "FROM sql.teams t\n",
    "LEFT JOIN sql.matches m ON t.api_id = m.home_team_api_id OR t.api_id = m.away_team_api_id\n",
    "WHERE\n",
    "    m.season = '2008/2009'\n",
    "AND t.long_name = 'KAS Eupen'\n",
    "\"\"\""
   ]
  },
  {
   "cell_type": "code",
   "execution_count": null,
   "metadata": {},
   "outputs": [],
   "source": [
    "#/*Используя LEFT JOIN, выведите список уникальных названий команд, \n",
    "#содержащихся в таблице matches. Отсортируйте список в алфавитном порядке..\n",
    "\"\"\"\n",
    "SELECT\n",
    "    distinct t.long_name\n",
    "FROM sql.matches m /*таблица teams с алиасом t*/\n",
    "LEFT JOIN  sql.teams t ON t.api_id = m.home_team_api_id OR t.api_id = m.away_team_api_id \n",
    "order by t.long_n\n",
    "\"\"\""
   ]
  },
  {
   "cell_type": "code",
   "execution_count": null,
   "metadata": {},
   "outputs": [],
   "source": [
    "#/*Используя LEFT JOIN, напишите запрос, который выведет полное название команды (long_name), \n",
    "#количество матчей, в которых участвовала команда, — домашних и гостевых (matches_cnt). \n",
    "#Отсортируйте по количеству матчей в порядке возрастания, затем — по названию команды в алфавитном порядке.\n",
    "#*/\n",
    "\"\"\"\n",
    "SELECT\n",
    "    long_name,\n",
    "    count(m.id) matches_cnt\n",
    "FROM  sql.teams t\n",
    "LEFT JOIN sql.matches m  ON t.api_id = m.home_team_api_id OR t.api_id = m.away_team_api_id \n",
    "group by t.id\n",
    "order by count(t.long_name), t.long_name\n",
    "\"\"\""
   ]
  },
  {
   "cell_type": "code",
   "execution_count": null,
   "metadata": {},
   "outputs": [],
   "source": [
    "#В начале модуля вы использовали этот оператор, записывая таблицы через запятую.\n",
    "\"\"\"\n",
    "SELECT *\n",
    "FROM\n",
    "    sql.teams,\n",
    "    sql.matches\n",
    "\"\"\"\n",
    "#Этот же запрос можно записать с использованием CROSS JOIN.\n",
    "\"\"\"\n",
    "SELECT *\n",
    "FROM\n",
    "    sql.teams\n",
    "    CROSS JOIN sql.matches\n",
    "\"\"\"\n",
    "#Обратите внимание! Условие для CROSS JOIN, в отличие от других операторов, не требуется.\n",
    "\n",
    "#Также этот запрос можно записать с помощью INNER JOIN с условием on true — результат будет тот же.\n",
    "\n",
    "\n",
    "\"\"\"\n",
    "SELECT *\n",
    "FROM\n",
    "    sql.teams\n",
    "    JOIN sql.matches ON TRUE\n",
    "\"\"\"\n",
    "#CROSS JOIN может быть полезен, когда необходимо создать таблицу фактов.\n",
    "\n",
    "#Например, с помощью такого запроса мы можем получить все возможные комбинации полных названий команд в матчах.\n",
    "\n",
    "\"\"\"\n",
    "SELECT\n",
    "    DISTINCT\n",
    "    t1.long_name home_team, \n",
    "    t2.long_name away_team\n",
    "FROM\n",
    "    sql.teams t1\n",
    "    CROSS JOIN sql.teams t2\n",
    "\"\"\""
   ]
  },
  {
   "attachments": {},
   "cell_type": "markdown",
   "metadata": {},
   "source": [
    "NATURAL JOIN\n",
    "\n",
    "Ключевое слово natural в начале оператора JOIN позволяет не указывать условие соединения таблиц — для соединения будут использованы столбцы с одинаковым названием из этих таблиц.\n",
    "\n",
    "NATURAL JOIN можно использовать с любыми видами соединений, которые требуют условия соединения:\n",
    "\n",
    "- NATURAL INNER JOIN (возможна запись NATURAL JOIN);\n",
    "- NATURAL LEFT JOIN;\n",
    "- NATURAL RIGHT JOIN;\n",
    "- NATURAL FULL OUTER JOIN.\n",
    "\n",
    "При использовании NATURAL JOIN прежде всего стоит обратить внимание на ключи таблиц. Для наших таблиц teams и matches этот вид соединения не подойдёт, так как общим для обеих таблиц является столбец id, но таблицы соединяются по другим столбцам.\n",
    "\n",
    "Когда у таблиц есть несколько столбцов с одинаковыми именами, при NATURAL JOIN условие соединения будет применено на все столбцы с одинаковыми именами.\n",
    "\n",
    "То есть для таблиц table1 и table2"
   ]
  },
  {
   "cell_type": "code",
   "execution_count": null,
   "metadata": {},
   "outputs": [],
   "source": [
    "\"\"\"\n",
    "SELECT \n",
    "…\n",
    "FROM \n",
    "         table1 \n",
    "NATURAL JOIN table2\n",
    "\"\"\"\n",
    "#будет равнозначен запросу\n",
    "\"\"\"\n",
    "SELECT\n",
    "…\n",
    "FROM \n",
    "         table1 t1\n",
    "INNER JOIN table2 t2 ON t1.id = t2.id AND t1.name = t2.name\n",
    "\"\"\""
   ]
  },
  {
   "cell_type": "code",
   "execution_count": null,
   "metadata": {},
   "outputs": [],
   "source": [
    "#/*Напишите запрос, который выведет полное название команды (long_name) \n",
    "#и общее количество матчей (matches_cnt), сыгранных командой Inter в домашних матчах.\n",
    "\"\"\"\n",
    "SELECT\n",
    "    long_name,\n",
    "    count(m.id) matches_cnt\n",
    "FROM  sql.teams t\n",
    "LEFT JOIN sql.matches m  ON t.api_id = m.home_team_api_id \n",
    "where long_name = 'Inter'\n",
    "group by t.id\n",
    "order by count(t.long_name), t.long_name\n",
    "\"\"\""
   ]
  },
  {
   "cell_type": "code",
   "execution_count": null,
   "metadata": {},
   "outputs": [],
   "source": [
    "#/*Напишите запрос, который выведет топ-10 команд (long_name) по суммарному количеству забитых голов в гостевых матчах. \n",
    "#Во втором столбце запроса выведите суммарное количество голов в гостевых матчах (total_goals).\n",
    "#*/\n",
    "\"\"\"\n",
    "SELECT\n",
    "    long_name,\n",
    "    sum(a.away_team_goals) as total_goals\n",
    "FROM  sql.teams t\n",
    "    JOIN sql.matches a  ON t.api_id = a.away_team_api_id \n",
    "group by t.id\n",
    "order by sum(a.away_team_goals) desc\n",
    "limit 10\n",
    "\"\"\""
   ]
  },
  {
   "cell_type": "code",
   "execution_count": null,
   "metadata": {},
   "outputs": [],
   "source": [
    "#/*Выведите количество матчей между командами Real Madrid CF и FC Barcelona. \n",
    "#В поле ниже введите запрос, с помощью которого вы решили задание.\n",
    "#*/\n",
    "\"\"\"\n",
    "SELECT\n",
    "    count(m.id)\n",
    "FROM  sql.matches m \n",
    "    left JOIN sql.teams a  ON a.api_id = m.away_team_api_id\n",
    "    left JOIN sql.teams h  ON h.api_id = m.home_team_api_id\n",
    "where  (h.long_name = 'Real Madrid CF' or h.long_name = 'FC Barcelona') and (a.long_name = 'Real Madrid CF' or a.long_name = 'FC Barcelona')\n",
    "\n",
    "\"\"\"\n"
   ]
  },
  {
   "cell_type": "code",
   "execution_count": null,
   "metadata": {},
   "outputs": [],
   "source": [
    "#/*Напишите запрос, который выведет название команды (long_name), \n",
    "#сезон (season) и суммарное количество забитых голов в домашних матчах (total_goals). \n",
    "#Оставьте только те строки, в которых суммарное количество голов менее десяти. \n",
    "#Отсортируйте запрос по названию команды, а затем — по сезону.\n",
    "#*/\n",
    "\"\"\"\n",
    "SELECT\n",
    "    t.long_name,\n",
    "    season,\n",
    "    sum(a.home_team_goals) as total_goals\n",
    "FROM  sql.matches a\n",
    "    left JOIN sql.teams t  ON t.api_id = a.home_team_api_id \n",
    "group by t.api_id,t.long_name,a.season\n",
    "having sum(a.home_team_goals) < 10\n",
    "order by t.long_name, season\n",
    "\"\"\"\n"
   ]
  },
  {
   "cell_type": "code",
   "execution_count": null,
   "metadata": {},
   "outputs": [],
   "source": []
  }
 ],
 "metadata": {
  "language_info": {
   "name": "python"
  },
  "orig_nbformat": 4
 },
 "nbformat": 4,
 "nbformat_minor": 2
}
