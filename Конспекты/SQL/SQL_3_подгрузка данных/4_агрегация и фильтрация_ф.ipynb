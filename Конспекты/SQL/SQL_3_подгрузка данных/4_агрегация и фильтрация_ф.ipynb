{
 "cells": [
  {
   "attachments": {},
   "cell_type": "markdown",
   "metadata": {},
   "source": [
    "- **id** - id команды\n",
    "- **api_id** - ключ на таблицу matches\n",
    "- **long_name**\t-    полное название команды\n",
    "- **short_name** -\tсокращённое название команды\n",
    " \n",
    " ### math\n",
    "\n",
    "- **id** -\tid матча\n",
    "- **season**-\tсезон\n",
    "- **date** -\tдата матча\n",
    "- **home_team_api_id** -\tapi_id домашней команды, ключ на таблицу teams\n",
    "- **away_team_api_id**\t-api_id гостевой команды, ключ на таблицу teams\n",
    "- **home_team_goals** -\tколичество голов домашней команды\n",
    "- **away_team_goals** -\tколичество голов гостевой команды"
   ]
  },
  {
   "attachments": {},
   "cell_type": "markdown",
   "metadata": {},
   "source": [
    "ФИЛЬТРАЦИЯ ДАННЫХ\n",
    "\n",
    "К соединённым таблицам применимы функции фильтрации данных.\n",
    "\n",
    "Например, можно вывести id матчей, в которых команда Arsenal была гостевой."
   ]
  },
  {
   "cell_type": "code",
   "execution_count": null,
   "metadata": {},
   "outputs": [],
   "source": [
    "#/*Напишите запрос, который выведет полное название команды (long_name), \n",
    "#количество голов домашней команды (home_goal) и количество голов гостевой команды (away_goal) в матчах, \n",
    "#где домашней командой были команды с коротким названием 'GEN'. Отсортируйте запрос по id матча в порядке возрастания..*/\n",
    "\"\"\"\n",
    "SELECT \n",
    "    h.long_name long_name,\n",
    "    m.home_team_goals  home_goal,\n",
    "    m.away_team_goals  away_goal\n",
    "FROM\n",
    "    sql.matches m \n",
    "join sql.teams h  on  h.api_id = m.home_team_api_id\n",
    "where \n",
    "    h.short_name = 'GEN'\n",
    "ORDER BY m.id\n",
    "\"\"\""
   ]
  },
  {
   "attachments": {},
   "cell_type": "markdown",
   "metadata": {},
   "source": [
    "Также мы можем отфильтровать записи сразу по двум таблицам.\n",
    "\n",
    "Например, можно оставить только записи, в которых короткое название домашней команды GEN и матчи сезона 2008/2009."
   ]
  },
  {
   "cell_type": "code",
   "execution_count": null,
   "metadata": {},
   "outputs": [],
   "source": [
    "\"\"\"\n",
    "SELECT * /*выбор всех полей*/\n",
    "FROM    \n",
    "    sql.matches m /*таблица matches с алиасом m*/\n",
    "    JOIN sql.teams t on t.api_id = m.home_team_api_id /*оператор соединения таблиц; таблица teams с алиасом t; условие: home_team_api_id таблицы m равен api_id таблицы t*/\n",
    "WHERE\n",
    "    t.short_name = 'GEN' /*столбец short_name таблицы t имеет значение GEN*/\n",
    "    AND m.season = '2008/2009' /*столбец season таблицы m имеет значение 2008/2009*/\n",
    "\"\"\""
   ]
  },
  {
   "cell_type": "code",
   "execution_count": null,
   "metadata": {},
   "outputs": [],
   "source": [
    "#/*Напишите запрос, чтобы вывести id матчей, короткое название домашней команды (home_short), \n",
    "#короткое название гостевой команды (away_short) для матчей сезона 2011/2012, \n",
    "#в которых участвовала команда с названием Liverpool. Отсортируйте по id матча в порядке возрастания.\n",
    "#*/\n",
    "\"\"\"\n",
    "SELECT \n",
    "    m.id,\n",
    "    h.short_name  home_short,\n",
    "    a.short_name  away_short\n",
    "FROM\n",
    "    sql.matches m \n",
    "    join sql.teams h  on  h.api_id = m.home_team_api_id\n",
    "    join sql.teams a  on  a.api_id = m.away_team_api_id\n",
    "where \n",
    "    m.season = '2011/2012'\n",
    "    and (h.long_name = 'Liverpool'  or a.long_name = 'Liverpool' )\n",
    "ORDER BY m.id\n",
    "\"\"\""
   ]
  },
  {
   "attachments": {},
   "cell_type": "markdown",
   "metadata": {},
   "source": [
    "АГРЕГАЦИЯ ДАННЫХ\n",
    "\n",
    "К соединённым таблицам также применимы любые агрегатные функции — самые важные функции для анализа данных.\n",
    "\n",
    "Например, мы можем вывести сумму голов по командам для матчей, где команда выступала в гостях."
   ]
  },
  {
   "cell_type": "code",
   "execution_count": 1,
   "metadata": {},
   "outputs": [
    {
     "data": {
      "text/plain": [
       "'\\nSELECT\\n    t.long_name, /*столбец long_name таблицы t*/\\n    SUM(m.home_team_goals) + SUM(m.away_team_goals) match_goals /*функция суммирования; столбец home_team_goals таблицы m; функция суммирования; столбец away_team_goals таблицы m; новое название столбца*/\\nFROM\\n    sql.matches m /*таблица matches с алиасом m*/\\n    JOIN sql.teams t ON m.away_team_api_id = t.api_id /*оператор соединения таблиц; таблица teams с алиасом t; условие: away_team_api_id таблицы m равен api_id таблицы t*/\\nGROUP BY t.id /*группировка по столбцу id таблицы t*/\\n'"
      ]
     },
     "execution_count": 1,
     "metadata": {},
     "output_type": "execute_result"
    }
   ],
   "source": [
    "\"\"\"\n",
    "SELECT\n",
    "    t.long_name, /*столбец long_name таблицы t*/\n",
    "    SUM(m.home_team_goals) + SUM(m.away_team_goals) match_goals /*функция суммирования; столбец home_team_goals таблицы m; функция суммирования; столбец away_team_goals таблицы m; новое название столбца*/\n",
    "FROM\n",
    "    sql.matches m /*таблица matches с алиасом m*/\n",
    "    JOIN sql.teams t ON m.away_team_api_id = t.api_id /*оператор соединения таблиц; таблица teams с алиасом t; условие: away_team_api_id таблицы m равен api_id таблицы t*/\n",
    "GROUP BY t.id /*группировка по столбцу id таблицы t*/\n",
    "\"\"\""
   ]
  },
  {
   "attachments": {},
   "cell_type": "markdown",
   "metadata": {},
   "source": [
    "Обратите внимание! В данном запросе была использована группировка по столбцу id таблицы teams, хотя этот столбец не выводится в запросе. Это необходимо для того, чтобы команды с одинаковым названием, если такие найдутся, не группировались между собой. Группировка по названию команды в данном запросе будет неверной, так как есть несколько команд с одинаковым полным названием — мы говорили об этом в начале модуля.\n",
    "\n",
    "Также, применяя агрегатные функции к соединённым таблицам, обращайте внимание на указание алиасов (или таблиц) при группировке и указании столбцов агрегатных функций. В нашей соединённой таблице есть два столбца с названием id, и если бы мы сформировали запрос без указания таблицы, как указано ниже, то..."
   ]
  },
  {
   "attachments": {},
   "cell_type": "markdown",
   "metadata": {},
   "source": [
    "Мы можем использовать оператор HAVING для фильтрации сгруппированных данных.\n",
    "\n",
    "Поставим задачу — вывести таблицу с суммарным количеством забитых голов в матчах по командам и сезонам для команд, в которых суммарное количество голов в матчах сезона больше 100."
   ]
  },
  {
   "cell_type": "markdown",
   "metadata": {},
   "source": []
  },
  {
   "cell_type": "code",
   "execution_count": null,
   "metadata": {},
   "outputs": [],
   "source": [
    "\"\"\"\n",
    "SELECT\n",
    "    m.season, /*столбец season таблицы m*/\n",
    "    t.long_name, /*столбец long_name таблицы t*/\n",
    "    SUM(m.home_team_goals) + SUM(m.away_team_goals) total_goals /*функция суммирования; столбец home_team_goals таблицы m; функция суммирования; столбец away_team_goals таблицы m; новое название столбца*/\n",
    "FROM sql.matches m /*таблица matches с алиасом m*/\n",
    "JOIN sql.teams t ON t.api_id = m.home_team_api_id OR t.api_id = m.away_team_api_id /*оператор соединения таблиц; таблица teams с алиасом t; условие: home_team_api_id таблицы m равен api_id таблицы t или away_team_api_id таблицы m равен api_id таблицы t*/\n",
    "GROUP BY m.season, t.id /*группировка по столбцам season таблицы m и id таблицы t*/\n",
    "HAVING SUM(m.home_team_goals) + SUM(m.away_team_goals) > 100 /*оператор фильтрации сгруппированных данных; функция суммирования; home_team_goals таблицы m; функция суммирования; away_team_goals таблицы m; больше 100*/\n",
    "\"\"\""
   ]
  },
  {
   "cell_type": "code",
   "execution_count": null,
   "metadata": {},
   "outputs": [],
   "source": [
    "#/*Напишите запрос, с помощью которого можно вывести список полных названий команд, \n",
    "#сыгравших в гостях 150 и более матчей. Отсортируйте список по названию команды.*/\n",
    "\"\"\"\n",
    "SELECT\n",
    "    t.long_name\n",
    "FROM sql.matches m\n",
    "JOIN sql.teams t ON t.api_id = m.away_team_api_id\n",
    "GROUP BY t.id\n",
    "HAVING count(away_team_api_id) >= 150\n",
    "\"\"\""
   ]
  }
 ],
 "metadata": {
  "kernelspec": {
   "display_name": "Python 3",
   "language": "python",
   "name": "python3"
  },
  "language_info": {
   "codemirror_mode": {
    "name": "ipython",
    "version": 3
   },
   "file_extension": ".py",
   "mimetype": "text/x-python",
   "name": "python",
   "nbconvert_exporter": "python",
   "pygments_lexer": "ipython3",
   "version": "3.9.13"
  },
  "orig_nbformat": 4
 },
 "nbformat": 4,
 "nbformat_minor": 2
}
