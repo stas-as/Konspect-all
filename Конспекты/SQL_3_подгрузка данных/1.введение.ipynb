{
 "cells": [
  {
   "attachments": {},
   "cell_type": "markdown",
   "metadata": {},
   "source": [
    "- **id** - id команды\n",
    "- **api_id** - ключ на таблицу matches\n",
    "- **long_name**\t-    полное название команды\n",
    "- **short_name** -\tсокращённое название команды\n",
    " \n",
    " ### math\n",
    "\n",
    "- **id** -\tid матча\n",
    "- **season**-\tсезон\n",
    "- **date** -\tдата матча\n",
    "- **home_team_api_id** -\tapi_id домашней команды, ключ на таблицу teams\n",
    "- **away_team_api_id**\t-api_id гостевой команды, ключ на таблицу teams\n",
    "- **home_team_goals** -\tколичество голов домашней команды\n",
    "- **away_team_goals** -\tколичество голов гостевой команды"
   ]
  },
  {
   "cell_type": "code",
   "execution_count": 1,
   "metadata": {},
   "outputs": [
    {
     "data": {
      "text/plain": [
       "'\\nselect\\n    season,\\n    sum(home_team_goals) as total_home_goals,\\n    sum(away_team_goals) as total_away_goals\\nfrom sql.matches\\ngroup by season\\n'"
      ]
     },
     "execution_count": 1,
     "metadata": {},
     "output_type": "execute_result"
    }
   ],
   "source": [
    "#/*Напишите запрос, который выведет сезон (season), \n",
    "#а также общее количество забитых мячей домашними (total_home_goals) \n",
    "#и гостевыми (total_away_goals) командами.\n",
    "#Отсортируйте по столбцу с сезоном в порядке возрастания.*/\n",
    "\"\"\"\n",
    "select\n",
    "    season,\n",
    "    sum(home_team_goals) as total_home_goals,\n",
    "    sum(away_team_goals) as total_away_goals\n",
    "from sql.matches\n",
    "group by season\n",
    "\"\"\""
   ]
  },
  {
   "cell_type": "code",
   "execution_count": 2,
   "metadata": {},
   "outputs": [
    {
     "data": {
      "text/plain": [
       "'\\nSELECT \\n    long_name, \\n    home_team_goals,\\n    away_team_goals\\nFROM\\n    sql.teams,\\n    sql.matches\\nWHERE away_team_api_id  = api_id\\n'"
      ]
     },
     "execution_count": 2,
     "metadata": {},
     "output_type": "execute_result"
    }
   ],
   "source": [
    "#/*Напишите запрос, который выведет таблицу с результатами матчей для гостевых команд, содержащую:\n",
    "\n",
    "#названия гостевых команд (long_name),\n",
    "#количество забитых мячей домашней команды (home_team_goals),\n",
    "#количество забитых мячей гостевой команды (away_team_goals).*/\n",
    "\"\"\"\n",
    "SELECT \n",
    "    long_name, \n",
    "    home_team_goals,\n",
    "    away_team_goals\n",
    "FROM\n",
    "    sql.teams,\n",
    "    sql.matches\n",
    "WHERE away_team_api_id  = api_id\n",
    "\"\"\""
   ]
  },
  {
   "attachments": {},
   "cell_type": "markdown",
   "metadata": {},
   "source": [
    "#### Join"
   ]
  },
  {
   "attachments": {},
   "cell_type": "markdown",
   "metadata": {},
   "source": [
    "СИНТАКСИС\n",
    "\n",
    "Оператор JOIN упрощает процесс соединения таблиц.\n",
    "\n",
    "Его синтаксис можно представить следующим образом:"
   ]
  },
  {
   "cell_type": "code",
   "execution_count": 3,
   "metadata": {},
   "outputs": [
    {
     "data": {
      "text/plain": [
       "'\\nSELECT\\n        столбец1,\\n\\tстолбец2,\\n\\t...\\nFROM\\n\\tтаблица1\\nJOIN таблица2 ON условие\\n'"
      ]
     },
     "execution_count": 3,
     "metadata": {},
     "output_type": "execute_result"
    }
   ],
   "source": [
    "\"\"\"\n",
    "SELECT\n",
    "        столбец1,\n",
    "\tстолбец2,\n",
    "\t...\n",
    "FROM\n",
    "\tтаблица1\n",
    "JOIN таблица2 ON условие\n",
    "\"\"\""
   ]
  },
  {
   "attachments": {},
   "cell_type": "markdown",
   "metadata": {},
   "source": [
    "Порядок присоединения таблиц в данном случае не важен — результат будет одинаковым.\n",
    "\n",
    "С помощью JOIN можно соединить и более двух таблиц."
   ]
  },
  {
   "cell_type": "code",
   "execution_count": 4,
   "metadata": {},
   "outputs": [
    {
     "data": {
      "text/plain": [
       "'\\nSELECT\\n        столбец1,\\n\\tстолбец2,\\n\\t...\\nFROM\\n\\tтаблица1\\nJOIN таблица2 ON условие\\nJOIN таблица3 ON условие\\n'"
      ]
     },
     "execution_count": 4,
     "metadata": {},
     "output_type": "execute_result"
    }
   ],
   "source": [
    "\"\"\"\n",
    "SELECT\n",
    "        столбец1,\n",
    "\tстолбец2,\n",
    "\t...\n",
    "FROM\n",
    "\tтаблица1\n",
    "JOIN таблица2 ON условие\n",
    "JOIN таблица3 ON условие\n",
    "\"\"\""
   ]
  },
  {
   "cell_type": "code",
   "execution_count": 5,
   "metadata": {},
   "outputs": [
    {
     "data": {
      "text/plain": [
       "'\\nSELECT\\n    matches.id\\nFROM \\n    sql.teams\\nJOIN sql.matches on home_team_api_id = api_id'"
      ]
     },
     "execution_count": 5,
     "metadata": {},
     "output_type": "execute_result"
    }
   ],
   "source": [
    "\"\"\"\n",
    "SELECT\n",
    "    teams.id /*столбец id таблицы teams*/\n",
    "FROM \n",
    "    sql.teams /*таблица teams*/\n",
    "JOIN sql.matches ON home_team_api_id = api_id \n",
    "\"\"\"\n",
    "#/*оператор соединения таблиц; таблица matches; условие: home_team_api_id таблицы matches равен api_id таблицы teams*/\n",
    "#Можно также выбрать и столбец из таблицы matches.\n",
    "\n",
    "#апросДетализация\n",
    "\"\"\"\n",
    "SELECT\n",
    "    matches.id\n",
    "FROM \n",
    "    sql.teams\n",
    "JOIN sql.matches on home_team_api_id = api_id\"\"\""
   ]
  },
  {
   "cell_type": "code",
   "execution_count": 6,
   "metadata": {},
   "outputs": [
    {
     "data": {
      "text/plain": [
       "'\\nSELECT \\n    m.id as match_id,\\n    t.id as team_id\\nFROM\\n    sql.matches m \\n    join sql.teams t  on m.home_team_api_id  = t.api_id\\n'"
      ]
     },
     "execution_count": 6,
     "metadata": {},
     "output_type": "execute_result"
    }
   ],
   "source": [
    "#/*Напишите запрос, который выведет два столбца: id матча (match_id) и id домашней команды (team_id). \n",
    "#Отсортируйте по id матча в порядке возрастания значений.*/\n",
    "\"\"\"\n",
    "SELECT \n",
    "    m.id as match_id,\n",
    "    t.id as team_id\n",
    "FROM\n",
    "    sql.matches m \n",
    "    join sql.teams t  on m.home_team_api_id  = t.api_id\n",
    "\"\"\""
   ]
  },
  {
   "cell_type": "code",
   "execution_count": 7,
   "metadata": {},
   "outputs": [
    {
     "data": {
      "text/plain": [
       "'\\nSELECT\\n    h.long_name \"домашняя команда\",\\n    m.home_team_goals \"голы домашней команды\",\\n    m.away_team_goals \"голы гостевой команды\",\\n    a.long_name \"гостевая команда\" \\nFROM\\n    sql.matches m\\n    JOIN sql.teams h ON m.home_team_api_id = h.api_id\\n    JOIN sql.teams a ON m.away_team_api_id = a.api_id\\n'"
      ]
     },
     "execution_count": 7,
     "metadata": {},
     "output_type": "execute_result"
    }
   ],
   "source": [
    "#Давайте с помощью запроса SQL получим таблицу, содержащую:\n",
    "\n",
    "#название домашней команды;\n",
    "#количество забитых домашней командой голов;\n",
    "#количество забитых гостевой командой голов;\n",
    "#название гостевой команды.\n",
    "#ЗапросДетализация\n",
    "\"\"\"\n",
    "SELECT\n",
    "    h.long_name \"домашняя команда\",\n",
    "    m.home_team_goals \"голы домашней команды\",\n",
    "    m.away_team_goals \"голы гостевой команды\",\n",
    "    a.long_name \"гостевая команда\" \n",
    "FROM\n",
    "    sql.matches m\n",
    "    JOIN sql.teams h ON m.home_team_api_id = h.api_id\n",
    "    JOIN sql.teams a ON m.away_team_api_id = a.api_id\n",
    "\"\"\""
   ]
  },
  {
   "cell_type": "code",
   "execution_count": 8,
   "metadata": {},
   "outputs": [
    {
     "data": {
      "text/plain": [
       "'\\nSELECT \\n    m.id ,\\n    h.short_name as home_short,\\n    a.short_name as away_short\\nFROM\\n    sql.matches m \\n    join sql.teams h  on m.home_team_api_id  = h.api_id\\n    join sql.teams a  on m.away_team_api_id  = a.api_id\\norder by m.id\\n'"
      ]
     },
     "execution_count": 8,
     "metadata": {},
     "output_type": "execute_result"
    }
   ],
   "source": [
    "#/*id матча,\n",
    "#короткое название домашней команды (home_short),\n",
    "#короткое название гостевой команды (away_short).\n",
    "#Отсортируйте запрос по возрастанию id матча..*/\n",
    "\"\"\"\n",
    "SELECT \n",
    "    m.id ,\n",
    "    h.short_name as home_short,\n",
    "    a.short_name as away_short\n",
    "FROM\n",
    "    sql.matches m \n",
    "    join sql.teams h  on m.home_team_api_id  = h.api_id\n",
    "    join sql.teams a  on m.away_team_api_id  = a.api_id\n",
    "order by m.id\n",
    "\"\"\""
   ]
  },
  {
   "cell_type": "code",
   "execution_count": null,
   "metadata": {},
   "outputs": [],
   "source": []
  }
 ],
 "metadata": {
  "kernelspec": {
   "display_name": "Python 3",
   "language": "python",
   "name": "python3"
  },
  "language_info": {
   "codemirror_mode": {
    "name": "ipython",
    "version": 3
   },
   "file_extension": ".py",
   "mimetype": "text/x-python",
   "name": "python",
   "nbconvert_exporter": "python",
   "pygments_lexer": "ipython3",
   "version": "3.9.13"
  },
  "orig_nbformat": 4
 },
 "nbformat": 4,
 "nbformat_minor": 2
}
