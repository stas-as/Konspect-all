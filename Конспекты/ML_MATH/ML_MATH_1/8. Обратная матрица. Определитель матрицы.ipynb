{
 "cells": [
  {
   "cell_type": "markdown",
   "metadata": {},
   "source": [
    "✍ Ранее мы научились умножать матрицы между собой. Однако возникает вопрос: можно ли `делить` матрицы друг на друга? В этом юните мы постараемся на него ответить .\n",
    "\n",
    "## **<center>ОБРАТНАЯ МАТРИЦА**\n",
    "\n",
    "Для того чтобы ввести понятие **обратной матрицы**, давайте ненадолго вернёмся в одномерное пространство и поговорим не о двумерных матрицах, а о числах.\n",
    "\n",
    "Из школьного курса алгебры известно, что операция деления числа $b$ на число $a$ — это на самом деле умножение числа $b$ на число, обратное $a$.\n",
    "\n",
    ">**Обратным** к числу $a$ называется такое число $a^{-1}$, которое в произведении с числом $a$ даёт 1:\n",
    "\n",
    "$$a^{-1}-\\textrm{т}\\textrm{а}\\textrm{к}\\textrm{о}\\textrm{е}\\ \\textrm{ч}\\textrm{и}\\textrm{с}\\textrm{л}\\textrm{о},\\ \\textrm{ч}\\textrm{т}\\textrm{о}\\ aa^{-1}=1\\ \\textrm{и}\\textrm{л}\\textrm{и}\\ a^{-1}=\\frac{1}{a}$$\n",
    "\n",
    "Тогда операция деления двух чисел в общем случае запишется в виде:\n",
    "\n",
    "$$b:a=\\frac{b}{a}=b\\cdot \\frac{1}{a}=b\\cdot a^{-1}$$\n",
    "\n",
    "Например, обратным к числу 2 будет число $2^{-1}=\\frac{1}{2}=0.5$. Тогда:\n",
    "\n",
    "$$10:2=10\\cdot 2^{-1}=10\\cdot \\frac{1}{2}=10\\cdot 0.5=5$$\n",
    "\n",
    "Обратные числа есть у всех чисел, кроме нуля. Запомним это. Данная аналогия нам очень пригодится в работе с матрицами.\n",
    "\n",
    "**Обратное число всегда одно**, и неважно, с какой стороны на него умножать. \n",
    "\n",
    "**Примечание.** Математически это запишется следующим образом:\n",
    "\n",
    "$$\\forall a\\ \\epsilon \\mathrm{\\ }\\mathbb{R}-\\left\\{0\\right\\}\\ \\exists !\\ a^{-1}\\ ,\\ \\textrm{т}\\textrm{а}\\textrm{к}\\textrm{о}\\textrm{е,}\\ \\textrm{ч}\\textrm{т}\\textrm{о}\\ \\ aa^{-1}=a^{-1}a=1$$\n",
    "\n",
    "Читается как: «Для любого числа $a$ из множества действительных чисел, за исключением числа 0, существует единственное обратное число $a^{-1}$, такое, что в произведении с $a$ оно даёт 1».\n",
    "\n",
    "Теперь, когда мы вспомнили школьную алгебру, давайте вернёмся к линейной алгебре и обобщим теорию обратных чисел на матрицы, введя понятие обратной матрицы. Сразу оговоримся, что мы будем рассматривать **только квадратные матрицы**, так как только для них существуют обратные.\n",
    "\n",
    "Итак, как вы уже догадались, в матричной алгебре в роли единицы выступает единичная матрица $E$:\n",
    "\n",
    "$E=\\left( \\begin{array}{cc} 1 & 0 \\\\ 0 & 1 \\end{array} \\right)$ — случай $(2,3)$\n",
    "$E=\\left( \\begin{array}{ccc} 1 & 0 & 0 \\\\ 0 & 1 & 0 \\\\ 0 & 0 & 1 \\end{array} \\right)$ — случай $(3,3)$\n",
    "$E=\\left( \\begin{array}{cccc} 1 & 0 & \\dots & 0 \\\\ 0 & 1 & \\dots & 0 \\\\ \\dots & \\dots & \\dots & 0 \\\\ 0 & 0 & 0 & 1 \\end{array} \\right)$ — случай $(n,n)$\n",
    "Введём определение обратной матрицы.\n",
    "\n",
    "**Обратной** к матрице $A$ порядка $n$ называется такая матрица $A^{-1}$ порядка $n$, которая в произведении с матрицей $A$ даёт единичную матрицу. Формализуем это выражение:\n",
    "\n",
    "$$A^{-1},-\\textrm{т}\\textrm{а}\\textrm{к}\\textrm{а}\\textrm{я}\\ \\textrm{м}\\textrm{а}\\textrm{т}\\textrm{р}\\textrm{и}\\textrm{ц}\\textrm{а},\\ \\textrm{ч}\\textrm{т}\\textrm{о}\\ A\\cdot A^{-1}=E\\ ,\\ {\\mathrm{dim} \\left(A^{-1}\\right)\\ }={\\mathrm{dim} \\left(A\\right)\\ }=(n,\\ n)$$\n",
    "\n",
    "Перед нами встаёт задача научиться подбирать такую матрицу, которая даст в произведении с исходной единичную.\n",
    "\n",
    "Сразу возникают **вопросы:**\n",
    "\n",
    "* С какой стороны умножать матрицы: $A \\cdot A^{-1}$ или $A^{-1} \\cdot A$? Ведь мы знаем, что умножение матриц некоммутативно.\n",
    "* Когда существует матрица $A^{-1}$? Бывают ли такие случаи, что обратной матрицы не существует?\n",
    "* Единственность $A^{-1}$. Сколько существует обратных матриц?\n",
    "* Как считать $A^{-1}$?\n",
    "\n",
    "Постараемся ответить на эти вопросы последовательно с помощью примеров. \n",
    "\n",
    "?\n",
    "\n",
    "**Пример № 1**\n",
    "\n",
    "Предположим, нам стало известно, что к матрице $A=\\left( \\begin{array}{cc} 1 & 2 \\\\ 3 & 7 \\end{array} \\right)$ обратной является матрица $A^{-1}=\\left( \\begin{array}{cc} 7 & -2 \\\\ -3 & 1 \\end{array} \\right)$.\n",
    "\n",
    "Давайте проверим, так ли это.\n",
    "\n",
    "Умножим обратную матрицу справа:\n",
    "\n",
    "$$A{\\cdot A}^{-1}=\\left( \\begin{array}{cc} 1 & 2 \\\\ 3 & 7 \\end{array} \\right)\\cdot \\left( \\begin{array}{cc} 7 & -2 \\\\ -3 & 1 \\end{array} \\right)=\\left( \\begin{array}{cc} 1\\cdot 7+2\\cdot (-3) & 1\\cdot \\left(-2\\right)+2\\cdot 1 \\\\ 3\\cdot 7 + 7\\cdot (-3) & 3\\cdot \\left(-2\\right)+7\\cdot 1 \\end{array} \\right)=\\left( \\begin{array}{cc} 1 & 0 \\\\ 0 & 1 \\end{array} \\right)=E$$\n",
    "\n",
    "Умножим обратную матрицу слева:\n",
    "\n",
    "$$A^{-1}\\cdot A=\\left( \\begin{array}{cc} 7 & -2 \\\\ -3 & 1 \\end{array} \\right)\\cdot \\left( \\begin{array}{cc} 1 & 2 \\\\ 3 & 7 \\end{array} \\right)=\\left( \\begin{array}{cc} 7\\cdot 1+(-2)\\cdot 3 & 7\\cdot 2+(-2)\\cdot 7 \\\\ -3\\cdot 1+1\\cdot 3 & -3\\cdot 2+1\\cdot 7 \\end{array} \\right)=\\left( \\begin{array}{cc} 1 & 0 \\\\ 0 & 1 \\end{array} \\right)=E$$\n",
    "\n",
    "В обоих случаях мы получаем единичную матрицу $E$. Это и есть ответ на наш первый вопрос:\n",
    "\n",
    "$$A\\cdot A^{-1}=A^{-1}\\cdot A=E$$\n",
    "\n",
    "Произведение матрицы и обратной к ней является перестановочным (коммутативным).\n",
    "\n",
    "**?**\n",
    "\n",
    "**Пример № 2**\n",
    "\n",
    "Проверить, что обратная к матрице $A=\\left( \\begin{array}{cc} 1 & 2 \\\\ 3 & 4 \\end{array} \\right)$ матрица $A^{-1}$ не равна $A^{-1}\\neq B,\\ \\textrm{г}\\textrm{д}\\textrm{е}\\ B=\\left( \\begin{array}{cc} 4 & -2 \\\\ -3 & 1 \\end{array} \\right)$.\n",
    "\n",
    "Умножаем матрицу $A$ на предполагаемую обратную матрицу $B$:\n",
    "\n",
    "$$A\\cdot B=\\left( \\begin{array}{cc} 1 & 2 \\\\ 3 & 4 \\end{array} \\right)\\left( \\begin{array}{cc} 4 & -2 \\\\ -3 & 1 \\end{array} \\right)=\\left( \\begin{array}{cc} -2 & 0 \\\\ 0 & -2 \\end{array} \\right)$$\n",
    "\n",
    "Мы получили не единичную, а шаровую матрицу. Давайте попробуем это поправить, разделив матрицу $B$ на $-2$:\n",
    "\n",
    "$$A^{-1}=-\\frac{1}{2}B=-\\frac{1}{2}\\left( \\begin{array}{cc} 4 & -2 \\\\ -3 & 1 \\end{array} \\right)=\\left( \\begin{array}{cc} -2 & 1 \\\\ \\frac{3}{2} & -\\frac{1}{2} \\end{array} \\right)$$\n",
    "\n",
    "Попробуем умножить полученную матрицу на исходную:\n",
    "\n",
    "$$A\\cdot A^{-1}=\\left( \\begin{array}{cc} 1 & 2 \\\\ 3 & 4 \\end{array} \\right)\\cdot \\left( \\begin{array}{cc} -2 & 1 \\\\ \\frac{3}{2} & -\\frac{1}{2} \\end{array} \\right)=\\left( \\begin{array}{cc} 1 & 0 \\\\ 0 & 1 \\end{array} \\right)=E$$\n",
    "\n",
    "Итак, после некоторых манипуляций мы смогли найти обратную матрицу $A^{-1}$.\n",
    "\n",
    "Бывают ситуации, при которых обратной матрицы не существует. Давайте посмотрим на такую ситуацию в следующем примере.\n",
    "\n",
    "**?**\n",
    "\n",
    "**Пример № 3**\n",
    "\n",
    "Доказать, что для матрицы $A=\\left( \\begin{array}{cc} 1 & 1 \\\\ 0 & 0 \\end{array} \\right)$ не существует обратной матрицы.\n",
    "\n",
    "Доказательство от обратного. Предположим, что к матрице $A$ существует обратная матрица $A^{-1}=\\left( \\begin{array}{cc} x & y \\\\ z & w \\end{array} \\right)$. Тогда:\n",
    "\n",
    "$$A\\cdot A^{-1}=\\left( \\begin{array}{cc} 1 & 1 \\\\ 0 & 0 \\end{array} \\right)\\cdot \\left( \\begin{array}{cc} x & y \\\\ z & w \\end{array} \\right)=\\left( \\begin{array}{cc} 1 & 0 \\\\ 0 & 1 \\end{array} \\right)$$\n",
    "\n",
    "Перемножим матрицы:\n",
    "\n",
    "$$\\left( \\begin{array}{cc} 1 & 1 \\\\ 0 & 0 \\end{array} \\right)\\cdot \\left( \\begin{array}{cc} x & y \\\\ z & w \\end{array} \\right)=\\left( \\begin{array}{cc} x+z & y+w \\\\ 0 & 0 \\end{array} \\right)$$\n",
    "\n",
    "Получаем противоречие, так как, какие бы переменные $x$, $y$, $z$ и $w$ мы ни выбрали, единичную матрицу нам никак не получить.\n",
    "\n",
    "→ Из последнего примера делаем вывод, что обратная матрица существует не всегда. Хотелось бы иметь под рукой конкретный **критерий**, который без лишних манипуляций показал бы, существует ли обратная матрица. Такой критерий есть, и мы поговорим о нём далее.\n",
    "\n",
    "А пока разберёмся с расчётом обратной матрицы. Для случая матрицы 2x2 обратная матрица считается очень просто:\n",
    "\n",
    "$${\\left( \\begin{array}{cc} a_{11} & a_{12} \\\\ a_{21} & a_{22} \\end{array} \\right)}^{-1}=\\frac{1}{a_{11}a_{22}-a_{12}a_{21}}\\cdot \\left( \\begin{array}{cc} a_{22} & -a_{12} \\\\ -a_{21} & a_{11} \\end{array} \\right),$$\n",
    "\n",
    "где знаменатель $a_{11}a_{22}-a_{12}a_{21}\\neq 0$.\n",
    "\n",
    "То есть для вычисления обратной матрицы размера $(2,2)$ необходимо:\n",
    "\n",
    "* поменять элементы, находящиеся на главной диагонали, местами;\n",
    "* элементы, находящиеся на побочной диагонали, умножить на $(-1)$;\n",
    "* результат разделить на число ${a_{11}a_{22}-a_{12}a_{21}}$.\n",
    "\n",
    "Рассмотрим **пример.**\n",
    "\n",
    "?\n",
    "\n",
    "**Пример № 4**\n",
    "\n",
    "Найти обратную матрицу $A^{-1}$, если $A=\\left( \\begin{array}{cc} a_{11} & a_{12} \\\\ a_{21} & a_{22} \\end{array} \\right)=\\left( \\begin{array}{cc} 5 & 7 \\\\ 3 & -2 \\end{array} \\right)$.\n",
    "\n",
    "По приведённой выше формуле:\n",
    "\n",
    "$$A^{-1}=\\frac{1}{a_{11}a_{22}-a_{12}a_{21}}\\cdot \\left( \\begin{array}{cc} a_{22} & -a_{12} \\\\ -a_{21} & a_{11} \\end{array} \\right)=\\frac{1}{5\\cdot \\left(-2\\right)-7\\cdot 3}\\cdot \\left( \\begin{array}{cc} -2 & -7 \\\\ -3 & 5 \\end{array} \\right)=$$\n",
    "\n",
    "Проверим, что мы действительно нашли обратную матрицу. Для этого умножим исходную матрицу $A$ на полученную обратную $A^{-1}$. Результатом должна стать единичная матрица:\n",
    "\n",
    "$$AA^{-1}=\\left( \\begin{array}{cc} 5 & 7 \\\\ 3 & -2 \\end{array} \\right)\\cdot \\left( \\begin{array}{cc} \\frac{2}{31} & \\frac{7}{31} \\\\ \\frac{3}{31} & -\\frac{5}{31} \\end{array} \\right)=\\frac{1}{31}\\cdot \\left( \\begin{array}{cc} 5 & 7 \\\\ 3 & -2 \\end{array} \\right)\\cdot \\left( \\begin{array}{cc} 2 & 7 \\\\ 3 & -5 \\end{array} \\right)=$$\n",
    "\n",
    "Действительно, результат умножения даёт единичную матрицу, а значит обратная матрица найдена верно.\n",
    "\n",
    "Если для простейших матриц 2x2 ручной поиск обратной матрицы не составляет особого труда, то про матрицы большего порядка сказать так уже нельзя.\n",
    "\n",
    "В общем случае алгоритм вычисления обратной матрицы $n * n$ очень громоздкий и сложный. Обычно его изучают в университетах, но мы не станем этого делать, так как это не имеет смысла — если перед вами встанет задача вычисления обратной матрицы, вы в основном будете пользоваться инструментами Python.\n",
    "\n",
    "Желающим ознакомиться с методикой вычисления обратной матрицы в общем случае советуем заглянуть **[сюда.](http://www.mathprofi.ru/kak_naiti_obratnuyu_matricu.html)**\n",
    "\n",
    "Кстати, о Python. Давайте посмотрим, как вычисляется обратная матрица средствами библиотеки numpy.\n",
    "\n",
    "**?**\n",
    "\n",
    "Найти матрицу, обратную $A=\\left( \\begin{array}{ccc} 1 & 2 & 3 \\\\ 4 & 5 & 6 \\\\ 7 & 8 & 10 \\end{array} \\right)$.\n",
    "\n",
    "**→ Решение на Python**\n",
    "\n",
    "Обратная матрица в Python вычисляется с помощью функции numpy.linalg.inv():"
   ]
  },
  {
   "cell_type": "code",
   "execution_count": 1,
   "metadata": {},
   "outputs": [
    {
     "data": {
      "text/plain": [
       "matrix([[ 1,  2,  3],\n",
       "        [ 4,  5,  6],\n",
       "        [ 7,  8, 10]])"
      ]
     },
     "execution_count": 1,
     "metadata": {},
     "output_type": "execute_result"
    }
   ],
   "source": [
    "import numpy as np\n",
    "A = np.matrix('1,2,3; 4,5,6; 7, 8, 10')\n",
    "A"
   ]
  },
  {
   "cell_type": "code",
   "execution_count": 2,
   "metadata": {},
   "outputs": [
    {
     "data": {
      "text/plain": [
       "matrix([[-0.66666667, -1.33333333,  1.        ],\n",
       "        [-0.66666667,  3.66666667, -2.        ],\n",
       "        [ 1.        , -2.        ,  1.        ]])"
      ]
     },
     "execution_count": 2,
     "metadata": {},
     "output_type": "execute_result"
    }
   ],
   "source": [
    "np.linalg.inv(A)"
   ]
  },
  {
   "cell_type": "code",
   "execution_count": 7,
   "metadata": {},
   "outputs": [
    {
     "data": {
      "text/plain": [
       "array([[ 5,  7],\n",
       "       [ 3, -2]])"
      ]
     },
     "metadata": {},
     "output_type": "display_data"
    },
    {
     "data": {
      "text/plain": [
       "array([[1.00000000e+00, 1.11022302e-16],\n",
       "       [1.11022302e-16, 1.00000000e+00]])"
      ]
     },
     "execution_count": 7,
     "metadata": {},
     "output_type": "execute_result"
    }
   ],
   "source": [
    "a = np.array([[5,7],[3, -2]])\n",
    "display(a)\n",
    "np.dot(np.linalg.inv(a),a)\n"
   ]
  },
  {
   "cell_type": "code",
   "execution_count": 8,
   "metadata": {},
   "outputs": [
    {
     "data": {
      "text/plain": [
       "array([[1, 2],\n",
       "       [2, 5]])"
      ]
     },
     "metadata": {},
     "output_type": "display_data"
    },
    {
     "data": {
      "text/plain": [
       "array([[ 5., -2.],\n",
       "       [-2.,  1.]])"
      ]
     },
     "execution_count": 8,
     "metadata": {},
     "output_type": "execute_result"
    }
   ],
   "source": [
    "a = np.array([[1, 2],[2, 5]])\n",
    "display(a)\n",
    "np.linalg.inv(a)"
   ]
  },
  {
   "cell_type": "code",
   "execution_count": 10,
   "metadata": {},
   "outputs": [
    {
     "name": "stdout",
     "output_type": "stream",
     "text": [
      "-2.9999999999999996\n"
     ]
    }
   ],
   "source": [
    "A = np.matrix (\"1, 2, 3; 4, 5, 6 ; 7, 8, 10\")\n",
    "print(np.linalg.det(A))\n",
    "# -3.0000000000009"
   ]
  },
  {
   "cell_type": "code",
   "execution_count": null,
   "metadata": {},
   "outputs": [],
   "source": [
    "G "
   ]
  },
  {
   "cell_type": "markdown",
   "metadata": {},
   "source": [
    "→ Мы с вами ответили на три вопроса из четырёх: выяснили, что обратная матрица единственна, произведение матрицы на обратную даёт единичную как слева направо, так и справа налево, а также научились считать простейшие обратные матрицы вручную и в Python.\n",
    "\n",
    "Остался открытым вопрос о существовании обратной матрицы. Для введения критерия существования матрицы для общего случая нам необходимо познакомиться с таким термином как **«определитель матрицы»**. \n",
    "\n",
    ">**Примечание.** Также мы ответили на главный вопрос юнита: можно ли делить матрицы друг на друга. Да, можно. Разделить матрицу $B$ на матрицу $A$ означает умножить $B$ на $A^{-1}$."
   ]
  },
  {
   "attachments": {
    "MATHML_md1_8_3.png": {
     "image/png": "[encoded data removed]"
    }
   },
   "cell_type": "markdown",
   "metadata": {},
   "source": [
    "## **<center>ОПРЕДЕЛИТЕЛЬ МАТРИЦЫ**\n",
    "\n",
    ">**Определитель матрицы** — это специальная числовая характеристика квадратных матриц, которая является своего рода мерой вырожденности матрицы: чем ближе определитель к нулю, тем хуже работают стандартные численные алгоритмы для вычисления обратных матриц.\n",
    "\n",
    "Обозначение: $\\mathrm{det}\\mathrm{}(A)$ или $|A|$.\n",
    "\n",
    "**Примечание.** У определителя также имеется и геометрический смысл. Модуль определителя равен объёму $n$-мерного параллелепипеда, натянутого на столбцы матрицы.\n",
    "\n",
    "Давайте посмотрим двухмерный пример.\n",
    "\n",
    "Предположим, задана матрица:\n",
    "\n",
    "$$A=\\left( \\begin{array}{cc} 5 & 2 \\\\ 3 & -2 \\end{array} \\right)$$\n",
    "\n",
    "Построим на плоскости векторы, которые находятся в столбцах этой матрицы: ${\\overrightarrow{v}}_1={\\left(5,\\ 3\\right)}^T$ и ${\\overrightarrow{v}}_2={\\left(2,\\ -2\\right)}^T$. На полученных векторах построим параллелограмм KLON. Модуль определителя матрицы $A$ будет равен площади построенного параллелограмма: ${|det \\left(A\\right)|\\ }=S_{KLON}=16$.\n",
    "\n",
    "![MATHML_md1_8_3.png](attachment:MATHML_md1_8_3.png)\n",
    "\n",
    "В трёхмерном случае $A=\\left(a_{ij}\\right),{\\ dim \\left(A\\right)\\ }=(3, 3)$ на векторах в столбцах матрицы можно построить параллелепипед. Тогда определитель будет равен объёму этого параллелепипеда. \n",
    "\n",
    "В случае матрицы $A=\\left(a_{ij}\\right),{\\ dim \\left(A\\right)\\ }=(n,\\ n)$ на векторах в столбцах матрицы строится абстрактный -мерный параллелепипед. Тогда определитель будет равен его объёму.\n",
    "\n",
    "Давайте разберёмся с тем, как считаются определители матриц.\n",
    "\n",
    "**РАСЧЁТ ОПРЕДЕЛИТЕЛЯ**\n",
    "\n",
    "В простейшем случае матрицы 2x2 для расчёта определителя необходимо просто перемножить элементы главной и побочной диагоналей и вычесть второе из первого.\n",
    "\n",
    "$$\\mathrm{det}\\mathrm{}(A)=det\\left( \\begin{array}{cc} a & b \\\\ c & d \\end{array} \\right)=ad-bc$$\n",
    "\n",
    ">**Примечание.** Если вы уже привыкли к двухмерной нумерации элементов матриц, тогда вашему внимаю предлагается вот такая запись:\n",
    "\n",
    "$${det \\left(A\\right)\\ }=det\\left( \\begin{array}{cc} a_{11} & a_{12} \\\\ a_{21} & a_{22} \\end{array} \\right)=a_{11}a_{22}-a_{12}a_{21}$$\n",
    "\n",
    "`В общем случае всё сложнее. Для определителей матриц размера 3x3 ещё существуют наглядные, но уже громоздкие формулы, например метод треугольников, с которым вы можете ознакомиться` **[здесь.](https://studwork.org/spravochnik/matematika/matricy/nahojdenie-opredelitelya-matricy-metodom-treugolnika)** `Однако для матриц порядка больше 3 необходимо применять специальные методы расчёта. Ручной счёт определителей занимает много времени, сил и места на бумаге, а операция расчёта определителя используется очень часто.`\n",
    "\n",
    "Хорошо, что стандартные методы уже реализованы в библиотеке numpy, поэтому определители матриц третьего порядка и выше мы будем считать на компьютере.\n",
    "\n",
    "Подробнее о том, как рассчитываются определители для матриц любого размера, вы можете почитать **[здесь.](http://mathprofi.ru/kak_vychislit_opredelitel.html)** Также можно воспользоваться **[этим онлайн-сервисом](https://math.semestr.ru/kramer/opred.php)** с пошаговым вычислением определителей.\n",
    "\n",
    "?\n",
    "\n",
    "Вычислите определитель матрицы $A=\\ \\left( \\begin{array}{cc} 1 & 2 \\\\ 3 & 4 \\end{array} \\right)$.\n",
    "\n",
    ">**Примечание.** Заметьте, что число -2 для матрицы ${\\mathrm{det} \\left(A\\right)\\ }=det\\left( \\begin{array}{cc} 1 & 2 \\\\ 3 & 4 \\end{array} \\right)=1\\cdot 4-2\\cdot 3=4-6=-2$ мы уже видели, когда считали обратную к ней матрицу $A^{-1}$. То есть на самом деле формулу вычисления обратной матрицы 2x2 можно упростить и записать следующим образом:\n",
    "\n",
    "$$A^{-1}=\\ \\frac{1}{\\mathrm{det}\\mathrm{}(A)}\\left( \\begin{array}{cc} a_{22} & -a_{12} \\\\ -a_{21} & a_{11} \\end{array} \\right)$$\n",
    "\n",
    "В Python определитель считается с помощью функции np.linalg.det().\n",
    "\n",
    "?\n",
    "\n",
    "Вычислите определитель матрицы $A=\\left( \\begin{array}{ccc} 1 & 2 & 3 \\\\ 4 & 5 & 6 \\\\ 7 & 8 & 10 \\end{array} \\right)$.\n",
    "\n",
    "→ Решение на Python"
   ]
  },
  {
   "cell_type": "code",
   "execution_count": 11,
   "metadata": {},
   "outputs": [
    {
     "name": "stdout",
     "output_type": "stream",
     "text": [
      "-2.9999999999999996\n"
     ]
    }
   ],
   "source": [
    "A = np.matrix(\"1,2,3;4,5,6;7,8,10\")\n",
    "print(np.linalg.det(A))\n",
    "\n"
   ]
  },
  {
   "cell_type": "markdown",
   "metadata": {},
   "source": [
    "**СВОЙСТВА ОПРЕДЕЛИТЕЛЯ**\n",
    "\n",
    "У определителя есть множество полезных свойств. Вот некоторые из них ↓\n",
    "\n",
    "* Определитель единичной матрицы предсказуемо равен единице:\n",
    "\n",
    "$${\\mathrm{det} \\left(E\\right)\\ }=1$$\n",
    "\n",
    "**Пример:**\n",
    "\n",
    "$$E=\\left( \\begin{array}{cc} 1 & 0 \\\\ 0 & 1 \\end{array} \\right)\\ \\ \\ \\ {\\mathrm{det} \\left(E\\right)\\ }=det\\left( \\begin{array}{cc} 1 & 0 \\\\ 0 & 1 \\end{array} \\right)=1\\cdot 1-0\\cdot 0=1\\cdot 1=1$$\n",
    "\n",
    ">**Примечание.** Данное свойство легко поддаётся геометрической интерпретации. Площадь параллелограмма, построенного на векторах $(1,0)^T$ и $(0,1)^T$, равна 1. Проверьте это самостоятельно.\n",
    "\n",
    "* Для диагональной матрицы определитель равен произведению диагональных элементов:\n",
    "\n",
    "$${\\mathrm{det} \\left(diag({\\alpha }_1,\\ {\\alpha }_2,\\ \\dots ,{\\alpha }_n\\right))\\ }={\\alpha }_1\\cdot {\\alpha }_2\\cdot \\dots \\cdot {\\alpha }_n$$\n",
    "\n",
    "Пример:\n",
    "\n",
    "$$D=\\left( \\begin{array}{cc} 5 & 0 \\\\ 0 & 8 \\end{array} \\right)\\ \\ \\ \\ \\ \\ \\ {\\mathrm{det} \\left(D\\right)\\ }=det\\left( \\begin{array}{cc} 5 & 0 \\\\ 0 & 8 \\end{array} \\right)=5\\cdot 8-0\\cdot 0=40$$\n",
    "\n",
    "* При умножении матрицу на константу $\\beta \\in \\mathbb{R}$ определитель увеличивается в $\\beta^n$ раз, где $n$ — порядок матрицы:\n",
    "\n",
    "$${\\mathrm{det} \\left(\\beta A\\right)\\ }={\\beta }^n\\mathrm{det}\\mathrm{}(A)$$\n",
    "\n",
    "Пример:\n",
    "\n",
    "Сравним определители матриц $A$ и $3 \\cdot A$, если:\n",
    "\n",
    "$$\\mathrm{A=\\ }\\left( \\begin{array}{cc} 1 & 2 \\\\ 3 & 4 \\end{array} \\right)\\ \\ \\ \\ \\ \\ 3\\cdot A=\\left( \\begin{array}{cc} 3 & 6 \\\\ 9 & 12 \\end{array} \\right)$$\n",
    "\n",
    "$${\\mathrm{det} \\left(A\\right)\\ }=\\left( \\begin{array}{cc} 1 & 2 \\\\ 3 & 4 \\end{array} \\right)=1\\cdot 4-2\\cdot 3=-2$$\n",
    "\n",
    "$${\\mathrm{det} \\left(3A\\right)\\ }=det\\left( \\begin{array}{cc} 3 & 6 \\\\ 9 & 12 \\end{array} \\right)=3\\cdot 12-6\\cdot 9=-18$$\n",
    "\n",
    "* При транспонировании определитель матрицы не изменяется:\n",
    "\n",
    "$${\\mathrm{det} \\left(A\\right)\\ }=\\mathrm{det}\\mathrm{}(A^T)$$\n",
    "\n",
    "Пример:\n",
    "\n",
    "$$\\mathrm{A=\\ }\\left( \\begin{array}{cc} 1 & 2 \\\\ 3 & 4 \\end{array} \\right) \\; и \\;\\;{\\mathrm{A}}^T\\mathrm{=\\ }\\left( \\begin{array}{cc} 1 & 3 \\\\ 2 & 4 \\end{array} \\right)$$\n",
    "\n",
    "$${\\mathrm{det} \\left(A\\right)\\ }=\\left( \\begin{array}{cc} 1 & 2 \\\\ 3 & 4 \\end{array} \\right)=1\\cdot 4-2\\cdot 3=-2$$\n",
    "\n",
    "$${\\mathrm{det} \\left(A^T\\right)\\ }=det\\left( \\begin{array}{cc} 1 & 3 \\\\ 2 & 4 \\end{array} \\right)=1\\cdot 4-3\\cdot 2=-2$$\n",
    "\n",
    "Определитель произведения матриц $A$ и $B$ равен произведению определителей этих матриц и не зависит от порядка умножения:\n",
    "\n",
    "**?**\n",
    "\n",
    "Вычислить определители матриц $A=\\left( \\begin{array}{cc} 1 & 2 \\\\ 3 & 4 \\end{array} \\right)$, $B\\mathrm{=\\ }\\left( \\begin{array}{cc} -1 & 1 \\\\ 3 & 0 \\end{array} \\right), \\ A\\cdot B, \\ B\\cdot A$.\n",
    "\n",
    "Считаем произведения:\n",
    "\n",
    "$$AB=\\ \\left( \\begin{array}{cc} 1 & 2 \\\\ 3 & 4 \\end{array} \\right)\\cdot \\left( \\begin{array}{cc} -1 & 1 \\\\ 3 & 0 \\end{array} \\right)=\\left( \\begin{array}{cc} 1\\cdot \\left(-1\\right)+2\\cdot 3 & 1\\cdot 1+2\\cdot 0 \\\\ 3\\cdot \\left(-1\\right)+4\\cdot 3 & 3\\cdot 1+4\\cdot 0 \\end{array} \\right)=\\left( \\begin{array}{cc} 5 & 1 \\\\ 9 & 3 \\end{array} \\right)$$\n",
    "\n",
    "$$BA=\\left( \\begin{array}{cc} -1 & 1 \\\\ 3 & 0 \\end{array} \\right)\\cdot \\left( \\begin{array}{cc} 1 & 2 \\\\ 3 & 4 \\end{array} \\right)=\\left( \\begin{array}{cc} \\left(-1\\right)\\cdot 1+1\\cdot 3 & (-1)\\cdot 2+1\\cdot 4 \\\\ 3\\cdot 1+0\\cdot 3 & 3\\cdot 2+0\\cdot 4 \\end{array} \\right)=\\left( \\begin{array}{cc} 2 & 2 \\\\ 3 & 6 \\end{array} \\right)$$\n",
    "\n",
    "Считаем определители:\n",
    "\n",
    "$${\\mathrm{det} \\left(A\\right)\\ }=1\\cdot 4-2\\cdot 3=-2$$ \n",
    "\n",
    "$${\\mathrm{det} \\left(B\\right)\\ }=-1\\cdot 0-1\\cdot 3=-3$$\n",
    "\n",
    "$${\\mathrm{det} \\left(A\\cdot B\\right)\\ }=15-9=6$$\n",
    "\n",
    "$${\\mathrm{det} \\left(B\\cdot A\\right)\\ }=12-6=6$$\n",
    "\n",
    "Откуда:\n",
    "\n",
    "$${\\mathrm{det} \\left(A\\cdot B\\right)\\ }={\\mathrm{det} \\left(B\\cdot A\\right)\\ }={\\mathrm{det} \\left(A\\right)\\ }\\cdot {\\mathrm{det} \\left(B\\right)=6\\ }$$\n",
    "\n",
    "Из последнего свойства определителя получается связь определителей матрицы и соответствующей ей обратной матрицы: их произведение равно единице.\n",
    "\n",
    "$${\\mathrm{det} \\left(A\\right)\\ }{\\mathrm{det} \\left(A^{-1}\\right)=1\\ }$$\n",
    "\n",
    "**?**\n",
    "\n",
    "Вычислить определители матриц $A=\\left( \\begin{array}{cc} 1 & 2 \\\\ 3 & 4 \\end{array} \\right)$ и $A^{-1}$.\n",
    "\n",
    "$${\\mathrm{det} \\left(A\\right)\\ }=-2$$\n",
    "\n",
    "$$A^{-1}=\\frac{1}{\\mathrm{det}\\mathrm{}(A)}\\left( \\begin{array}{cc} a_{22} & -a_{12} \\\\ -a_{21} & a_{11} \\end{array} \\right)=\\left( \\begin{array}{cc} -2 & 1 \\\\ 1.5 & -0.5 \\end{array} \\right)$$\n",
    "\n",
    "$${\\mathrm{det} \\left(A^{-1}\\right)\\ }=-2\\cdot \\left(-0.5\\right)-1\\cdot 1.5=1-1.5=-0.5\\ \\ \\$$\n",
    "\n",
    "$${\\mathrm{det} \\left(A\\right){\\mathrm{det} \\left(A^{-1}\\right)\\ }=\\ }\\left(-2\\right)\\cdot \\left(-0.5\\right)=1$$\n",
    "\n",
    "Таким образом, определитель обратной матрицы равен $\\frac{1}{\\mathrm{det}\\mathrm{}(A)}$ в случае, если определитель матрицы $А$ не равен нулю:\n",
    "\n",
    "$${\\mathrm{det} \\left(A^{-1}\\right)\\ }=\\frac{1}{{\\mathrm{det} \\left(A\\right)\\ }},{\\mathrm{det} \\left(A\\right)\\ }\\neq 0$$\n",
    "\n",
    "**ВЫРОЖДЕННОСТЬ МАТРИЦ**\n",
    "\n",
    "Рассмотрим особый случай. Найдём определитель матрицы:\n",
    "\n",
    "$$\\mathrm{A=\\ }\\left( \\begin{array}{cc} 1 & 1 \\\\ 0 & 0 \\end{array} \\right)$$\n",
    "\n",
    "Легко увидеть, что определитель равен 0:\n",
    "\n",
    "$${\\mathrm{det} \\left(A\\right)\\ }=det\\left( \\begin{array}{cc} 1 & 1 \\\\ 0 & 0 \\end{array} \\right)=1\\cdot 0-0\\cdot 1=0$$\n",
    "\n",
    "Для матриц с нулевым определителем существует специальное название.\n",
    "\n",
    ">Матрица $A$ называется **вырожденной**, если её определитель равен 0:\n",
    "\n",
    "$${\\mathrm{A-}\\textrm{в}\\textrm{ы}\\textrm{р}\\textrm{о}\\textrm{ж}\\textrm{д}\\textrm{е}\\textrm{н}\\textrm{н}\\textrm{а}\\textrm{я},\\ \\textrm{е}\\textrm{с}\\textrm{л}\\textrm{и}\\ \\mathrm{det} \\left(A\\right)\\ }=0$$\n",
    "\n",
    "Для вырожденных матриц **не существует обратных матриц**, так как в противном случае пришлось бы делить на 0 при подсчёте. Строки и столбцы такой матрицы являются линейно зависимыми и выражаются друг через друга. Об этом мы поговорим в следующем юните.\n",
    "\n",
    "Однако полностью вырожденные матрицы существуют только в теории. На практике мы сталкиваемся с матрицами, близкими к вырожденным. Определитель таких матриц не равен 0, но близок к нему (например, равен $10^{-5}$):\n",
    "\n",
    "$${\\mathrm{det} \\left(A\\right)\\ }\\to 0$$\n",
    "\n",
    "`При компьютерных вычислениях такие матрицы могут спровоцировать неприятности: они являются триггером для большого количества вычислительных ошибок, так как при вычислении обратной матрицы мы будем вынуждены делить на определитель ${\\mathrm{det} \\left(A\\right)\\ }$. Деление на число, близкое к 0, не выдаст нам ошибки, мы даже этого не заметим, однако элементы обратной матрицы $A^{-1}$ будут стремиться к бесконечности.` \n",
    "\n",
    "`Вспомните: мы с вами уже сталкивались с этой проблемой в модуле ML-2 «Обучение с учителем. Задача регрессии», когда учились строить линейную регрессию. В одном из примеров у нас внезапно получились огромные коэффициенты линейной регрессии, которые стремились к бесконечности. Это и есть последствия обращения вырожденных матриц при построении моделей.`\n",
    "\n",
    "С этой проблемой справляются с помощью знакомых нам методов регуляризации. Подробнее о них мы поговорим в следующем модуле."
   ]
  },
  {
   "cell_type": "code",
   "execution_count": 16,
   "metadata": {},
   "outputs": [
    {
     "data": {
      "text/plain": [
       "array([[6, 0],\n",
       "       [0, 5]])"
      ]
     },
     "execution_count": 16,
     "metadata": {},
     "output_type": "execute_result"
    }
   ],
   "source": [
    "a = np.array([[1, 2],[1, 1]])\n",
    "b = np.array([[5,-2],[-1,4]])\n",
    "c = a + b\n",
    "np.linalg.det(c)\n",
    "c"
   ]
  },
  {
   "cell_type": "code",
   "execution_count": 17,
   "metadata": {},
   "outputs": [
    {
     "data": {
      "text/plain": [
       "0.125"
      ]
     },
     "execution_count": 17,
     "metadata": {},
     "output_type": "execute_result"
    }
   ],
   "source": [
    "1/8"
   ]
  },
  {
   "cell_type": "code",
   "execution_count": 18,
   "metadata": {},
   "outputs": [
    {
     "name": "stdout",
     "output_type": "stream",
     "text": [
      "2\n"
     ]
    }
   ],
   "source": [
    "import numpy as np\n",
    "v1 = np.array([1,2,3,1])\n",
    "v2 = np.array([4,5,6,1])\n",
    "v3 = np.array([7,8,9,1])\n",
    "A = np.array([v1, v2, v3]).T\n",
    "print(np.linalg.matrix_rank(A))\n",
    "# 2"
   ]
  },
  {
   "cell_type": "code",
   "execution_count": 19,
   "metadata": {},
   "outputs": [
    {
     "name": "stdout",
     "output_type": "stream",
     "text": [
      "3\n"
     ]
    }
   ],
   "source": [
    "v1 = np.array([1,2,3,1])\n",
    "v2 = np.array([4,5,6,1])\n",
    "v3 = np.array([7,8,10,1])\n",
    "A = np.array([v1, v2, v3]).T\n",
    "print(np.linalg.matrix_rank(A))"
   ]
  }
 ],
 "metadata": {
  "kernelspec": {
   "display_name": "Python 3",
   "language": "python",
   "name": "python3"
  },
  "language_info": {
   "codemirror_mode": {
    "name": "ipython",
    "version": 3
   },
   "file_extension": ".py",
   "mimetype": "text/x-python",
   "name": "python",
   "nbconvert_exporter": "python",
   "pygments_lexer": "ipython3",
   "version": "3.9.13"
  },
  "orig_nbformat": 4
 },
 "nbformat": 4,
 "nbformat_minor": 2
}
