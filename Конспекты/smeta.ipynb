{
 "cells": [
  {
   "cell_type": "code",
   "execution_count": 16,
   "metadata": {},
   "outputs": [
    {
     "name": "stdout",
     "output_type": "stream",
     "text": [
      "1316415.0\n"
     ]
    }
   ],
   "source": [
    "\n",
    "s = {\"bloki\": 26 * 6000,\n",
    "     \"klei_bloki\": 26 * 400,\n",
    "     \"doska_150*50\": 70 * 1000,\n",
    "     \"doska_100*30\": 120 * 390,\n",
    "     \"doska_30*50\": 110 * 195,\n",
    "     \"metal_crow\": 120 * 600 + 20_000,\n",
    "     \"cement\": 4*10_000,\n",
    "     \"armtur_10\": 180*55,\n",
    "     \"armtur_6\": 43*55,\n",
    "     \"provolka_vaz\": 4.5 * 1000,\n",
    "     \"pesok\": 60_000,\n",
    "     \"min_vata\": 30_000,\n",
    "     \"VVZ\": 10_000,\n",
    "     \"Meti_crow\": 15_000,\n",
    "     \"Okna\": 60_000,\n",
    "     \"Dweri\": 55_000,\n",
    "     \"Electrica\": 20_000,\n",
    "     \"Santechnica\": 75_000,\n",
    "     \"Cotel\": 40_000,\n",
    "     \"XPS_pol\": 20_000,\n",
    "     \"Setka_pol\": 10_000,\n",
    "     \"GKL\": 15_000,\n",
    "     \"Chicaturka_Chipaklevka\": 18_000,\n",
    "     \"oboi\": 23_000,\n",
    "     \"plintusa\": 12_000,\n",
    "     \"pokraska\": 10_000,\n",
    "     \"TD_TP\": 50_000,\n",
    "     \"Septic\": 170_000,\n",
    "     \"dostavki\": 100_000,\n",
    "     \"plitka\" : 70 * 1000\n",
    "     }\n",
    "\n",
    "print(sum(s.values()))"
   ]
  }
 ],
 "metadata": {
  "kernelspec": {
   "display_name": "Python 3",
   "language": "python",
   "name": "python3"
  },
  "language_info": {
   "codemirror_mode": {
    "name": "ipython",
    "version": 3
   },
   "file_extension": ".py",
   "mimetype": "text/x-python",
   "name": "python",
   "nbconvert_exporter": "python",
   "pygments_lexer": "ipython3",
   "version": "3.12.2"
  }
 },
 "nbformat": 4,
 "nbformat_minor": 2
}
