{
 "cells": [
  {
   "cell_type": "code",
   "execution_count": 1,
   "metadata": {},
   "outputs": [],
   "source": [
    "import numpy as np\n",
    "import matplotlib.pyplot as plt\n",
    "\n",
    "def MSE(y,y_pred):\n",
    "    cost = np.sum((y-y_pred)**2)/len(y)\n",
    "    return cost\n",
    "\n",
    "def gradient_descent(x,y,iterations=1000,learning_rate=0.001,stopping_threshold=1e-3):\n",
    "    \n",
    "    current_bias = 0.01\n",
    "    current_weight = 0.1\n",
    "    learning_rate = learning_rate\n",
    "    stopping_threshold = stopping_threshold\n",
    "    \n",
    "    \n",
    "    n = float(len(x))\n",
    "    cost_list = []\n",
    "    weight_list = []\n",
    "    previous_cost = None\n",
    "    \n",
    "    for i in range(iterations):\n",
    "        \n",
    "        y_pred = (current_weight * y) + current_bias\n",
    "        \n",
    "        current_cost = MSE(y,y_pred)\n",
    "        \n",
    "        if previous_cost and abs(previous_cost - current_cost) <= stopping_threshold:\n",
    "            break\n",
    "        \n",
    "        previous_cost = current_cost\n",
    "        \n",
    "        cost_list.append(current_cost)\n",
    "        weight_list.append(current_weight)\n",
    "        \n",
    "        weight_derivative =  -(2/n) * sum(x*(y -y_pred))\n",
    "        bias_derivative = -(2/n) * sum(y-y_pred)\n",
    "        \n",
    "        current_weight = current_weight - (learning_rate * weight_derivative)\n",
    "        current_bias = current_bias - (learning_rate * bias_derivative)\n",
    "        \n",
    "        print(f\"Iteration {i+1}: Cost {current_cost}, Weight \\\n",
    "        {current_weight}, Bias {current_bias}\")\n",
    "        \n",
    "    plt.figure(figsize = (8,6))\n",
    "    plt.plot(weight_list, cost_list)\n",
    "    plt.scatter(weight_list, cost_list, marker='o', color='red')\n",
    "    plt.title(\"Cost vs Weights\")\n",
    "    plt.ylabel(\"Cost\")\n",
    "    plt.xlabel(\"Weight\")\n",
    "    plt.show()"
   ]
  }
 ],
 "metadata": {
  "kernelspec": {
   "display_name": "Python 3",
   "language": "python",
   "name": "python3"
  },
  "language_info": {
   "codemirror_mode": {
    "name": "ipython",
    "version": 3
   },
   "file_extension": ".py",
   "mimetype": "text/x-python",
   "name": "python",
   "nbconvert_exporter": "python",
   "pygments_lexer": "ipython3",
   "version": "3.9.13"
  }
 },
 "nbformat": 4,
 "nbformat_minor": 2
}
