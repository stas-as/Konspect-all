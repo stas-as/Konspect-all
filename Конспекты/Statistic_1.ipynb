{
 "cells": [
  {
   "attachments": {},
   "cell_type": "markdown",
   "metadata": {},
   "source": [
    "### Меры изменчивости\n",
    "\n",
    "**Дисперсия** (variance) - средний квадрат отклонения индивидуальных значений признака от их средней величины"
   ]
  },
  {
   "cell_type": "code",
   "execution_count": 1,
   "metadata": {},
   "outputs": [],
   "source": [
    "import numpy as np\n",
    "import pandas as pd"
   ]
  },
  {
   "cell_type": "code",
   "execution_count": 2,
   "metadata": {},
   "outputs": [],
   "source": [
    "# находим среднее значение\n",
    "def find_average(x):\n",
    "    return sum(x) / len(x)\n",
    "\n",
    "\n",
    "# находим размах\n",
    "def find_range(x):\n",
    "    x_copy = sorted(x)\n",
    "    return abs(x_copy[-1] - x_copy[0])\n",
    "\n",
    "# находим медиану\n",
    "def find_median(x):\n",
    "    if len(x) % 2 == 0:\n",
    "        return (x[len(x) // 2] + x[len(x) // 2 -1]) / 2\n",
    "    else:\n",
    "        return x[len(x) // 2]\n",
    "\n",
    "\n",
    "# находим дисперсию в генеральной совокупности\n",
    "def find_general_variance(x, x_average):\n",
    "    variance = 0\n",
    "    for i in x:\n",
    "        variance += (i - x_average) ** 2\n",
    "    return variance / len(x)\n",
    "\n",
    "\n",
    "# находим дисперсию в выборке\n",
    "def find_subgeneral_variance(x, x_average):\n",
    "    variance = 0\n",
    "    for i in x:\n",
    "        variance += (i - x_average) ** 2\n",
    "    return variance / (len(x) - 1)\n",
    "\n",
    "\n",
    "# возвращаем квадрат из числа\n",
    "def get_sqrt(x):\n",
    "    return x ** 0.5"
   ]
  },
  {
   "cell_type": "code",
   "execution_count": 3,
   "metadata": {},
   "outputs": [
    {
     "name": "stdout",
     "output_type": "stream",
     "text": [
      "3.1622776601683795\n"
     ]
    }
   ],
   "source": [
    "a = [1,5,2,7,1,9,3,8,5,9]\n",
    "print(np.std(a,ddof=1))"
   ]
  }
 ],
 "metadata": {
  "kernelspec": {
   "display_name": "Python 3",
   "language": "python",
   "name": "python3"
  },
  "language_info": {
   "codemirror_mode": {
    "name": "ipython",
    "version": 3
   },
   "file_extension": ".py",
   "mimetype": "text/x-python",
   "name": "python",
   "nbconvert_exporter": "python",
   "pygments_lexer": "ipython3",
   "version": "3.9.13"
  },
  "orig_nbformat": 4
 },
 "nbformat": 4,
 "nbformat_minor": 2
}
