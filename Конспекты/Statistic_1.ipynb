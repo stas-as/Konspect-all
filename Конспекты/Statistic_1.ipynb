{
 "cells": [
  {
   "attachments": {},
   "cell_type": "markdown",
   "metadata": {},
   "source": [
    "### Меры изменчивости\n",
    "\n",
    "**Дисперсия** (variance) - средний квадрат отклонения индивидуальных значений признака от их средней величины"
   ]
  },
  {
   "cell_type": "code",
   "execution_count": null,
   "metadata": {},
   "outputs": [],
   "source": []
  }
 ],
 "metadata": {
  "language_info": {
   "name": "python"
  },
  "orig_nbformat": 4
 },
 "nbformat": 4,
 "nbformat_minor": 2
}
