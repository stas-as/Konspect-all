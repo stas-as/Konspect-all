{
  "cells": [
    {
      "attachments": {},
      "cell_type": "markdown",
      "metadata": {
        "id": "yMG_XPwziMUN"
      },
      "source": [
        "# <center> Практика. Статистические тесты в контексте EDA"
      ]
    },
    {
      "attachments": {},
      "cell_type": "markdown",
      "metadata": {
        "id": "EMd2vwh8ihnl"
      },
      "source": [
        "## Постановка задачи\n",
        "\n",
        "Оригинальный датасет: “Data Science Job Salaries” (kaggle.com)\n",
        "\n",
        "Исследуйте данные и сделайте выводы по полученным результатам. Подкрепите свои рассуждения и выводы визуализациями и с помощью статистического тестирования проверьте, являются ли выводы статистически значимыми.\n",
        "\n",
        "В процессе анализа вы должны ответить на ключевые вопросы HR-агентства:\n",
        "\n",
        "- Наблюдается ли ежегодный рост зарплат у специалистов Data Scientist?\n",
        "- Какие факторы влияют на зарплату у специалистов Data Scientist?\n",
        "- Как соотносятся зарплаты Data Scientist и Data Engineer в различных компаниях?\n",
        "- Есть ли связь между наличием должностей Data Scientist и Data Engineer и размером компании?\n",
        "- Если вы найдёте в данных интересные закономерности, также отметьте их в своём анализе.\n",
        "\n",
        "Продемонстрируйте использование разных тестов для проверки статистической значимости сделанных выводов:\n",
        "\n",
        "- тесты для количественного признака:\n",
        "  - для одной выборки;\n",
        "  - для двух выборок;\n",
        "  - для нескольких выборок;\n",
        "- тест для категориальных признаков."
      ]
    },
    {
      "attachments": {},
      "cell_type": "markdown",
      "metadata": {
        "id": "xqjB2nBnNNkc"
      },
      "source": [
        "Данные содержат следующие столбцы:\n",
        "НАИМЕНОВАНИЕ СТОЛБЦА\tОПИСАНИЕ\n",
        "- work_year -\tГод, в котором была выплачена зарплата.\n",
        "- experience_level -\tОпыт работы на этой должности в течение года со следующими возможными значениями:\n",
        "  - EN — Entry-level/Junior;\n",
        "  - MI — Mid-level/Intermediate;\n",
        "  - SE — Senior-level/Expert;\n",
        "  - EX — Executive-level/Director.\n",
        "- employment_type\tТип трудоустройства для этой роли:\n",
        "  - PT — неполный рабочий день;\n",
        "  - FT — полный рабочий день;\n",
        "  - CT — контракт;\n",
        "  - FL — фриланс.\n",
        "- job_title\t- Роль, в которой соискатель работал в течение года.\n",
        "- salary\t- Общая выплаченная валовая сумма заработной платы.\n",
        "- salary_currency\t- Валюта выплачиваемой заработной платы в виде кода валюты ISO 4217.\n",
        "- salary_in_usd\t- Зарплата в долларах США (валютный курс, делённый на среднее значение курса доллара США за соответствующий год через fxdata.foorilla.com).\n",
        "- employee_residence\t- Основная страна проживания сотрудника в течение рабочего года в виде кода страны ISO 3166.\n",
        "- remote_ratio\t- Общий объём работы, выполняемой удалённо. Возможные значения:\n",
        "  - 0 — удалённой работы нет (менее 20 %);\n",
        "  - 50 — частично удалённая работа;\n",
        "  - 100 — полностью удалённая работа (более 80 %).\n",
        "- company_location\t- Страна главного офиса работодателя или филиала по контракту в виде кода страны ISO 3166.\n",
        "- company_size\t- Среднее количество людей, работавших в компании в течение года:\n",
        "  - S — менее 50 сотрудников (небольшая компания);\n",
        "  - M — от 50 до 250 сотрудников (средняя компания);\n",
        "  - L — более 250 сотрудников (крупная компания).\n",
        "\n"
      ]
    },
    {
      "attachments": {},
      "cell_type": "markdown",
      "metadata": {
        "id": "_XMyOg3cgcN1"
      },
      "source": [
        "## Загрузка данных"
      ]
    },
    {
      "cell_type": "code",
      "execution_count": 1,
      "metadata": {
        "id": "2JjaPf35gyCK"
      },
      "outputs": [],
      "source": [
        "# загружаем необходимые библиотеки\n",
        "import pandas as pd\n",
        "import numpy as np\n",
        "\n",
        "from scipy import stats\n",
        "import statsmodels.api as sm\n",
        "from statsmodels import stats as sms\n",
        "\n",
        "import matplotlib.pyplot as plt\n",
        "import seaborn as sns\n",
        "import plotly\n",
        "import plotly.express as px\n",
        "\n",
        "# делаем визуальную настройку графиков\n",
        "sns.set_theme(\"notebook\") \n",
        "sns.set_palette(\"Set2\") "
      ]
    },
    {
      "cell_type": "code",
      "execution_count": 2,
      "metadata": {
        "colab": {
          "base_uri": "https://localhost:8080/",
          "height": 206
        },
        "id": "ZPiI902dv11F",
        "outputId": "eccef1b9-a3cc-4144-a9df-a2a020abf30c"
      },
      "outputs": [
        {
          "data": {
            "text/html": [
              "<div>\n",
              "<style scoped>\n",
              "    .dataframe tbody tr th:only-of-type {\n",
              "        vertical-align: middle;\n",
              "    }\n",
              "\n",
              "    .dataframe tbody tr th {\n",
              "        vertical-align: top;\n",
              "    }\n",
              "\n",
              "    .dataframe thead th {\n",
              "        text-align: right;\n",
              "    }\n",
              "</style>\n",
              "<table border=\"1\" class=\"dataframe\">\n",
              "  <thead>\n",
              "    <tr style=\"text-align: right;\">\n",
              "      <th></th>\n",
              "      <th>Unnamed: 0</th>\n",
              "      <th>work_year</th>\n",
              "      <th>experience_level</th>\n",
              "      <th>employment_type</th>\n",
              "      <th>job_title</th>\n",
              "      <th>salary</th>\n",
              "      <th>salary_currency</th>\n",
              "      <th>salary_in_usd</th>\n",
              "      <th>employee_residence</th>\n",
              "      <th>remote_ratio</th>\n",
              "      <th>company_location</th>\n",
              "      <th>company_size</th>\n",
              "    </tr>\n",
              "  </thead>\n",
              "  <tbody>\n",
              "    <tr>\n",
              "      <th>0</th>\n",
              "      <td>0</td>\n",
              "      <td>2020</td>\n",
              "      <td>MI</td>\n",
              "      <td>FT</td>\n",
              "      <td>Data Scientist</td>\n",
              "      <td>70000</td>\n",
              "      <td>EUR</td>\n",
              "      <td>79833</td>\n",
              "      <td>DE</td>\n",
              "      <td>0</td>\n",
              "      <td>DE</td>\n",
              "      <td>L</td>\n",
              "    </tr>\n",
              "    <tr>\n",
              "      <th>1</th>\n",
              "      <td>1</td>\n",
              "      <td>2020</td>\n",
              "      <td>SE</td>\n",
              "      <td>FT</td>\n",
              "      <td>Machine Learning Scientist</td>\n",
              "      <td>260000</td>\n",
              "      <td>USD</td>\n",
              "      <td>260000</td>\n",
              "      <td>JP</td>\n",
              "      <td>0</td>\n",
              "      <td>JP</td>\n",
              "      <td>S</td>\n",
              "    </tr>\n",
              "    <tr>\n",
              "      <th>2</th>\n",
              "      <td>2</td>\n",
              "      <td>2020</td>\n",
              "      <td>SE</td>\n",
              "      <td>FT</td>\n",
              "      <td>Big Data Engineer</td>\n",
              "      <td>85000</td>\n",
              "      <td>GBP</td>\n",
              "      <td>109024</td>\n",
              "      <td>GB</td>\n",
              "      <td>50</td>\n",
              "      <td>GB</td>\n",
              "      <td>M</td>\n",
              "    </tr>\n",
              "    <tr>\n",
              "      <th>3</th>\n",
              "      <td>3</td>\n",
              "      <td>2020</td>\n",
              "      <td>MI</td>\n",
              "      <td>FT</td>\n",
              "      <td>Product Data Analyst</td>\n",
              "      <td>20000</td>\n",
              "      <td>USD</td>\n",
              "      <td>20000</td>\n",
              "      <td>HN</td>\n",
              "      <td>0</td>\n",
              "      <td>HN</td>\n",
              "      <td>S</td>\n",
              "    </tr>\n",
              "    <tr>\n",
              "      <th>4</th>\n",
              "      <td>4</td>\n",
              "      <td>2020</td>\n",
              "      <td>SE</td>\n",
              "      <td>FT</td>\n",
              "      <td>Machine Learning Engineer</td>\n",
              "      <td>150000</td>\n",
              "      <td>USD</td>\n",
              "      <td>150000</td>\n",
              "      <td>US</td>\n",
              "      <td>50</td>\n",
              "      <td>US</td>\n",
              "      <td>L</td>\n",
              "    </tr>\n",
              "  </tbody>\n",
              "</table>\n",
              "</div>"
            ],
            "text/plain": [
              "   Unnamed: 0  work_year experience_level employment_type  \\\n",
              "0           0       2020               MI              FT   \n",
              "1           1       2020               SE              FT   \n",
              "2           2       2020               SE              FT   \n",
              "3           3       2020               MI              FT   \n",
              "4           4       2020               SE              FT   \n",
              "\n",
              "                    job_title  salary salary_currency  salary_in_usd  \\\n",
              "0              Data Scientist   70000             EUR          79833   \n",
              "1  Machine Learning Scientist  260000             USD         260000   \n",
              "2           Big Data Engineer   85000             GBP         109024   \n",
              "3        Product Data Analyst   20000             USD          20000   \n",
              "4   Machine Learning Engineer  150000             USD         150000   \n",
              "\n",
              "  employee_residence  remote_ratio company_location company_size  \n",
              "0                 DE             0               DE            L  \n",
              "1                 JP             0               JP            S  \n",
              "2                 GB            50               GB            M  \n",
              "3                 HN             0               HN            S  \n",
              "4                 US            50               US            L  "
            ]
          },
          "execution_count": 2,
          "metadata": {},
          "output_type": "execute_result"
        }
      ],
      "source": [
        "# загружаем датасет\n",
        "data = pd.read_csv('https://lms-cdn.skillfactory.ru/assets/courseware/v1/9e84f30c5bc84881a5e33262d5e32a8b/asset-v1:SkillFactory+DST-3.0+28FEB2021+type@asset+block/ds_salaries.zip')\n",
        "data.head()"
      ]
    },
    {
      "cell_type": "code",
      "execution_count": 3,
      "metadata": {
        "colab": {
          "base_uri": "https://localhost:8080/"
        },
        "id": "uLEEV6aLomOU",
        "outputId": "23314b21-aa3f-4537-94cb-be776d9427ae"
      },
      "outputs": [
        {
          "name": "stdout",
          "output_type": "stream",
          "text": [
            "Уровень значимости alpha = 0.05\n"
          ]
        }
      ],
      "source": [
        "# задаём уровень значимости\n",
        "alpha = 0.05 \n",
        "print(\"Уровень значимости alpha = {:.2f}\".format(alpha))"
      ]
    },
    {
      "attachments": {},
      "cell_type": "markdown",
      "metadata": {
        "id": "c9QRWWOVfV13"
      },
      "source": [
        "## Описательный анализ данных"
      ]
    },
    {
      "cell_type": "code",
      "execution_count": 4,
      "metadata": {
        "colab": {
          "base_uri": "https://localhost:8080/"
        },
        "id": "zkiOmlAy2XQU",
        "outputId": "88adbac3-0fd7-460c-a368-c40baff97200"
      },
      "outputs": [
        {
          "name": "stdout",
          "output_type": "stream",
          "text": [
            "<class 'pandas.core.frame.DataFrame'>\n",
            "RangeIndex: 607 entries, 0 to 606\n",
            "Data columns (total 12 columns):\n",
            " #   Column              Non-Null Count  Dtype \n",
            "---  ------              --------------  ----- \n",
            " 0   Unnamed: 0          607 non-null    int64 \n",
            " 1   work_year           607 non-null    int64 \n",
            " 2   experience_level    607 non-null    object\n",
            " 3   employment_type     607 non-null    object\n",
            " 4   job_title           607 non-null    object\n",
            " 5   salary              607 non-null    int64 \n",
            " 6   salary_currency     607 non-null    object\n",
            " 7   salary_in_usd       607 non-null    int64 \n",
            " 8   employee_residence  607 non-null    object\n",
            " 9   remote_ratio        607 non-null    int64 \n",
            " 10  company_location    607 non-null    object\n",
            " 11  company_size        607 non-null    object\n",
            "dtypes: int64(5), object(7)\n",
            "memory usage: 57.0+ KB\n"
          ]
        }
      ],
      "source": [
        "data.info()"
      ]
    },
    {
      "attachments": {},
      "cell_type": "markdown",
      "metadata": {
        "id": "2DSvnZuul7Za"
      },
      "source": [
        "В датасете 607 записей (без пропущенных значений)."
      ]
    },
    {
      "attachments": {},
      "cell_type": "markdown",
      "metadata": {},
      "source": [
        "employee_residence,salary_currency,salary,company_location - перечень признаков определенные как неинформативные признаки"
      ]
    },
    {
      "attachments": {},
      "cell_type": "markdown",
      "metadata": {
        "id": "Xug87trzl7Za"
      },
      "source": [
        "Проверим данные на наличие полных дубликатов:"
      ]
    },
    {
      "cell_type": "code",
      "execution_count": 5,
      "metadata": {
        "colab": {
          "base_uri": "https://localhost:8080/"
        },
        "id": "As_X7I6jl7Za",
        "outputId": "3d3795b3-ab7c-4cc6-ab3d-23a4796a7b5c"
      },
      "outputs": [
        {
          "name": "stdout",
          "output_type": "stream",
          "text": [
            "Количество дубликатов: 0\n",
            "Размер таблицы после удаления дубликатов: (607, 12)\n"
          ]
        }
      ],
      "source": [
        "print('Количество дубликатов: {}'.format(data[data.duplicated()].shape[0]))\n",
        "\n",
        "# Удаляем дубликаты:\n",
        "data = data.drop_duplicates()\n",
        "print('Размер таблицы после удаления дубликатов: {}'.format(data.shape))"
      ]
    },
    {
      "attachments": {},
      "cell_type": "markdown",
      "metadata": {},
      "source": [
        "выведим основные статистические характеристики для каждого из признаков."
      ]
    },
    {
      "cell_type": "code",
      "execution_count": 6,
      "metadata": {},
      "outputs": [
        {
          "data": {
            "text/html": [
              "<div>\n",
              "<style scoped>\n",
              "    .dataframe tbody tr th:only-of-type {\n",
              "        vertical-align: middle;\n",
              "    }\n",
              "\n",
              "    .dataframe tbody tr th {\n",
              "        vertical-align: top;\n",
              "    }\n",
              "\n",
              "    .dataframe thead th {\n",
              "        text-align: right;\n",
              "    }\n",
              "</style>\n",
              "<table border=\"1\" class=\"dataframe\">\n",
              "  <thead>\n",
              "    <tr style=\"text-align: right;\">\n",
              "      <th></th>\n",
              "      <th>Unnamed: 0</th>\n",
              "      <th>work_year</th>\n",
              "      <th>salary</th>\n",
              "      <th>salary_in_usd</th>\n",
              "      <th>remote_ratio</th>\n",
              "    </tr>\n",
              "  </thead>\n",
              "  <tbody>\n",
              "    <tr>\n",
              "      <th>count</th>\n",
              "      <td>607.000000</td>\n",
              "      <td>607.000000</td>\n",
              "      <td>6.070000e+02</td>\n",
              "      <td>607.000000</td>\n",
              "      <td>607.00000</td>\n",
              "    </tr>\n",
              "    <tr>\n",
              "      <th>mean</th>\n",
              "      <td>303.000000</td>\n",
              "      <td>2021.405272</td>\n",
              "      <td>3.240001e+05</td>\n",
              "      <td>112297.869852</td>\n",
              "      <td>70.92257</td>\n",
              "    </tr>\n",
              "    <tr>\n",
              "      <th>std</th>\n",
              "      <td>175.370085</td>\n",
              "      <td>0.692133</td>\n",
              "      <td>1.544357e+06</td>\n",
              "      <td>70957.259411</td>\n",
              "      <td>40.70913</td>\n",
              "    </tr>\n",
              "    <tr>\n",
              "      <th>min</th>\n",
              "      <td>0.000000</td>\n",
              "      <td>2020.000000</td>\n",
              "      <td>4.000000e+03</td>\n",
              "      <td>2859.000000</td>\n",
              "      <td>0.00000</td>\n",
              "    </tr>\n",
              "    <tr>\n",
              "      <th>25%</th>\n",
              "      <td>151.500000</td>\n",
              "      <td>2021.000000</td>\n",
              "      <td>7.000000e+04</td>\n",
              "      <td>62726.000000</td>\n",
              "      <td>50.00000</td>\n",
              "    </tr>\n",
              "    <tr>\n",
              "      <th>50%</th>\n",
              "      <td>303.000000</td>\n",
              "      <td>2022.000000</td>\n",
              "      <td>1.150000e+05</td>\n",
              "      <td>101570.000000</td>\n",
              "      <td>100.00000</td>\n",
              "    </tr>\n",
              "    <tr>\n",
              "      <th>75%</th>\n",
              "      <td>454.500000</td>\n",
              "      <td>2022.000000</td>\n",
              "      <td>1.650000e+05</td>\n",
              "      <td>150000.000000</td>\n",
              "      <td>100.00000</td>\n",
              "    </tr>\n",
              "    <tr>\n",
              "      <th>max</th>\n",
              "      <td>606.000000</td>\n",
              "      <td>2022.000000</td>\n",
              "      <td>3.040000e+07</td>\n",
              "      <td>600000.000000</td>\n",
              "      <td>100.00000</td>\n",
              "    </tr>\n",
              "  </tbody>\n",
              "</table>\n",
              "</div>"
            ],
            "text/plain": [
              "       Unnamed: 0    work_year        salary  salary_in_usd  remote_ratio\n",
              "count  607.000000   607.000000  6.070000e+02     607.000000     607.00000\n",
              "mean   303.000000  2021.405272  3.240001e+05  112297.869852      70.92257\n",
              "std    175.370085     0.692133  1.544357e+06   70957.259411      40.70913\n",
              "min      0.000000  2020.000000  4.000000e+03    2859.000000       0.00000\n",
              "25%    151.500000  2021.000000  7.000000e+04   62726.000000      50.00000\n",
              "50%    303.000000  2022.000000  1.150000e+05  101570.000000     100.00000\n",
              "75%    454.500000  2022.000000  1.650000e+05  150000.000000     100.00000\n",
              "max    606.000000  2022.000000  3.040000e+07  600000.000000     100.00000"
            ]
          },
          "execution_count": 6,
          "metadata": {},
          "output_type": "execute_result"
        }
      ],
      "source": [
        "data.describe()"
      ]
    },
    {
      "attachments": {},
      "cell_type": "markdown",
      "metadata": {
        "id": "6uAbyderTaNx"
      },
      "source": [
        "### Разведывательный анализ данных"
      ]
    },
    {
      "cell_type": "code",
      "execution_count": 7,
      "metadata": {
        "colab": {
          "base_uri": "https://localhost:8080/",
          "height": 496
        },
        "id": "KX6k6B2NWJ8t",
        "outputId": "523d571d-679e-4926-fe74-dc130c6a1b53"
      },
      "outputs": [
        {
          "data": {
            "image/png": "[encoded data removed]",
            "text/plain": [
              "<Figure size 1500x500 with 2 Axes>"
            ]
          },
          "metadata": {},
          "output_type": "display_data"
        }
      ],
      "source": [
        "fig, axes = plt.subplots(1, 2, figsize=(15, 5))\n",
        "\n",
        "sns.histplot(data['salary_in_usd'], kde=True, ax=axes[0])\n",
        "axes[0].set(xlabel='Зарплата в долларах США', ylabel='Частота')\n",
        "axes[0].set_title('Распределение зарплаты в долларах США')\n",
        "axes[0].axvline(data['salary_in_usd'].mean(), color='red', linestyle='--', linewidth=0.8)\n",
        "\n",
        "sns.boxplot(data['salary_in_usd'], ax=axes[1], orient='h', medianprops={\"color\": \"red\", \"linestyle\": '--'})\n",
        "axes[1].set(ylabel='Зарплата в долларах США')\n",
        "axes[1].set_title('Распределение зарплаты в долларах США')\n",
        "\n",
        "plt.show()"
      ]
    },
    {
      "cell_type": "code",
      "execution_count": 8,
      "metadata": {},
      "outputs": [
        {
          "data": {
            "image/png": "[encoded data removed]",
            "text/plain": [
              "<Figure size 640x480 with 1 Axes>"
            ]
          },
          "metadata": {},
          "output_type": "display_data"
        }
      ],
      "source": [
        "ax = sns.boxplot(data, x='salary_in_usd', y='work_year', orient='h', medianprops={\"color\": \"red\", \"linestyle\": '--'})\n",
        "ax.set(xlabel='Размер ЗП', ylabel='Год')\n",
        "plt.title('Распределение ЗП пог годам')\n",
        "plt.show()"
      ]
    },
    {
      "cell_type": "code",
      "execution_count": 9,
      "metadata": {
        "colab": {
          "base_uri": "https://localhost:8080/",
          "height": 300
        },
        "id": "h4rqfECm4umv",
        "outputId": "3edbc181-1016-488d-ef8c-6dfc5dbbfee1"
      },
      "outputs": [
        {
          "data": {
            "text/html": [
              "<div>\n",
              "<style scoped>\n",
              "    .dataframe tbody tr th:only-of-type {\n",
              "        vertical-align: middle;\n",
              "    }\n",
              "\n",
              "    .dataframe tbody tr th {\n",
              "        vertical-align: top;\n",
              "    }\n",
              "\n",
              "    .dataframe thead th {\n",
              "        text-align: right;\n",
              "    }\n",
              "</style>\n",
              "<table border=\"1\" class=\"dataframe\">\n",
              "  <thead>\n",
              "    <tr style=\"text-align: right;\">\n",
              "      <th></th>\n",
              "      <th>count</th>\n",
              "      <th>mean</th>\n",
              "      <th>std</th>\n",
              "      <th>min</th>\n",
              "      <th>25%</th>\n",
              "      <th>50%</th>\n",
              "      <th>75%</th>\n",
              "      <th>max</th>\n",
              "    </tr>\n",
              "    <tr>\n",
              "      <th>work_year</th>\n",
              "      <th></th>\n",
              "      <th></th>\n",
              "      <th></th>\n",
              "      <th></th>\n",
              "      <th></th>\n",
              "      <th></th>\n",
              "      <th></th>\n",
              "      <th></th>\n",
              "    </tr>\n",
              "  </thead>\n",
              "  <tbody>\n",
              "    <tr>\n",
              "      <th>2020</th>\n",
              "      <td>72.0</td>\n",
              "      <td>95813.000000</td>\n",
              "      <td>82831.799222</td>\n",
              "      <td>5707.0</td>\n",
              "      <td>45724.5</td>\n",
              "      <td>75544.0</td>\n",
              "      <td>115526.0</td>\n",
              "      <td>450000.0</td>\n",
              "    </tr>\n",
              "    <tr>\n",
              "      <th>2021</th>\n",
              "      <td>217.0</td>\n",
              "      <td>99853.792627</td>\n",
              "      <td>80225.106319</td>\n",
              "      <td>2859.0</td>\n",
              "      <td>50000.0</td>\n",
              "      <td>82528.0</td>\n",
              "      <td>135000.0</td>\n",
              "      <td>600000.0</td>\n",
              "    </tr>\n",
              "    <tr>\n",
              "      <th>2022</th>\n",
              "      <td>318.0</td>\n",
              "      <td>124522.006289</td>\n",
              "      <td>58183.647585</td>\n",
              "      <td>10000.0</td>\n",
              "      <td>81666.0</td>\n",
              "      <td>120000.0</td>\n",
              "      <td>160000.0</td>\n",
              "      <td>405000.0</td>\n",
              "    </tr>\n",
              "  </tbody>\n",
              "</table>\n",
              "</div>"
            ],
            "text/plain": [
              "           count           mean           std      min      25%       50%  \\\n",
              "work_year                                                                   \n",
              "2020        72.0   95813.000000  82831.799222   5707.0  45724.5   75544.0   \n",
              "2021       217.0   99853.792627  80225.106319   2859.0  50000.0   82528.0   \n",
              "2022       318.0  124522.006289  58183.647585  10000.0  81666.0  120000.0   \n",
              "\n",
              "                75%       max  \n",
              "work_year                      \n",
              "2020       115526.0  450000.0  \n",
              "2021       135000.0  600000.0  \n",
              "2022       160000.0  405000.0  "
            ]
          },
          "execution_count": 9,
          "metadata": {},
          "output_type": "execute_result"
        }
      ],
      "source": [
        "data_agg = data.groupby('work_year')['salary_in_usd'].agg('describe').sort_values('work_year',ascending=True)\n",
        "data_agg\n"
      ]
    },
    {
      "attachments": {},
      "cell_type": "markdown",
      "metadata": {
        "id": "fHrGH7w56m5c"
      },
      "source": [
        "Размер ЗП увеличивается от года к году"
      ]
    },
    {
      "attachments": {},
      "cell_type": "markdown",
      "metadata": {
        "id": "cFABAmBjTkCo"
      },
      "source": [
        "### Какие факторы влияют на зарплату у специалистов Data Scientist?"
      ]
    },
    {
      "cell_type": "code",
      "execution_count": 10,
      "metadata": {},
      "outputs": [
        {
          "ename": "NameError",
          "evalue": "name 'stret_types' is not defined",
          "output_type": "error",
          "traceback": [
            "\u001b[1;31m---------------------------------------------------------------------------\u001b[0m",
            "\u001b[1;31mNameError\u001b[0m                                 Traceback (most recent call last)",
            "Cell \u001b[1;32mIn[10], line 1\u001b[0m\n\u001b[1;32m----> 1\u001b[0m melb_df[\u001b[39m'\u001b[39m\u001b[39mStreetType\u001b[39m\u001b[39m'\u001b[39m] \u001b[39m=\u001b[39m stret_types\u001b[39m.\u001b[39mapply(\u001b[39mlambda\u001b[39;00m x: x \u001b[39mif\u001b[39;00m x \u001b[39min\u001b[39;00m poplar_types \u001b[39melse\u001b[39;00m \u001b[39m'\u001b[39m\u001b[39mother\u001b[39m\u001b[39m'\u001b[39m)\n\u001b[0;32m      3\u001b[0m fig \u001b[39m=\u001b[39m px\u001b[39m.\u001b[39mimshow(\n\u001b[0;32m      4\u001b[0m     data_ds\u001b[39m.\u001b[39mcorr(),\n\u001b[0;32m      5\u001b[0m     text_auto\u001b[39m=\u001b[39m\u001b[39mTrue\u001b[39;00m\n\u001b[0;32m      6\u001b[0m )\n\u001b[0;32m      7\u001b[0m fig\u001b[39m.\u001b[39mshow()\n",
            "\u001b[1;31mNameError\u001b[0m: name 'stret_types' is not defined"
          ]
        }
      ],
      "source": [
        "melb_df['StreetType'] = stret_types.apply(lambda x: x if x in poplar_types else 'other')\n",
        "\n",
        "fig = px.imshow(\n",
        "    data_ds.corr(),\n",
        "    text_auto=True\n",
        ")\n",
        "fig.show()"
      ]
    },
    {
      "cell_type": "code",
      "execution_count": null,
      "metadata": {
        "colab": {
          "base_uri": "https://localhost:8080/",
          "height": 480
        },
        "id": "a06HKS1bwzsS",
        "outputId": "e4aa3e1a-71d3-4df3-8857-3f9f4342fa18"
      },
      "outputs": [
        {
          "ename": "ValueError",
          "evalue": "Could not interpret input 'charges'",
          "output_type": "error",
          "traceback": [
            "\u001b[1;31m---------------------------------------------------------------------------\u001b[0m",
            "\u001b[1;31mValueError\u001b[0m                                Traceback (most recent call last)",
            "Cell \u001b[1;32mIn[64], line 1\u001b[0m\n\u001b[1;32m----> 1\u001b[0m ax \u001b[39m=\u001b[39m sns\u001b[39m.\u001b[39;49mboxplot(data, x\u001b[39m=\u001b[39;49m\u001b[39m'\u001b[39;49m\u001b[39mcharges\u001b[39;49m\u001b[39m'\u001b[39;49m, y\u001b[39m=\u001b[39;49m\u001b[39m'\u001b[39;49m\u001b[39msex\u001b[39;49m\u001b[39m'\u001b[39;49m, orient\u001b[39m=\u001b[39;49m\u001b[39m'\u001b[39;49m\u001b[39mh\u001b[39;49m\u001b[39m'\u001b[39;49m, medianprops\u001b[39m=\u001b[39;49m{\u001b[39m\"\u001b[39;49m\u001b[39mcolor\u001b[39;49m\u001b[39m\"\u001b[39;49m: \u001b[39m\"\u001b[39;49m\u001b[39mred\u001b[39;49m\u001b[39m\"\u001b[39;49m, \u001b[39m\"\u001b[39;49m\u001b[39mlinestyle\u001b[39;49m\u001b[39m\"\u001b[39;49m: \u001b[39m'\u001b[39;49m\u001b[39m--\u001b[39;49m\u001b[39m'\u001b[39;49m})\n\u001b[0;32m      2\u001b[0m ax\u001b[39m.\u001b[39mset(xlabel\u001b[39m=\u001b[39m\u001b[39m'\u001b[39m\u001b[39mРазмер страховых выплат\u001b[39m\u001b[39m'\u001b[39m, ylabel\u001b[39m=\u001b[39m\u001b[39m'\u001b[39m\u001b[39mПол\u001b[39m\u001b[39m'\u001b[39m)\n\u001b[0;32m      3\u001b[0m plt\u001b[39m.\u001b[39mtitle(\u001b[39m'\u001b[39m\u001b[39mРаспределение страховых выплат по полу\u001b[39m\u001b[39m'\u001b[39m)\n",
            "File \u001b[1;32mc:\\Users\\Lenovo\\AppData\\Local\\Programs\\Python\\Python39\\lib\\site-packages\\seaborn\\categorical.py:2231\u001b[0m, in \u001b[0;36mboxplot\u001b[1;34m(data, x, y, hue, order, hue_order, orient, color, palette, saturation, width, dodge, fliersize, linewidth, whis, ax, **kwargs)\u001b[0m\n\u001b[0;32m   2224\u001b[0m \u001b[39mdef\u001b[39;00m \u001b[39mboxplot\u001b[39m(\n\u001b[0;32m   2225\u001b[0m     data\u001b[39m=\u001b[39m\u001b[39mNone\u001b[39;00m, \u001b[39m*\u001b[39m, x\u001b[39m=\u001b[39m\u001b[39mNone\u001b[39;00m, y\u001b[39m=\u001b[39m\u001b[39mNone\u001b[39;00m, hue\u001b[39m=\u001b[39m\u001b[39mNone\u001b[39;00m, order\u001b[39m=\u001b[39m\u001b[39mNone\u001b[39;00m, hue_order\u001b[39m=\u001b[39m\u001b[39mNone\u001b[39;00m,\n\u001b[0;32m   2226\u001b[0m     orient\u001b[39m=\u001b[39m\u001b[39mNone\u001b[39;00m, color\u001b[39m=\u001b[39m\u001b[39mNone\u001b[39;00m, palette\u001b[39m=\u001b[39m\u001b[39mNone\u001b[39;00m, saturation\u001b[39m=\u001b[39m\u001b[39m.75\u001b[39m, width\u001b[39m=\u001b[39m\u001b[39m.8\u001b[39m,\n\u001b[0;32m   2227\u001b[0m     dodge\u001b[39m=\u001b[39m\u001b[39mTrue\u001b[39;00m, fliersize\u001b[39m=\u001b[39m\u001b[39m5\u001b[39m, linewidth\u001b[39m=\u001b[39m\u001b[39mNone\u001b[39;00m, whis\u001b[39m=\u001b[39m\u001b[39m1.5\u001b[39m, ax\u001b[39m=\u001b[39m\u001b[39mNone\u001b[39;00m,\n\u001b[0;32m   2228\u001b[0m     \u001b[39m*\u001b[39m\u001b[39m*\u001b[39mkwargs\n\u001b[0;32m   2229\u001b[0m ):\n\u001b[1;32m-> 2231\u001b[0m     plotter \u001b[39m=\u001b[39m _BoxPlotter(x, y, hue, data, order, hue_order,\n\u001b[0;32m   2232\u001b[0m                           orient, color, palette, saturation,\n\u001b[0;32m   2233\u001b[0m                           width, dodge, fliersize, linewidth)\n\u001b[0;32m   2235\u001b[0m     \u001b[39mif\u001b[39;00m ax \u001b[39mis\u001b[39;00m \u001b[39mNone\u001b[39;00m:\n\u001b[0;32m   2236\u001b[0m         ax \u001b[39m=\u001b[39m plt\u001b[39m.\u001b[39mgca()\n",
            "File \u001b[1;32mc:\\Users\\Lenovo\\AppData\\Local\\Programs\\Python\\Python39\\lib\\site-packages\\seaborn\\categorical.py:785\u001b[0m, in \u001b[0;36m_BoxPlotter.__init__\u001b[1;34m(self, x, y, hue, data, order, hue_order, orient, color, palette, saturation, width, dodge, fliersize, linewidth)\u001b[0m\n\u001b[0;32m    781\u001b[0m \u001b[39mdef\u001b[39;00m \u001b[39m__init__\u001b[39m(\u001b[39mself\u001b[39m, x, y, hue, data, order, hue_order,\n\u001b[0;32m    782\u001b[0m              orient, color, palette, saturation,\n\u001b[0;32m    783\u001b[0m              width, dodge, fliersize, linewidth):\n\u001b[1;32m--> 785\u001b[0m     \u001b[39mself\u001b[39;49m\u001b[39m.\u001b[39;49mestablish_variables(x, y, hue, data, orient, order, hue_order)\n\u001b[0;32m    786\u001b[0m     \u001b[39mself\u001b[39m\u001b[39m.\u001b[39mestablish_colors(color, palette, saturation)\n\u001b[0;32m    788\u001b[0m     \u001b[39mself\u001b[39m\u001b[39m.\u001b[39mdodge \u001b[39m=\u001b[39m dodge\n",
            "File \u001b[1;32mc:\\Users\\Lenovo\\AppData\\Local\\Programs\\Python\\Python39\\lib\\site-packages\\seaborn\\categorical.py:541\u001b[0m, in \u001b[0;36m_CategoricalPlotter.establish_variables\u001b[1;34m(self, x, y, hue, data, orient, order, hue_order, units)\u001b[0m\n\u001b[0;32m    539\u001b[0m     \u001b[39mif\u001b[39;00m \u001b[39misinstance\u001b[39m(var, \u001b[39mstr\u001b[39m):\n\u001b[0;32m    540\u001b[0m         err \u001b[39m=\u001b[39m \u001b[39mf\u001b[39m\u001b[39m\"\u001b[39m\u001b[39mCould not interpret input \u001b[39m\u001b[39m'\u001b[39m\u001b[39m{\u001b[39;00mvar\u001b[39m}\u001b[39;00m\u001b[39m'\u001b[39m\u001b[39m\"\u001b[39m\n\u001b[1;32m--> 541\u001b[0m         \u001b[39mraise\u001b[39;00m \u001b[39mValueError\u001b[39;00m(err)\n\u001b[0;32m    543\u001b[0m \u001b[39m# Figure out the plotting orientation\u001b[39;00m\n\u001b[0;32m    544\u001b[0m orient \u001b[39m=\u001b[39m infer_orient(\n\u001b[0;32m    545\u001b[0m     x, y, orient, require_numeric\u001b[39m=\u001b[39m\u001b[39mself\u001b[39m\u001b[39m.\u001b[39mrequire_numeric\n\u001b[0;32m    546\u001b[0m )\n",
            "\u001b[1;31mValueError\u001b[0m: Could not interpret input 'charges'"
          ]
        }
      ],
      "source": [
        "ax = sns.boxplot(data, x='charges', y='sex', orient='h', medianprops={\"color\": \"red\", \"linestyle\": '--'})\n",
        "ax.set(xlabel='Размер страховых выплат', ylabel='Пол')\n",
        "plt.title('Распределение страховых выплат по полу')\n",
        "plt.show()"
      ]
    },
    {
      "cell_type": "code",
      "execution_count": null,
      "metadata": {
        "colab": {
          "base_uri": "https://localhost:8080/",
          "height": 161
        },
        "id": "yXC_rLMn_fFV",
        "outputId": "f54838b2-b0db-4562-b281-fab9ee61eb59"
      },
      "outputs": [
        {
          "name": "stdout",
          "output_type": "stream",
          "text": [
            "Страховые выплаты в зависимости от пола\n"
          ]
        },
        {
          "data": {
            "text/html": [
              "\n",
              "  <div id=\"df-bba5aeab-231e-4575-97ec-96fe7da5b259\">\n",
              "    <div class=\"colab-df-container\">\n",
              "      <div>\n",
              "<style scoped>\n",
              "    .dataframe tbody tr th:only-of-type {\n",
              "        vertical-align: middle;\n",
              "    }\n",
              "\n",
              "    .dataframe tbody tr th {\n",
              "        vertical-align: top;\n",
              "    }\n",
              "\n",
              "    .dataframe thead th {\n",
              "        text-align: right;\n",
              "    }\n",
              "</style>\n",
              "<table border=\"1\" class=\"dataframe\">\n",
              "  <thead>\n",
              "    <tr style=\"text-align: right;\">\n",
              "      <th></th>\n",
              "      <th>count</th>\n",
              "      <th>mean</th>\n",
              "      <th>std</th>\n",
              "      <th>min</th>\n",
              "      <th>25%</th>\n",
              "      <th>50%</th>\n",
              "      <th>75%</th>\n",
              "      <th>max</th>\n",
              "    </tr>\n",
              "    <tr>\n",
              "      <th>sex</th>\n",
              "      <th></th>\n",
              "      <th></th>\n",
              "      <th></th>\n",
              "      <th></th>\n",
              "      <th></th>\n",
              "      <th></th>\n",
              "      <th></th>\n",
              "      <th></th>\n",
              "    </tr>\n",
              "  </thead>\n",
              "  <tbody>\n",
              "    <tr>\n",
              "      <th>female</th>\n",
              "      <td>662.0</td>\n",
              "      <td>12569.58</td>\n",
              "      <td>11128.70</td>\n",
              "      <td>1607.51</td>\n",
              "      <td>4885.16</td>\n",
              "      <td>9412.96</td>\n",
              "      <td>14454.69</td>\n",
              "      <td>63770.43</td>\n",
              "    </tr>\n",
              "    <tr>\n",
              "      <th>male</th>\n",
              "      <td>675.0</td>\n",
              "      <td>13975.00</td>\n",
              "      <td>12971.96</td>\n",
              "      <td>1121.87</td>\n",
              "      <td>4654.02</td>\n",
              "      <td>9377.90</td>\n",
              "      <td>19006.69</td>\n",
              "      <td>62592.87</td>\n",
              "    </tr>\n",
              "  </tbody>\n",
              "</table>\n",
              "</div>\n",
              "      <button class=\"colab-df-convert\" onclick=\"convertToInteractive('df-bba5aeab-231e-4575-97ec-96fe7da5b259')\"\n",
              "              title=\"Convert this dataframe to an interactive table.\"\n",
              "              style=\"display:none;\">\n",
              "        \n",
              "  <svg xmlns=\"http://www.w3.org/2000/svg\" height=\"24px\"viewBox=\"0 0 24 24\"\n",
              "       width=\"24px\">\n",
              "    <path d=\"M0 0h24v24H0V0z\" fill=\"none\"/>\n",
              "    <path d=\"M18.56 5.44l.94 2.06.94-2.06 2.06-.94-2.06-.94-.94-2.06-.94 2.06-2.06.94zm-11 1L8.5 8.5l.94-2.06 2.06-.94-2.06-.94L8.5 2.5l-.94 2.06-2.06.94zm10 10l.94 2.06.94-2.06 2.06-.94-2.06-.94-.94-2.06-.94 2.06-2.06.94z\"/><path d=\"M17.41 7.96l-1.37-1.37c-.4-.4-.92-.59-1.43-.59-.52 0-1.04.2-1.43.59L10.3 9.45l-7.72 7.72c-.78.78-.78 2.05 0 2.83L4 21.41c.39.39.9.59 1.41.59.51 0 1.02-.2 1.41-.59l7.78-7.78 2.81-2.81c.8-.78.8-2.07 0-2.86zM5.41 20L4 18.59l7.72-7.72 1.47 1.35L5.41 20z\"/>\n",
              "  </svg>\n",
              "      </button>\n",
              "      \n",
              "  <style>\n",
              "    .colab-df-container {\n",
              "      display:flex;\n",
              "      flex-wrap:wrap;\n",
              "      gap: 12px;\n",
              "    }\n",
              "\n",
              "    .colab-df-convert {\n",
              "      background-color: #E8F0FE;\n",
              "      border: none;\n",
              "      border-radius: 50%;\n",
              "      cursor: pointer;\n",
              "      display: none;\n",
              "      fill: #1967D2;\n",
              "      height: 32px;\n",
              "      padding: 0 0 0 0;\n",
              "      width: 32px;\n",
              "    }\n",
              "\n",
              "    .colab-df-convert:hover {\n",
              "      background-color: #E2EBFA;\n",
              "      box-shadow: 0px 1px 2px rgba(60, 64, 67, 0.3), 0px 1px 3px 1px rgba(60, 64, 67, 0.15);\n",
              "      fill: #174EA6;\n",
              "    }\n",
              "\n",
              "    [theme=dark] .colab-df-convert {\n",
              "      background-color: #3B4455;\n",
              "      fill: #D2E3FC;\n",
              "    }\n",
              "\n",
              "    [theme=dark] .colab-df-convert:hover {\n",
              "      background-color: #434B5C;\n",
              "      box-shadow: 0px 1px 3px 1px rgba(0, 0, 0, 0.15);\n",
              "      filter: drop-shadow(0px 1px 2px rgba(0, 0, 0, 0.3));\n",
              "      fill: #FFFFFF;\n",
              "    }\n",
              "  </style>\n",
              "\n",
              "      <script>\n",
              "        const buttonEl =\n",
              "          document.querySelector('#df-bba5aeab-231e-4575-97ec-96fe7da5b259 button.colab-df-convert');\n",
              "        buttonEl.style.display =\n",
              "          google.colab.kernel.accessAllowed ? 'block' : 'none';\n",
              "\n",
              "        async function convertToInteractive(key) {\n",
              "          const element = document.querySelector('#df-bba5aeab-231e-4575-97ec-96fe7da5b259');\n",
              "          const dataTable =\n",
              "            await google.colab.kernel.invokeFunction('convertToInteractive',\n",
              "                                                     [key], {});\n",
              "          if (!dataTable) return;\n",
              "\n",
              "          const docLinkHtml = 'Like what you see? Visit the ' +\n",
              "            '<a target=\"_blank\" href=https://colab.research.google.com/notebooks/data_table.ipynb>data table notebook</a>'\n",
              "            + ' to learn more about interactive tables.';\n",
              "          element.innerHTML = '';\n",
              "          dataTable['output_type'] = 'display_data';\n",
              "          await google.colab.output.renderOutput(dataTable, element);\n",
              "          const docLink = document.createElement('div');\n",
              "          docLink.innerHTML = docLinkHtml;\n",
              "          element.appendChild(docLink);\n",
              "        }\n",
              "      </script>\n",
              "    </div>\n",
              "  </div>\n",
              "  "
            ],
            "text/plain": [
              "        count      mean       std      min      25%      50%       75%  \\\n",
              "sex                                                                      \n",
              "female  662.0  12569.58  11128.70  1607.51  4885.16  9412.96  14454.69   \n",
              "male    675.0  13975.00  12971.96  1121.87  4654.02  9377.90  19006.69   \n",
              "\n",
              "             max  \n",
              "sex               \n",
              "female  63770.43  \n",
              "male    62592.87  "
            ]
          },
          "execution_count": 23,
          "metadata": {},
          "output_type": "execute_result"
        }
      ],
      "source": [
        "data_agg = data.groupby('sex')['charges'].describe().round(2)\n",
        "print('Страховые выплаты в зависимости от пола')\n",
        "data_agg"
      ]
    },
    {
      "attachments": {},
      "cell_type": "markdown",
      "metadata": {
        "id": "QnoG6XTK_fOH"
      },
      "source": [
        "На первый взгляд распределения страховых выплат для разных полов различны. Чтобы определить, являются ли эти различия статистически значимыми, в следующем разделе мы проведём статистическое тестирование."
      ]
    },
    {
      "attachments": {},
      "cell_type": "markdown",
      "metadata": {
        "id": "crI7PFP0TpDI"
      },
      "source": [
        "### Страховые выплаты в зависимости от того, курит ли клиент."
      ]
    },
    {
      "cell_type": "code",
      "execution_count": null,
      "metadata": {
        "colab": {
          "base_uri": "https://localhost:8080/",
          "height": 480
        },
        "id": "SkPmlfj7S9BL",
        "outputId": "00283144-aa01-43c9-9ee4-b0a38efc3f84"
      },
      "outputs": [
        {
          "ename": "NameError",
          "evalue": "name 'sns' is not defined",
          "output_type": "error",
          "traceback": [
            "\u001b[1;31m---------------------------------------------------------------------------\u001b[0m",
            "\u001b[1;31mNameError\u001b[0m                                 Traceback (most recent call last)",
            "Cell \u001b[1;32mIn[1], line 1\u001b[0m\n\u001b[1;32m----> 1\u001b[0m ax \u001b[39m=\u001b[39m sns\u001b[39m.\u001b[39mboxplot(data, x\u001b[39m=\u001b[39m\u001b[39m'\u001b[39m\u001b[39msalary_in_usd\u001b[39m\u001b[39m'\u001b[39m, y\u001b[39m=\u001b[39m\u001b[39m'\u001b[39m\u001b[39msmoker\u001b[39m\u001b[39m'\u001b[39m, orient\u001b[39m=\u001b[39m\u001b[39m'\u001b[39m\u001b[39mh\u001b[39m\u001b[39m'\u001b[39m, medianprops\u001b[39m=\u001b[39m{\u001b[39m\"\u001b[39m\u001b[39mcolor\u001b[39m\u001b[39m\"\u001b[39m: \u001b[39m\"\u001b[39m\u001b[39mred\u001b[39m\u001b[39m\"\u001b[39m, \u001b[39m\"\u001b[39m\u001b[39mlinestyle\u001b[39m\u001b[39m\"\u001b[39m: \u001b[39m'\u001b[39m\u001b[39m--\u001b[39m\u001b[39m'\u001b[39m})\n\u001b[0;32m      2\u001b[0m ax\u001b[39m.\u001b[39mset(xlabel\u001b[39m=\u001b[39m\u001b[39m'\u001b[39m\u001b[39mРазмер страховых выплат\u001b[39m\u001b[39m'\u001b[39m, ylabel\u001b[39m=\u001b[39m\u001b[39m'\u001b[39m\u001b[39mКурение\u001b[39m\u001b[39m'\u001b[39m)\n\u001b[0;32m      3\u001b[0m plt\u001b[39m.\u001b[39mtitle(\u001b[39m'\u001b[39m\u001b[39mРаспределение страховых выплат по курению\u001b[39m\u001b[39m'\u001b[39m)\n",
            "\u001b[1;31mNameError\u001b[0m: name 'sns' is not defined"
          ]
        }
      ],
      "source": [
        "ax = sns.boxplot(data, x='charges', y='smoker', orient='h', medianprops={\"color\": \"red\", \"linestyle\": '--'})\n",
        "ax.set(xlabel='Размер страховых выплат', ylabel='Курение')\n",
        "plt.title('Распределение страховых выплат по курению')\n",
        "plt.show()"
      ]
    },
    {
      "cell_type": "code",
      "execution_count": null,
      "metadata": {
        "colab": {
          "base_uri": "https://localhost:8080/",
          "height": 161
        },
        "id": "yeXQdZzQS9BL",
        "outputId": "452b6af6-f003-4332-8d79-cffcaa4f8fb8"
      },
      "outputs": [
        {
          "name": "stdout",
          "output_type": "stream",
          "text": [
            "Страховые выплаты в зависимости от курения\n"
          ]
        },
        {
          "data": {
            "text/html": [
              "\n",
              "  <div id=\"df-4f8c3e35-5a00-4253-a8bd-e97f6196f110\">\n",
              "    <div class=\"colab-df-container\">\n",
              "      <div>\n",
              "<style scoped>\n",
              "    .dataframe tbody tr th:only-of-type {\n",
              "        vertical-align: middle;\n",
              "    }\n",
              "\n",
              "    .dataframe tbody tr th {\n",
              "        vertical-align: top;\n",
              "    }\n",
              "\n",
              "    .dataframe thead th {\n",
              "        text-align: right;\n",
              "    }\n",
              "</style>\n",
              "<table border=\"1\" class=\"dataframe\">\n",
              "  <thead>\n",
              "    <tr style=\"text-align: right;\">\n",
              "      <th></th>\n",
              "      <th>count</th>\n",
              "      <th>mean</th>\n",
              "      <th>std</th>\n",
              "      <th>min</th>\n",
              "      <th>25%</th>\n",
              "      <th>50%</th>\n",
              "      <th>75%</th>\n",
              "      <th>max</th>\n",
              "    </tr>\n",
              "    <tr>\n",
              "      <th>smoker</th>\n",
              "      <th></th>\n",
              "      <th></th>\n",
              "      <th></th>\n",
              "      <th></th>\n",
              "      <th></th>\n",
              "      <th></th>\n",
              "      <th></th>\n",
              "      <th></th>\n",
              "    </tr>\n",
              "  </thead>\n",
              "  <tbody>\n",
              "    <tr>\n",
              "      <th>no</th>\n",
              "      <td>1063.0</td>\n",
              "      <td>8440.66</td>\n",
              "      <td>5992.97</td>\n",
              "      <td>1121.87</td>\n",
              "      <td>3988.88</td>\n",
              "      <td>7345.73</td>\n",
              "      <td>11363.02</td>\n",
              "      <td>36910.61</td>\n",
              "    </tr>\n",
              "    <tr>\n",
              "      <th>yes</th>\n",
              "      <td>274.0</td>\n",
              "      <td>32050.23</td>\n",
              "      <td>11541.55</td>\n",
              "      <td>12829.46</td>\n",
              "      <td>20826.24</td>\n",
              "      <td>34456.35</td>\n",
              "      <td>41019.21</td>\n",
              "      <td>63770.43</td>\n",
              "    </tr>\n",
              "  </tbody>\n",
              "</table>\n",
              "</div>\n",
              "      <button class=\"colab-df-convert\" onclick=\"convertToInteractive('df-4f8c3e35-5a00-4253-a8bd-e97f6196f110')\"\n",
              "              title=\"Convert this dataframe to an interactive table.\"\n",
              "              style=\"display:none;\">\n",
              "        \n",
              "  <svg xmlns=\"http://www.w3.org/2000/svg\" height=\"24px\"viewBox=\"0 0 24 24\"\n",
              "       width=\"24px\">\n",
              "    <path d=\"M0 0h24v24H0V0z\" fill=\"none\"/>\n",
              "    <path d=\"M18.56 5.44l.94 2.06.94-2.06 2.06-.94-2.06-.94-.94-2.06-.94 2.06-2.06.94zm-11 1L8.5 8.5l.94-2.06 2.06-.94-2.06-.94L8.5 2.5l-.94 2.06-2.06.94zm10 10l.94 2.06.94-2.06 2.06-.94-2.06-.94-.94-2.06-.94 2.06-2.06.94z\"/><path d=\"M17.41 7.96l-1.37-1.37c-.4-.4-.92-.59-1.43-.59-.52 0-1.04.2-1.43.59L10.3 9.45l-7.72 7.72c-.78.78-.78 2.05 0 2.83L4 21.41c.39.39.9.59 1.41.59.51 0 1.02-.2 1.41-.59l7.78-7.78 2.81-2.81c.8-.78.8-2.07 0-2.86zM5.41 20L4 18.59l7.72-7.72 1.47 1.35L5.41 20z\"/>\n",
              "  </svg>\n",
              "      </button>\n",
              "      \n",
              "  <style>\n",
              "    .colab-df-container {\n",
              "      display:flex;\n",
              "      flex-wrap:wrap;\n",
              "      gap: 12px;\n",
              "    }\n",
              "\n",
              "    .colab-df-convert {\n",
              "      background-color: #E8F0FE;\n",
              "      border: none;\n",
              "      border-radius: 50%;\n",
              "      cursor: pointer;\n",
              "      display: none;\n",
              "      fill: #1967D2;\n",
              "      height: 32px;\n",
              "      padding: 0 0 0 0;\n",
              "      width: 32px;\n",
              "    }\n",
              "\n",
              "    .colab-df-convert:hover {\n",
              "      background-color: #E2EBFA;\n",
              "      box-shadow: 0px 1px 2px rgba(60, 64, 67, 0.3), 0px 1px 3px 1px rgba(60, 64, 67, 0.15);\n",
              "      fill: #174EA6;\n",
              "    }\n",
              "\n",
              "    [theme=dark] .colab-df-convert {\n",
              "      background-color: #3B4455;\n",
              "      fill: #D2E3FC;\n",
              "    }\n",
              "\n",
              "    [theme=dark] .colab-df-convert:hover {\n",
              "      background-color: #434B5C;\n",
              "      box-shadow: 0px 1px 3px 1px rgba(0, 0, 0, 0.15);\n",
              "      filter: drop-shadow(0px 1px 2px rgba(0, 0, 0, 0.3));\n",
              "      fill: #FFFFFF;\n",
              "    }\n",
              "  </style>\n",
              "\n",
              "      <script>\n",
              "        const buttonEl =\n",
              "          document.querySelector('#df-4f8c3e35-5a00-4253-a8bd-e97f6196f110 button.colab-df-convert');\n",
              "        buttonEl.style.display =\n",
              "          google.colab.kernel.accessAllowed ? 'block' : 'none';\n",
              "\n",
              "        async function convertToInteractive(key) {\n",
              "          const element = document.querySelector('#df-4f8c3e35-5a00-4253-a8bd-e97f6196f110');\n",
              "          const dataTable =\n",
              "            await google.colab.kernel.invokeFunction('convertToInteractive',\n",
              "                                                     [key], {});\n",
              "          if (!dataTable) return;\n",
              "\n",
              "          const docLinkHtml = 'Like what you see? Visit the ' +\n",
              "            '<a target=\"_blank\" href=https://colab.research.google.com/notebooks/data_table.ipynb>data table notebook</a>'\n",
              "            + ' to learn more about interactive tables.';\n",
              "          element.innerHTML = '';\n",
              "          dataTable['output_type'] = 'display_data';\n",
              "          await google.colab.output.renderOutput(dataTable, element);\n",
              "          const docLink = document.createElement('div');\n",
              "          docLink.innerHTML = docLinkHtml;\n",
              "          element.appendChild(docLink);\n",
              "        }\n",
              "      </script>\n",
              "    </div>\n",
              "  </div>\n",
              "  "
            ],
            "text/plain": [
              "         count      mean       std       min       25%       50%       75%  \\\n",
              "smoker                                                                       \n",
              "no      1063.0   8440.66   5992.97   1121.87   3988.88   7345.73  11363.02   \n",
              "yes      274.0  32050.23  11541.55  12829.46  20826.24  34456.35  41019.21   \n",
              "\n",
              "             max  \n",
              "smoker            \n",
              "no      36910.61  \n",
              "yes     63770.43  "
            ]
          },
          "execution_count": 24,
          "metadata": {},
          "output_type": "execute_result"
        }
      ],
      "source": [
        "data_agg = data.groupby('smoker')['charges'].describe().round(2)\n",
        "print('Страховые выплаты в зависимости от курения')\n",
        "data_agg"
      ]
    },
    {
      "attachments": {},
      "cell_type": "markdown",
      "metadata": {
        "id": "zK_jL2gjS9BL"
      },
      "source": [
        "Распределения страховых выплат различны в зависимости от того, курит ли клиент. Чтобы определить, являются ли эти различия статистически значимыми, в следующем разделе мы проведём статистические тесты."
      ]
    },
    {
      "attachments": {},
      "cell_type": "markdown",
      "metadata": {
        "id": "y5MHyfPTTshb"
      },
      "source": [
        "### Страховые выплаты в зависимости от региона"
      ]
    },
    {
      "cell_type": "code",
      "execution_count": null,
      "metadata": {
        "colab": {
          "base_uri": "https://localhost:8080/",
          "height": 480
        },
        "id": "denXZIElwzvO",
        "outputId": "5101be0d-2e82-4126-ab69-ffc179b1626b"
      },
      "outputs": [
        {
          "data": {
            "image/png": "[encoded data removed]",
            "text/plain": [
              "<Figure size 640x480 with 1 Axes>"
            ]
          },
          "metadata": {},
          "output_type": "display_data"
        }
      ],
      "source": [
        "ax = sns.boxplot(data, x='salary_in_usd', y='work_year', orient='h', medianprops={\"color\": \"red\", \"linestyle\": '--'})\n",
        "ax.set(xlabel='Размер ЗП', ylabel='Год')\n",
        "plt.title('Распределение ЗП пог годам')\n",
        "plt.show()"
      ]
    },
    {
      "cell_type": "code",
      "execution_count": null,
      "metadata": {
        "colab": {
          "base_uri": "https://localhost:8080/",
          "height": 223
        },
        "id": "xfI208tHwz6T",
        "outputId": "af1e6d3f-7417-4633-814a-353507e9104f"
      },
      "outputs": [
        {
          "ename": "KeyError",
          "evalue": "'region'",
          "output_type": "error",
          "traceback": [
            "\u001b[1;31m---------------------------------------------------------------------------\u001b[0m",
            "\u001b[1;31mKeyError\u001b[0m                                  Traceback (most recent call last)",
            "Cell \u001b[1;32mIn[14], line 1\u001b[0m\n\u001b[1;32m----> 1\u001b[0m data_agg \u001b[39m=\u001b[39m data\u001b[39m.\u001b[39;49mgroupby(\u001b[39m'\u001b[39;49m\u001b[39mregion\u001b[39;49m\u001b[39m'\u001b[39;49m)[\u001b[39m'\u001b[39m\u001b[39mcharges\u001b[39m\u001b[39m'\u001b[39m]\u001b[39m.\u001b[39mdescribe()\u001b[39m.\u001b[39mround(\u001b[39m2\u001b[39m)\n\u001b[0;32m      2\u001b[0m \u001b[39mprint\u001b[39m(\u001b[39m'\u001b[39m\u001b[39mСтраховые выплаты в зависимости от региона\u001b[39m\u001b[39m'\u001b[39m)\n\u001b[0;32m      3\u001b[0m data_agg\n",
            "File \u001b[1;32mc:\\Users\\Lenovo\\AppData\\Local\\Programs\\Python\\Python39\\lib\\site-packages\\pandas\\core\\frame.py:8402\u001b[0m, in \u001b[0;36mDataFrame.groupby\u001b[1;34m(self, by, axis, level, as_index, sort, group_keys, squeeze, observed, dropna)\u001b[0m\n\u001b[0;32m   8399\u001b[0m     \u001b[39mraise\u001b[39;00m \u001b[39mTypeError\u001b[39;00m(\u001b[39m\"\u001b[39m\u001b[39mYou have to supply one of \u001b[39m\u001b[39m'\u001b[39m\u001b[39mby\u001b[39m\u001b[39m'\u001b[39m\u001b[39m and \u001b[39m\u001b[39m'\u001b[39m\u001b[39mlevel\u001b[39m\u001b[39m'\u001b[39m\u001b[39m\"\u001b[39m)\n\u001b[0;32m   8400\u001b[0m axis \u001b[39m=\u001b[39m \u001b[39mself\u001b[39m\u001b[39m.\u001b[39m_get_axis_number(axis)\n\u001b[1;32m-> 8402\u001b[0m \u001b[39mreturn\u001b[39;00m DataFrameGroupBy(\n\u001b[0;32m   8403\u001b[0m     obj\u001b[39m=\u001b[39;49m\u001b[39mself\u001b[39;49m,\n\u001b[0;32m   8404\u001b[0m     keys\u001b[39m=\u001b[39;49mby,\n\u001b[0;32m   8405\u001b[0m     axis\u001b[39m=\u001b[39;49maxis,\n\u001b[0;32m   8406\u001b[0m     level\u001b[39m=\u001b[39;49mlevel,\n\u001b[0;32m   8407\u001b[0m     as_index\u001b[39m=\u001b[39;49mas_index,\n\u001b[0;32m   8408\u001b[0m     sort\u001b[39m=\u001b[39;49msort,\n\u001b[0;32m   8409\u001b[0m     group_keys\u001b[39m=\u001b[39;49mgroup_keys,\n\u001b[0;32m   8410\u001b[0m     squeeze\u001b[39m=\u001b[39;49msqueeze,\n\u001b[0;32m   8411\u001b[0m     observed\u001b[39m=\u001b[39;49mobserved,\n\u001b[0;32m   8412\u001b[0m     dropna\u001b[39m=\u001b[39;49mdropna,\n\u001b[0;32m   8413\u001b[0m )\n",
            "File \u001b[1;32mc:\\Users\\Lenovo\\AppData\\Local\\Programs\\Python\\Python39\\lib\\site-packages\\pandas\\core\\groupby\\groupby.py:965\u001b[0m, in \u001b[0;36mGroupBy.__init__\u001b[1;34m(self, obj, keys, axis, level, grouper, exclusions, selection, as_index, sort, group_keys, squeeze, observed, mutated, dropna)\u001b[0m\n\u001b[0;32m    962\u001b[0m \u001b[39mif\u001b[39;00m grouper \u001b[39mis\u001b[39;00m \u001b[39mNone\u001b[39;00m:\n\u001b[0;32m    963\u001b[0m     \u001b[39mfrom\u001b[39;00m \u001b[39mpandas\u001b[39;00m\u001b[39m.\u001b[39;00m\u001b[39mcore\u001b[39;00m\u001b[39m.\u001b[39;00m\u001b[39mgroupby\u001b[39;00m\u001b[39m.\u001b[39;00m\u001b[39mgrouper\u001b[39;00m \u001b[39mimport\u001b[39;00m get_grouper\n\u001b[1;32m--> 965\u001b[0m     grouper, exclusions, obj \u001b[39m=\u001b[39m get_grouper(\n\u001b[0;32m    966\u001b[0m         obj,\n\u001b[0;32m    967\u001b[0m         keys,\n\u001b[0;32m    968\u001b[0m         axis\u001b[39m=\u001b[39;49maxis,\n\u001b[0;32m    969\u001b[0m         level\u001b[39m=\u001b[39;49mlevel,\n\u001b[0;32m    970\u001b[0m         sort\u001b[39m=\u001b[39;49msort,\n\u001b[0;32m    971\u001b[0m         observed\u001b[39m=\u001b[39;49mobserved,\n\u001b[0;32m    972\u001b[0m         mutated\u001b[39m=\u001b[39;49m\u001b[39mself\u001b[39;49m\u001b[39m.\u001b[39;49mmutated,\n\u001b[0;32m    973\u001b[0m         dropna\u001b[39m=\u001b[39;49m\u001b[39mself\u001b[39;49m\u001b[39m.\u001b[39;49mdropna,\n\u001b[0;32m    974\u001b[0m     )\n\u001b[0;32m    976\u001b[0m \u001b[39mself\u001b[39m\u001b[39m.\u001b[39mobj \u001b[39m=\u001b[39m obj\n\u001b[0;32m    977\u001b[0m \u001b[39mself\u001b[39m\u001b[39m.\u001b[39maxis \u001b[39m=\u001b[39m obj\u001b[39m.\u001b[39m_get_axis_number(axis)\n",
            "File \u001b[1;32mc:\\Users\\Lenovo\\AppData\\Local\\Programs\\Python\\Python39\\lib\\site-packages\\pandas\\core\\groupby\\grouper.py:888\u001b[0m, in \u001b[0;36mget_grouper\u001b[1;34m(obj, key, axis, level, sort, observed, mutated, validate, dropna)\u001b[0m\n\u001b[0;32m    886\u001b[0m         in_axis, level, gpr \u001b[39m=\u001b[39m \u001b[39mFalse\u001b[39;00m, gpr, \u001b[39mNone\u001b[39;00m\n\u001b[0;32m    887\u001b[0m     \u001b[39melse\u001b[39;00m:\n\u001b[1;32m--> 888\u001b[0m         \u001b[39mraise\u001b[39;00m \u001b[39mKeyError\u001b[39;00m(gpr)\n\u001b[0;32m    889\u001b[0m \u001b[39melif\u001b[39;00m \u001b[39misinstance\u001b[39m(gpr, Grouper) \u001b[39mand\u001b[39;00m gpr\u001b[39m.\u001b[39mkey \u001b[39mis\u001b[39;00m \u001b[39mnot\u001b[39;00m \u001b[39mNone\u001b[39;00m:\n\u001b[0;32m    890\u001b[0m     \u001b[39m# Add key to exclusions\u001b[39;00m\n\u001b[0;32m    891\u001b[0m     exclusions\u001b[39m.\u001b[39madd(gpr\u001b[39m.\u001b[39mkey)\n",
            "\u001b[1;31mKeyError\u001b[0m: 'region'"
          ]
        }
      ],
      "source": [
        "data_agg = data.groupby('region')['charges'].describe().round(2)\n",
        "print('Страховые выплаты в зависимости от региона')\n",
        "data_agg"
      ]
    },
    {
      "attachments": {},
      "cell_type": "markdown",
      "metadata": {
        "id": "y_SC_018yS76"
      },
      "source": [
        "Распределения страховых выплат различны для разных регионов. Чтобы определить, являются ли эти различия статистически значимыми, в следующем разделе мы проведём статистические тесты."
      ]
    },
    {
      "attachments": {},
      "cell_type": "markdown",
      "metadata": {
        "id": "GlJ2fclcl7Zd"
      },
      "source": [
        "### Соотношение курящих среди мужчин и женщин"
      ]
    },
    {
      "cell_type": "code",
      "execution_count": null,
      "metadata": {
        "id": "Uk8459-8l7Zd",
        "outputId": "ec251979-47d0-4b80-8c0a-d4416583b95c"
      },
      "outputs": [
        {
          "data": {
            "image/png": "[encoded data removed]",
            "text/plain": [
              "<Figure size 640x480 with 1 Axes>"
            ]
          },
          "metadata": {},
          "output_type": "display_data"
        }
      ],
      "source": [
        "ax = sns.countplot(data=data, x=data['sex'], hue='smoker')\n",
        "ax.set(xlabel='Пол', ylabel='Количество')\n",
        "plt.title('Соотношение курящих и некурящих по полу')\n",
        "plt.show()"
      ]
    },
    {
      "cell_type": "code",
      "execution_count": null,
      "metadata": {
        "colab": {
          "base_uri": "https://localhost:8080/",
          "height": 480
        },
        "id": "81kAFODPl7Zd",
        "outputId": "3a36537f-39d6-4e12-a1c6-ec986ebdd15f"
      },
      "outputs": [
        {
          "data": {
            "image/png": "[encoded data removed]",
            "text/plain": [
              "<Figure size 640x480 with 2 Axes>"
            ]
          },
          "metadata": {},
          "output_type": "display_data"
        }
      ],
      "source": [
        "cross_tab = pd.crosstab(index=data['sex'], columns=data['smoker'])\n",
        "ax = sns.heatmap(cross_tab, annot=True, linewidth=.5, fmt='.0f', cmap=\"coolwarm\")\n",
        "ax.set(xlabel='Пол', ylabel='Возраст')\n",
        "plt.title('Таблица сопряженности')\n",
        "plt.show()"
      ]
    },
    {
      "attachments": {},
      "cell_type": "markdown",
      "metadata": {
        "id": "Z0rsfkQql7Ze"
      },
      "source": [
        "Согласно данным, среди курящих мужчин больше, чем женщин. Чтобы определить, являются ли эти различия статистически значимыми, в следующем разделе мы проведём статистические тесты."
      ]
    },
    {
      "attachments": {},
      "cell_type": "markdown",
      "metadata": {
        "id": "-UcttLBPfd8-"
      },
      "source": [
        "## Статистический анализ данных\n",
        "\n"
      ]
    },
    {
      "cell_type": "code",
      "execution_count": null,
      "metadata": {
        "id": "sn3PGE23l7Ze"
      },
      "outputs": [],
      "source": [
        "# функция для принятия решения о нормальности\n",
        "def decision_normality(p):\n",
        "    print('p-value = {:.3f}'.format(p))\n",
        "    if p <= alpha:\n",
        "        print('p-значение меньше, чем заданный уровень значимости {:.2f}. Распределение отлично от нормального'.format(alpha))\n",
        "    else:\n",
        "        print('p-значение больше, чем заданный уровень значимости {:.2f}. Распределение является нормальным'.format(alpha))\n",
        "\n",
        "\n",
        "# функция для принятия решения об отклонении нулевой гипотезы\n",
        "def decision_hypothesis(p):\n",
        "    print('p-value = {:.3f}'.format(p))\n",
        "    if p <= alpha:\n",
        "        print('p-значение меньше, чем заданный уровень значимости {:.2f}. Отвергаем нулевую гипотезу в пользу альтернативной.'.format(alpha))\n",
        "    else:\n",
        "        print('p-значение больше, чем заданный уровень значимости {:.2f}. У нас нет оснований отвергнуть нулевую гипотезу.'.format(alpha))\n",
        "      "
      ]
    },
    {
      "attachments": {},
      "cell_type": "markdown",
      "metadata": {
        "id": "zxbl3BYLGKIW"
      },
      "source": [
        "### Наблюдается ли ежегодный рост зарплат у специалистов Data Scientist?\n",
        "\n",
        "**Сформулируем нулевую и альтернативные гипотезы**\n",
        "\n",
        "*Нулевая гипотеза* ($H_0$): размер зарплат не изменяется от года к году. ЗП в 2020 = μ_1, ЗП в 2021 μ_2, ЗП в 2022 μ_3 \n",
        "\n",
        "$$ H_0 : μ_1 = μ_2 = μ_3$$\n",
        "\n",
        "*Альтернативная гипотеза* ($H_1$): размер зарплат не изменяется от года к году ($μ_1$) статистически больше, чем размер страховых выплат клиентов-женщин ($μ_2$).\n",
        "\n",
        "$$ H_1 : μ_1 > μ_2$$"
      ]
    },
    {
      "cell_type": "code",
      "execution_count": null,
      "metadata": {},
      "outputs": [
        {
          "data": {
            "text/plain": [
              "2022    318\n",
              "2021    217\n",
              "2020     72\n",
              "Name: work_year, dtype: int64"
            ]
          },
          "execution_count": 35,
          "metadata": {},
          "output_type": "execute_result"
        }
      ],
      "source": [
        "data['work_year'].value_counts()           "
      ]
    },
    {
      "attachments": {},
      "cell_type": "markdown",
      "metadata": {
        "id": "Yi8l7ZWSl7Ze"
      },
      "source": [
        "**Проверка на нормальность**\n",
        "\n",
        "С помощью теста Шапиро-Уилка проверим, распределён ли признак нормально. Напомним гипотезы теста Шапиро-Уилка:\n",
        "\n",
        "*Нулевая гипотеза* ($H_0$): распределение данные является нормальным.\n",
        "\n",
        "*Альтернативная гипотеза* ($H_1$): распределение данных отлично от нормального."
      ]
    },
    {
      "cell_type": "code",
      "execution_count": null,
      "metadata": {
        "colab": {
          "base_uri": "https://localhost:8080/"
        },
        "id": "bCxAGItPTHRe",
        "outputId": "334716f4-96c7-4a21-ca5f-c7d352adde2b"
      },
      "outputs": [
        {
          "name": "stdout",
          "output_type": "stream",
          "text": [
            "для ЗП в 2020\n",
            "p-value = 0.000\n",
            "p-значение меньше, чем заданный уровень значимости 0.05. Распределение отлично от нормального\n",
            "для ЗП в 2021\n",
            "p-value = 0.000\n",
            "p-значение меньше, чем заданный уровень значимости 0.05. Распределение отлично от нормального\n",
            "для ЗП в 2022\n",
            "p-value = 0.000\n",
            "p-значение меньше, чем заданный уровень значимости 0.05. Распределение отлично от нормального\n"
          ]
        }
      ],
      "source": [
        "# значения страховых выплат\n",
        "salary_in_2020 = data.loc[data['work_year']== 2020 , 'salary_in_usd']\n",
        "salary_in_2021 = data.loc[data['work_year']== 2021 , 'salary_in_usd']\n",
        "salary_in_2022 = data.loc[data['work_year']== 2022 , 'salary_in_usd']\n",
        "\n",
        "# проводим тест Шапиро-Уилка\n",
        "print('для ЗП в 2020')\n",
        "result = stats.shapiro(salary_in_2020)\n",
        "decision_normality(result[1])\n",
        "\n",
        "print('для ЗП в 2021')\n",
        "result = stats.shapiro(salary_in_2021)\n",
        "decision_normality(result[1])\n",
        "\n",
        "print('для ЗП в 2022')\n",
        "result = stats.shapiro(salary_in_2022)\n",
        "decision_normality(result[1])"
      ]
    },
    {
      "attachments": {},
      "cell_type": "markdown",
      "metadata": {
        "id": "IBOYMwmfTHRu"
      },
      "source": [
        "**Выберем подходящий статистический тест**\n",
        "\n",
        "Для выбора нужного теста воспользуемся алгоритмом выбора теста. Для этого ответим на следующие вопросы:\n",
        "* Какой тип у признака «salary_in_usd»? — Количественный.\n",
        "* Сколько сравниваемых групп? —  более двух.\n",
        "* Группы зависимы? — да.\n",
        "* Признак распределён по нормальному закону? — Нет.\n",
        "\n",
        "Чтобы проверить нашу гипотезу, можно использовать критерий Фридмана \n",
        "\n",
        "**Проведём тест**"
      ]
    },
    {
      "cell_type": "code",
      "execution_count": null,
      "metadata": {
        "colab": {
          "base_uri": "https://localhost:8080/"
        },
        "id": "xaQuaMV8THRu",
        "outputId": "0e37fc3b-bd2e-4166-8d52-f373fd82c672"
      },
      "outputs": [
        {
          "name": "stdout",
          "output_type": "stream",
          "text": [
            "p-value = 0.000\n",
            "p-значение меньше, чем заданный уровень значимости 0.05. Отвергаем нулевую гипотезу в пользу альтернативной.\n"
          ]
        }
      ],
      "source": [
        "salary_in_2020_l= list(salary_in_2020)[:72]\n",
        "salary_in_2021_l= list(salary_in_2021)[:72]\n",
        "salary_in_2022_l= list(salary_in_2022)[:72]\n",
        "# проводим тест\n",
        "_, p = stats.friedmanchisquare(salary_in_2020_l, salary_in_2021_l, salary_in_2022_l)\n",
        "decision_hypothesis(p)"
      ]
    },
    {
      "attachments": {},
      "cell_type": "markdown",
      "metadata": {
        "id": "aZEt9hu-Q995"
      },
      "source": [
        "**Вывод**\n",
        "\n",
        "Нет оснований утверждать, что размер ЗП не изменяется от года к году."
      ]
    },
    {
      "attachments": {},
      "cell_type": "markdown",
      "metadata": {
        "id": "JW47VJo3Q99s"
      },
      "source": [
        "### Какие факторы влияют на зарплату у специалистов Data Scientist?\n",
        "\n",
        "\n",
        "**Сформулируем нулевую и альтернативные гипотезы**\n",
        "\n",
        "*Нулевая гипотеза* ($H_0$): размер страховых выплат для некурящих клиентов ($μ_1$) статистически больше либо равен размеру страховых выплат для курящих клиентов ($μ_2$).\n",
        "\n",
        "$$ H_0 : μ_1 >= μ_2$$\n",
        "\n",
        "*Альтернативная гипотеза* ($H_1$): размер страховых выплат для некурящих клиентов ($μ_1$) статистически меньше, чем размер страховых выплат для курящих клиентов ($μ_2$).\n",
        "$$ H_1 : μ_1 < μ_2$$\n",
        "\n",
        "\n"
      ]
    },
    {
      "cell_type": "code",
      "execution_count": null,
      "metadata": {},
      "outputs": [],
      "source": [
        "data_scient = "
      ]
    },
    {
      "attachments": {},
      "cell_type": "markdown",
      "metadata": {
        "id": "kMk6Q5sRl7Zf"
      },
      "source": [
        "**Проверка на нормальность**\n",
        "\n",
        "С помощью теста Шапиро-Уилка проверим, распределён ли признак нормально."
      ]
    },
    {
      "cell_type": "code",
      "execution_count": null,
      "metadata": {
        "colab": {
          "base_uri": "https://localhost:8080/"
        },
        "id": "JxXzC7-_RNDj",
        "outputId": "6e4c2c71-7d7d-4510-883c-8a52b5f64149"
      },
      "outputs": [
        {
          "ename": "KeyError",
          "evalue": "'smoker'",
          "output_type": "error",
          "traceback": [
            "\u001b[1;31m---------------------------------------------------------------------------\u001b[0m",
            "\u001b[1;31mKeyError\u001b[0m                                  Traceback (most recent call last)",
            "File \u001b[1;32mc:\\Users\\Lenovo\\AppData\\Local\\Programs\\Python\\Python39\\lib\\site-packages\\pandas\\core\\indexes\\base.py:3802\u001b[0m, in \u001b[0;36mIndex.get_loc\u001b[1;34m(self, key, method, tolerance)\u001b[0m\n\u001b[0;32m   3801\u001b[0m \u001b[39mtry\u001b[39;00m:\n\u001b[1;32m-> 3802\u001b[0m     \u001b[39mreturn\u001b[39;00m \u001b[39mself\u001b[39;49m\u001b[39m.\u001b[39;49m_engine\u001b[39m.\u001b[39;49mget_loc(casted_key)\n\u001b[0;32m   3803\u001b[0m \u001b[39mexcept\u001b[39;00m \u001b[39mKeyError\u001b[39;00m \u001b[39mas\u001b[39;00m err:\n",
            "File \u001b[1;32mc:\\Users\\Lenovo\\AppData\\Local\\Programs\\Python\\Python39\\lib\\site-packages\\pandas\\_libs\\index.pyx:138\u001b[0m, in \u001b[0;36mpandas._libs.index.IndexEngine.get_loc\u001b[1;34m()\u001b[0m\n",
            "File \u001b[1;32mc:\\Users\\Lenovo\\AppData\\Local\\Programs\\Python\\Python39\\lib\\site-packages\\pandas\\_libs\\index.pyx:165\u001b[0m, in \u001b[0;36mpandas._libs.index.IndexEngine.get_loc\u001b[1;34m()\u001b[0m\n",
            "File \u001b[1;32mpandas\\_libs\\hashtable_class_helper.pxi:5745\u001b[0m, in \u001b[0;36mpandas._libs.hashtable.PyObjectHashTable.get_item\u001b[1;34m()\u001b[0m\n",
            "File \u001b[1;32mpandas\\_libs\\hashtable_class_helper.pxi:5753\u001b[0m, in \u001b[0;36mpandas._libs.hashtable.PyObjectHashTable.get_item\u001b[1;34m()\u001b[0m\n",
            "\u001b[1;31mKeyError\u001b[0m: 'smoker'",
            "\nThe above exception was the direct cause of the following exception:\n",
            "\u001b[1;31mKeyError\u001b[0m                                  Traceback (most recent call last)",
            "Cell \u001b[1;32mIn[55], line 2\u001b[0m\n\u001b[0;32m      1\u001b[0m \u001b[39m# значения страховых выплат\u001b[39;00m\n\u001b[1;32m----> 2\u001b[0m charges_no_smoker \u001b[39m=\u001b[39m data\u001b[39m.\u001b[39mloc[data[\u001b[39m'\u001b[39;49m\u001b[39msmoker\u001b[39;49m\u001b[39m'\u001b[39;49m]\u001b[39m==\u001b[39m\u001b[39m'\u001b[39m\u001b[39mno\u001b[39m\u001b[39m'\u001b[39m, \u001b[39m'\u001b[39m\u001b[39mcharges\u001b[39m\u001b[39m'\u001b[39m]\n\u001b[0;32m      3\u001b[0m charges_smoker \u001b[39m=\u001b[39m data\u001b[39m.\u001b[39mloc[data[\u001b[39m'\u001b[39m\u001b[39msmoker\u001b[39m\u001b[39m'\u001b[39m]\u001b[39m==\u001b[39m\u001b[39m'\u001b[39m\u001b[39myes\u001b[39m\u001b[39m'\u001b[39m, \u001b[39m'\u001b[39m\u001b[39mcharges\u001b[39m\u001b[39m'\u001b[39m]\n\u001b[0;32m      5\u001b[0m \u001b[39m# проводим тест Шапиро-Уилка\u001b[39;00m\n",
            "File \u001b[1;32mc:\\Users\\Lenovo\\AppData\\Local\\Programs\\Python\\Python39\\lib\\site-packages\\pandas\\core\\frame.py:3807\u001b[0m, in \u001b[0;36mDataFrame.__getitem__\u001b[1;34m(self, key)\u001b[0m\n\u001b[0;32m   3805\u001b[0m \u001b[39mif\u001b[39;00m \u001b[39mself\u001b[39m\u001b[39m.\u001b[39mcolumns\u001b[39m.\u001b[39mnlevels \u001b[39m>\u001b[39m \u001b[39m1\u001b[39m:\n\u001b[0;32m   3806\u001b[0m     \u001b[39mreturn\u001b[39;00m \u001b[39mself\u001b[39m\u001b[39m.\u001b[39m_getitem_multilevel(key)\n\u001b[1;32m-> 3807\u001b[0m indexer \u001b[39m=\u001b[39m \u001b[39mself\u001b[39;49m\u001b[39m.\u001b[39;49mcolumns\u001b[39m.\u001b[39;49mget_loc(key)\n\u001b[0;32m   3808\u001b[0m \u001b[39mif\u001b[39;00m is_integer(indexer):\n\u001b[0;32m   3809\u001b[0m     indexer \u001b[39m=\u001b[39m [indexer]\n",
            "File \u001b[1;32mc:\\Users\\Lenovo\\AppData\\Local\\Programs\\Python\\Python39\\lib\\site-packages\\pandas\\core\\indexes\\base.py:3804\u001b[0m, in \u001b[0;36mIndex.get_loc\u001b[1;34m(self, key, method, tolerance)\u001b[0m\n\u001b[0;32m   3802\u001b[0m     \u001b[39mreturn\u001b[39;00m \u001b[39mself\u001b[39m\u001b[39m.\u001b[39m_engine\u001b[39m.\u001b[39mget_loc(casted_key)\n\u001b[0;32m   3803\u001b[0m \u001b[39mexcept\u001b[39;00m \u001b[39mKeyError\u001b[39;00m \u001b[39mas\u001b[39;00m err:\n\u001b[1;32m-> 3804\u001b[0m     \u001b[39mraise\u001b[39;00m \u001b[39mKeyError\u001b[39;00m(key) \u001b[39mfrom\u001b[39;00m \u001b[39merr\u001b[39;00m\n\u001b[0;32m   3805\u001b[0m \u001b[39mexcept\u001b[39;00m \u001b[39mTypeError\u001b[39;00m:\n\u001b[0;32m   3806\u001b[0m     \u001b[39m# If we have a listlike key, _check_indexing_error will raise\u001b[39;00m\n\u001b[0;32m   3807\u001b[0m     \u001b[39m#  InvalidIndexError. Otherwise we fall through and re-raise\u001b[39;00m\n\u001b[0;32m   3808\u001b[0m     \u001b[39m#  the TypeError.\u001b[39;00m\n\u001b[0;32m   3809\u001b[0m     \u001b[39mself\u001b[39m\u001b[39m.\u001b[39m_check_indexing_error(key)\n",
            "\u001b[1;31mKeyError\u001b[0m: 'smoker'"
          ]
        }
      ],
      "source": [
        "# значения страховых выплат\n",
        "charges_no_smoker = data.loc[data['smoker']=='no', 'charges']\n",
        "charges_smoker = data.loc[data['smoker']=='yes', 'charges']\n",
        "\n",
        "# проводим тест Шапиро-Уилка\n",
        "print('Для некурящих клиентов:')\n",
        "result = stats.shapiro(charges_no_smoker)\n",
        "decision_normality(result[1])\n",
        "\n",
        "print('Для курящих клиентов:')\n",
        "result = stats.shapiro(charges_smoker)\n",
        "decision_normality(result[1])"
      ]
    },
    {
      "attachments": {},
      "cell_type": "markdown",
      "metadata": {
        "id": "gKIiBvTMRNDk"
      },
      "source": [
        "**Выберем подходящий статистический тест**\n",
        "\n",
        "Для выбора нужного теста воспользуемся алгоритмом выбора теста. Для этого ответим на следующие вопросы:\n",
        "* Какой тип у признака «Размер страховых выплат»? — Количественный.\n",
        "* Сколько сравниваемых групп? — Две.\n",
        "* Группы зависимы? — Нет.\n",
        "* Признак распределён по нормальному закону? — Нет.\n",
        "\n",
        "Для проверки нашей гипотезы можно использовать U-критерий Манна — Уитни.\n",
        "\n",
        "**Проведём тест**\n"
      ]
    },
    {
      "cell_type": "code",
      "execution_count": null,
      "metadata": {
        "colab": {
          "base_uri": "https://localhost:8080/"
        },
        "id": "93N51wSsRNDk",
        "outputId": "0df1775e-94ad-41b1-d7fc-4d91335fc590"
      },
      "outputs": [
        {
          "name": "stdout",
          "output_type": "stream",
          "text": [
            "p-value = 0.000\n",
            "p-значение меньше, чем заданный уровень значимости 0.05. Отвергаем нулевую гипотезу в пользу альтернативной.\n"
          ]
        }
      ],
      "source": [
        "# проводим тест\n",
        "_, p = stats.mannwhitneyu(charges_no_smoker, charges_smoker, alternative='less')\n",
        "decision_hypothesis(p)"
      ]
    },
    {
      "attachments": {},
      "cell_type": "markdown",
      "metadata": {
        "id": "yZogeviaRNDk"
      },
      "source": [
        "**Вывод**\n",
        "\n",
        "Размер страховых выплат для некурящих клиентов меньше, чем для курящих."
      ]
    },
    {
      "attachments": {},
      "cell_type": "markdown",
      "metadata": {
        "id": "ByITCYyXGKb4"
      },
      "source": [
        "### Влияет ли регион проживания на размер выплат?\n",
        "\n",
        "**Сформулируем нулевую и альтернативные гипотезы**\n",
        "\n",
        "*Нулевая гипотеза*: размер страховых выплат не отличается в разных регионах: северо-восток ($μ_1$), юго-восток ($μ_2$), юго-запад ($μ_3$), северо-запад ($μ_4$).\n",
        "\n",
        "$$ H_0 : μ_1 = μ_2 = μ_3 = μ_4$$\n",
        "\n",
        "*Альтернативная гипотеза*: размер страховых выплат отличается в разных регионах: северо-восток ($μ_1$), юго-восток ($μ_2$), юго-запад ($μ_3$), северо-запад ($μ_4$).\n",
        "\n",
        "$$ H_1 : μ_1 \\neq μ_2 \\neq μ_3 \\neq μ_4$$\n",
        "\n"
      ]
    },
    {
      "attachments": {},
      "cell_type": "markdown",
      "metadata": {
        "id": "dPXLUo31l7Zg"
      },
      "source": [
        "**Проверка на нормальность**\n",
        "\n",
        "С помощью теста Шапиро-Уилка проверим, распределён ли признак нормально."
      ]
    },
    {
      "cell_type": "code",
      "execution_count": null,
      "metadata": {
        "colab": {
          "base_uri": "https://localhost:8080/"
        },
        "id": "0g8PmvdlGKmP",
        "outputId": "48892466-4da7-4a58-c414-d3af794b053d"
      },
      "outputs": [
        {
          "name": "stdout",
          "output_type": "stream",
          "text": [
            "Для северо-востока:\n",
            "p-value = 0.000\n",
            "p-значение меньше, чем заданный уровень значимости 0.05. Распределение отлично от нормального\n",
            "Для юго-востока:\n",
            "p-value = 0.000\n",
            "p-значение меньше, чем заданный уровень значимости 0.05. Распределение отлично от нормального\n",
            "Для северо-запада:\n",
            "p-value = 0.000\n",
            "p-значение меньше, чем заданный уровень значимости 0.05. Распределение отлично от нормального\n",
            "Для юго-запада:\n",
            "p-value = 0.000\n",
            "p-значение меньше, чем заданный уровень значимости 0.05. Распределение отлично от нормального\n"
          ]
        }
      ],
      "source": [
        "# значения страховых выплат\n",
        "charges_northeast = data.loc[data['region']=='northeast', 'charges']\n",
        "charges_southeast = data.loc[data['region']=='southeast', 'charges']\n",
        "charges_northwest = data.loc[data['region']=='northwest', 'charges']\n",
        "charges_southwest = data.loc[data['region']=='southwest', 'charges']\n",
        "\n",
        "# проводим тест Шапиро-Уилка\n",
        "print('Для северо-востока:')\n",
        "result = stats.shapiro(charges_northeast)\n",
        "decision_normality(result[1])\n",
        "\n",
        "print('Для юго-востока:')\n",
        "result = stats.shapiro(charges_southeast)\n",
        "decision_normality(result[1])\n",
        "\n",
        "print('Для северо-запада:')\n",
        "result = stats.shapiro(charges_northwest)\n",
        "decision_normality(result[1])\n",
        "\n",
        "print('Для юго-запада:')\n",
        "result = stats.shapiro(charges_southwest)\n",
        "decision_normality(result[1])\n"
      ]
    },
    {
      "attachments": {},
      "cell_type": "markdown",
      "metadata": {
        "id": "FPq2KNq4dbWj"
      },
      "source": [
        "**Выберем подходящий статистический тест**\n",
        "\n",
        "Для выбора нужного теста воспользуемся алгоритмом выбора теста. Для этого ответим на следующие вопросы:\n",
        "* Какой тип у признака «Регион проживания в США»? — Количественный.\n",
        "* Сколько сравниваемых групп? — Четыре.\n",
        "* Группы зависимы? — Нет.\n",
        "* Признак распределён по нормальному закону? — Нет. \n",
        "\n",
        "Для проверки нашей гипотезы можно использовать критерий Краскела — Уоллиса.\n",
        "\n",
        "**Проведём тест**"
      ]
    },
    {
      "cell_type": "code",
      "execution_count": null,
      "metadata": {
        "colab": {
          "base_uri": "https://localhost:8080/"
        },
        "id": "ZIJjzAQxfnsp",
        "outputId": "11a9cf62-98d8-4de3-9cec-1c040577ac51"
      },
      "outputs": [
        {
          "name": "stdout",
          "output_type": "stream",
          "text": [
            "p-value = 0.202\n",
            "p-значение больше, чем заданный уровень значимости 0.05. У нас нет оснований отвергнуть нулевую гипотезу.\n"
          ]
        }
      ],
      "source": [
        "# проводим тест\n",
        "_, p = stats.kruskal(charges_northeast, charges_southeast, charges_southwest, charges_northwest)\n",
        "decision_hypothesis(p)"
      ]
    },
    {
      "attachments": {},
      "cell_type": "markdown",
      "metadata": {
        "id": "TESdSdapPblj"
      },
      "source": [
        "**Вывод**\n",
        "\n",
        "Нет оснований утверждать, что есть разница в размере страховых выплат в разных регионах."
      ]
    },
    {
      "attachments": {},
      "cell_type": "markdown",
      "metadata": {
        "id": "C_BzXnR7l7Zh"
      },
      "source": [
        "### Есть ли взаимосвязь между курением и полом?"
      ]
    },
    {
      "attachments": {},
      "cell_type": "markdown",
      "metadata": {
        "id": "nTL6_EGyl7Zh"
      },
      "source": [
        "**Сформулируем нулевую и альтернативные гипотезы**\n",
        "\n",
        "*Нулевая гипотеза*: между тем, курит человек или нет, и его полом нет взаимосвязи (признаки независимы).\n",
        "\n",
        "*Альтернативная гипотеза*: между тем, курит человек или нет, и его полом есть взаимосвязь (признаки зависимы).\n"
      ]
    },
    {
      "attachments": {},
      "cell_type": "markdown",
      "metadata": {
        "id": "JBDWUoufl7Zh"
      },
      "source": [
        "**Выберем подходящий статистический тест**\n",
        "\n",
        "Для выбора нужного теста воспользуемся алгоритмом выбора теста. Для этого ответим на следующие вопросы:\n",
        "* Какой тип у признака «Пол»? — Категориальный.\n",
        "* Сколько сравниваемых групп? — Две.\n",
        "* Проверяется независимость групп? — Да.\n",
        "\n",
        "Для проверки нашей гипотезы можно использовать критерий ${\\chi}^2$ (хи-квадрат).\n",
        "\n",
        "**Проведём тест**"
      ]
    },
    {
      "cell_type": "code",
      "execution_count": null,
      "metadata": {
        "colab": {
          "base_uri": "https://localhost:8080/",
          "height": 143
        },
        "id": "Hs4I-87_l7Zh",
        "outputId": "3c863879-9c55-497e-de9e-16dff9c07675"
      },
      "outputs": [
        {
          "data": {
            "text/html": [
              "\n",
              "  <div id=\"df-7e0dcc95-7d8f-4ad4-8455-b5684ee452e3\">\n",
              "    <div class=\"colab-df-container\">\n",
              "      <div>\n",
              "<style scoped>\n",
              "    .dataframe tbody tr th:only-of-type {\n",
              "        vertical-align: middle;\n",
              "    }\n",
              "\n",
              "    .dataframe tbody tr th {\n",
              "        vertical-align: top;\n",
              "    }\n",
              "\n",
              "    .dataframe thead th {\n",
              "        text-align: right;\n",
              "    }\n",
              "</style>\n",
              "<table border=\"1\" class=\"dataframe\">\n",
              "  <thead>\n",
              "    <tr style=\"text-align: right;\">\n",
              "      <th>smoker</th>\n",
              "      <th>no</th>\n",
              "      <th>yes</th>\n",
              "    </tr>\n",
              "    <tr>\n",
              "      <th>sex</th>\n",
              "      <th></th>\n",
              "      <th></th>\n",
              "    </tr>\n",
              "  </thead>\n",
              "  <tbody>\n",
              "    <tr>\n",
              "      <th>female</th>\n",
              "      <td>547</td>\n",
              "      <td>115</td>\n",
              "    </tr>\n",
              "    <tr>\n",
              "      <th>male</th>\n",
              "      <td>516</td>\n",
              "      <td>159</td>\n",
              "    </tr>\n",
              "  </tbody>\n",
              "</table>\n",
              "</div>\n",
              "      <button class=\"colab-df-convert\" onclick=\"convertToInteractive('df-7e0dcc95-7d8f-4ad4-8455-b5684ee452e3')\"\n",
              "              title=\"Convert this dataframe to an interactive table.\"\n",
              "              style=\"display:none;\">\n",
              "        \n",
              "  <svg xmlns=\"http://www.w3.org/2000/svg\" height=\"24px\"viewBox=\"0 0 24 24\"\n",
              "       width=\"24px\">\n",
              "    <path d=\"M0 0h24v24H0V0z\" fill=\"none\"/>\n",
              "    <path d=\"M18.56 5.44l.94 2.06.94-2.06 2.06-.94-2.06-.94-.94-2.06-.94 2.06-2.06.94zm-11 1L8.5 8.5l.94-2.06 2.06-.94-2.06-.94L8.5 2.5l-.94 2.06-2.06.94zm10 10l.94 2.06.94-2.06 2.06-.94-2.06-.94-.94-2.06-.94 2.06-2.06.94z\"/><path d=\"M17.41 7.96l-1.37-1.37c-.4-.4-.92-.59-1.43-.59-.52 0-1.04.2-1.43.59L10.3 9.45l-7.72 7.72c-.78.78-.78 2.05 0 2.83L4 21.41c.39.39.9.59 1.41.59.51 0 1.02-.2 1.41-.59l7.78-7.78 2.81-2.81c.8-.78.8-2.07 0-2.86zM5.41 20L4 18.59l7.72-7.72 1.47 1.35L5.41 20z\"/>\n",
              "  </svg>\n",
              "      </button>\n",
              "      \n",
              "  <style>\n",
              "    .colab-df-container {\n",
              "      display:flex;\n",
              "      flex-wrap:wrap;\n",
              "      gap: 12px;\n",
              "    }\n",
              "\n",
              "    .colab-df-convert {\n",
              "      background-color: #E8F0FE;\n",
              "      border: none;\n",
              "      border-radius: 50%;\n",
              "      cursor: pointer;\n",
              "      display: none;\n",
              "      fill: #1967D2;\n",
              "      height: 32px;\n",
              "      padding: 0 0 0 0;\n",
              "      width: 32px;\n",
              "    }\n",
              "\n",
              "    .colab-df-convert:hover {\n",
              "      background-color: #E2EBFA;\n",
              "      box-shadow: 0px 1px 2px rgba(60, 64, 67, 0.3), 0px 1px 3px 1px rgba(60, 64, 67, 0.15);\n",
              "      fill: #174EA6;\n",
              "    }\n",
              "\n",
              "    [theme=dark] .colab-df-convert {\n",
              "      background-color: #3B4455;\n",
              "      fill: #D2E3FC;\n",
              "    }\n",
              "\n",
              "    [theme=dark] .colab-df-convert:hover {\n",
              "      background-color: #434B5C;\n",
              "      box-shadow: 0px 1px 3px 1px rgba(0, 0, 0, 0.15);\n",
              "      filter: drop-shadow(0px 1px 2px rgba(0, 0, 0, 0.3));\n",
              "      fill: #FFFFFF;\n",
              "    }\n",
              "  </style>\n",
              "\n",
              "      <script>\n",
              "        const buttonEl =\n",
              "          document.querySelector('#df-7e0dcc95-7d8f-4ad4-8455-b5684ee452e3 button.colab-df-convert');\n",
              "        buttonEl.style.display =\n",
              "          google.colab.kernel.accessAllowed ? 'block' : 'none';\n",
              "\n",
              "        async function convertToInteractive(key) {\n",
              "          const element = document.querySelector('#df-7e0dcc95-7d8f-4ad4-8455-b5684ee452e3');\n",
              "          const dataTable =\n",
              "            await google.colab.kernel.invokeFunction('convertToInteractive',\n",
              "                                                     [key], {});\n",
              "          if (!dataTable) return;\n",
              "\n",
              "          const docLinkHtml = 'Like what you see? Visit the ' +\n",
              "            '<a target=\"_blank\" href=https://colab.research.google.com/notebooks/data_table.ipynb>data table notebook</a>'\n",
              "            + ' to learn more about interactive tables.';\n",
              "          element.innerHTML = '';\n",
              "          dataTable['output_type'] = 'display_data';\n",
              "          await google.colab.output.renderOutput(dataTable, element);\n",
              "          const docLink = document.createElement('div');\n",
              "          docLink.innerHTML = docLinkHtml;\n",
              "          element.appendChild(docLink);\n",
              "        }\n",
              "      </script>\n",
              "    </div>\n",
              "  </div>\n",
              "  "
            ],
            "text/plain": [
              "smoker   no  yes\n",
              "sex             \n",
              "female  547  115\n",
              "male    516  159"
            ]
          },
          "execution_count": 38,
          "metadata": {},
          "output_type": "execute_result"
        }
      ],
      "source": [
        "# составляем таблицу сопряжённости\n",
        "cross_table = pd.crosstab(data['sex'], data['smoker'])\n",
        "\n",
        "cross_table"
      ]
    },
    {
      "cell_type": "code",
      "execution_count": null,
      "metadata": {
        "colab": {
          "base_uri": "https://localhost:8080/"
        },
        "id": "QluLlU6Kl7Zh",
        "outputId": "93379b4f-594d-45a6-8283-733c181331fd"
      },
      "outputs": [
        {
          "name": "stdout",
          "output_type": "stream",
          "text": [
            "p-value = 0.006\n",
            "p-значение меньше, чем заданный уровень значимости 0.05. Отвергаем нулевую гипотезу в пользу альтернативной.\n"
          ]
        }
      ],
      "source": [
        "# проводим тест\n",
        "_, p, _, _ = stats.chi2_contingency(cross_table)\n",
        "decision_hypothesis(p)"
      ]
    },
    {
      "attachments": {},
      "cell_type": "markdown",
      "metadata": {
        "id": "iX8a9h8Dl7Zh"
      },
      "source": [
        "**Вывод**\n",
        "\n",
        "Существует статистически значимая взаимосвязь между полом и курением."
      ]
    },
    {
      "attachments": {},
      "cell_type": "markdown",
      "metadata": {
        "id": "weubXekLfsQX"
      },
      "source": [
        "## Итоговые результаты исследования\n",
        "\n",
        "*   Нет оснований утверждать, что есть разница в размере страховых выплат для клиентов-мужчин и клиентов-женщин.\n",
        "*   Размер страховых выплат для некурящих клиентов меньше, чем для курящих.\n",
        "*   Нет оснований утверждать, что есть разница в размере страховых выплат для разных регионов.\n",
        "*   Существует взаимосвязь между полом и курением."
      ]
    }
  ],
  "metadata": {
    "colab": {
      "provenance": []
    },
    "kernelspec": {
      "display_name": "Python 3.10.8 ('base')",
      "language": "python",
      "name": "python3"
    },
    "language_info": {
      "codemirror_mode": {
        "name": "ipython",
        "version": 3
      },
      "file_extension": ".py",
      "mimetype": "text/x-python",
      "name": "python",
      "nbconvert_exporter": "python",
      "pygments_lexer": "ipython3",
      "version": "3.9.13"
    },
    "vscode": {
      "interpreter": {
        "hash": "86c56a74836ad344b00594bf6f38fa6a676a207ceefe20d101fbc465800ccb8d"
      }
    }
  },
  "nbformat": 4,
  "nbformat_minor": 0
}
