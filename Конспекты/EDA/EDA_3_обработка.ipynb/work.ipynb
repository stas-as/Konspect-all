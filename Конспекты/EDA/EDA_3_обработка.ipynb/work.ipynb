{
 "cells": [
  {
   "cell_type": "code",
   "execution_count": 2,
   "metadata": {},
   "outputs": [],
   "source": [
    "import pandas as pd\n"
   ]
  },
  {
   "attachments": {},
   "cell_type": "markdown",
   "metadata": {},
   "source": [
    "атасет болезней сердца содержит информацию о пациентах и переменную предсказания target — наличие у пациента болезни сердца.\n",
    "\n",
    "Датасет содержит следующие признаки:\n",
    "\n",
    "- age — возраст\n",
    "- sex — пол (1 - мужчина, 0 - женщина)\n",
    "- cp — тип боли в груди (4 значения)\n",
    "- trestbps — артериальное давление в покое\n",
    "- chol — холестерин сыворотки в мг/дл\n",
    "- fbs — уровень сахара в крови натощак > 120 мг/дл\n",
    "- restecg — результаты электрокардиографии в покое (значения 0,1,2)\n",
    "- thalach — достигнута максимальная частота сердечных сокращений\n",
    "- exang — стенокардия, вызванная физической нагрузкой\n",
    "- oldpeak — депрессия ST, вызванная физической нагрузкой, по сравнению с состоянием покоя\n",
    "- slope — наклон пикового сегмента ST при нагрузке\n",
    "- ca — количество крупных сосудов (0-3), окрашенных при флюроскопии\n",
    "- thal — дефект, где 3 = нормальный; 6 = фиксированный дефект; 7 = обратимый дефект"
   ]
  },
  {
   "cell_type": "code",
   "execution_count": 3,
   "metadata": {},
   "outputs": [],
   "source": [
    "data = pd.read_csv('data/heart.csv')"
   ]
  },
  {
   "cell_type": "code",
   "execution_count": 4,
   "metadata": {},
   "outputs": [],
   "source": [
    "data['old'] = data['age'].apply(lambda x: 1 if x > 60 else 0)"
   ]
  },
  {
   "cell_type": "code",
   "execution_count": 5,
   "metadata": {},
   "outputs": [
    {
     "data": {
      "text/plain": [
       "79"
      ]
     },
     "execution_count": 5,
     "metadata": {},
     "output_type": "execute_result"
    }
   ],
   "source": [
    "data['old'].sum()"
   ]
  },
  {
   "cell_type": "code",
   "execution_count": 6,
   "metadata": {},
   "outputs": [
    {
     "data": {
      "text/html": [
       "<div>\n",
       "<style scoped>\n",
       "    .dataframe tbody tr th:only-of-type {\n",
       "        vertical-align: middle;\n",
       "    }\n",
       "\n",
       "    .dataframe tbody tr th {\n",
       "        vertical-align: top;\n",
       "    }\n",
       "\n",
       "    .dataframe thead th {\n",
       "        text-align: right;\n",
       "    }\n",
       "</style>\n",
       "<table border=\"1\" class=\"dataframe\">\n",
       "  <thead>\n",
       "    <tr style=\"text-align: right;\">\n",
       "      <th></th>\n",
       "      <th>age</th>\n",
       "      <th>sex</th>\n",
       "      <th>cp</th>\n",
       "      <th>trestbps</th>\n",
       "      <th>chol</th>\n",
       "      <th>fbs</th>\n",
       "      <th>restecg</th>\n",
       "      <th>thalach</th>\n",
       "      <th>exang</th>\n",
       "      <th>oldpeak</th>\n",
       "      <th>slope</th>\n",
       "      <th>ca</th>\n",
       "      <th>thal</th>\n",
       "      <th>target</th>\n",
       "      <th>old</th>\n",
       "    </tr>\n",
       "  </thead>\n",
       "  <tbody>\n",
       "    <tr>\n",
       "      <th>0</th>\n",
       "      <td>63</td>\n",
       "      <td>1</td>\n",
       "      <td>3</td>\n",
       "      <td>145</td>\n",
       "      <td>233</td>\n",
       "      <td>1</td>\n",
       "      <td>0</td>\n",
       "      <td>150</td>\n",
       "      <td>0</td>\n",
       "      <td>2.3</td>\n",
       "      <td>0</td>\n",
       "      <td>0</td>\n",
       "      <td>1</td>\n",
       "      <td>1</td>\n",
       "      <td>1</td>\n",
       "    </tr>\n",
       "    <tr>\n",
       "      <th>1</th>\n",
       "      <td>37</td>\n",
       "      <td>1</td>\n",
       "      <td>2</td>\n",
       "      <td>130</td>\n",
       "      <td>250</td>\n",
       "      <td>0</td>\n",
       "      <td>1</td>\n",
       "      <td>187</td>\n",
       "      <td>0</td>\n",
       "      <td>3.5</td>\n",
       "      <td>0</td>\n",
       "      <td>0</td>\n",
       "      <td>2</td>\n",
       "      <td>1</td>\n",
       "      <td>0</td>\n",
       "    </tr>\n",
       "    <tr>\n",
       "      <th>2</th>\n",
       "      <td>41</td>\n",
       "      <td>0</td>\n",
       "      <td>1</td>\n",
       "      <td>130</td>\n",
       "      <td>204</td>\n",
       "      <td>0</td>\n",
       "      <td>0</td>\n",
       "      <td>172</td>\n",
       "      <td>0</td>\n",
       "      <td>1.4</td>\n",
       "      <td>2</td>\n",
       "      <td>0</td>\n",
       "      <td>2</td>\n",
       "      <td>1</td>\n",
       "      <td>0</td>\n",
       "    </tr>\n",
       "    <tr>\n",
       "      <th>3</th>\n",
       "      <td>56</td>\n",
       "      <td>1</td>\n",
       "      <td>1</td>\n",
       "      <td>120</td>\n",
       "      <td>236</td>\n",
       "      <td>0</td>\n",
       "      <td>1</td>\n",
       "      <td>178</td>\n",
       "      <td>0</td>\n",
       "      <td>0.8</td>\n",
       "      <td>2</td>\n",
       "      <td>0</td>\n",
       "      <td>2</td>\n",
       "      <td>1</td>\n",
       "      <td>0</td>\n",
       "    </tr>\n",
       "    <tr>\n",
       "      <th>4</th>\n",
       "      <td>57</td>\n",
       "      <td>0</td>\n",
       "      <td>0</td>\n",
       "      <td>120</td>\n",
       "      <td>354</td>\n",
       "      <td>0</td>\n",
       "      <td>1</td>\n",
       "      <td>163</td>\n",
       "      <td>1</td>\n",
       "      <td>0.6</td>\n",
       "      <td>2</td>\n",
       "      <td>0</td>\n",
       "      <td>2</td>\n",
       "      <td>1</td>\n",
       "      <td>0</td>\n",
       "    </tr>\n",
       "    <tr>\n",
       "      <th>...</th>\n",
       "      <td>...</td>\n",
       "      <td>...</td>\n",
       "      <td>...</td>\n",
       "      <td>...</td>\n",
       "      <td>...</td>\n",
       "      <td>...</td>\n",
       "      <td>...</td>\n",
       "      <td>...</td>\n",
       "      <td>...</td>\n",
       "      <td>...</td>\n",
       "      <td>...</td>\n",
       "      <td>...</td>\n",
       "      <td>...</td>\n",
       "      <td>...</td>\n",
       "      <td>...</td>\n",
       "    </tr>\n",
       "    <tr>\n",
       "      <th>298</th>\n",
       "      <td>57</td>\n",
       "      <td>0</td>\n",
       "      <td>0</td>\n",
       "      <td>140</td>\n",
       "      <td>241</td>\n",
       "      <td>0</td>\n",
       "      <td>1</td>\n",
       "      <td>123</td>\n",
       "      <td>1</td>\n",
       "      <td>0.2</td>\n",
       "      <td>1</td>\n",
       "      <td>0</td>\n",
       "      <td>3</td>\n",
       "      <td>0</td>\n",
       "      <td>0</td>\n",
       "    </tr>\n",
       "    <tr>\n",
       "      <th>299</th>\n",
       "      <td>45</td>\n",
       "      <td>1</td>\n",
       "      <td>3</td>\n",
       "      <td>110</td>\n",
       "      <td>264</td>\n",
       "      <td>0</td>\n",
       "      <td>1</td>\n",
       "      <td>132</td>\n",
       "      <td>0</td>\n",
       "      <td>1.2</td>\n",
       "      <td>1</td>\n",
       "      <td>0</td>\n",
       "      <td>3</td>\n",
       "      <td>0</td>\n",
       "      <td>0</td>\n",
       "    </tr>\n",
       "    <tr>\n",
       "      <th>300</th>\n",
       "      <td>68</td>\n",
       "      <td>1</td>\n",
       "      <td>0</td>\n",
       "      <td>144</td>\n",
       "      <td>193</td>\n",
       "      <td>1</td>\n",
       "      <td>1</td>\n",
       "      <td>141</td>\n",
       "      <td>0</td>\n",
       "      <td>3.4</td>\n",
       "      <td>1</td>\n",
       "      <td>2</td>\n",
       "      <td>3</td>\n",
       "      <td>0</td>\n",
       "      <td>1</td>\n",
       "    </tr>\n",
       "    <tr>\n",
       "      <th>301</th>\n",
       "      <td>57</td>\n",
       "      <td>1</td>\n",
       "      <td>0</td>\n",
       "      <td>130</td>\n",
       "      <td>131</td>\n",
       "      <td>0</td>\n",
       "      <td>1</td>\n",
       "      <td>115</td>\n",
       "      <td>1</td>\n",
       "      <td>1.2</td>\n",
       "      <td>1</td>\n",
       "      <td>1</td>\n",
       "      <td>3</td>\n",
       "      <td>0</td>\n",
       "      <td>0</td>\n",
       "    </tr>\n",
       "    <tr>\n",
       "      <th>302</th>\n",
       "      <td>57</td>\n",
       "      <td>0</td>\n",
       "      <td>1</td>\n",
       "      <td>130</td>\n",
       "      <td>236</td>\n",
       "      <td>0</td>\n",
       "      <td>0</td>\n",
       "      <td>174</td>\n",
       "      <td>0</td>\n",
       "      <td>0.0</td>\n",
       "      <td>1</td>\n",
       "      <td>1</td>\n",
       "      <td>2</td>\n",
       "      <td>0</td>\n",
       "      <td>0</td>\n",
       "    </tr>\n",
       "  </tbody>\n",
       "</table>\n",
       "<p>303 rows × 15 columns</p>\n",
       "</div>"
      ],
      "text/plain": [
       "     age  sex  cp  trestbps  chol  fbs  restecg  thalach  exang  oldpeak  \\\n",
       "0     63    1   3       145   233    1        0      150      0      2.3   \n",
       "1     37    1   2       130   250    0        1      187      0      3.5   \n",
       "2     41    0   1       130   204    0        0      172      0      1.4   \n",
       "3     56    1   1       120   236    0        1      178      0      0.8   \n",
       "4     57    0   0       120   354    0        1      163      1      0.6   \n",
       "..   ...  ...  ..       ...   ...  ...      ...      ...    ...      ...   \n",
       "298   57    0   0       140   241    0        1      123      1      0.2   \n",
       "299   45    1   3       110   264    0        1      132      0      1.2   \n",
       "300   68    1   0       144   193    1        1      141      0      3.4   \n",
       "301   57    1   0       130   131    0        1      115      1      1.2   \n",
       "302   57    0   1       130   236    0        0      174      0      0.0   \n",
       "\n",
       "     slope  ca  thal  target  old  \n",
       "0        0   0     1       1    1  \n",
       "1        0   0     2       1    0  \n",
       "2        2   0     2       1    0  \n",
       "3        2   0     2       1    0  \n",
       "4        2   0     2       1    0  \n",
       "..     ...  ..   ...     ...  ...  \n",
       "298      1   0     3       0    0  \n",
       "299      1   0     3       0    0  \n",
       "300      1   2     3       0    1  \n",
       "301      1   1     3       0    0  \n",
       "302      1   1     2       0    0  \n",
       "\n",
       "[303 rows x 15 columns]"
      ]
     },
     "execution_count": 6,
     "metadata": {},
     "output_type": "execute_result"
    }
   ],
   "source": [
    "data\n"
   ]
  },
  {
   "cell_type": "code",
   "execution_count": 17,
   "metadata": {},
   "outputs": [],
   "source": [
    "def get_trestbps_mean(row):\n",
    "    if row['sex'] == 1:\n",
    "        if row['age'] <= 20:\n",
    "            return 123\n",
    "        elif 20 < row['age'] < 31:\n",
    "            return 126\n",
    "        elif 30 < row['age'] < 41:\n",
    "            return 129\n",
    "        elif 40 < row['age'] < 51:\n",
    "            return 135\n",
    "        elif 50 < row['age'] < 61:\n",
    "            return 142\n",
    "        elif row['age'] > 61:\n",
    "            return 142\n",
    "    if row['sex'] == 0:\n",
    "        if row['age'] <= 20:\n",
    "            return 116\n",
    "        elif 20 < row['age'] < 31:\n",
    "            return 120\n",
    "        elif 30 < row['age'] < 41:\n",
    "            return 127\n",
    "        elif 40 < row['age'] < 51:\n",
    "            return 137\n",
    "        elif 50 < row['age'] < 61:\n",
    "            return 144\n",
    "        elif row['age'] > 61:\n",
    "            return 159"
   ]
  },
  {
   "attachments": {},
   "cell_type": "markdown",
   "metadata": {},
   "source": [
    "Создайте новый признак trestbps_mean, который будет обозначать норму давления в среднем для его возраста и пола. trestbps — систолическое артериальное давление в состоянии покоя.\n",
    "\n",
    "Информацию о среднем давлении для возраста и пола возьмите из этой таблицы. В таблице систолическое давление написано первым, перед дробной чертой."
   ]
  },
  {
   "cell_type": "code",
   "execution_count": 23,
   "metadata": {},
   "outputs": [],
   "source": [
    "data['trestbps_mean'] = data[['age','sex']].apply(get_trestbps_mean,axis=1)"
   ]
  },
  {
   "cell_type": "code",
   "execution_count": 26,
   "metadata": {},
   "outputs": [
    {
     "data": {
      "text/plain": [
       "142.0"
      ]
     },
     "execution_count": 26,
     "metadata": {},
     "output_type": "execute_result"
    }
   ],
   "source": [
    "data['trestbps_mean'].iloc[300]"
   ]
  },
  {
   "cell_type": "code",
   "execution_count": 27,
   "metadata": {},
   "outputs": [
    {
     "name": "stdout",
     "output_type": "stream",
     "text": [
      "<class 'pandas.core.frame.DataFrame'>\n",
      "RangeIndex: 303 entries, 0 to 302\n",
      "Data columns (total 16 columns):\n",
      " #   Column         Non-Null Count  Dtype  \n",
      "---  ------         --------------  -----  \n",
      " 0   age            303 non-null    int64  \n",
      " 1   sex            303 non-null    int64  \n",
      " 2   cp             303 non-null    int64  \n",
      " 3   trestbps       303 non-null    int64  \n",
      " 4   chol           303 non-null    int64  \n",
      " 5   fbs            303 non-null    int64  \n",
      " 6   restecg        303 non-null    int64  \n",
      " 7   thalach        303 non-null    int64  \n",
      " 8   exang          303 non-null    int64  \n",
      " 9   oldpeak        303 non-null    float64\n",
      " 10  slope          303 non-null    int64  \n",
      " 11  ca             303 non-null    int64  \n",
      " 12  thal           303 non-null    int64  \n",
      " 13  target         303 non-null    int64  \n",
      " 14  old            303 non-null    int64  \n",
      " 15  trestbps_mean  295 non-null    float64\n",
      "dtypes: float64(2), int64(14)\n",
      "memory usage: 38.0 KB\n"
     ]
    }
   ],
   "source": [
    "data.info()"
   ]
  },
  {
   "cell_type": "code",
   "execution_count": 28,
   "metadata": {},
   "outputs": [],
   "source": [
    "import category_encoders as ce\n",
    "\n",
    "encoder = ce.OneHotEncoder(cols=['cp','restecg','slope','ca','thal'])\n",
    "cols = encoder.fit_transform(data[['cp','restecg','slope','ca','thal']])\n",
    "df = pd.concat([data, cols], axis=1)"
   ]
  },
  {
   "cell_type": "code",
   "execution_count": 34,
   "metadata": {},
   "outputs": [
    {
     "data": {
      "text/html": [
       "<div>\n",
       "<style scoped>\n",
       "    .dataframe tbody tr th:only-of-type {\n",
       "        vertical-align: middle;\n",
       "    }\n",
       "\n",
       "    .dataframe tbody tr th {\n",
       "        vertical-align: top;\n",
       "    }\n",
       "\n",
       "    .dataframe thead th {\n",
       "        text-align: right;\n",
       "    }\n",
       "</style>\n",
       "<table border=\"1\" class=\"dataframe\">\n",
       "  <thead>\n",
       "    <tr style=\"text-align: right;\">\n",
       "      <th></th>\n",
       "      <th>age</th>\n",
       "      <th>sex</th>\n",
       "      <th>trestbps</th>\n",
       "      <th>chol</th>\n",
       "      <th>fbs</th>\n",
       "      <th>thalach</th>\n",
       "      <th>exang</th>\n",
       "      <th>oldpeak</th>\n",
       "      <th>target</th>\n",
       "      <th>old</th>\n",
       "      <th>...</th>\n",
       "      <th>slope_3</th>\n",
       "      <th>ca_1</th>\n",
       "      <th>ca_2</th>\n",
       "      <th>ca_3</th>\n",
       "      <th>ca_4</th>\n",
       "      <th>ca_5</th>\n",
       "      <th>thal_1</th>\n",
       "      <th>thal_2</th>\n",
       "      <th>thal_3</th>\n",
       "      <th>thal_4</th>\n",
       "    </tr>\n",
       "  </thead>\n",
       "  <tbody>\n",
       "    <tr>\n",
       "      <th>0</th>\n",
       "      <td>63</td>\n",
       "      <td>1</td>\n",
       "      <td>145</td>\n",
       "      <td>233</td>\n",
       "      <td>1</td>\n",
       "      <td>150</td>\n",
       "      <td>0</td>\n",
       "      <td>2.3</td>\n",
       "      <td>1</td>\n",
       "      <td>1</td>\n",
       "      <td>...</td>\n",
       "      <td>0</td>\n",
       "      <td>1</td>\n",
       "      <td>0</td>\n",
       "      <td>0</td>\n",
       "      <td>0</td>\n",
       "      <td>0</td>\n",
       "      <td>1</td>\n",
       "      <td>0</td>\n",
       "      <td>0</td>\n",
       "      <td>0</td>\n",
       "    </tr>\n",
       "    <tr>\n",
       "      <th>1</th>\n",
       "      <td>37</td>\n",
       "      <td>1</td>\n",
       "      <td>130</td>\n",
       "      <td>250</td>\n",
       "      <td>0</td>\n",
       "      <td>187</td>\n",
       "      <td>0</td>\n",
       "      <td>3.5</td>\n",
       "      <td>1</td>\n",
       "      <td>0</td>\n",
       "      <td>...</td>\n",
       "      <td>0</td>\n",
       "      <td>1</td>\n",
       "      <td>0</td>\n",
       "      <td>0</td>\n",
       "      <td>0</td>\n",
       "      <td>0</td>\n",
       "      <td>0</td>\n",
       "      <td>1</td>\n",
       "      <td>0</td>\n",
       "      <td>0</td>\n",
       "    </tr>\n",
       "    <tr>\n",
       "      <th>2</th>\n",
       "      <td>41</td>\n",
       "      <td>0</td>\n",
       "      <td>130</td>\n",
       "      <td>204</td>\n",
       "      <td>0</td>\n",
       "      <td>172</td>\n",
       "      <td>0</td>\n",
       "      <td>1.4</td>\n",
       "      <td>1</td>\n",
       "      <td>0</td>\n",
       "      <td>...</td>\n",
       "      <td>0</td>\n",
       "      <td>1</td>\n",
       "      <td>0</td>\n",
       "      <td>0</td>\n",
       "      <td>0</td>\n",
       "      <td>0</td>\n",
       "      <td>0</td>\n",
       "      <td>1</td>\n",
       "      <td>0</td>\n",
       "      <td>0</td>\n",
       "    </tr>\n",
       "    <tr>\n",
       "      <th>3</th>\n",
       "      <td>56</td>\n",
       "      <td>1</td>\n",
       "      <td>120</td>\n",
       "      <td>236</td>\n",
       "      <td>0</td>\n",
       "      <td>178</td>\n",
       "      <td>0</td>\n",
       "      <td>0.8</td>\n",
       "      <td>1</td>\n",
       "      <td>0</td>\n",
       "      <td>...</td>\n",
       "      <td>0</td>\n",
       "      <td>1</td>\n",
       "      <td>0</td>\n",
       "      <td>0</td>\n",
       "      <td>0</td>\n",
       "      <td>0</td>\n",
       "      <td>0</td>\n",
       "      <td>1</td>\n",
       "      <td>0</td>\n",
       "      <td>0</td>\n",
       "    </tr>\n",
       "    <tr>\n",
       "      <th>4</th>\n",
       "      <td>57</td>\n",
       "      <td>0</td>\n",
       "      <td>120</td>\n",
       "      <td>354</td>\n",
       "      <td>0</td>\n",
       "      <td>163</td>\n",
       "      <td>1</td>\n",
       "      <td>0.6</td>\n",
       "      <td>1</td>\n",
       "      <td>0</td>\n",
       "      <td>...</td>\n",
       "      <td>0</td>\n",
       "      <td>1</td>\n",
       "      <td>0</td>\n",
       "      <td>0</td>\n",
       "      <td>0</td>\n",
       "      <td>0</td>\n",
       "      <td>0</td>\n",
       "      <td>1</td>\n",
       "      <td>0</td>\n",
       "      <td>0</td>\n",
       "    </tr>\n",
       "    <tr>\n",
       "      <th>...</th>\n",
       "      <td>...</td>\n",
       "      <td>...</td>\n",
       "      <td>...</td>\n",
       "      <td>...</td>\n",
       "      <td>...</td>\n",
       "      <td>...</td>\n",
       "      <td>...</td>\n",
       "      <td>...</td>\n",
       "      <td>...</td>\n",
       "      <td>...</td>\n",
       "      <td>...</td>\n",
       "      <td>...</td>\n",
       "      <td>...</td>\n",
       "      <td>...</td>\n",
       "      <td>...</td>\n",
       "      <td>...</td>\n",
       "      <td>...</td>\n",
       "      <td>...</td>\n",
       "      <td>...</td>\n",
       "      <td>...</td>\n",
       "      <td>...</td>\n",
       "    </tr>\n",
       "    <tr>\n",
       "      <th>298</th>\n",
       "      <td>57</td>\n",
       "      <td>0</td>\n",
       "      <td>140</td>\n",
       "      <td>241</td>\n",
       "      <td>0</td>\n",
       "      <td>123</td>\n",
       "      <td>1</td>\n",
       "      <td>0.2</td>\n",
       "      <td>0</td>\n",
       "      <td>0</td>\n",
       "      <td>...</td>\n",
       "      <td>1</td>\n",
       "      <td>1</td>\n",
       "      <td>0</td>\n",
       "      <td>0</td>\n",
       "      <td>0</td>\n",
       "      <td>0</td>\n",
       "      <td>0</td>\n",
       "      <td>0</td>\n",
       "      <td>1</td>\n",
       "      <td>0</td>\n",
       "    </tr>\n",
       "    <tr>\n",
       "      <th>299</th>\n",
       "      <td>45</td>\n",
       "      <td>1</td>\n",
       "      <td>110</td>\n",
       "      <td>264</td>\n",
       "      <td>0</td>\n",
       "      <td>132</td>\n",
       "      <td>0</td>\n",
       "      <td>1.2</td>\n",
       "      <td>0</td>\n",
       "      <td>0</td>\n",
       "      <td>...</td>\n",
       "      <td>1</td>\n",
       "      <td>1</td>\n",
       "      <td>0</td>\n",
       "      <td>0</td>\n",
       "      <td>0</td>\n",
       "      <td>0</td>\n",
       "      <td>0</td>\n",
       "      <td>0</td>\n",
       "      <td>1</td>\n",
       "      <td>0</td>\n",
       "    </tr>\n",
       "    <tr>\n",
       "      <th>300</th>\n",
       "      <td>68</td>\n",
       "      <td>1</td>\n",
       "      <td>144</td>\n",
       "      <td>193</td>\n",
       "      <td>1</td>\n",
       "      <td>141</td>\n",
       "      <td>0</td>\n",
       "      <td>3.4</td>\n",
       "      <td>0</td>\n",
       "      <td>1</td>\n",
       "      <td>...</td>\n",
       "      <td>1</td>\n",
       "      <td>0</td>\n",
       "      <td>1</td>\n",
       "      <td>0</td>\n",
       "      <td>0</td>\n",
       "      <td>0</td>\n",
       "      <td>0</td>\n",
       "      <td>0</td>\n",
       "      <td>1</td>\n",
       "      <td>0</td>\n",
       "    </tr>\n",
       "    <tr>\n",
       "      <th>301</th>\n",
       "      <td>57</td>\n",
       "      <td>1</td>\n",
       "      <td>130</td>\n",
       "      <td>131</td>\n",
       "      <td>0</td>\n",
       "      <td>115</td>\n",
       "      <td>1</td>\n",
       "      <td>1.2</td>\n",
       "      <td>0</td>\n",
       "      <td>0</td>\n",
       "      <td>...</td>\n",
       "      <td>1</td>\n",
       "      <td>0</td>\n",
       "      <td>0</td>\n",
       "      <td>1</td>\n",
       "      <td>0</td>\n",
       "      <td>0</td>\n",
       "      <td>0</td>\n",
       "      <td>0</td>\n",
       "      <td>1</td>\n",
       "      <td>0</td>\n",
       "    </tr>\n",
       "    <tr>\n",
       "      <th>302</th>\n",
       "      <td>57</td>\n",
       "      <td>0</td>\n",
       "      <td>130</td>\n",
       "      <td>236</td>\n",
       "      <td>0</td>\n",
       "      <td>174</td>\n",
       "      <td>0</td>\n",
       "      <td>0.0</td>\n",
       "      <td>0</td>\n",
       "      <td>0</td>\n",
       "      <td>...</td>\n",
       "      <td>1</td>\n",
       "      <td>0</td>\n",
       "      <td>0</td>\n",
       "      <td>1</td>\n",
       "      <td>0</td>\n",
       "      <td>0</td>\n",
       "      <td>0</td>\n",
       "      <td>1</td>\n",
       "      <td>0</td>\n",
       "      <td>0</td>\n",
       "    </tr>\n",
       "  </tbody>\n",
       "</table>\n",
       "<p>303 rows × 30 columns</p>\n",
       "</div>"
      ],
      "text/plain": [
       "     age  sex  trestbps  chol  fbs  thalach  exang  oldpeak  target  old  ...  \\\n",
       "0     63    1       145   233    1      150      0      2.3       1    1  ...   \n",
       "1     37    1       130   250    0      187      0      3.5       1    0  ...   \n",
       "2     41    0       130   204    0      172      0      1.4       1    0  ...   \n",
       "3     56    1       120   236    0      178      0      0.8       1    0  ...   \n",
       "4     57    0       120   354    0      163      1      0.6       1    0  ...   \n",
       "..   ...  ...       ...   ...  ...      ...    ...      ...     ...  ...  ...   \n",
       "298   57    0       140   241    0      123      1      0.2       0    0  ...   \n",
       "299   45    1       110   264    0      132      0      1.2       0    0  ...   \n",
       "300   68    1       144   193    1      141      0      3.4       0    1  ...   \n",
       "301   57    1       130   131    0      115      1      1.2       0    0  ...   \n",
       "302   57    0       130   236    0      174      0      0.0       0    0  ...   \n",
       "\n",
       "     slope_3  ca_1  ca_2  ca_3  ca_4  ca_5  thal_1  thal_2  thal_3  thal_4  \n",
       "0          0     1     0     0     0     0       1       0       0       0  \n",
       "1          0     1     0     0     0     0       0       1       0       0  \n",
       "2          0     1     0     0     0     0       0       1       0       0  \n",
       "3          0     1     0     0     0     0       0       1       0       0  \n",
       "4          0     1     0     0     0     0       0       1       0       0  \n",
       "..       ...   ...   ...   ...   ...   ...     ...     ...     ...     ...  \n",
       "298        1     1     0     0     0     0       0       0       1       0  \n",
       "299        1     1     0     0     0     0       0       0       1       0  \n",
       "300        1     0     1     0     0     0       0       0       1       0  \n",
       "301        1     0     0     1     0     0       0       0       1       0  \n",
       "302        1     0     0     1     0     0       0       1       0       0  \n",
       "\n",
       "[303 rows x 30 columns]"
      ]
     },
     "execution_count": 34,
     "metadata": {},
     "output_type": "execute_result"
    }
   ],
   "source": [
    "#df = df.drop(['cp','restecg','slope','ca','thal'],axis=1)\n",
    "df"
   ]
  },
  {
   "cell_type": "code",
   "execution_count": 40,
   "metadata": {},
   "outputs": [
    {
     "data": {
      "text/html": [
       "<div>\n",
       "<style scoped>\n",
       "    .dataframe tbody tr th:only-of-type {\n",
       "        vertical-align: middle;\n",
       "    }\n",
       "\n",
       "    .dataframe tbody tr th {\n",
       "        vertical-align: top;\n",
       "    }\n",
       "\n",
       "    .dataframe thead th {\n",
       "        text-align: right;\n",
       "    }\n",
       "</style>\n",
       "<table border=\"1\" class=\"dataframe\">\n",
       "  <thead>\n",
       "    <tr style=\"text-align: right;\">\n",
       "      <th></th>\n",
       "      <th>age</th>\n",
       "      <th>sex</th>\n",
       "      <th>trestbps</th>\n",
       "      <th>chol</th>\n",
       "      <th>fbs</th>\n",
       "      <th>thalach</th>\n",
       "      <th>exang</th>\n",
       "      <th>oldpeak</th>\n",
       "      <th>target</th>\n",
       "      <th>old</th>\n",
       "      <th>...</th>\n",
       "      <th>slope_3</th>\n",
       "      <th>ca_1</th>\n",
       "      <th>ca_2</th>\n",
       "      <th>ca_3</th>\n",
       "      <th>ca_4</th>\n",
       "      <th>ca_5</th>\n",
       "      <th>thal_1</th>\n",
       "      <th>thal_2</th>\n",
       "      <th>thal_3</th>\n",
       "      <th>thal_4</th>\n",
       "    </tr>\n",
       "  </thead>\n",
       "  <tbody>\n",
       "    <tr>\n",
       "      <th>count</th>\n",
       "      <td>303.000000</td>\n",
       "      <td>303.000000</td>\n",
       "      <td>303.000000</td>\n",
       "      <td>303.000000</td>\n",
       "      <td>303.000000</td>\n",
       "      <td>303.000000</td>\n",
       "      <td>303.000000</td>\n",
       "      <td>303.000000</td>\n",
       "      <td>303.000000</td>\n",
       "      <td>303.000000</td>\n",
       "      <td>...</td>\n",
       "      <td>303.000000</td>\n",
       "      <td>303.000000</td>\n",
       "      <td>303.000000</td>\n",
       "      <td>303.000000</td>\n",
       "      <td>303.000000</td>\n",
       "      <td>303.000000</td>\n",
       "      <td>303.000000</td>\n",
       "      <td>303.000000</td>\n",
       "      <td>303.000000</td>\n",
       "      <td>303.000000</td>\n",
       "    </tr>\n",
       "    <tr>\n",
       "      <th>mean</th>\n",
       "      <td>-0.046938</td>\n",
       "      <td>-0.316832</td>\n",
       "      <td>0.081188</td>\n",
       "      <td>0.098646</td>\n",
       "      <td>0.148515</td>\n",
       "      <td>-0.103173</td>\n",
       "      <td>0.326733</td>\n",
       "      <td>0.149752</td>\n",
       "      <td>-0.455446</td>\n",
       "      <td>0.260726</td>\n",
       "      <td>...</td>\n",
       "      <td>0.462046</td>\n",
       "      <td>-0.422442</td>\n",
       "      <td>0.125413</td>\n",
       "      <td>0.214521</td>\n",
       "      <td>0.066007</td>\n",
       "      <td>0.016502</td>\n",
       "      <td>0.059406</td>\n",
       "      <td>-0.452145</td>\n",
       "      <td>0.386139</td>\n",
       "      <td>0.006601</td>\n",
       "    </tr>\n",
       "    <tr>\n",
       "      <th>std</th>\n",
       "      <td>0.672748</td>\n",
       "      <td>0.466011</td>\n",
       "      <td>0.876907</td>\n",
       "      <td>0.816232</td>\n",
       "      <td>0.356198</td>\n",
       "      <td>0.704774</td>\n",
       "      <td>0.469794</td>\n",
       "      <td>0.725672</td>\n",
       "      <td>0.498835</td>\n",
       "      <td>0.439757</td>\n",
       "      <td>...</td>\n",
       "      <td>0.499382</td>\n",
       "      <td>0.494765</td>\n",
       "      <td>0.331734</td>\n",
       "      <td>0.411169</td>\n",
       "      <td>0.248704</td>\n",
       "      <td>0.127605</td>\n",
       "      <td>0.236774</td>\n",
       "      <td>0.498528</td>\n",
       "      <td>0.487668</td>\n",
       "      <td>0.081110</td>\n",
       "    </tr>\n",
       "    <tr>\n",
       "      <th>min</th>\n",
       "      <td>-1.925926</td>\n",
       "      <td>-1.000000</td>\n",
       "      <td>-1.800000</td>\n",
       "      <td>-1.795276</td>\n",
       "      <td>0.000000</td>\n",
       "      <td>-2.523077</td>\n",
       "      <td>0.000000</td>\n",
       "      <td>-0.500000</td>\n",
       "      <td>-1.000000</td>\n",
       "      <td>0.000000</td>\n",
       "      <td>...</td>\n",
       "      <td>0.000000</td>\n",
       "      <td>-1.000000</td>\n",
       "      <td>0.000000</td>\n",
       "      <td>0.000000</td>\n",
       "      <td>0.000000</td>\n",
       "      <td>0.000000</td>\n",
       "      <td>0.000000</td>\n",
       "      <td>-1.000000</td>\n",
       "      <td>0.000000</td>\n",
       "      <td>0.000000</td>\n",
       "    </tr>\n",
       "    <tr>\n",
       "      <th>25%</th>\n",
       "      <td>-0.555556</td>\n",
       "      <td>-1.000000</td>\n",
       "      <td>-0.500000</td>\n",
       "      <td>-0.456693</td>\n",
       "      <td>0.000000</td>\n",
       "      <td>-0.600000</td>\n",
       "      <td>0.000000</td>\n",
       "      <td>-0.500000</td>\n",
       "      <td>-1.000000</td>\n",
       "      <td>0.000000</td>\n",
       "      <td>...</td>\n",
       "      <td>0.000000</td>\n",
       "      <td>-1.000000</td>\n",
       "      <td>0.000000</td>\n",
       "      <td>0.000000</td>\n",
       "      <td>0.000000</td>\n",
       "      <td>0.000000</td>\n",
       "      <td>0.000000</td>\n",
       "      <td>-1.000000</td>\n",
       "      <td>0.000000</td>\n",
       "      <td>0.000000</td>\n",
       "    </tr>\n",
       "    <tr>\n",
       "      <th>50%</th>\n",
       "      <td>0.000000</td>\n",
       "      <td>0.000000</td>\n",
       "      <td>0.000000</td>\n",
       "      <td>0.000000</td>\n",
       "      <td>0.000000</td>\n",
       "      <td>0.000000</td>\n",
       "      <td>0.000000</td>\n",
       "      <td>0.000000</td>\n",
       "      <td>0.000000</td>\n",
       "      <td>0.000000</td>\n",
       "      <td>...</td>\n",
       "      <td>0.000000</td>\n",
       "      <td>0.000000</td>\n",
       "      <td>0.000000</td>\n",
       "      <td>0.000000</td>\n",
       "      <td>0.000000</td>\n",
       "      <td>0.000000</td>\n",
       "      <td>0.000000</td>\n",
       "      <td>0.000000</td>\n",
       "      <td>0.000000</td>\n",
       "      <td>0.000000</td>\n",
       "    </tr>\n",
       "    <tr>\n",
       "      <th>75%</th>\n",
       "      <td>0.444444</td>\n",
       "      <td>0.000000</td>\n",
       "      <td>0.500000</td>\n",
       "      <td>0.543307</td>\n",
       "      <td>0.000000</td>\n",
       "      <td>0.400000</td>\n",
       "      <td>1.000000</td>\n",
       "      <td>0.500000</td>\n",
       "      <td>0.000000</td>\n",
       "      <td>1.000000</td>\n",
       "      <td>...</td>\n",
       "      <td>1.000000</td>\n",
       "      <td>0.000000</td>\n",
       "      <td>0.000000</td>\n",
       "      <td>0.000000</td>\n",
       "      <td>0.000000</td>\n",
       "      <td>0.000000</td>\n",
       "      <td>0.000000</td>\n",
       "      <td>0.000000</td>\n",
       "      <td>1.000000</td>\n",
       "      <td>0.000000</td>\n",
       "    </tr>\n",
       "    <tr>\n",
       "      <th>max</th>\n",
       "      <td>1.629630</td>\n",
       "      <td>0.000000</td>\n",
       "      <td>3.500000</td>\n",
       "      <td>5.102362</td>\n",
       "      <td>1.000000</td>\n",
       "      <td>1.507692</td>\n",
       "      <td>1.000000</td>\n",
       "      <td>3.375000</td>\n",
       "      <td>0.000000</td>\n",
       "      <td>1.000000</td>\n",
       "      <td>...</td>\n",
       "      <td>1.000000</td>\n",
       "      <td>0.000000</td>\n",
       "      <td>1.000000</td>\n",
       "      <td>1.000000</td>\n",
       "      <td>1.000000</td>\n",
       "      <td>1.000000</td>\n",
       "      <td>1.000000</td>\n",
       "      <td>0.000000</td>\n",
       "      <td>1.000000</td>\n",
       "      <td>1.000000</td>\n",
       "    </tr>\n",
       "  </tbody>\n",
       "</table>\n",
       "<p>8 rows × 30 columns</p>\n",
       "</div>"
      ],
      "text/plain": [
       "              age         sex    trestbps        chol         fbs     thalach  \\\n",
       "count  303.000000  303.000000  303.000000  303.000000  303.000000  303.000000   \n",
       "mean    -0.046938   -0.316832    0.081188    0.098646    0.148515   -0.103173   \n",
       "std      0.672748    0.466011    0.876907    0.816232    0.356198    0.704774   \n",
       "min     -1.925926   -1.000000   -1.800000   -1.795276    0.000000   -2.523077   \n",
       "25%     -0.555556   -1.000000   -0.500000   -0.456693    0.000000   -0.600000   \n",
       "50%      0.000000    0.000000    0.000000    0.000000    0.000000    0.000000   \n",
       "75%      0.444444    0.000000    0.500000    0.543307    0.000000    0.400000   \n",
       "max      1.629630    0.000000    3.500000    5.102362    1.000000    1.507692   \n",
       "\n",
       "            exang     oldpeak      target         old  ...     slope_3  \\\n",
       "count  303.000000  303.000000  303.000000  303.000000  ...  303.000000   \n",
       "mean     0.326733    0.149752   -0.455446    0.260726  ...    0.462046   \n",
       "std      0.469794    0.725672    0.498835    0.439757  ...    0.499382   \n",
       "min      0.000000   -0.500000   -1.000000    0.000000  ...    0.000000   \n",
       "25%      0.000000   -0.500000   -1.000000    0.000000  ...    0.000000   \n",
       "50%      0.000000    0.000000    0.000000    0.000000  ...    0.000000   \n",
       "75%      1.000000    0.500000    0.000000    1.000000  ...    1.000000   \n",
       "max      1.000000    3.375000    0.000000    1.000000  ...    1.000000   \n",
       "\n",
       "             ca_1        ca_2        ca_3        ca_4        ca_5      thal_1  \\\n",
       "count  303.000000  303.000000  303.000000  303.000000  303.000000  303.000000   \n",
       "mean    -0.422442    0.125413    0.214521    0.066007    0.016502    0.059406   \n",
       "std      0.494765    0.331734    0.411169    0.248704    0.127605    0.236774   \n",
       "min     -1.000000    0.000000    0.000000    0.000000    0.000000    0.000000   \n",
       "25%     -1.000000    0.000000    0.000000    0.000000    0.000000    0.000000   \n",
       "50%      0.000000    0.000000    0.000000    0.000000    0.000000    0.000000   \n",
       "75%      0.000000    0.000000    0.000000    0.000000    0.000000    0.000000   \n",
       "max      0.000000    1.000000    1.000000    1.000000    1.000000    1.000000   \n",
       "\n",
       "           thal_2      thal_3      thal_4  \n",
       "count  303.000000  303.000000  303.000000  \n",
       "mean    -0.452145    0.386139    0.006601  \n",
       "std      0.498528    0.487668    0.081110  \n",
       "min     -1.000000    0.000000    0.000000  \n",
       "25%     -1.000000    0.000000    0.000000  \n",
       "50%      0.000000    0.000000    0.000000  \n",
       "75%      0.000000    1.000000    0.000000  \n",
       "max      0.000000    1.000000    1.000000  \n",
       "\n",
       "[8 rows x 30 columns]"
      ]
     },
     "execution_count": 40,
     "metadata": {},
     "output_type": "execute_result"
    }
   ],
   "source": [
    "# для нормализации, стандартизации\n",
    "from sklearn import preprocessing\n",
    "\n",
    "# инициализируем нормализатор RobustScaler\n",
    "r_scaler = preprocessing.RobustScaler()\n",
    "col_names = list(df.columns)\n",
    "\n",
    "# копируем исходный датасет\n",
    "heart_r = r_scaler.fit_transform(df)\n",
    "\n",
    "heart_r = pd.DataFrame(heart_r, columns=col_names)\n",
    "\n",
    "# смотрим описательные статистики, ответ 0.816232\n",
    "heart_r.describe()\n"
   ]
  },
  {
   "cell_type": "code",
   "execution_count": 43,
   "metadata": {},
   "outputs": [
    {
     "data": {
      "application/vnd.plotly.v1+json": {
       "config": {
        "plotlyServerURL": "https://plot.ly"
       },
       "data": [
        {
         "coloraxis": "coloraxis",
         "hovertemplate": "x: %{x}<br>y: %{y}<br>color: %{z}<extra></extra>",
         "name": "0",
         "texttemplate": "%{z}",
         "type": "heatmap",
         "x": [
          "age",
          "sex",
          "trestbps",
          "chol",
          "fbs",
          "thalach",
          "exang",
          "oldpeak",
          "target",
          "old",
          "trestbps_mean",
          "cp_1",
          "cp_2",
          "cp_3",
          "cp_4",
          "restecg_1",
          "restecg_2",
          "restecg_3",
          "slope_1",
          "slope_2",
          "slope_3",
          "ca_1",
          "ca_2",
          "ca_3",
          "ca_4",
          "ca_5",
          "thal_1",
          "thal_2",
          "thal_3",
          "thal_4"
         ],
         "xaxis": "x",
         "y": [
          "age",
          "sex",
          "trestbps",
          "chol",
          "fbs",
          "thalach",
          "exang",
          "oldpeak",
          "target",
          "old",
          "trestbps_mean",
          "cp_1",
          "cp_2",
          "cp_3",
          "cp_4",
          "restecg_1",
          "restecg_2",
          "restecg_3",
          "slope_1",
          "slope_2",
          "slope_3",
          "ca_1",
          "ca_2",
          "ca_3",
          "ca_4",
          "ca_5",
          "thal_1",
          "thal_2",
          "thal_3",
          "thal_4"
         ],
         "yaxis": "y",
         "z": [
          [
           1,
           -0.09844660247479405,
           0.2793509065612882,
           0.21367795655956176,
           0.12130764809337476,
           -0.3985219381210674,
           0.09680082645526772,
           0.21001256735867357,
           -0.22543871587483727,
           0.7180284360485248,
           0.7704250047753565,
           0.04751617176103525,
           -0.05943204583797446,
           -0.14739877239280366,
           0.1382526894354682,
           0.14139844133342044,
           -0.16065359886190758,
           0.08462123248001047,
           0.030536426142705037,
           -0.19257987778589106,
           0.17720113688991757,
           -0.3508438084253186,
           0.22649100410443668,
           0.17928418886419015,
           0.1622430237993548,
           -0.12237804840010146,
           0.0637581178478099,
           -0.13589099187576095,
           0.11075169704259126,
           -0.016778504424464047
          ],
          [
           -0.09844660247479405,
           1,
           -0.05676882396964334,
           -0.19791217414110707,
           0.045031789193560344,
           -0.04401990776957475,
           0.14166381099150555,
           0.09609287706773886,
           -0.2809365755017667,
           -0.14494095160444134,
           -0.4644994031018367,
           0.08804315875513938,
           -0.11658801296577492,
           -0.041248835867763164,
           0.0896214338195292,
           0.036538679407431614,
           -0.011940131877776464,
           -0.10768939183440453,
           0.04618306319527962,
           -0.014356333120340807,
           -0.00915705878213677,
           -0.12285425390218822,
           -0.02057109758824061,
           0.09667267955263124,
           0.066758143825224,
           0.08821192791916095,
           0.1411352160932396,
           -0.3763649342002985,
           0.3215593417526503,
           -0.03209252911742659
          ],
          [
           0.2793509065612882,
           -0.05676882396964334,
           1,
           0.1231742065323906,
           0.17753054193445997,
           -0.0466977281479543,
           0.06761611953876387,
           0.19321647240953632,
           -0.14493112849775158,
           0.18063117427095846,
           0.23606801380062656,
           0.15134349923259027,
           -0.045107125516158794,
           -0.08185062586476767,
           0.02144715579577818,
           0.13324945177963837,
           -0.146576214186162,
           0.05863508541897981,
           0.12238362201898899,
           -0.08747166845544026,
           0.02520740614059312,
           -0.05501108776394971,
           0.08838583202269648,
           -0.059485106760209495,
           0.08010882598252861,
           0.01905886479372462,
           0.07636869545832085,
           -0.14071189550995494,
           0.10957252263933243,
           -0.016870412519441855
          ],
          [
           0.21367795655956176,
           -0.19791217414110707,
           0.1231742065323906,
           1,
           0.013293602251671572,
           -0.0099398386426982,
           0.06702278257394266,
           0.053951919986993765,
           -0.08523910513756897,
           0.15938798976064136,
           0.2718939339848587,
           -0.050589086022781116,
           -0.03791823920644919,
           -0.012749604429445598,
           0.07068369106415608,
           0.16656451572619407,
           -0.17439359348744154,
           0.03461491402577306,
           -0.04533989746366946,
           -0.02805378282208702,
           0.05117665862490038,
           -0.08059967881746359,
           0.059886634215883416,
           0.018775423127098376,
           0.09856800437589636,
           -0.09578508279136166,
           -0.09356021877160625,
           -0.004591379806890389,
           0.05962059107000796,
           -0.05712656535525773
          ],
          [
           0.12130764809337476,
           0.045031789193560344,
           0.17753054193445997,
           0.013293602251671572,
           1,
           -0.00856710734348687,
           0.025665147202126176,
           0.005747223459644347,
           -0.028045760272712942,
           0.02679029893805288,
           0.07983922277435014,
           0.055511401716629806,
           0.0836788800484175,
           -0.06064932426457904,
           -0.06019007541179642,
           0.07740451149704568,
           -0.06634406519347161,
           -0.04830485751502976,
           0.10528437716678957,
           -0.0202553951414159,
           -0.03335998907031575,
           -0.11254767047105287,
           0.12207959674895627,
           -0.014774198289694056,
           0.07586662951173492,
           0.01875363065970862,
           0.09135121428178339,
           -0.08677381172588158,
           0.030952774938668458,
           0.08056849439458823
          ],
          [
           -0.3985219381210674,
           -0.04401990776957475,
           -0.0466977281479543,
           -0.0099398386426982,
           -0.00856710734348687,
           1,
           -0.37881209385148634,
           -0.34418694796671584,
           0.4217409338106747,
           -0.27189809881390303,
           -0.2580222025790212,
           0.07908154563554257,
           0.16547534840832492,
           0.24831716786725502,
           -0.3765605017265263,
           -0.07395280210073665,
           0.10151206355467314,
           -0.12087036059734255,
           -0.0565901112611945,
           0.4480428090144398,
           -0.41962676844437263,
           0.27313576608130585,
           -0.056904848927325904,
           -0.19550155483912404,
           -0.17550643084824855,
           0.06091110424277781,
           -0.15974816056575197,
           0.29480103976464156,
           -0.21541710737203495,
           -0.05042854542369669
          ],
          [
           0.09680082645526772,
           0.14166381099150555,
           0.06761611953876387,
           0.06702278257394266,
           0.025665147202126176,
           -0.37881209385148634,
           1,
           0.28822280778276543,
           -0.4367570833533031,
           0.01904286396310541,
           -0.0022665672162338027,
           -0.09338432696006022,
           -0.27102836153750115,
           -0.23386291209388796,
           0.46906073108013635,
           0.08405913551433437,
           -0.09377635979490467,
           0.042728832239197476,
           0.05925269706207399,
           -0.2876064912928914,
           0.2576865021334319,
           -0.18773386442392492,
           0.09739907433839716,
           0.15020579476096732,
           0.013187978062608472,
           -0.035000593887185766,
           0.06307302559879238,
           -0.32853930622494315,
           0.30022347990909,
           0.0301133015016747
          ],
          [
           0.21001256735867357,
           0.09609287706773886,
           0.19321647240953632,
           0.053951919986993765,
           0.005747223459644347,
           -0.34418694796671584,
           0.28822280778276543,
           1,
           -0.4306960016873687,
           0.1599969903576601,
           0.13711334477455864,
           0.086959154716942,
           -0.13244367601403403,
           -0.2775129392391542,
           0.2802431140501153,
           0.1001408874252689,
           -0.138486464263567,
           0.16817209369380173,
           0.3942529415207498,
           -0.5113563128066377,
           0.3109861559633352,
           -0.20480343212454363,
           0.2183191787520634,
           -0.011612738256914688,
           0.18929612390279957,
           -0.10499757510668335,
           0.10463455562087294,
           -0.3390856061771468,
           0.30214528872114543,
           -0.03794586340304506
          ],
          [
           -0.22543871587483727,
           -0.2809365755017667,
           -0.14493112849775158,
           -0.08523910513756897,
           -0.028045760272712942,
           0.4217409338106747,
           -0.4367570833533031,
           -0.4306960016873687,
           1,
           -0.12105624637053936,
           -0.013395085766769682,
           0.086956874646376,
           0.3167421581955399,
           0.24587909539147895,
           -0.5160146415680593,
           -0.1597751930975347,
           0.17532180367281464,
           -0.06841023951783204,
           -0.06355367152221432,
           0.39406636891906777,
           -0.3620532995588202,
           0.4655901164650852,
           -0.2739978684367274,
           -0.23241223605510267,
           -0.21061526518093027,
           0.06644102373322476,
           -0.10658897385508209,
           0.527333550316047,
           -0.48611215300093813,
           -0.007292627036773158
          ],
          [
           0.7180284360485248,
           -0.14494095160444134,
           0.18063117427095846,
           0.15938798976064136,
           0.02679029893805288,
           -0.27189809881390303,
           0.01904286396310541,
           0.1599969903576601,
           -0.12105624637053936,
           1,
           0.6185021214446923,
           0.05686017638616577,
           -0.027967015261175145,
           -0.12224493892776746,
           0.08607604874178167,
           0.07029181089565743,
           -0.06961612545612604,
           -0.0028257921066410885,
           0.015531927975815698,
           -0.1359264095196757,
           0.12813915581646507,
           -0.2226066775403631,
           0.16098452310922123,
           0.05590607735287653,
           0.17516048768299514,
           -0.0769248054603342,
           0.009760829151775379,
           -0.004237083700959548,
           0.007643711752364635,
           -0.04840846219567375
          ],
          [
           0.7704250047753565,
           -0.4644994031018367,
           0.23606801380062656,
           0.2718939339848587,
           0.07983922277435014,
           -0.2580222025790212,
           -0.0022665672162338027,
           0.13711334477455864,
           -0.013395085766769682,
           0.6185021214446923,
           1,
           -0.008744774510943534,
           0.011170910323508566,
           -0.10063567832811615,
           0.07013306022973116,
           0.04770107085401875,
           -0.06861789505412995,
           0.09052403095131908,
           0.0420035084471584,
           -0.10925782289679467,
           0.0877908441151469,
           -0.24090717505380874,
           0.18675998017638393,
           0.11183156286003014,
           0.10236375549557422,
           -0.10923066844513,
           -0.02074835000407943,
           0.0438816242536379,
           -0.03744407214480872,
           0.01626294764492418
          ],
          [
           0.04751617176103525,
           0.08804315875513938,
           0.15134349923259027,
           -0.050589086022781116,
           0.055511401716629806,
           0.07908154563554257,
           -0.09338432696006022,
           0.086959154716942,
           0.086956874646376,
           0.05686017638616577,
           -0.008744774510943534,
           1,
           -0.18189369824245535,
           -0.12741179785940648,
           -0.27095235479956353,
           0.07084990156886063,
           -0.06325183633230373,
           -0.033149677206589824,
           0.06898147300518621,
           -0.04442103991025996,
           0.009321325843231197,
           0.06852245153408737,
           0.0419719388369346,
           -0.05870965461891002,
           -0.07619152784063035,
           -0.03712459909684723,
           0.033404087488107775,
           0.009998344786434757,
           -0.022553758442712336,
           -0.023362356799666677
          ],
          [
           -0.05943204583797446,
           -0.11658801296577492,
           -0.045107125516158794,
           -0.03791823920644919,
           0.0836788800484175,
           0.16547534840832492,
           -0.27102836153750115,
           -0.13244367601403403,
           0.3167421581955399,
           -0.027967015261175145,
           0.011170910323508566,
           -0.18189369824245535,
           1,
           -0.28213534223751874,
           -0.5999855322329777,
           -0.09061108423357672,
           0.09273838173607457,
           -0.009492058848250004,
           -0.02957562224760012,
           0.12027591414855283,
           -0.10532011960970122,
           0.09972295023465255,
           -0.19627388866751275,
           0.023753267765344057,
           -0.021816636750163494,
           0.08957745213548947,
           -0.0977746001549083,
           0.2101304483188474,
           -0.17371696968193548,
           0.03835349651764002
          ],
          [
           -0.14739877239280366,
           -0.041248835867763164,
           -0.08185062586476767,
           -0.012749604429445598,
           -0.06064932426457904,
           0.24831716786725502,
           -0.23386291209388796,
           -0.2775129392391542,
           0.24587909539147895,
           -0.12224493892776746,
           -0.10063567832811615,
           -0.12741179785940648,
           -0.28213534223751874,
           1,
           -0.4202742375908961,
           -0.09352970111168436,
           0.10522641128950048,
           -0.05141846921644201,
           -0.05129836293175091,
           0.22392086686664478,
           -0.19799439877695368,
           0.1461983064375057,
           -0.0878038696715742,
           -0.05904588382692169,
           -0.0823719409988613,
           0.012207801883402881,
           -0.03649584177626145,
           0.20735417204704726,
           -0.18822500549536417,
           -0.03623735508617256
          ],
          [
           0.1382526894354682,
           0.0896214338195292,
           0.02144715579577818,
           0.07068369106415608,
           -0.06019007541179642,
           -0.3765605017265263,
           0.46906073108013635,
           0.2802431140501153,
           -0.5160146415680593,
           0.08607604874178167,
           0.07013306022973116,
           -0.27095235479956353,
           -0.5999855322329777,
           -0.4202742375908961,
           1,
           0.11407498835616903,
           -0.12873117647746984,
           0.06442231113661118,
           0.028349912857656326,
           -0.2519347840552011,
           0.2377244937271778,
           -0.23543725726908574,
           0.22089750371578903,
           0.05352495411274431,
           0.12144281274290378,
           -0.07056284323131162,
           0.09802521965234798,
           -0.34992049962423616,
           0.3093573653109632,
           0.004580603131869504
          ],
          [
           0.14139844133342044,
           0.036538679407431614,
           0.13324945177963837,
           0.16656451572619407,
           0.07740451149704568,
           -0.07395280210073665,
           0.08405913551433437,
           0.1001408874252689,
           -0.1597751930975347,
           0.07029181089565743,
           0.04770107085401875,
           0.07084990156886063,
           -0.09061108423357672,
           -0.09352970111168436,
           0.11407498835616903,
           1,
           -0.973934361546568,
           -0.1122769921845787,
           0.04711044172591487,
           -0.130890662591487,
           0.10701203597592678,
           -0.10562802762420699,
           0.05113112131300496,
           0.05574721496658157,
           0.08768722090474597,
           -0.07390428948653385,
           0.035403938303863965,
           -0.033629927099358185,
           0.01678652873412922,
           0.0024222741653751718
          ],
          [
           -0.16065359886190758,
           -0.011940131877776464,
           -0.146576214186162,
           -0.17439359348744154,
           -0.06634406519347161,
           0.10151206355467314,
           -0.09377635979490467,
           -0.138486464263567,
           0.17532180367281464,
           -0.06961612545612604,
           -0.06861789505412995,
           -0.06325183633230373,
           0.09273838173607457,
           0.10522641128950048,
           -0.12873117647746984,
           -0.973934361546568,
           1,
           -0.11604534441596218,
           -0.0658744118776683,
           0.15562958392221882,
           -0.1222149624616988,
           0.10972765532388401,
           -0.041110713516361135,
           -0.05800490735548277,
           -0.10721430203940528,
           0.07729208681142896,
           -0.05667691012035813,
           0.036153924945368954,
           -0.00939635949611639,
           -0.00026902428557622356
          ],
          [
           0.08462123248001047,
           -0.10768939183440453,
           0.05863508541897981,
           0.03461491402577306,
           -0.04830485751502976,
           -0.12087036059734255,
           0.042728832239197476,
           0.16817209369380173,
           -0.06841023951783204,
           -0.0028257921066410885,
           0.09052403095131908,
           -0.033149677206589824,
           -0.009492058848250004,
           -0.05141846921644201,
           0.06442231113661118,
           -0.1122769921845787,
           -0.11604534441596218,
           1,
           0.08228948104756556,
           -0.1086239610687142,
           0.06680393073977783,
           -0.018160937114721082,
           -0.043798905991910574,
           0.009996724163100632,
           0.08570991366243728,
           -0.01498205101807267,
           0.09325834574883973,
           -0.011121108456348984,
           -0.03234215479617477,
           -0.009428142794537209
          ],
          [
           0.030536426142705037,
           0.04618306319527962,
           0.12238362201898899,
           -0.04533989746366946,
           0.10528437716678957,
           -0.0565901112611945,
           0.05925269706207399,
           0.3942529415207498,
           -0.06355367152221432,
           0.015531927975815698,
           0.0420035084471584,
           0.06898147300518621,
           -0.02957562224760012,
           -0.05129836293175091,
           0.028349912857656326,
           0.04711044172591487,
           -0.0658744118776683,
           0.08228948104756556,
           1,
           -0.2562809512906672,
           -0.25290377319502333,
           0.07553722773998114,
           -0.024862929121571252,
           -0.07929803351305835,
           0.03212702617320634,
           -0.035347765349563014,
           0.09633888974655173,
           -0.09151156606371191,
           0.0504743828414924,
           -0.022244202665006468
          ],
          [
           -0.19257987778589106,
           -0.014356333120340807,
           -0.08747166845544026,
           -0.02805378282208702,
           -0.0202553951414159,
           0.4480428090144398,
           -0.2876064912928914,
           -0.5113563128066377,
           0.39406636891906777,
           -0.1359264095196757,
           -0.10925782289679467,
           -0.04442103991025996,
           0.12027591414855283,
           0.22392086686664478,
           -0.2519347840552011,
           -0.130890662591487,
           0.15562958392221882,
           -0.1086239610687142,
           -0.2562809512906672,
           1,
           -0.8703650629236378,
           0.12032795115749766,
           -0.056086419322307936,
           -0.0396676580151413,
           -0.11647978288877484,
           0.03409595286530464,
           -0.1800606520856491,
           0.32163956628427626,
           -0.24223029291794815,
           0.005121512595355572
          ],
          [
           0.17720113688991757,
           -0.00915705878213677,
           0.02520740614059312,
           0.05117665862490038,
           -0.03335998907031575,
           -0.41962676844437263,
           0.2576865021334319,
           0.3109861559633352,
           -0.3620532995588202,
           0.12813915581646507,
           0.0877908441151469,
           0.009321325843231197,
           -0.10532011960970122,
           -0.19799439877695368,
           0.2377244937271778,
           0.10701203597592678,
           -0.1222149624616988,
           0.06680393073977783,
           -0.25290377319502333,
           -0.8703650629236378,
           1,
           -0.15891884060649325,
           0.0688036935913175,
           0.08010018572001194,
           0.10022075922861513,
           -0.016120440291506274,
           0.13114927461645198,
           -0.27531755370507516,
           0.21674041856227538,
           0.006205428419730877
          ],
          [
           -0.3508438084253186,
           -0.12285425390218822,
           -0.05501108776394971,
           -0.08059967881746359,
           -0.11254767047105287,
           0.27313576608130585,
           -0.18773386442392492,
           -0.20480343212454363,
           0.4655901164650852,
           -0.2226066775403631,
           -0.24090717505380874,
           0.06852245153408737,
           0.09972295023465255,
           0.1461983064375057,
           -0.23543725726908574,
           -0.10562802762420699,
           0.10972765532388401,
           -0.018160937114721082,
           0.07553722773998114,
           0.12032795115749766,
           -0.15891884060649325,
           1,
           -0.4427748054055091,
           -0.6110577256836272,
           -0.31083922650621554,
           -0.15145754383289275,
           -0.06772576650449628,
           0.2433280589900602,
           -0.22745908942629062,
           0.06971363215204787
          ],
          [
           0.22649100410443668,
           -0.02057109758824061,
           0.08838583202269648,
           0.059886634215883416,
           0.12207959674895627,
           -0.056904848927325904,
           0.09739907433839716,
           0.2183191787520634,
           -0.2739978684367274,
           0.16098452310922123,
           0.18675998017638393,
           0.0419719388369346,
           -0.19627388866751275,
           -0.0878038696715742,
           0.22089750371578903,
           0.05113112131300496,
           -0.041110713516361135,
           -0.043798905991910574,
           -0.024862929121571252,
           -0.056086419322307936,
           0.0688036935913175,
           -0.4427748054055091,
           1,
           -0.19789602053931965,
           -0.10066781478669795,
           -0.04905075894696629,
           0.07346162057178593,
           -0.13652156380112954,
           0.10902833806640934,
           -0.030867439910234266
          ],
          [
           0.17928418886419015,
           0.09667267955263124,
           -0.059485106760209495,
           0.018775423127098376,
           -0.014774198289694056,
           -0.19550155483912404,
           0.15020579476096732,
           -0.011612738256914688,
           -0.23241223605510267,
           0.05590607735287653,
           0.11183156286003014,
           -0.05870965461891002,
           0.023753267765344057,
           -0.05904588382692169,
           0.05352495411274431,
           0.05574721496658157,
           -0.05800490735548277,
           0.009996724163100632,
           -0.07929803351305835,
           -0.0396676580151413,
           0.08010018572001194,
           -0.6110577256836272,
           -0.19789602053931965,
           1,
           -0.13892806275814104,
           -0.06769320394763394,
           0.004714606504001786,
           -0.10678775706925242,
           0.11396184533982191,
           -0.04259905351197537
          ],
          [
           0.1622430237993548,
           0.066758143825224,
           0.08010882598252861,
           0.09856800437589636,
           0.07586662951173492,
           -0.17550643084824855,
           0.013187978062608472,
           0.18929612390279957,
           -0.21061526518093027,
           0.17516048768299514,
           0.10236375549557422,
           -0.07619152784063035,
           -0.021816636750163494,
           -0.0823719409988613,
           0.12144281274290378,
           0.08768722090474597,
           -0.10721430203940528,
           0.08570991366243728,
           0.03212702617320634,
           -0.11647978288877484,
           0.10022075922861513,
           -0.31083922650621554,
           -0.10066781478669795,
           -0.13892806275814104,
           1,
           -0.034434886051509114,
           0.04565288303427309,
           -0.13238762450328462,
           0.11677432967279704,
           -0.021669731495081414
          ],
          [
           -0.12237804840010146,
           0.08821192791916095,
           0.01905886479372462,
           -0.09578508279136166,
           0.01875363065970862,
           0.06091110424277781,
           -0.035000593887185766,
           -0.10499757510668335,
           0.06644102373322476,
           -0.0769248054603342,
           -0.10923066844513,
           -0.03712459909684723,
           0.08957745213548947,
           0.012207801883402881,
           -0.07056284323131162,
           -0.07390428948653385,
           0.07729208681142896,
           -0.01498205101807267,
           -0.035347765349563014,
           0.03409595286530464,
           -0.016120440291506274,
           -0.15145754383289275,
           -0.04905075894696629,
           -0.06769320394763394,
           -0.034434886051509114,
           1,
           -0.03255297560004023,
           0.013571243083049798,
           0.003687879800029541,
           -0.010558655497418952
          ],
          [
           0.0637581178478099,
           0.1411352160932396,
           0.07636869545832085,
           -0.09356021877160625,
           0.09135121428178339,
           -0.15974816056575197,
           0.06307302559879238,
           0.10463455562087294,
           -0.10658897385508209,
           0.009760829151775379,
           -0.02074835000407943,
           0.033404087488107775,
           -0.0977746001549083,
           -0.03649584177626145,
           0.09802521965234798,
           0.035403938303863965,
           -0.05667691012035813,
           0.09325834574883973,
           0.09633888974655173,
           -0.1800606520856491,
           0.13114927461645198,
           -0.06772576650449628,
           0.07346162057178593,
           0.004714606504001786,
           0.04565288303427309,
           -0.03255297560004023,
           1,
           -0.2766352908319761,
           -0.19931972592023298,
           -0.02048545302469188
          ],
          [
           -0.13589099187576095,
           -0.3763649342002985,
           -0.14071189550995494,
           -0.004591379806890389,
           -0.08677381172588158,
           0.29480103976464156,
           -0.32853930622494315,
           -0.3390856061771468,
           0.527333550316047,
           -0.004237083700959548,
           0.0438816242536379,
           0.009998344786434757,
           0.2101304483188474,
           0.20735417204704726,
           -0.34992049962423616,
           -0.033629927099358185,
           0.036153924945368954,
           -0.011121108456348984,
           -0.09151156606371191,
           0.32163956628427626,
           -0.27531755370507516,
           0.2433280589900602,
           -0.13652156380112954,
           -0.10678775706925242,
           -0.13238762450328462,
           0.013571243083049798,
           -0.2766352908319761,
           1,
           -0.8730321138511453,
           -0.08972748820908176
          ],
          [
           0.11075169704259126,
           0.3215593417526503,
           0.10957252263933243,
           0.05962059107000796,
           0.030952774938668458,
           -0.21541710737203495,
           0.30022347990909,
           0.30214528872114543,
           -0.48611215300093813,
           0.007643711752364635,
           -0.03744407214480872,
           -0.022553758442712336,
           -0.17371696968193548,
           -0.18822500549536417,
           0.3093573653109632,
           0.01678652873412922,
           -0.00939635949611639,
           -0.03234215479617477,
           0.0504743828414924,
           -0.24223029291794815,
           0.21674041856227538,
           -0.22745908942629062,
           0.10902833806640934,
           0.11396184533982191,
           0.11677432967279704,
           0.003687879800029541,
           -0.19931972592023298,
           -0.8730321138511453,
           1,
           -0.06464995230202879
          ],
          [
           -0.016778504424464047,
           -0.03209252911742659,
           -0.016870412519441855,
           -0.05712656535525773,
           0.08056849439458823,
           -0.05042854542369669,
           0.0301133015016747,
           -0.03794586340304506,
           -0.007292627036773158,
           -0.04840846219567375,
           0.01626294764492418,
           -0.023362356799666677,
           0.03835349651764002,
           -0.03623735508617256,
           0.004580603131869504,
           0.0024222741653751718,
           -0.00026902428557622356,
           -0.009428142794537209,
           -0.022244202665006468,
           0.005121512595355572,
           0.006205428419730877,
           0.06971363215204787,
           -0.030867439910234266,
           -0.04259905351197537,
           -0.021669731495081414,
           -0.010558655497418952,
           -0.02048545302469188,
           -0.08972748820908176,
           -0.06464995230202879,
           1
          ]
         ]
        }
       ],
       "layout": {
        "coloraxis": {
         "colorscale": [
          [
           0,
           "#0d0887"
          ],
          [
           0.1111111111111111,
           "#46039f"
          ],
          [
           0.2222222222222222,
           "#7201a8"
          ],
          [
           0.3333333333333333,
           "#9c179e"
          ],
          [
           0.4444444444444444,
           "#bd3786"
          ],
          [
           0.5555555555555556,
           "#d8576b"
          ],
          [
           0.6666666666666666,
           "#ed7953"
          ],
          [
           0.7777777777777778,
           "#fb9f3a"
          ],
          [
           0.8888888888888888,
           "#fdca26"
          ],
          [
           1,
           "#f0f921"
          ]
         ]
        },
        "height": 1300,
        "margin": {
         "t": 60
        },
        "template": {
         "data": {
          "bar": [
           {
            "error_x": {
             "color": "#2a3f5f"
            },
            "error_y": {
             "color": "#2a3f5f"
            },
            "marker": {
             "line": {
              "color": "#E5ECF6",
              "width": 0.5
             },
             "pattern": {
              "fillmode": "overlay",
              "size": 10,
              "solidity": 0.2
             }
            },
            "type": "bar"
           }
          ],
          "barpolar": [
           {
            "marker": {
             "line": {
              "color": "#E5ECF6",
              "width": 0.5
             },
             "pattern": {
              "fillmode": "overlay",
              "size": 10,
              "solidity": 0.2
             }
            },
            "type": "barpolar"
           }
          ],
          "carpet": [
           {
            "aaxis": {
             "endlinecolor": "#2a3f5f",
             "gridcolor": "white",
             "linecolor": "white",
             "minorgridcolor": "white",
             "startlinecolor": "#2a3f5f"
            },
            "baxis": {
             "endlinecolor": "#2a3f5f",
             "gridcolor": "white",
             "linecolor": "white",
             "minorgridcolor": "white",
             "startlinecolor": "#2a3f5f"
            },
            "type": "carpet"
           }
          ],
          "choropleth": [
           {
            "colorbar": {
             "outlinewidth": 0,
             "ticks": ""
            },
            "type": "choropleth"
           }
          ],
          "contour": [
           {
            "colorbar": {
             "outlinewidth": 0,
             "ticks": ""
            },
            "colorscale": [
             [
              0,
              "#0d0887"
             ],
             [
              0.1111111111111111,
              "#46039f"
             ],
             [
              0.2222222222222222,
              "#7201a8"
             ],
             [
              0.3333333333333333,
              "#9c179e"
             ],
             [
              0.4444444444444444,
              "#bd3786"
             ],
             [
              0.5555555555555556,
              "#d8576b"
             ],
             [
              0.6666666666666666,
              "#ed7953"
             ],
             [
              0.7777777777777778,
              "#fb9f3a"
             ],
             [
              0.8888888888888888,
              "#fdca26"
             ],
             [
              1,
              "#f0f921"
             ]
            ],
            "type": "contour"
           }
          ],
          "contourcarpet": [
           {
            "colorbar": {
             "outlinewidth": 0,
             "ticks": ""
            },
            "type": "contourcarpet"
           }
          ],
          "heatmap": [
           {
            "colorbar": {
             "outlinewidth": 0,
             "ticks": ""
            },
            "colorscale": [
             [
              0,
              "#0d0887"
             ],
             [
              0.1111111111111111,
              "#46039f"
             ],
             [
              0.2222222222222222,
              "#7201a8"
             ],
             [
              0.3333333333333333,
              "#9c179e"
             ],
             [
              0.4444444444444444,
              "#bd3786"
             ],
             [
              0.5555555555555556,
              "#d8576b"
             ],
             [
              0.6666666666666666,
              "#ed7953"
             ],
             [
              0.7777777777777778,
              "#fb9f3a"
             ],
             [
              0.8888888888888888,
              "#fdca26"
             ],
             [
              1,
              "#f0f921"
             ]
            ],
            "type": "heatmap"
           }
          ],
          "heatmapgl": [
           {
            "colorbar": {
             "outlinewidth": 0,
             "ticks": ""
            },
            "colorscale": [
             [
              0,
              "#0d0887"
             ],
             [
              0.1111111111111111,
              "#46039f"
             ],
             [
              0.2222222222222222,
              "#7201a8"
             ],
             [
              0.3333333333333333,
              "#9c179e"
             ],
             [
              0.4444444444444444,
              "#bd3786"
             ],
             [
              0.5555555555555556,
              "#d8576b"
             ],
             [
              0.6666666666666666,
              "#ed7953"
             ],
             [
              0.7777777777777778,
              "#fb9f3a"
             ],
             [
              0.8888888888888888,
              "#fdca26"
             ],
             [
              1,
              "#f0f921"
             ]
            ],
            "type": "heatmapgl"
           }
          ],
          "histogram": [
           {
            "marker": {
             "pattern": {
              "fillmode": "overlay",
              "size": 10,
              "solidity": 0.2
             }
            },
            "type": "histogram"
           }
          ],
          "histogram2d": [
           {
            "colorbar": {
             "outlinewidth": 0,
             "ticks": ""
            },
            "colorscale": [
             [
              0,
              "#0d0887"
             ],
             [
              0.1111111111111111,
              "#46039f"
             ],
             [
              0.2222222222222222,
              "#7201a8"
             ],
             [
              0.3333333333333333,
              "#9c179e"
             ],
             [
              0.4444444444444444,
              "#bd3786"
             ],
             [
              0.5555555555555556,
              "#d8576b"
             ],
             [
              0.6666666666666666,
              "#ed7953"
             ],
             [
              0.7777777777777778,
              "#fb9f3a"
             ],
             [
              0.8888888888888888,
              "#fdca26"
             ],
             [
              1,
              "#f0f921"
             ]
            ],
            "type": "histogram2d"
           }
          ],
          "histogram2dcontour": [
           {
            "colorbar": {
             "outlinewidth": 0,
             "ticks": ""
            },
            "colorscale": [
             [
              0,
              "#0d0887"
             ],
             [
              0.1111111111111111,
              "#46039f"
             ],
             [
              0.2222222222222222,
              "#7201a8"
             ],
             [
              0.3333333333333333,
              "#9c179e"
             ],
             [
              0.4444444444444444,
              "#bd3786"
             ],
             [
              0.5555555555555556,
              "#d8576b"
             ],
             [
              0.6666666666666666,
              "#ed7953"
             ],
             [
              0.7777777777777778,
              "#fb9f3a"
             ],
             [
              0.8888888888888888,
              "#fdca26"
             ],
             [
              1,
              "#f0f921"
             ]
            ],
            "type": "histogram2dcontour"
           }
          ],
          "mesh3d": [
           {
            "colorbar": {
             "outlinewidth": 0,
             "ticks": ""
            },
            "type": "mesh3d"
           }
          ],
          "parcoords": [
           {
            "line": {
             "colorbar": {
              "outlinewidth": 0,
              "ticks": ""
             }
            },
            "type": "parcoords"
           }
          ],
          "pie": [
           {
            "automargin": true,
            "type": "pie"
           }
          ],
          "scatter": [
           {
            "fillpattern": {
             "fillmode": "overlay",
             "size": 10,
             "solidity": 0.2
            },
            "type": "scatter"
           }
          ],
          "scatter3d": [
           {
            "line": {
             "colorbar": {
              "outlinewidth": 0,
              "ticks": ""
             }
            },
            "marker": {
             "colorbar": {
              "outlinewidth": 0,
              "ticks": ""
             }
            },
            "type": "scatter3d"
           }
          ],
          "scattercarpet": [
           {
            "marker": {
             "colorbar": {
              "outlinewidth": 0,
              "ticks": ""
             }
            },
            "type": "scattercarpet"
           }
          ],
          "scattergeo": [
           {
            "marker": {
             "colorbar": {
              "outlinewidth": 0,
              "ticks": ""
             }
            },
            "type": "scattergeo"
           }
          ],
          "scattergl": [
           {
            "marker": {
             "colorbar": {
              "outlinewidth": 0,
              "ticks": ""
             }
            },
            "type": "scattergl"
           }
          ],
          "scattermapbox": [
           {
            "marker": {
             "colorbar": {
              "outlinewidth": 0,
              "ticks": ""
             }
            },
            "type": "scattermapbox"
           }
          ],
          "scatterpolar": [
           {
            "marker": {
             "colorbar": {
              "outlinewidth": 0,
              "ticks": ""
             }
            },
            "type": "scatterpolar"
           }
          ],
          "scatterpolargl": [
           {
            "marker": {
             "colorbar": {
              "outlinewidth": 0,
              "ticks": ""
             }
            },
            "type": "scatterpolargl"
           }
          ],
          "scatterternary": [
           {
            "marker": {
             "colorbar": {
              "outlinewidth": 0,
              "ticks": ""
             }
            },
            "type": "scatterternary"
           }
          ],
          "surface": [
           {
            "colorbar": {
             "outlinewidth": 0,
             "ticks": ""
            },
            "colorscale": [
             [
              0,
              "#0d0887"
             ],
             [
              0.1111111111111111,
              "#46039f"
             ],
             [
              0.2222222222222222,
              "#7201a8"
             ],
             [
              0.3333333333333333,
              "#9c179e"
             ],
             [
              0.4444444444444444,
              "#bd3786"
             ],
             [
              0.5555555555555556,
              "#d8576b"
             ],
             [
              0.6666666666666666,
              "#ed7953"
             ],
             [
              0.7777777777777778,
              "#fb9f3a"
             ],
             [
              0.8888888888888888,
              "#fdca26"
             ],
             [
              1,
              "#f0f921"
             ]
            ],
            "type": "surface"
           }
          ],
          "table": [
           {
            "cells": {
             "fill": {
              "color": "#EBF0F8"
             },
             "line": {
              "color": "white"
             }
            },
            "header": {
             "fill": {
              "color": "#C8D4E3"
             },
             "line": {
              "color": "white"
             }
            },
            "type": "table"
           }
          ]
         },
         "layout": {
          "annotationdefaults": {
           "arrowcolor": "#2a3f5f",
           "arrowhead": 0,
           "arrowwidth": 1
          },
          "autotypenumbers": "strict",
          "coloraxis": {
           "colorbar": {
            "outlinewidth": 0,
            "ticks": ""
           }
          },
          "colorscale": {
           "diverging": [
            [
             0,
             "#8e0152"
            ],
            [
             0.1,
             "#c51b7d"
            ],
            [
             0.2,
             "#de77ae"
            ],
            [
             0.3,
             "#f1b6da"
            ],
            [
             0.4,
             "#fde0ef"
            ],
            [
             0.5,
             "#f7f7f7"
            ],
            [
             0.6,
             "#e6f5d0"
            ],
            [
             0.7,
             "#b8e186"
            ],
            [
             0.8,
             "#7fbc41"
            ],
            [
             0.9,
             "#4d9221"
            ],
            [
             1,
             "#276419"
            ]
           ],
           "sequential": [
            [
             0,
             "#0d0887"
            ],
            [
             0.1111111111111111,
             "#46039f"
            ],
            [
             0.2222222222222222,
             "#7201a8"
            ],
            [
             0.3333333333333333,
             "#9c179e"
            ],
            [
             0.4444444444444444,
             "#bd3786"
            ],
            [
             0.5555555555555556,
             "#d8576b"
            ],
            [
             0.6666666666666666,
             "#ed7953"
            ],
            [
             0.7777777777777778,
             "#fb9f3a"
            ],
            [
             0.8888888888888888,
             "#fdca26"
            ],
            [
             1,
             "#f0f921"
            ]
           ],
           "sequentialminus": [
            [
             0,
             "#0d0887"
            ],
            [
             0.1111111111111111,
             "#46039f"
            ],
            [
             0.2222222222222222,
             "#7201a8"
            ],
            [
             0.3333333333333333,
             "#9c179e"
            ],
            [
             0.4444444444444444,
             "#bd3786"
            ],
            [
             0.5555555555555556,
             "#d8576b"
            ],
            [
             0.6666666666666666,
             "#ed7953"
            ],
            [
             0.7777777777777778,
             "#fb9f3a"
            ],
            [
             0.8888888888888888,
             "#fdca26"
            ],
            [
             1,
             "#f0f921"
            ]
           ]
          },
          "colorway": [
           "#636efa",
           "#EF553B",
           "#00cc96",
           "#ab63fa",
           "#FFA15A",
           "#19d3f3",
           "#FF6692",
           "#B6E880",
           "#FF97FF",
           "#FECB52"
          ],
          "font": {
           "color": "#2a3f5f"
          },
          "geo": {
           "bgcolor": "white",
           "lakecolor": "white",
           "landcolor": "#E5ECF6",
           "showlakes": true,
           "showland": true,
           "subunitcolor": "white"
          },
          "hoverlabel": {
           "align": "left"
          },
          "hovermode": "closest",
          "mapbox": {
           "style": "light"
          },
          "paper_bgcolor": "white",
          "plot_bgcolor": "#E5ECF6",
          "polar": {
           "angularaxis": {
            "gridcolor": "white",
            "linecolor": "white",
            "ticks": ""
           },
           "bgcolor": "#E5ECF6",
           "radialaxis": {
            "gridcolor": "white",
            "linecolor": "white",
            "ticks": ""
           }
          },
          "scene": {
           "xaxis": {
            "backgroundcolor": "#E5ECF6",
            "gridcolor": "white",
            "gridwidth": 2,
            "linecolor": "white",
            "showbackground": true,
            "ticks": "",
            "zerolinecolor": "white"
           },
           "yaxis": {
            "backgroundcolor": "#E5ECF6",
            "gridcolor": "white",
            "gridwidth": 2,
            "linecolor": "white",
            "showbackground": true,
            "ticks": "",
            "zerolinecolor": "white"
           },
           "zaxis": {
            "backgroundcolor": "#E5ECF6",
            "gridcolor": "white",
            "gridwidth": 2,
            "linecolor": "white",
            "showbackground": true,
            "ticks": "",
            "zerolinecolor": "white"
           }
          },
          "shapedefaults": {
           "line": {
            "color": "#2a3f5f"
           }
          },
          "ternary": {
           "aaxis": {
            "gridcolor": "white",
            "linecolor": "white",
            "ticks": ""
           },
           "baxis": {
            "gridcolor": "white",
            "linecolor": "white",
            "ticks": ""
           },
           "bgcolor": "#E5ECF6",
           "caxis": {
            "gridcolor": "white",
            "linecolor": "white",
            "ticks": ""
           }
          },
          "title": {
           "x": 0.05
          },
          "xaxis": {
           "automargin": true,
           "gridcolor": "white",
           "linecolor": "white",
           "ticks": "",
           "title": {
            "standoff": 15
           },
           "zerolinecolor": "white",
           "zerolinewidth": 2
          },
          "yaxis": {
           "automargin": true,
           "gridcolor": "white",
           "linecolor": "white",
           "ticks": "",
           "title": {
            "standoff": 15
           },
           "zerolinecolor": "white",
           "zerolinewidth": 2
          }
         }
        },
        "width": 1300,
        "xaxis": {
         "anchor": "y",
         "constrain": "domain",
         "domain": [
          0,
          1
         ],
         "scaleanchor": "y"
        },
        "yaxis": {
         "anchor": "x",
         "autorange": "reversed",
         "constrain": "domain",
         "domain": [
          0,
          1
         ]
        }
       }
      }
     },
     "metadata": {},
     "output_type": "display_data"
    }
   ],
   "source": [
    "import seaborn as sns\n",
    "import plotly\n",
    "import plotly.express as px\n",
    "\n",
    "fig = px.imshow(\n",
    "    heart_r.corr(),\n",
    "    text_auto=True,\n",
    "    height=1300,\n",
    "    width=1300\n",
    ")\n",
    "fig.show()"
   ]
  }
 ],
 "metadata": {
  "kernelspec": {
   "display_name": "Python 3",
   "language": "python",
   "name": "python3"
  },
  "language_info": {
   "codemirror_mode": {
    "name": "ipython",
    "version": 3
   },
   "file_extension": ".py",
   "mimetype": "text/x-python",
   "name": "python",
   "nbconvert_exporter": "python",
   "pygments_lexer": "ipython3",
   "version": "3.9.13"
  },
  "orig_nbformat": 4
 },
 "nbformat": 4,
 "nbformat_minor": 2
}
