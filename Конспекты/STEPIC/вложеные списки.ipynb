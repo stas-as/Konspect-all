{
 "cells": [
  {
   "cell_type": "code",
   "execution_count": 2,
   "metadata": {},
   "outputs": [
    {
     "name": "stdout",
     "output_type": "stream",
     "text": [
      "99 8\n"
     ]
    }
   ],
   "source": [
    "my_list = [[12, 221, 3], [41, 5, 633], [71, 8, 99]]\n",
    "\n",
    "maximum = my_list[0][0]\n",
    "minimum = my_list[0][0]\n",
    "\n",
    "for row in my_list:\n",
    "    maximum = max(row)\n",
    "    minimum = min(row)\n",
    "\n",
    "print(maximum , minimum)"
   ]
  },
  {
   "cell_type": "code",
   "execution_count": 20,
   "metadata": {},
   "outputs": [
    {
     "data": {
      "text/plain": [
       "[1, 3, 3, 1]"
      ]
     },
     "execution_count": 20,
     "metadata": {},
     "output_type": "execute_result"
    }
   ],
   "source": [
    "n = 3\n",
    "li = [[1],[1,1]]\n",
    "for i in range(1,n):\n",
    "    li.append([1])\n",
    "    li[i+1].extend([sum([li[i][j],li[i][j+1]]) for j in range(len(li[i])-1)])\n",
    "    li[i+1].extend([1])\n",
    "li[n]\n",
    "    "
   ]
  },
  {
   "cell_type": "code",
   "execution_count": 24,
   "metadata": {},
   "outputs": [
    {
     "name": "stdout",
     "output_type": "stream",
     "text": [
      "2\n",
      "1\n",
      "0\n"
     ]
    }
   ],
   "source": [
    "for i in range(n-1,-1,-1):\n",
    "    print(i)"
   ]
  },
  {
   "cell_type": "code",
   "execution_count": 30,
   "metadata": {},
   "outputs": [
    {
     "name": "stdout",
     "output_type": "stream",
     "text": [
      "[['a', 'a'], ['b'], ['c'], ['d'], ['a', 'a'], ['w', 'w', 'w']]\n"
     ]
    }
   ],
   "source": [
    "a = \"a a b c d a a w w w\"\n",
    "n = [[i] for i in a.split()]\n",
    "\n",
    "for i in range(len(n)-2,-1,-1):\n",
    "    if n[i][0] == n[i+1][0]:\n",
    "        n[i] += (n.pop(i+1))\n",
    "print(n)"
   ]
  },
  {
   "cell_type": "code",
   "execution_count": 53,
   "metadata": {},
   "outputs": [
    {
     "data": {
      "text/plain": [
       "[['a', 'b'], ['c', 'd'], ['e', 'f'], ['r', 'g'], ['b']]"
      ]
     },
     "execution_count": 53,
     "metadata": {},
     "output_type": "execute_result"
    }
   ],
   "source": [
    "n = \"a b c d e f r g b\".split()\n",
    "x = 2\n",
    "def chunked(n,x)\n",
    "    c,row = x,-1\n",
    "    new = []\n",
    "    for i in n:\n",
    "        if c == x:\n",
    "            c = 0\n",
    "            new.append([])\n",
    "            row +=1\n",
    "            new[row].append(i)\n",
    "        else:\n",
    "            new[row].append(i)\n",
    "        c += 1\n",
    "    return(new)\n",
    "  "
   ]
  },
  {
   "cell_type": "code",
   "execution_count": 82,
   "metadata": {},
   "outputs": [
    {
     "name": "stdout",
     "output_type": "stream",
     "text": [
      "lens : 4\n",
      "[]\n",
      "\n",
      "['1']\n",
      "['2']\n",
      "['3']\n",
      "['0']\n",
      "\n",
      "['1', '2']\n",
      "['2', '3']\n",
      "['3', '0']\n",
      "\n",
      "['1', '2', '3']\n",
      "['2', '3', '0']\n",
      "\n",
      "['1', '2', '3', '0']\n"
     ]
    }
   ],
   "source": [
    "n = \"1 2 3 0\".split()\n",
    "print(f\"lens : {len(n)}\")\n",
    "print(n[0:0])\n",
    "print()\n",
    "print(n[0:1])\n",
    "print(n[1:2])\n",
    "print(n[2:3])\n",
    "print(n[3:4])\n",
    "print()\n",
    "print(n[0:2])\n",
    "print(n[1:3])\n",
    "print(n[2:4])\n",
    "print()\n",
    "print(n[0:3])\n",
    "print(n[1:4])\n",
    "print()\n",
    "print(n[0:4])"
   ]
  },
  {
   "cell_type": "code",
   "execution_count": 89,
   "metadata": {},
   "outputs": [
    {
     "name": "stdout",
     "output_type": "stream",
     "text": [
      "[[0], ['1'], ['2'], ['3'], ['4'], ['0'], ['1', '2'], ['2', '3'], ['3', '4'], ['4', '0'], ['1', '2', '3'], ['2', '3', '4'], ['3', '4', '0'], ['1', '2', '3', '4'], ['2', '3', '4', '0'], ['1', '2', '3', '4', '0']]\n"
     ]
    }
   ],
   "source": [
    "n = \"1 2 3 4 0\".split()\n",
    "new = [[0]]\n",
    "c = -1\n",
    "for i in range(len(n)):\n",
    "    c += 1\n",
    "    for j in range(i,len(n)):\n",
    "        new.append(n[j-c:j+1])\n",
    "print(new)"
   ]
  }
 ],
 "metadata": {
  "kernelspec": {
   "display_name": "Python 3",
   "language": "python",
   "name": "python3"
  },
  "language_info": {
   "codemirror_mode": {
    "name": "ipython",
    "version": 3
   },
   "file_extension": ".py",
   "mimetype": "text/x-python",
   "name": "python",
   "nbconvert_exporter": "python",
   "pygments_lexer": "ipython3",
   "version": "3.9.13"
  }
 },
 "nbformat": 4,
 "nbformat_minor": 2
}
