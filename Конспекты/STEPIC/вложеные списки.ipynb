{
 "cells": [
  {
   "cell_type": "code",
   "execution_count": 1,
   "metadata": {},
   "outputs": [
    {
     "name": "stdout",
     "output_type": "stream",
     "text": [
      "99 8\n"
     ]
    }
   ],
   "source": [
    "my_list = [[12, 221, 3], [41, 5, 633], [71, 8, 99]]\n",
    "\n",
    "maximum = my_list[0][0]\n",
    "minimum = my_list[0][0]\n",
    "\n",
    "for row in my_list:\n",
    "    maximum = max(row)\n",
    "    minimum = min(row)\n",
    "\n",
    "print(maximum , minimum)"
   ]
  },
  {
   "cell_type": "code",
   "execution_count": 2,
   "metadata": {},
   "outputs": [
    {
     "data": {
      "text/plain": [
       "[1, 3, 3, 1]"
      ]
     },
     "execution_count": 2,
     "metadata": {},
     "output_type": "execute_result"
    }
   ],
   "source": [
    "n = 3\n",
    "li = [[1],[1,1]]\n",
    "for i in range(1,n):\n",
    "    li.append([1])\n",
    "    li[i+1].extend([sum([li[i][j],li[i][j+1]]) for j in range(len(li[i])-1)])\n",
    "    li[i+1].extend([1])\n",
    "li[n]\n",
    "    "
   ]
  },
  {
   "cell_type": "code",
   "execution_count": 3,
   "metadata": {},
   "outputs": [
    {
     "name": "stdout",
     "output_type": "stream",
     "text": [
      "2\n",
      "1\n",
      "0\n"
     ]
    }
   ],
   "source": [
    "for i in range(n-1,-1,-1):\n",
    "    print(i)"
   ]
  },
  {
   "cell_type": "code",
   "execution_count": 4,
   "metadata": {},
   "outputs": [
    {
     "name": "stdout",
     "output_type": "stream",
     "text": [
      "[['a', 'a'], ['b'], ['c'], ['d'], ['a', 'a'], ['w', 'w', 'w']]\n"
     ]
    }
   ],
   "source": [
    "a = \"a a b c d a a w w w\"\n",
    "n = [[i] for i in a.split()]\n",
    "\n",
    "for i in range(len(n)-2,-1,-1):\n",
    "    if n[i][0] == n[i+1][0]:\n",
    "        n[i] += (n.pop(i+1))\n",
    "print(n)"
   ]
  },
  {
   "cell_type": "code",
   "execution_count": 5,
   "metadata": {},
   "outputs": [],
   "source": [
    "n = \"a b c d e f r g b\".split()\n",
    "x = 2\n",
    "def chunked(n,x):\n",
    "    c,row = x,-1\n",
    "    new = []\n",
    "    for i in n:\n",
    "        if c == x:\n",
    "            c = 0\n",
    "            new.append([])\n",
    "            row +=1\n",
    "            new[row].append(i)\n",
    "        else:\n",
    "            new[row].append(i)\n",
    "        c += 1\n",
    "    return(new)\n",
    "  "
   ]
  },
  {
   "cell_type": "code",
   "execution_count": 6,
   "metadata": {},
   "outputs": [
    {
     "name": "stdout",
     "output_type": "stream",
     "text": [
      "lens : 4\n",
      "[]\n",
      "\n",
      "['1']\n",
      "['2']\n",
      "['3']\n",
      "['0']\n",
      "\n",
      "['1', '2']\n",
      "['2', '3']\n",
      "['3', '0']\n",
      "\n",
      "['1', '2', '3']\n",
      "['2', '3', '0']\n",
      "\n",
      "['1', '2', '3', '0']\n"
     ]
    }
   ],
   "source": [
    "n = \"1 2 3 0\".split()\n",
    "print(f\"lens : {len(n)}\")\n",
    "print(n[0:0])\n",
    "print()\n",
    "print(n[0:1])\n",
    "print(n[1:2])\n",
    "print(n[2:3])\n",
    "print(n[3:4])\n",
    "print()\n",
    "print(n[0:2])\n",
    "print(n[1:3])\n",
    "print(n[2:4])\n",
    "print()\n",
    "print(n[0:3])\n",
    "print(n[1:4])\n",
    "print()\n",
    "print(n[0:4])"
   ]
  },
  {
   "cell_type": "code",
   "execution_count": 7,
   "metadata": {},
   "outputs": [
    {
     "name": "stdout",
     "output_type": "stream",
     "text": [
      "[[0], ['1'], ['2'], ['3'], ['4'], ['0'], ['1', '2'], ['2', '3'], ['3', '4'], ['4', '0'], ['1', '2', '3'], ['2', '3', '4'], ['3', '4', '0'], ['1', '2', '3', '4'], ['2', '3', '4', '0'], ['1', '2', '3', '4', '0']]\n"
     ]
    }
   ],
   "source": [
    "n = \"1 2 3 4 0\".split()\n",
    "new = [[0]]\n",
    "c = -1\n",
    "for i in range(len(n)):\n",
    "    c += 1\n",
    "    for j in range(i,len(n)):\n",
    "        new.append(n[j-c:j+1])\n",
    "print(new)"
   ]
  },
  {
   "cell_type": "code",
   "execution_count": 8,
   "metadata": {},
   "outputs": [
    {
     "ename": "TypeError",
     "evalue": "unsupported operand type(s) for /: 'list' and 'int'",
     "output_type": "error",
     "traceback": [
      "\u001b[1;31m---------------------------------------------------------------------------\u001b[0m",
      "\u001b[1;31mTypeError\u001b[0m                                 Traceback (most recent call last)",
      "\u001b[1;32mc:\\Users\\Lenovo\\Documents\\GitHub\\Konspect-all\\Конспекты\\STEPIC\\вложеные списки.ipynb Ячейка 8\u001b[0m line \u001b[0;36m5\n\u001b[0;32m      <a href='vscode-notebook-cell:/c%3A/Users/Lenovo/Documents/GitHub/Konspect-all/%D0%9A%D0%BE%D0%BD%D1%81%D0%BF%D0%B5%D0%BA%D1%82%D1%8B/STEPIC/%D0%B2%D0%BB%D0%BE%D0%B6%D0%B5%D0%BD%D1%8B%D0%B5%20%D1%81%D0%BF%D0%B8%D1%81%D0%BA%D0%B8.ipynb#X10sZmlsZQ%3D%3D?line=2'>3</a>\u001b[0m \u001b[39mfor\u001b[39;00m i \u001b[39min\u001b[39;00m \u001b[39mrange\u001b[39m(n):\n\u001b[0;32m      <a href='vscode-notebook-cell:/c%3A/Users/Lenovo/Documents/GitHub/Konspect-all/%D0%9A%D0%BE%D0%BD%D1%81%D0%BF%D0%B5%D0%BA%D1%82%D1%8B/STEPIC/%D0%B2%D0%BB%D0%BE%D0%B6%D0%B5%D0%BD%D1%8B%D0%B5%20%D1%81%D0%BF%D0%B8%D1%81%D0%BA%D0%B8.ipynb#X10sZmlsZQ%3D%3D?line=3'>4</a>\u001b[0m     matrix\u001b[39m.\u001b[39mappend([\u001b[39mint\u001b[39m(j) \u001b[39mfor\u001b[39;00m j \u001b[39min\u001b[39;00m \u001b[39minput\u001b[39m()\u001b[39m.\u001b[39msplit()])\n\u001b[1;32m----> <a href='vscode-notebook-cell:/c%3A/Users/Lenovo/Documents/GitHub/Konspect-all/%D0%9A%D0%BE%D0%BD%D1%81%D0%BF%D0%B5%D0%BA%D1%82%D1%8B/STEPIC/%D0%B2%D0%BB%D0%BE%D0%B6%D0%B5%D0%BD%D1%8B%D0%B5%20%D1%81%D0%BF%D0%B8%D1%81%D0%BA%D0%B8.ipynb#X10sZmlsZQ%3D%3D?line=4'>5</a>\u001b[0m     coun\u001b[39m.\u001b[39mappend(\u001b[39mlen\u001b[39m([k \u001b[39mfor\u001b[39;00m k \u001b[39min\u001b[39;00m matrix[i] \u001b[39mif\u001b[39;00m k \u001b[39m>\u001b[39m (\u001b[39msum\u001b[39m(matrix[i] \u001b[39m/\u001b[39m n))]))\n",
      "\u001b[1;32mc:\\Users\\Lenovo\\Documents\\GitHub\\Konspect-all\\Конспекты\\STEPIC\\вложеные списки.ipynb Ячейка 8\u001b[0m line \u001b[0;36m5\n\u001b[0;32m      <a href='vscode-notebook-cell:/c%3A/Users/Lenovo/Documents/GitHub/Konspect-all/%D0%9A%D0%BE%D0%BD%D1%81%D0%BF%D0%B5%D0%BA%D1%82%D1%8B/STEPIC/%D0%B2%D0%BB%D0%BE%D0%B6%D0%B5%D0%BD%D1%8B%D0%B5%20%D1%81%D0%BF%D0%B8%D1%81%D0%BA%D0%B8.ipynb#X10sZmlsZQ%3D%3D?line=2'>3</a>\u001b[0m \u001b[39mfor\u001b[39;00m i \u001b[39min\u001b[39;00m \u001b[39mrange\u001b[39m(n):\n\u001b[0;32m      <a href='vscode-notebook-cell:/c%3A/Users/Lenovo/Documents/GitHub/Konspect-all/%D0%9A%D0%BE%D0%BD%D1%81%D0%BF%D0%B5%D0%BA%D1%82%D1%8B/STEPIC/%D0%B2%D0%BB%D0%BE%D0%B6%D0%B5%D0%BD%D1%8B%D0%B5%20%D1%81%D0%BF%D0%B8%D1%81%D0%BA%D0%B8.ipynb#X10sZmlsZQ%3D%3D?line=3'>4</a>\u001b[0m     matrix\u001b[39m.\u001b[39mappend([\u001b[39mint\u001b[39m(j) \u001b[39mfor\u001b[39;00m j \u001b[39min\u001b[39;00m \u001b[39minput\u001b[39m()\u001b[39m.\u001b[39msplit()])\n\u001b[1;32m----> <a href='vscode-notebook-cell:/c%3A/Users/Lenovo/Documents/GitHub/Konspect-all/%D0%9A%D0%BE%D0%BD%D1%81%D0%BF%D0%B5%D0%BA%D1%82%D1%8B/STEPIC/%D0%B2%D0%BB%D0%BE%D0%B6%D0%B5%D0%BD%D1%8B%D0%B5%20%D1%81%D0%BF%D0%B8%D1%81%D0%BA%D0%B8.ipynb#X10sZmlsZQ%3D%3D?line=4'>5</a>\u001b[0m     coun\u001b[39m.\u001b[39mappend(\u001b[39mlen\u001b[39m([k \u001b[39mfor\u001b[39;00m k \u001b[39min\u001b[39;00m matrix[i] \u001b[39mif\u001b[39;00m k \u001b[39m>\u001b[39m (\u001b[39msum\u001b[39m(matrix[i] \u001b[39m/\u001b[39;49m n))]))\n",
      "\u001b[1;31mTypeError\u001b[0m: unsupported operand type(s) for /: 'list' and 'int'"
     ]
    }
   ],
   "source": [
    "n = int(input())\n",
    "matrix, coun = [],[]\n",
    "for i in range(n):\n",
    "    matrix.append([int(j) for j in input().split()])\n",
    "    coun.append(len([k for k in matrix[i] if k > (sum(matrix[i] / n))]))\n"
   ]
  },
  {
   "cell_type": "code",
   "execution_count": null,
   "metadata": {},
   "outputs": [
    {
     "data": {
      "text/plain": [
       "[1, 2, 3, 4, 5, 6, 7, 8, 9]"
      ]
     },
     "execution_count": 5,
     "metadata": {},
     "output_type": "execute_result"
    }
   ],
   "source": [
    "n = 3\n",
    "m_new = list(range(1,n*n+1))\n",
    "m_new"
   ]
  },
  {
   "cell_type": "code",
   "execution_count": null,
   "metadata": {},
   "outputs": [
    {
     "data": {
      "text/plain": [
       "[0, 2, 3, 4, 5, 9]"
      ]
     },
     "execution_count": 7,
     "metadata": {},
     "output_type": "execute_result"
    }
   ],
   "source": [
    "m = [0,4,5,3,2,9]\n",
    "m.sort()\n",
    "m"
   ]
  },
  {
   "cell_type": "code",
   "execution_count": null,
   "metadata": {},
   "outputs": [],
   "source": [
    "\"\"\"n = int(input())\n",
    "matrix = [[int(j) for j in input().split()] for _ in range(n)]\n",
    "\"\"\"\n",
    "def ran(matrix,n):\n",
    "    new_m = []\n",
    "    m = list(range(1,n*n+1))\n",
    "    for row in matrix:\n",
    "        new_m += row\n",
    "    new_m.sort()\n",
    "    return new_m == m\n",
    "def lens_row(row,col,deg):\n",
    "    flag = True\n",
    "    \n",
    "    for r in row:\n",
    "        for c in col:\n",
    "            for d in deg:\n",
    "                if r != c != d:\n",
    "                    flag = False\n",
    "    for el in [row,col,deg]:\n",
    "        l = len(el)\n",
    "        for i in range(l-1):\n",
    "            if el[i] != el[i+1]:\n",
    "                flag = False\n",
    "    return flag\n",
    "def prow(matrix,n):\n",
    "    row = [sum(row) for row in matrix]\n",
    "    col = [sum([matrix[i][j]for i in range(n)]) for j in range(n)]\n",
    "    deg = [sum([matrix[i][i] for i in range(n)]),sum([matrix[i][n - i -1] for i in range(n)])]\n",
    "    if ran(matrix,n) and lens_row(row,col,deg):\n",
    "        return \"YES\"\n",
    "    else:\n",
    "        return \"NO\"\n"
   ]
  },
  {
   "cell_type": "code",
   "execution_count": null,
   "metadata": {},
   "outputs": [],
   "source": [
    "sum([sum(row) for row in matrix])/n == sum([sum([matrix[i][j]for i in range(n)]) for j in range(n)])/n == sum([matrix[i][i] for i in range(n)]) == sum([matrix[i][n - i -1] for i in range(n)]) "
   ]
  },
  {
   "cell_type": "code",
   "execution_count": null,
   "metadata": {},
   "outputs": [
    {
     "data": {
      "text/plain": [
       "'NO'"
      ]
     },
     "execution_count": 30,
     "metadata": {},
     "output_type": "execute_result"
    }
   ],
   "source": [
    "n = 3\n",
    "matrix = [[1, 8, 6], [5, 3, 7], [9, 4, 2]]\n",
    "prow(matrix,n)"
   ]
  },
  {
   "cell_type": "code",
   "execution_count": null,
   "metadata": {},
   "outputs": [],
   "source": [
    "r = 1\n",
    "c = 1\n",
    "d = 1\n",
    "if r != c != d:\n",
    "    print(\"NO\")"
   ]
  },
  {
   "cell_type": "code",
   "execution_count": null,
   "metadata": {},
   "outputs": [
    {
     "name": "stdout",
     "output_type": "stream",
     "text": [
      "12 15 18 \n",
      "24 30 36 \n",
      "36 45 54 \n"
     ]
    }
   ],
   "source": [
    "A = [[1,1,1], [2,2,2], [3,3,3]]\n",
    "B = [[1,2,3], [4,5,6], [7,8,9]]\n",
    "def prod_mat(A,B):\n",
    "    if len(A) != len(B[0]):\n",
    "        print(\"sheap not ==\")\n",
    "    b_t = [[B[i][j] for i in range(len(B))] for j in range(len(B[0]))]\n",
    "    #b_t.reverse()\n",
    "    matrix = [[sum([b_t[i][j]*A[k][j] for j in range(len(B))]) for i in range(len(B[0]))]for k in range(len(A))]\n",
    "    \n",
    "    return matrix\n",
    "\n",
    "matrix = prod_mat(A,B)\n",
    "for row in matrix:\n",
    "    for el in row:\n",
    "        print(str(el).ljust(3), end=\"\")\n",
    "    print()"
   ]
  },
  {
   "cell_type": "code",
   "execution_count": null,
   "metadata": {},
   "outputs": [],
   "source": [
    "matrix"
   ]
  },
  {
   "cell_type": "code",
   "execution_count": null,
   "metadata": {},
   "outputs": [
    {
     "name": "stdout",
     "output_type": "stream",
     "text": [
      "-2 -2 \n",
      "1  2  \n"
     ]
    }
   ],
   "source": [
    "A = [[1,-1,0], [3,-4,2]]\n",
    "B = [[1,2], [3,4], [5,6]]\n",
    "matrix = prod_mat(A,B)\n",
    "for row in matrix:\n",
    "    for el in row:\n",
    "        print(str(el).ljust(3), end=\"\")\n",
    "    print()"
   ]
  },
  {
   "cell_type": "code",
   "execution_count": null,
   "metadata": {},
   "outputs": [
    {
     "name": "stdout",
     "output_type": "stream",
     "text": [
      "1 0\n",
      "100 1\n"
     ]
    },
    {
     "data": {
      "text/plain": [
       "[None, None]"
      ]
     },
     "execution_count": 44,
     "metadata": {},
     "output_type": "execute_result"
    }
   ],
   "source": [
    "A = [[1,0],[4,1]]\n",
    "a = [[1,0],[4,1]]\n",
    "for i in range(24):\n",
    "    a = prod_mat(A,a)\n",
    "    \n",
    "[print(*row) for row in a]"
   ]
  },
  {
   "cell_type": "code",
   "execution_count": null,
   "metadata": {},
   "outputs": [
    {
     "name": "stdout",
     "output_type": "stream",
     "text": [
      "1 0\n",
      "100 1\n"
     ]
    },
    {
     "data": {
      "text/plain": [
       "[None, None]"
      ]
     },
     "execution_count": 46,
     "metadata": {},
     "output_type": "execute_result"
    }
   ],
   "source": [
    "A = [[1,0],[4,1]]\n",
    "a = [[1,0],[4,1]]\n",
    "for i in range(24):\n",
    "    a = prod_mat(A,a)\n",
    "    \n",
    "[print(*row) for row in a]"
   ]
  },
  {
   "cell_type": "code",
   "execution_count": 11,
   "metadata": {},
   "outputs": [
    {
     "name": "stdout",
     "output_type": "stream",
     "text": [
      "[['a', 'd', 'g', 'j', 'm'], ['b', 'e', 'h', 'k', 'n'], ['c', 'f', 'i', 'l']]\n"
     ]
    }
   ],
   "source": [
    "m = \"a b c d e f g h i j k l m n\".split()\n",
    "n = 3\n",
    "\n",
    "matrix = [m[i::n]for i in range(n)]\n",
    "print(matrix)"
   ]
  },
  {
   "cell_type": "code",
   "execution_count": 23,
   "metadata": {},
   "outputs": [],
   "source": [
    "n1 = 3\n",
    "m1 = [[0, 3, 10],[4, 9, 3],[7, 4, 0]]\n",
    "n2 = 3\n",
    "m2 = [[0, 3, 10],[4, 9, 5],[7, 4, 0]]"
   ]
  },
  {
   "cell_type": "code",
   "execution_count": 16,
   "metadata": {},
   "outputs": [
    {
     "name": "stdout",
     "output_type": "stream",
     "text": [
      "NO\n"
     ]
    }
   ],
   "source": [
    "def semet_d(m,n):\n",
    "    for i in range(n):\n",
    "        for j in range(n):\n",
    "            if m[i][j] != m[n-j-1][n-i-1]:\n",
    "                return False\n",
    "    return True\n",
    "\n",
    "if semet_d(m2,n1):\n",
    "    print(\"YES\")\n",
    "else:\n",
    "    print(\"NO\")"
   ]
  },
  {
   "cell_type": "code",
   "execution_count": 30,
   "metadata": {},
   "outputs": [],
   "source": [
    "n1 = 3\n",
    "m1 = [[0, 3, 10],[4, 9, 3],[7, 4, 0]]\n",
    "n2 = 3\n",
    "m2 = [[1, 1, 3],[1, 3, 1],[3, 1, 1]]"
   ]
  },
  {
   "cell_type": "code",
   "execution_count": 33,
   "metadata": {},
   "outputs": [
    {
     "name": "stdout",
     "output_type": "stream",
     "text": [
      "NO\n"
     ]
    }
   ],
   "source": [
    "\n",
    "def lat_mat(m,n):\n",
    "    mat = [sorted(row) for row in m]\n",
    "    mat_t = [[m[i][j] for i in range(len(m))] for j in range(len(m[0]))]\n",
    "    mat_t = [sorted(row) for row in mat_t]\n",
    "    for i in mat:\n",
    "        for j in mat_t:\n",
    "            if i != j or i != list(range(1,n+1)):\n",
    "                return False\n",
    "    return True\n",
    "\n",
    "if lat_mat(m2,n1):\n",
    "    print(\"YES\")\n",
    "else:\n",
    "    print(\"NO\")"
   ]
  },
  {
   "cell_type": "code",
   "execution_count": 29,
   "metadata": {},
   "outputs": [
    {
     "data": {
      "text/plain": [
       "[1, 2, 3]"
      ]
     },
     "execution_count": 29,
     "metadata": {},
     "output_type": "execute_result"
    }
   ],
   "source": [
    "list(range(1,n+1))"
   ]
  },
  {
   "cell_type": "code",
   "execution_count": 59,
   "metadata": {},
   "outputs": [
    {
     "name": "stdout",
     "output_type": "stream",
     "text": [
      "0 1 2 3 4 5\n",
      "1 0 1 2 3 4\n",
      "2 1 0 1 2 3\n",
      "3 2 1 0 1 2\n",
      "4 3 2 1 0 1\n",
      "5 4 3 2 1 0\n"
     ]
    },
    {
     "data": {
      "text/plain": [
       "[None, None, None, None, None, None]"
      ]
     },
     "execution_count": 59,
     "metadata": {},
     "output_type": "execute_result"
    }
   ],
   "source": [
    "#n = int(input())\n",
    "n = 6\n",
    "li = list(range(0,n))\n",
    "matrix = [li[i:0:-1] + li[:n-i] for i in li]\n",
    "[print(*row) for row in matrix]"
   ]
  }
 ],
 "metadata": {
  "kernelspec": {
   "display_name": "Python 3",
   "language": "python",
   "name": "python3"
  },
  "language_info": {
   "codemirror_mode": {
    "name": "ipython",
    "version": 3
   },
   "file_extension": ".py",
   "mimetype": "text/x-python",
   "name": "python",
   "nbconvert_exporter": "python",
   "pygments_lexer": "ipython3",
   "version": "3.9.13"
  }
 },
 "nbformat": 4,
 "nbformat_minor": 2
}
