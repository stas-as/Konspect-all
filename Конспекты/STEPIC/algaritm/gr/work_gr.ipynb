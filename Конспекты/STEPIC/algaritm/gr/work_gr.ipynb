{
 "cells": [
  {
   "cell_type": "code",
   "execution_count": 8,
   "metadata": {},
   "outputs": [],
   "source": [
    "import graphics as gr"
   ]
  },
  {
   "cell_type": "code",
   "execution_count": 3,
   "metadata": {},
   "outputs": [],
   "source": [
    "# Инициализация окна с названием \"Russian game\" и размером 100х100 пикселей\n",
    "window = gr.GraphWin(\"Russian game\", 100, 100)\n",
    "\n"
   ]
  },
  {
   "cell_type": "code",
   "execution_count": 4,
   "metadata": {},
   "outputs": [],
   "source": [
    "# Создание круга с радиусом 10 и координатами центра (50, 50)\n",
    "my_circle = gr.Circle(gr.Point(50, 50), 10)\n",
    "\n",
    "# Создание отрезка с концами в точках (2, 4) и (4, 8)\n",
    "my_line = gr.Line(gr.Point(2, 4), gr.Point(4, 8))\n",
    "\n",
    "# Создание прямоугольника у которого диагональ — отрезок с концами в точках (2, 4) и (4, 8)\n",
    "my_rectangle = gr.Rectangle(gr.Point(2, 4), gr.Point(4, 8))"
   ]
  },
  {
   "cell_type": "code",
   "execution_count": 5,
   "metadata": {},
   "outputs": [
    {
     "data": {
      "text/plain": [
       "Rectangle(Point(2.0, 4.0), Point(4.0, 8.0))"
      ]
     },
     "execution_count": 5,
     "metadata": {},
     "output_type": "execute_result"
    }
   ],
   "source": [
    "# Отрисовка примитивов в окне window\n",
    "my_circle.draw(window)\n",
    "my_line.draw(window)\n",
    "my_rectangle.draw(window)"
   ]
  },
  {
   "cell_type": "code",
   "execution_count": 6,
   "metadata": {},
   "outputs": [],
   "source": [
    "# Закрытие окна после завершения работы с графикой\n",
    "window.close()"
   ]
  }
 ],
 "metadata": {
  "kernelspec": {
   "display_name": "Python 3",
   "language": "python",
   "name": "python3"
  },
  "language_info": {
   "codemirror_mode": {
    "name": "ipython",
    "version": 3
   },
   "file_extension": ".py",
   "mimetype": "text/x-python",
   "name": "python",
   "nbconvert_exporter": "python",
   "pygments_lexer": "ipython3",
   "version": "3.9.13"
  }
 },
 "nbformat": 4,
 "nbformat_minor": 2
}
