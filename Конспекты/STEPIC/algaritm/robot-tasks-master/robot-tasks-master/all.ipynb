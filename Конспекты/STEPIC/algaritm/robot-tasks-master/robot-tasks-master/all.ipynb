{
 "cells": [
  {
   "cell_type": "code",
   "execution_count": null,
   "metadata": {},
   "outputs": [],
   "source": []
  },
  {
   "cell_type": "markdown",
   "metadata": {},
   "source": [
    "|Команда|\tОписание |\n",
    "|-------|------------|\n",
    "|move_left(n=1)\t|Пройти n клеток влево (по умолчанию n = 1)|\n",
    "|move_right(n=1)\t|Пройти n клеток вправо (по умолчанию n = 1)|\n",
    "|move_up(n=1)\t|Пройти n клеток вверх (по умолчанию n = 1)|\n",
    "|move_down(n=1)\t|Пройти n клеток вниз (по умолчанию n = 1)|\n",
    "|wall_is_above()\t|если сверху стена, возвращает True, иначе — False|\n",
    "|wall_is_beneath()\t|если снизу стена, возвращает True, иначе — False|\n",
    "|wall_is_on_the_left()\t|если слева стена, возвращает True, иначе — False|\n",
    "|wall_is_on_the_right()\t|если справа стена, возвращает True, иначе — False|\n",
    "|fill_cell()\t|Закрасить текущую клетку|\n",
    "|cell_is_filled()\t|Возвращает True, если текущая клетка закрашена|\n",
    "|mov(r, v)\t|Поместить значение v в регистр r|"
   ]
  },
  {
   "cell_type": "code",
   "execution_count": 1,
   "metadata": {},
   "outputs": [
    {
     "data": {
      "text/plain": [
       "2"
      ]
     },
     "execution_count": 1,
     "metadata": {},
     "output_type": "execute_result"
    }
   ],
   "source": [
    "True + True"
   ]
  }
 ],
 "metadata": {
  "kernelspec": {
   "display_name": "Python 3",
   "language": "python",
   "name": "python3"
  },
  "language_info": {
   "codemirror_mode": {
    "name": "ipython",
    "version": 3
   },
   "file_extension": ".py",
   "mimetype": "text/x-python",
   "name": "python",
   "nbconvert_exporter": "python",
   "pygments_lexer": "ipython3",
   "version": "3.9.13"
  }
 },
 "nbformat": 4,
 "nbformat_minor": 2
}
