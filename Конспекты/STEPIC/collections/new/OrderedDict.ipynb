{
 "cells": [
  {
   "cell_type": "code",
   "execution_count": 2,
   "metadata": {},
   "outputs": [
    {
     "name": "stdout",
     "output_type": "stream",
     "text": [
      "OrderedDict({'key1': 'value1', 'key4': 'value4', 'key2': 'value2', 'key3': 'value3'})\n"
     ]
    }
   ],
   "source": [
    "from collections import OrderedDict\n",
    "\n",
    "data = OrderedDict({'Name': 'Брусника', 'IsNetObject': 'да', 'OperatingCompany': 'Брусника', 'TypeObject': 'кафе', 'AdmArea': 'Центральный административный округ', 'District': 'район Арбат', 'Address': 'город Москва, переулок Сивцев Вражек, дом 6/2', 'SeatsCount': '10'})\n",
    "data_new = OrderedDict()\n",
    "\n",
    "data = OrderedDict(key1='value1', key2='value2', key3='value3', key4='value4')\n",
    "\n",
    "for i in range(len(data)):\n",
    "    k,v = data.popitem(last= i%2==1)\n",
    "    data_new[k] = v\n",
    "\n",
    "print(data_new)"
   ]
  },
  {
   "cell_type": "code",
   "execution_count": 1,
   "metadata": {},
   "outputs": [
    {
     "name": "stdout",
     "output_type": "stream",
     "text": [
      "OrderedDict({'Anabel': 17, 'Brian': 40, 'Carol': 16, 'Dustin': 29})\n",
      "('Mercury', 1) ('Venus', 2) ('Earth', 3) ('Mars', 4)\n"
     ]
    }
   ],
   "source": [
    "from collections import OrderedDict\n",
    "\n",
    "def custom_sort(ordered_dict, by_values=False):\n",
    "    if not by_values:\n",
    "        for i in sorted(ordered_dict):\n",
    "            ordered_dict.move_to_end(i)\n",
    "    else:\n",
    "        for k,v in sorted(ordered_dict.items(),key=lambda x: x[1]):\n",
    "            ordered_dict.move_to_end(k)\n",
    "            \n",
    "\n",
    "\n",
    "data = OrderedDict(Dustin=29, Anabel=17, Brian=40, Carol=16)\n",
    "custom_sort(data)\n",
    "\n",
    "print(data)\n",
    "\n",
    "data = OrderedDict(Earth=3, Mercury=1, Mars=4, Venus=2)\n",
    "custom_sort(data, by_values=True)\n",
    "\n",
    "print(*data.items())"
   ]
  }
 ],
 "metadata": {
  "kernelspec": {
   "display_name": "Python 3",
   "language": "python",
   "name": "python3"
  },
  "language_info": {
   "codemirror_mode": {
    "name": "ipython",
    "version": 3
   },
   "file_extension": ".py",
   "mimetype": "text/x-python",
   "name": "python",
   "nbconvert_exporter": "python",
   "pygments_lexer": "ipython3",
   "version": "3.12.2"
  }
 },
 "nbformat": 4,
 "nbformat_minor": 2
}
