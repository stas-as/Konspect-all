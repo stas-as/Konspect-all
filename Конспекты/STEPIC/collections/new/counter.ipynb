{
 "cells": [
  {
   "cell_type": "code",
   "execution_count": 5,
   "metadata": {},
   "outputs": [
    {
     "name": "stdout",
     "output_type": "stream",
     "text": [
      "3\n"
     ]
    }
   ],
   "source": [
    "from collections import Counter\n",
    "\n",
    "def count_occurences(word,words):\n",
    "    data = Counter(words.lower().split())\n",
    "    return data[word.lower()]\n",
    "\n",
    "word = 'python'\n",
    "words = 'Python Conferences python training python events'\n",
    "\n",
    "print(count_occurences(word, words))"
   ]
  },
  {
   "cell_type": "code",
   "execution_count": 6,
   "metadata": {},
   "outputs": [
    {
     "name": "stdout",
     "output_type": "stream",
     "text": [
      "4\n"
     ]
    }
   ],
   "source": [
    "word = 'Se'\n",
    "words = 'se sdsf sds SE sdfsdg Se dhgf gfd asd se'\n",
    "\n",
    "print(count_occurences(word, words))"
   ]
  },
  {
   "cell_type": "code",
   "execution_count": 12,
   "metadata": {},
   "outputs": [
    {
     "name": "stdout",
     "output_type": "stream",
     "text": [
      "банан: 5387 UC x 2 = 10774 UC\n",
      "груша: 5422 UC x 1 = 5422 UC\n",
      "киви : 4316 UC x 4 = 17264 UC\n",
      "лимон: 5418 UC x 3 = 16254 UC\n"
     ]
    }
   ],
   "source": [
    "from collections import Counter\n",
    "\n",
    "def price(s):\n",
    "    return sum([ord(el) for el in s])\n",
    "\n",
    "#data = Counter(input().split(\",\"))\n",
    "data = Counter(\"лимон,лимон,лимон,груша,банан,банан,киви,киви,киви,киви\".split(\",\"))\n",
    "l = len(max(data,key=len))\n",
    "for k in sorted(data):\n",
    "    p = price(k)\n",
    "    print(f\"{k}\".ljust(l),f\": {p} UC x {data[k]} = {p*data[k]} UC\",sep=\"\")"
   ]
  },
  {
   "cell_type": "code",
   "execution_count": 19,
   "metadata": {},
   "outputs": [
    {
     "name": "stdout",
     "output_type": "stream",
     "text": [
      "a: 53\n",
      "b: 21\n",
      "c: 17\n",
      "d: 17\n",
      "e: 92\n",
      "f: 12\n",
      "g: 11\n",
      "h: 31\n",
      "i: 53\n",
      "k: 2\n",
      "l: 33\n",
      "m: 16\n",
      "n: 42\n",
      "o: 43\n",
      "p: 22\n",
      "r: 33\n",
      "s: 46\n",
      "t: 79\n",
      "u: 21\n",
      "v: 5\n",
      "w: 4\n",
      "x: 6\n",
      "y: 17\n",
      "z: 1\n"
     ]
    }
   ],
   "source": [
    "from collections import Counter\n",
    "\n",
    "with open(\"pythonzen.txt\", \"r\", encoding=\"utf-8\") as f:\n",
    "    text = Counter(filter(str.isalpha,f.read().lower()))\n",
    "    print(*[f\"{el}: {text[el]}\" for el in sorted(text)],sep=\"\\n\")"
   ]
  }
 ],
 "metadata": {
  "kernelspec": {
   "display_name": "Python 3",
   "language": "python",
   "name": "python3"
  },
  "language_info": {
   "codemirror_mode": {
    "name": "ipython",
    "version": 3
   },
   "file_extension": ".py",
   "mimetype": "text/x-python",
   "name": "python",
   "nbconvert_exporter": "python",
   "pygments_lexer": "ipython3",
   "version": "3.12.2"
  }
 },
 "nbformat": 4,
 "nbformat_minor": 2
}
