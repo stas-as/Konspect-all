{
 "cells": [
  {
   "cell_type": "code",
   "execution_count": 1,
   "metadata": {},
   "outputs": [
    {
     "name": "stdout",
     "output_type": "stream",
     "text": [
      "pon(x=12, y=25)\n",
      "25 12\n",
      "25 12\n",
      "<class '__main__.pon'>\n"
     ]
    }
   ],
   "source": [
    "from collections import namedtuple\n",
    "\n",
    "point = namedtuple(\"pon\",[\"x\",\"y\"])\n",
    "\n",
    "p = point(12,25)\n",
    "\n",
    "print(p)\n",
    "print(p.y, p.x)\n",
    "print(p[1], p[0])\n",
    "print(type(p))"
   ]
  },
  {
   "cell_type": "code",
   "execution_count": 2,
   "metadata": {},
   "outputs": [
    {
     "name": "stdout",
     "output_type": "stream",
     "text": [
      "11\n",
      "6\n",
      "0.0\n",
      "25\n"
     ]
    }
   ],
   "source": [
    "from collections import namedtuple\n",
    "\n",
    "Weather = namedtuple('Weather', ['temp', 'wind', 'rain', 'cloud'])\n",
    "\n",
    "tokyo_weather = Weather(11, 6, 0.0, 25)\n",
    "\n",
    "for x in tokyo_weather:\n",
    "    print(x)"
   ]
  },
  {
   "cell_type": "code",
   "execution_count": 1,
   "metadata": {},
   "outputs": [
    {
     "data": {
      "text/plain": [
       "['Discord', 'messenger', '200']"
      ]
     },
     "execution_count": 1,
     "metadata": {},
     "output_type": "execute_result"
    }
   ],
   "source": [
    "'Discord messenger 200'.split()"
   ]
  },
  {
   "cell_type": "markdown",
   "metadata": {},
   "source": [
    "Советская 3:\n",
    "1. 30 мешков пескобетон по  25кг\n",
    "2. 10 мешков цементной штукатурки по 25 кг\n",
    "3. 20 мешков щебня \"примерно заполненых на половину\"\n",
    "3. 6 маяков 10mm\n",
    "4. 4 доски 150*50*6000\n",
    "5. саморезы по дереву 200шт\n",
    "6. дюпель гвозди диметр-6mm длиной-10cm 100шт\n",
    "7. сетка 20x20x1.2 -1 рулон\n",
    "8. сетка карта 100х100х4mm 2x1м -6шт и 5м арматуры\n",
    "9. везальная проволка\n",
    "10. 10л грунтовки \n",
    "\n",
    "1. клей 6 мешков\n",
    "2. цементная штукатурка 4 мешка \n",
    "3. пескобетон 2 мешка \n",
    "4. затирка 2 пачки \n",
    "5. фибра 1 пачка \n",
    "6. грунт хороший"
   ]
  },
  {
   "cell_type": "code",
   "execution_count": 23,
   "metadata": {},
   "outputs": [
    {
     "name": "stdout",
     "output_type": "stream",
     "text": [
      "name: Alex\n",
      "family: dogs\n",
      "sex: m\n",
      "color: brown\n",
      "\n",
      "name: Nancy\n",
      "family: cats\n",
      "sex: w\n",
      "color: white\n",
      "\n",
      "name: Sam\n",
      "family: dogs\n",
      "sex: m\n",
      "color: brown\n",
      "\n",
      "name: Misha\n",
      "family: hedgehogs\n",
      "sex: m\n",
      "color: black\n",
      "\n",
      "name: Fredd\n",
      "family: cats\n",
      "sex: m\n",
      "color: white\n",
      "\n",
      "name: Python\n",
      "family: snakes\n",
      "sex: w\n",
      "color: white\n",
      "\n",
      "name: Crispy\n",
      "family: cats\n",
      "sex: w\n",
      "color: white\n",
      "\n",
      "name: Adam\n",
      "family: hedgehogs\n",
      "sex: m\n",
      "color: black\n",
      "\n",
      "name: Daddy\n",
      "family: snakes\n",
      "sex: m\n",
      "color: brown\n",
      "\n",
      "name: Mickey\n",
      "family: hedgehogs\n",
      "sex: m\n",
      "color: brown\n",
      "\n",
      "name: Tom\n",
      "family: cats\n",
      "sex: m\n",
      "color: white\n",
      "\n",
      "name: Jerry\n",
      "family: snakes\n",
      "sex: m\n",
      "color: brown\n",
      "\n",
      "name: Chip\n",
      "family: hedgehogs\n",
      "sex: m\n",
      "color: white"
     ]
    }
   ],
   "source": [
    "import pickle \n",
    "from collections import namedtuple\n",
    "\n",
    "Animal = namedtuple('Animal', ['name', 'family', 'sex', 'color'])\n",
    "\n",
    "with open(\"data.pkl\", \"rb\") as f:\n",
    "    obj = pickle.load(f)\n",
    "print(*[f'name: {i[0]}\\nfamily: {i[1]}\\nsex: {i[2]}\\ncolor: {i[3]}' for i in obj],sep=\"\\n\\n\",end=\"\")\n",
    "    \n"
   ]
  },
  {
   "cell_type": "code",
   "execution_count": 8,
   "metadata": {},
   "outputs": [
    {
     "name": "stdout",
     "output_type": "stream",
     "text": [
      "Kathleen Lyons\n",
      "  Email: balchen@att.net\n",
      "  Plan: Gold\n",
      "\n",
      "William Townsend\n",
      "  Email: kosact@verizon.net\n",
      "  Plan: Gold\n",
      "\n",
      "Stephanie Bush\n",
      "  Email: neuffer@live.com\n",
      "  Plan: Gold\n",
      "\n",
      "Dorothy Dennis\n",
      "  Email: sequin@live.com\n",
      "  Plan: Gold\n",
      "\n",
      "Clayton Morris\n",
      "  Email: berserk@yahoo.com\n",
      "  Plan: Silver\n",
      "\n",
      "Pamela Hicks\n",
      "  Email: corrada@sbcglobal.net\n",
      "  Plan: Silver\n",
      "\n",
      "Brenda Young\n",
      "  Email: retoh@outlook.com\n",
      "  Plan: Silver\n",
      "\n",
      "Tracy Wallace\n",
      "  Email: sblack@me.com\n",
      "  Plan: Silver\n",
      "\n",
      "Joseph Moore\n",
      "  Email: ylchang@sbcglobal.net\n",
      "  Plan: Silver\n",
      "\n",
      "Russell Smith\n",
      "  Email: isaacson@comcast.net\n",
      "  Plan: Bronze\n",
      "\n",
      "Kenneth Richardson\n",
      "  Email: tbusch@me.com\n",
      "  Plan: Bronze\n",
      "\n",
      "Megan Patterson\n",
      "  Email: hoangle@outlook.com\n",
      "  Plan: Basic\n",
      "\n",
      "Gregory Hughes\n",
      "  Email: juliano@att.net\n",
      "  Plan: Basic\n",
      "\n",
      "Tyler Walker\n",
      "  Email: noahb@comcast.net\n",
      "  Plan: Basic\n",
      "\n",
      "Mary Griffin\n",
      "  Email: sonnen@yahoo.com\n",
      "  Plan: Basic"
     ]
    }
   ],
   "source": [
    "from collections import namedtuple\n",
    "\n",
    "User = namedtuple('User', ['name', 'surname', 'email', 'plan'])\n",
    "\n",
    "status = {\"Gold\": 1, \"Silver\": 2, \"Bronze\": 3, \"Basic\": 4}\n",
    "users = [User('Mary', 'Griffin', 'sonnen@yahoo.com', 'Basic'),\n",
    "         User('Brenda', 'Young', 'retoh@outlook.com', 'Silver'),\n",
    "         User('Kathleen', 'Lyons', 'balchen@att.net', 'Gold'),\n",
    "         User('Pamela', 'Hicks', 'corrada@sbcglobal.net', 'Silver'),\n",
    "         User('William', 'Townsend', 'kosact@verizon.net', 'Gold'),\n",
    "         User('Clayton', 'Morris', 'berserk@yahoo.com', 'Silver'),\n",
    "         User('Dorothy', 'Dennis', 'sequin@live.com', 'Gold'),\n",
    "         User('Tyler', 'Walker', 'noahb@comcast.net', 'Basic'),\n",
    "         User('Joseph', 'Moore', 'ylchang@sbcglobal.net', 'Silver'),\n",
    "         User('Kenneth', 'Richardson', 'tbusch@me.com', 'Bronze'),\n",
    "         User('Stephanie', 'Bush', 'neuffer@live.com', 'Gold'),\n",
    "         User('Gregory', 'Hughes', 'juliano@att.net', 'Basic'),\n",
    "         User('Tracy', 'Wallace', 'sblack@me.com', 'Silver'),\n",
    "         User('Russell', 'Smith', 'isaacson@comcast.net', 'Bronze'),\n",
    "         User('Megan', 'Patterson', 'hoangle@outlook.com', 'Basic')]\n",
    "\n",
    "print(*[f\"{el.name} {el.surname}\\n  Email: {el.email}\\n  Plan: {el.plan}\" for el in sorted(users,key= lambda x: (status[x.plan],x.email))],sep=\"\\n\\n\",end=\"\")\n",
    "\n"
   ]
  },
  {
   "cell_type": "markdown",
   "metadata": {},
   "source": []
  },
  {
   "cell_type": "code",
   "execution_count": 18,
   "metadata": {},
   "outputs": [
    {
     "name": "stdout",
     "output_type": "stream",
     "text": [
      "Гудцев Таймураз\n",
      "Харисов Артур\n",
      "Базиев Герман\n",
      "Макоев Руслан\n",
      "Найфонов Сослан\n",
      "Короев Аслан\n",
      "Дедегкаев Давид\n",
      "Уртаева Илина\n",
      "Бекузарова Фатима\n",
      "Акоева Лера\n",
      "Белов Глеб\n",
      "Букулова Диана\n",
      "Гусейнова Марьям\n",
      "Набокова Алиса\n",
      "Чередник Марк\n",
      "Перчиков Максим\n",
      "Идрисов Баграт\n",
      "Абаев Михаил\n",
      "Елькина Мария\n",
      "Кораев Давид\n",
      "Акоева Амина\n",
      "Денисов Тимофей\n",
      "Алдатов Сармат\n",
      "Зеленчук Александра\n",
      "Тарасов Станислав\n",
      "Гапбаев Герман\n",
      "Рыжая Ярослава\n",
      "Джикаев Таму\n",
      "Балаболка Вероника\n",
      "Гагиев Геор\n",
      "Козаев Роберт\n",
      "Габараев Артур\n",
      "Юлдашев Хандамир\n",
      "Кодзаев Георгий\n",
      "Дедегкаев Дамир\n",
      "Момотов Владислав\n",
      "Щербак Юрий\n",
      "Чуприков Максим\n",
      "Тиникашвили Давид\n",
      "Кораев Артур\n",
      "Цивинская Анна\n",
      "Солдатенков Илья\n",
      "Туткевич Юрий\n",
      "Маилян Кирилл\n",
      "Джиоева Марина\n",
      "Салбиев Максим\n",
      "Чен Владимир\n",
      "Капустин Егор\n",
      "Туаллагов Давид\n",
      "Губаев Герман\n",
      "Кузнецов Станислав\n",
      "Албегов Хетаг\n",
      "Битиев Сослан\n",
      "Мусиков Андраник\n",
      "Уртаева Дзера\n",
      "Гадзиев Георгий\n",
      "Епхиева Алика\n",
      "Шилин Александр\n"
     ]
    }
   ],
   "source": [
    "from datetime import *\n",
    "from csv import *\n",
    "from collections import *\n",
    "\n",
    "Men_type = namedtuple(\"men\",['surname', 'name', 'date'])\n",
    "\n",
    "with open(\"meetings.csv\", \"r\", encoding=\"utf-8\") as f:\n",
    "    rows = reader(f,delimiter=\",\")\n",
    "    next(rows)\n",
    "    for el in sorted([Men_type(*el) for el in [[s,n,datetime.strptime(d+\" \"+t,\"%d.%m.%Y %H:%M\")] for s,n,d,t in rows]],key=lambda x: x.date):\n",
    "        print(el.surname, el.name)\n",
    "        "
   ]
  },
  {
   "cell_type": "code",
   "execution_count": 14,
   "metadata": {},
   "outputs": [],
   "source": [
    "a,b,c,d = [1,2,3,4]"
   ]
  },
  {
   "cell_type": "code",
   "execution_count": 19,
   "metadata": {},
   "outputs": [
    {
     "data": {
      "text/plain": [
       "636000"
      ]
     },
     "execution_count": 19,
     "metadata": {},
     "output_type": "execute_result"
    }
   ],
   "source": [
    "5300*120"
   ]
  },
  {
   "cell_type": "code",
   "execution_count": 3,
   "metadata": {},
   "outputs": [
    {
     "data": {
      "text/plain": [
       "defaultdict(None, {'name': None, 'surname': None, 'hobby': None})"
      ]
     },
     "execution_count": 3,
     "metadata": {},
     "output_type": "execute_result"
    }
   ],
   "source": [
    "from collections import *\n",
    "defaultdict(int, name='Timur', surname='Guev', hobby='math')\n",
    "defaultdict(name='Timur', surname='Guev', hobby='math')\n",
    "defaultdict(int, {'name': 'Timur', 'surname': 'Guev', 'hobby': 'math'})\n",
    "defaultdict()\n",
    "defaultdict(list)\n",
    "defaultdict(int, [('name', 'Timur'), ('surname', 'Guev'), ('hobby', 'math')])\n",
    "#defaultdict({'name': 'Timur', 'surname': 'Guev', 'hobby': 'math'})\n",
    "defaultdict(None)\n",
    "defaultdict.fromkeys(['name', 'surname', 'hobby'], None)"
   ]
  },
  {
   "cell_type": "code",
   "execution_count": 6,
   "metadata": {},
   "outputs": [
    {
     "name": "stdout",
     "output_type": "stream",
     "text": [
      "Books: $7969\n",
      "Courses: $2991\n",
      "Merch: $4083\n",
      "Tutorials: $3730\n"
     ]
    }
   ],
   "source": [
    "from collections import defaultdict\n",
    "\n",
    "data = [('Books', 1343), ('Books', 1166), ('Merch', 616), ('Courses', 966), ('Merch', 1145), ('Courses', 1061), ('Books', 848), ('Courses', 964), ('Tutorials', 832), ('Merch', 642), ('Books', 815), ('Tutorials', 1041), ('Books', 1218), ('Tutorials', 880), ('Books', 1003), ('Merch', 951), ('Books', 920), ('Merch', 729), ('Tutorials', 977), ('Books', 656)]\n",
    "\n",
    "data_d = defaultdict(int)\n",
    "for el in data:\n",
    "    data_d[el[0]] += el[1]\n",
    "print(*map(lambda x: f\"{x}: ${data_d[x]}\",sorted(data_d)),sep=\"\\n\")\n",
    "    \n"
   ]
  },
  {
   "cell_type": "code",
   "execution_count": 8,
   "metadata": {},
   "outputs": [
    {
     "name": "stdout",
     "output_type": "stream",
     "text": [
      "Accounting: 17\n",
      "Developing: 7\n",
      "Marketing: 13\n",
      "Sales: 13\n"
     ]
    }
   ],
   "source": [
    "from collections import defaultdict\n",
    "\n",
    "data = [('Sales', 'Robert Barnes'), ('Developing', 'Thomas Porter'), ('Accounting', 'James Wilkins'), ('Sales', 'Connie Reid'), ('Accounting', 'Brenda Davis'), ('Developing', 'Miguel Norris'), ('Accounting', 'Linda Hudson'), ('Developing', 'Deborah George'), ('Developing', 'Nicole Watts'), ('Marketing', 'Billy Lloyd'), ('Sales', 'Charlotte Cox'), ('Marketing', 'Bernice Ramos'), ('Sales', 'Jose Taylor'), ('Sales', 'Katie Warner'), ('Accounting', 'Steven Diaz'), ('Accounting', 'Kimberly Reynolds'), ('Accounting', 'John Watts'), ('Accounting', 'Dale Houston'), ('Developing', 'Arlene Gibson'), ('Marketing', 'Joyce Lawrence'), ('Accounting', 'Rosemary Garcia'), ('Marketing', 'Ralph Morgan'), ('Marketing', 'Sam Davis'), ('Marketing', 'Gail Hill'), ('Accounting', 'Michelle Wright'), ('Accounting', 'Casey Jenkins'), ('Sales', 'Evelyn Martin'), ('Accounting', 'Aaron Ferguson'), ('Marketing', 'Andrew Clark'), ('Marketing', 'John Gonzalez'), ('Developing', 'Wilma Woods'), ('Sales', 'Marie Cooper'), ('Accounting', 'Kay Scott'), ('Sales', 'Gladys Taylor'), ('Accounting', 'Ann Bell'), ('Accounting', 'Craig Wood'), ('Accounting', 'Gloria Higgins'), ('Marketing', 'Mario Reynolds'), ('Marketing', 'Helen Taylor'), ('Marketing', 'Mary King'), ('Accounting', 'Jane Jackson'), ('Marketing', 'Carol Peters'), ('Sales', 'Alicia Mendoza'), ('Accounting', 'Edna Cunningham'), ('Developing', 'Joyce Rivera'), ('Sales', 'Joseph Lee'), ('Sales', 'John White'), ('Marketing', 'Charles Bailey'), ('Sales', 'Chester Fernandez'), ('Sales', 'John Washington')]\n",
    "\n",
    "data_d = defaultdict(int)\n",
    "for el in data:\n",
    "    data_d[el[0]] += 1\n",
    "print(*map(lambda x: f\"{x}: {data_d[x]}\",sorted(data_d)),sep=\"\\n\")"
   ]
  },
  {
   "cell_type": "code",
   "execution_count": 10,
   "metadata": {},
   "outputs": [
    {
     "name": "stdout",
     "output_type": "stream",
     "text": [
      "Accounting: Aaron Ferguson, Ann Bell, Brenda Davis, Casey Jenkins, Craig Wood, Dale Houston, Edna Cunningham, Gloria Higgins, James Wilkins, Jane Jackson, John Watts, Kay Scott, Kimberly Reynolds, Linda Hudson, Michelle Wright, Rosemary Garcia, Steven Diaz\n",
      "Developing: Arlene Gibson, Deborah George, Joyce Rivera, Miguel Norris, Nicole Watts, Thomas Porter, Wilma Woods\n",
      "Marketing: Andrew Clark, Bernice Ramos, Billy Lloyd, Carol Peters, Charles Bailey, Gail Hill, Helen Taylor, John Gonzalez, Joyce Lawrence, Mario Reynolds, Mary King, Ralph Morgan, Sam Davis\n",
      "Sales: Alicia Mendoza, Charlotte Cox, Chester Fernandez, Connie Reid, Evelyn Martin, Gladys Taylor, John Washington, John White, Jose Taylor, Joseph Lee, Katie Warner, Marie Cooper, Robert Barnes\n"
     ]
    }
   ],
   "source": [
    "from collections import defaultdict\n",
    "\n",
    "staff_broken = [('Developing', 'Miguel Norris'), ('Sales', 'Connie Reid'), ('Sales', 'Joseph Lee'), ('Marketing', 'Carol Peters'), ('Accounting', 'Linda Hudson'), ('Accounting', 'Ann Bell'), ('Marketing', 'Ralph Morgan'), ('Accounting', 'Gloria Higgins'), ('Developing', 'Wilma Woods'), ('Developing', 'Wilma Woods'), ('Marketing', 'Bernice Ramos'), ('Marketing', 'Joyce Lawrence'), ('Accounting', 'Craig Wood'), ('Developing', 'Nicole Watts'), ('Sales', 'Jose Taylor'), ('Accounting', 'Linda Hudson'), ('Accounting', 'Edna Cunningham'), ('Sales', 'Jose Taylor'), ('Marketing', 'Helen Taylor'), ('Accounting', 'Kimberly Reynolds'), ('Marketing', 'Mary King'), ('Sales', 'Joseph Lee'), ('Accounting', 'Gloria Higgins'), ('Marketing', 'Andrew Clark'), ('Accounting', 'John Watts'), ('Accounting', 'Rosemary Garcia'), ('Accounting', 'Steven Diaz'), ('Marketing', 'Mary King'), ('Sales', 'Gladys Taylor'), ('Developing', 'Thomas Porter'), ('Accounting', 'Brenda Davis'), ('Sales', 'Connie Reid'), ('Sales', 'Alicia Mendoza'), ('Marketing', 'Mario Reynolds'), ('Sales', 'John White'), ('Developing', 'Joyce Rivera'), ('Accounting', 'Steven Diaz'), ('Developing', 'Arlene Gibson'), ('Sales', 'Robert Barnes'), ('Sales', 'Charlotte Cox'), ('Accounting', 'Craig Wood'), ('Marketing', 'Carol Peters'), ('Marketing', 'Ralph Morgan'), ('Accounting', 'Kay Scott'), ('Sales', 'Evelyn Martin'), ('Marketing', 'Billy Lloyd'), ('Sales', 'Gladys Taylor'), ('Developing', 'Deborah George'), ('Sales', 'Charlotte Cox'), ('Marketing', 'Sam Davis'), ('Sales', 'John White'), ('Sales', 'Marie Cooper'), ('Marketing', 'John Gonzalez'), ('Sales', 'John Washington'), ('Sales', 'Chester Fernandez'), ('Sales', 'Alicia Mendoza'), ('Sales', 'Katie Warner'), ('Accounting', 'Jane Jackson'), ('Sales', 'Chester Fernandez'), ('Marketing', 'Charles Bailey'), ('Marketing', 'Gail Hill'), ('Accounting', 'Casey Jenkins'), ('Accounting', 'James Wilkins'), ('Accounting', 'Casey Jenkins'), ('Marketing', 'Mario Reynolds'), ('Accounting', 'Aaron Ferguson'), ('Accounting', 'Kimberly Reynolds'), ('Sales', 'Robert Barnes'), ('Accounting', 'Aaron Ferguson'), ('Accounting', 'Jane Jackson'), ('Developing', 'Deborah George'), ('Accounting', 'Michelle Wright'), ('Accounting', 'Dale Houston')]\n",
    "\n",
    "data_d = defaultdict(list)\n",
    "\n",
    "for el in staff_broken:\n",
    "    if el[1] not in data_d[el[0]]:\n",
    "        data_d[el[0]].append(el[1])\n",
    "for ot in sorted(data_d):\n",
    "    print(ot,end=\": \")\n",
    "    print(*sorted(data_d[ot]),sep=\", \")"
   ]
  }
 ],
 "metadata": {
  "kernelspec": {
   "display_name": "Python 3",
   "language": "python",
   "name": "python3"
  },
  "language_info": {
   "codemirror_mode": {
    "name": "ipython",
    "version": 3
   },
   "file_extension": ".py",
   "mimetype": "text/x-python",
   "name": "python",
   "nbconvert_exporter": "python",
   "pygments_lexer": "ipython3",
   "version": "3.12.2"
  }
 },
 "nbformat": 4,
 "nbformat_minor": 2
}
