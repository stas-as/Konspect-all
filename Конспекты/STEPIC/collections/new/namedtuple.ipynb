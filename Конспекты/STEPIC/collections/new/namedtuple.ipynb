{
 "cells": [
  {
   "cell_type": "code",
   "execution_count": 1,
   "metadata": {},
   "outputs": [
    {
     "name": "stdout",
     "output_type": "stream",
     "text": [
      "pon(x=12, y=25)\n",
      "25 12\n",
      "25 12\n",
      "<class '__main__.pon'>\n"
     ]
    }
   ],
   "source": [
    "from collections import namedtuple\n",
    "\n",
    "point = namedtuple(\"pon\",[\"x\",\"y\"])\n",
    "\n",
    "p = point(12,25)\n",
    "\n",
    "print(p)\n",
    "print(p.y, p.x)\n",
    "print(p[1], p[0])\n",
    "print(type(p))"
   ]
  },
  {
   "cell_type": "code",
   "execution_count": 2,
   "metadata": {},
   "outputs": [
    {
     "name": "stdout",
     "output_type": "stream",
     "text": [
      "11\n",
      "6\n",
      "0.0\n",
      "25\n"
     ]
    }
   ],
   "source": [
    "from collections import namedtuple\n",
    "\n",
    "Weather = namedtuple('Weather', ['temp', 'wind', 'rain', 'cloud'])\n",
    "\n",
    "tokyo_weather = Weather(11, 6, 0.0, 25)\n",
    "\n",
    "for x in tokyo_weather:\n",
    "    print(x)"
   ]
  }
 ],
 "metadata": {
  "kernelspec": {
   "display_name": "Python 3",
   "language": "python",
   "name": "python3"
  },
  "language_info": {
   "codemirror_mode": {
    "name": "ipython",
    "version": 3
   },
   "file_extension": ".py",
   "mimetype": "text/x-python",
   "name": "python",
   "nbconvert_exporter": "python",
   "pygments_lexer": "ipython3",
   "version": "3.12.2"
  }
 },
 "nbformat": 4,
 "nbformat_minor": 2
}
