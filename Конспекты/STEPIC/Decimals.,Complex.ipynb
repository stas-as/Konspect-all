{
 "cells": [
  {
   "cell_type": "code",
   "execution_count": 6,
   "metadata": {},
   "outputs": [
    {
     "name": "stdout",
     "output_type": "stream",
     "text": [
      "279.12\n",
      "9.85 9.74 9.73 9.60 9.36\n",
      "9.85\n"
     ]
    }
   ],
   "source": [
    "from decimal import *\n",
    "s = '9.73 8.84 8.92 9.60 9.32 8.97 8.53 1.26 6.62 9.85 1.85 1.80 0.83 6.75 9.74 9.11 9.14 5.03 5.03 1.34 3.52 8.09 7.89 8.24 8.23 5.22 0.30 2.59 1.25 6.24 2.14 7.54 5.72 2.75 2.32 2.69 9.32 8.11 4.53 0.80 0.08 9.36 5.22 4.08 3.86 5.56 1.43 8.36 6.29 5.13'\n",
    "n = [Decimal(i) for i in s.split()]\n",
    "print(sum(n))\n",
    "print(*sorted(n,reverse=True)[:5])\n"
   ]
  },
  {
   "cell_type": "code",
   "execution_count": 12,
   "metadata": {},
   "outputs": [
    {
     "name": "stdout",
     "output_type": "stream",
     "text": [
      "3/7\n"
     ]
    }
   ],
   "source": [
    "from fractions import Fraction as Fr\n",
    "from math import *\n",
    "n = 10#int(input())\n",
    "\n",
    "print(max([Fr(i,n-i) for i in range(1,n) if gcd(i,n-i) == 1 and i < n-i]))\n"
   ]
  },
  {
   "cell_type": "code",
   "execution_count": 22,
   "metadata": {},
   "outputs": [
    {
     "name": "stdout",
     "output_type": "stream",
     "text": [
      "1/5\n",
      "1/4\n",
      "1/3\n",
      "2/5\n",
      "1/2\n",
      "3/5\n",
      "2/3\n",
      "3/4\n",
      "4/5\n"
     ]
    }
   ],
   "source": [
    "from fractions import Fraction as Fr\n",
    "\n",
    "n = 5 # int(input())\n",
    "s = set()\n",
    "[[s.add(Fr(i,j)) for j in range(1,n+1) if i < j]for i in range(1,n)]\n",
    "print(*sorted(s),sep=\"\\n\")"
   ]
  },
  {
   "cell_type": "code",
   "execution_count": 5,
   "metadata": {},
   "outputs": [
    {
     "name": "stdout",
     "output_type": "stream",
     "text": [
      "(-20+15j)\n",
      "25.0\n"
     ]
    }
   ],
   "source": [
    "numbers = [3 + 4j, 3 + 1j, -7 + 3j, 4 + 8j, -8 + 10j, -3 + 2j, 3 - 2j, -9 + 9j, -1 - 1j, -1 - 10j, -20 + 15j, -21 + 1j, 1j, -3 + 8j, 4 - 6j, 8 + 2j, 2 + 3j]\n",
    "s = dict(zip([abs(i) for i in numbers],numbers))\n",
    "print(s[max(s)])\n",
    "print(max(s))\n"
   ]
  },
  {
   "cell_type": "code",
   "execution_count": 2,
   "metadata": {},
   "outputs": [
    {
     "name": "stdout",
     "output_type": "stream",
     "text": [
      "None\n"
     ]
    }
   ],
   "source": [
    "def a(b):\n",
    "    d = b*2\n",
    "    \n",
    "print(a(4))"
   ]
  },
  {
   "cell_type": "code",
   "execution_count": 4,
   "metadata": {},
   "outputs": [
    {
     "name": "stdout",
     "output_type": "stream",
     "text": [
      "<class 'complex'>\n"
     ]
    }
   ],
   "source": [
    "j = 5\n",
    "a = 3+4j\n",
    "print(type(a))"
   ]
  }
 ],
 "metadata": {
  "kernelspec": {
   "display_name": "Python 3",
   "language": "python",
   "name": "python3"
  },
  "language_info": {
   "codemirror_mode": {
    "name": "ipython",
    "version": 3
   },
   "file_extension": ".py",
   "mimetype": "text/x-python",
   "name": "python",
   "nbconvert_exporter": "python",
   "pygments_lexer": "ipython3",
   "version": "3.9.13"
  }
 },
 "nbformat": 4,
 "nbformat_minor": 2
}
