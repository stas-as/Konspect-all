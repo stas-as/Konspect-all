{
 "cells": [
  {
   "cell_type": "code",
   "execution_count": 1,
   "metadata": {},
   "outputs": [
    {
     "name": "stdout",
     "output_type": "stream",
     "text": [
      "Hello\n",
      "world!from\n",
      "python\n",
      "Bye-bye\n"
     ]
    }
   ],
   "source": [
    "import sys\n",
    "\n",
    "print('Hello')\n",
    "sys.stdout.write('world!')\n",
    "print('from')\n",
    "sys.stdout.write('python\\n')\n",
    "print('Bye-bye')\n",
    "\n"
   ]
  },
  {
   "cell_type": "code",
   "execution_count": 10,
   "metadata": {},
   "outputs": [
    {
     "name": "stdout",
     "output_type": "stream",
     "text": [
      "Информзащита\n",
      "Форс\n",
      "OFT group\n",
      "Oracle\n",
      "Atos\n",
      "Микрон\n",
      "Гринатом\n",
      "ХайТэк\n",
      "Сател\n",
      "Лига Цифровой Экономики\n",
      "TerraLink\n",
      "АйТеко\n",
      "Itransition\n",
      "Эвотор\n",
      "Angara\n",
      "OCS Distribution\n",
      "Hikvision\n",
      "Тринити\n",
      "iCore\n",
      "Ростелеком\n",
      "Сигма\n",
      "Аквариус\n",
      "Philax\n",
      "Softline\n",
      "IBS\n",
      "Инфосистемы Джет\n",
      "Ситроникс\n",
      "ИнфоТеКС\n",
      "Инлайн Груп\n",
      "Элтекс\n"
     ]
    }
   ],
   "source": [
    "from  csv import *\n",
    "with open(\"salary_data.csv\", \"r\", encoding=\"utf-8\") as f:\n",
    "    d = reader(f,delimiter=\";\")\n",
    "    next(d)\n",
    "    my_dict={}\n",
    "    for com,slr in d:\n",
    "        my_dict[com] = my_dict.get(com,[]) + [int(slr)]\n",
    "    res = sorted(my_dict.keys(),key=lambda x: (sum(my_dict[x]) / len(my_dict[x]),x))\n",
    "    print(*res,sep=\"\\n\")\n",
    "\n"
   ]
  },
  {
   "cell_type": "code",
   "execution_count": 7,
   "metadata": {},
   "outputs": [
    {
     "name": "stdout",
     "output_type": "stream",
     "text": [
      "Информзащита\n",
      "Форс\n",
      "OFT group\n",
      "Oracle\n",
      "Atos\n",
      "Микрон\n",
      "Гринатом\n",
      "ХайТэк\n",
      "Сател\n",
      "Лига Цифровой Экономики\n",
      "TerraLink\n",
      "АйТеко\n",
      "Itransition\n",
      "Эвотор\n",
      "Angara\n",
      "OCS Distribution\n",
      "Hikvision\n",
      "Тринити\n",
      "iCore\n",
      "Ростелеком\n",
      "Сигма\n",
      "Аквариус\n",
      "Philax\n",
      "Softline\n",
      "IBS\n",
      "Инфосистемы Джет\n",
      "Ситроникс\n",
      "ИнфоТеКС\n",
      "Инлайн Груп\n",
      "Элтекс\n"
     ]
    }
   ],
   "source": [
    "with open(\"clue_average_salary.txt\", \"r\", encoding=\"utf-8\") as f:\n",
    "    print(f.read())"
   ]
  }
 ],
 "metadata": {
  "kernelspec": {
   "display_name": "Python 3",
   "language": "python",
   "name": "python3"
  },
  "language_info": {
   "codemirror_mode": {
    "name": "ipython",
    "version": 3
   },
   "file_extension": ".py",
   "mimetype": "text/x-python",
   "name": "python",
   "nbconvert_exporter": "python",
   "pygments_lexer": "ipython3",
   "version": "3.9.13"
  }
 },
 "nbformat": 4,
 "nbformat_minor": 2
}
