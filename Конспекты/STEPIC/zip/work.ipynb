{
 "cells": [
  {
   "cell_type": "markdown",
   "metadata": {},
   "source": [
    "|симвл|свойства|\n",
    "|---|----------------------------------------------|\n",
    "|\\n\t|(newline) перевод каретки на следующую строку|\n",
    "|\\r\t|(return) перевод каретки на в начало текущей строки|\n",
    "|\\t\t|(tab) табуляция (отступ, красная строка)|\n",
    "|\\b\t|(backspace) перевод каретки на один символ назад|"
   ]
  },
  {
   "cell_type": "code",
   "execution_count": 2,
   "metadata": {},
   "outputs": [
    {
     "name": "stdout",
     "output_type": "stream",
     "text": [
      "File Name                                             Modified             Size\n",
      "test/                                          2021-11-27 12:47:10            0\n",
      "test/Картинки/                                 2021-11-27 12:49:02            0\n",
      "test/Картинки/1.jpg                            2021-09-02 12:30:20        90156\n",
      "test/Картинки/avatar.png                       2021-08-20 09:38:44        19053\n",
      "test/Картинки/certificate.png                  2021-10-23 09:46:36        43699\n",
      "test/Картинки/py.png                           2021-07-28 17:55:56        33522\n",
      "test/Картинки/World_Time_Zones_Map.png         2021-11-08 07:30:06      2324421\n",
      "test/Картинки/Снимок экрана.png                2021-10-01 20:47:02        10878\n",
      "test/Неравенства.djvu                          2021-08-19 08:39:06      5283010\n",
      "test/Программы/                                2021-11-27 12:48:20            0\n",
      "test/Программы/image_util.py                   2021-11-18 12:42:22         4955\n",
      "test/Программы/sort.py                         2021-11-14 19:31:02           61\n",
      "test/Разные файлы/                             2021-11-27 12:48:10            0\n",
      "test/Разные файлы/astros.json                  2021-11-08 09:29:58          505\n"
     ]
    }
   ],
   "source": [
    "from zipfile import ZipFile\n",
    "\n",
    "with ZipFile('test.zip') as zip_file:\n",
    "    zip_file.printdir()"
   ]
  },
  {
   "cell_type": "code",
   "execution_count": 6,
   "metadata": {},
   "outputs": [
    {
     "name": "stdout",
     "output_type": "stream",
     "text": [
      "<ZipInfo filename='test/' external_attr=0x10>\n",
      "<ZipInfo filename='test/Картинки/' external_attr=0x10>\n",
      "<ZipInfo filename='test/Картинки/1.jpg' compress_type=deflate external_attr=0x20 file_size=90156 compress_size=84676>\n",
      "<ZipInfo filename='test/Картинки/avatar.png' external_attr=0x20 file_size=19053>\n",
      "<ZipInfo filename='test/Картинки/certificate.png' compress_type=deflate external_attr=0x20 file_size=43699 compress_size=43532>\n",
      "<ZipInfo filename='test/Картинки/py.png' compress_type=deflate external_attr=0x20 file_size=33522 compress_size=33443>\n",
      "<ZipInfo filename='test/Картинки/World_Time_Zones_Map.png' compress_type=deflate external_attr=0x20 file_size=2324421 compress_size=2322032>\n",
      "<ZipInfo filename='test/Картинки/Снимок экрана.png' compress_type=deflate external_attr=0x20 file_size=10878 compress_size=10614>\n",
      "<ZipInfo filename='test/Неравенства.djvu' external_attr=0x20 file_size=5283010>\n",
      "<ZipInfo filename='test/Программы/' external_attr=0x10>\n",
      "<ZipInfo filename='test/Программы/image_util.py' compress_type=deflate external_attr=0x20 file_size=4955 compress_size=1641>\n",
      "<ZipInfo filename='test/Программы/sort.py' compress_type=deflate external_attr=0x20 file_size=61 compress_size=58>\n",
      "<ZipInfo filename='test/Разные файлы/' external_attr=0x10>\n",
      "<ZipInfo filename='test/Разные файлы/astros.json' compress_type=deflate external_attr=0x20 file_size=505 compress_size=208>\n"
     ]
    }
   ],
   "source": [
    "info = zip_file.infolist()\n",
    "for i in info:\n",
    "    print(i)"
   ]
  },
  {
   "cell_type": "code",
   "execution_count": 7,
   "metadata": {},
   "outputs": [
    {
     "name": "stdout",
     "output_type": "stream",
     "text": [
      "test/\n",
      "test/Картинки/\n",
      "test/Картинки/1.jpg\n",
      "test/Картинки/avatar.png\n",
      "test/Картинки/certificate.png\n",
      "test/Картинки/py.png\n",
      "test/Картинки/World_Time_Zones_Map.png\n",
      "test/Картинки/Снимок экрана.png\n",
      "test/Неравенства.djvu\n",
      "test/Программы/\n",
      "test/Программы/image_util.py\n",
      "test/Программы/sort.py\n",
      "test/Разные файлы/\n",
      "test/Разные файлы/astros.json\n"
     ]
    }
   ],
   "source": [
    "with ZipFile('test.zip') as zip_file:\n",
    "    info = zip_file.namelist()\n",
    "    print(*info, sep='\\n')"
   ]
  },
  {
   "cell_type": "code",
   "execution_count": 8,
   "metadata": {},
   "outputs": [
    {
     "name": "stdout",
     "output_type": "stream",
     "text": [
      "4955\n",
      "1641\n",
      "test/Программы/image_util.py\n",
      "(2021, 11, 18, 12, 42, 22)\n"
     ]
    }
   ],
   "source": [
    "from zipfile import ZipFile\n",
    "\n",
    "with ZipFile('test.zip') as zip_file:\n",
    "    info = zip_file.namelist()                # получаем названия всех файлов архива\n",
    "    last_file = zip_file.getinfo(info[-4])    # получаем информацию об отдельном файле\n",
    "    print(last_file.file_size)\n",
    "    print(last_file.compress_size)\n",
    "    print(last_file.filename)\n",
    "    print(last_file.date_time)"
   ]
  },
  {
   "cell_type": "code",
   "execution_count": 10,
   "metadata": {},
   "outputs": [],
   "source": [
    "from zipfile import ZipFile\n",
    "\n",
    "with ZipFile('test.zip') as zip_file:\n",
    "    zip_file.extract('test/Картинки/avatar.png')\n",
    "    zip_file.extract('test/Программы/image_util.py')\n",
    "    zip_file.extract('lse.jpeg')"
   ]
  },
  {
   "cell_type": "code",
   "execution_count": 13,
   "metadata": {},
   "outputs": [
    {
     "name": "stdout",
     "output_type": "stream",
     "text": [
      "fontlist-v330.json\n"
     ]
    }
   ],
   "source": [
    "from zipfile import ZipFile\n",
    "\n",
    "with ZipFile(\"workbook.zip\") as z:\n",
    "    info = z.infolist()\n",
    "    n = []\n",
    "    for el in info:\n",
    "        if not el.is_dir():\n",
    "            n.append([el.filename, el.compress_size / el.file_size])\n",
    "    print(min(n,key= lambda x: x[1])[0].split('/')[-1])"
   ]
  },
  {
   "cell_type": "code",
   "execution_count": 9,
   "metadata": {},
   "outputs": [
    {
     "name": "stdout",
     "output_type": "stream",
     "text": [
      "2324421\n",
      "2322032\n",
      "test/Картинки/World_Time_Zones_Map.png\n",
      "(2021, 11, 8, 7, 30, 6)\n"
     ]
    }
   ],
   "source": [
    "with ZipFile('test.zip') as zip_file:\n",
    "    info = zip_file.infolist()\n",
    "    print(info[6].file_size)                # размер начального файла в байтах\n",
    "    print(info[6].compress_size)            # размер сжатого файла в байтах\n",
    "    print(info[6].filename)                 # имя файла\n",
    "    print(info[6].date_time)                # дата изменения файла"
   ]
  },
  {
   "cell_type": "code",
   "execution_count": 12,
   "metadata": {},
   "outputs": [
    {
     "name": "stdout",
     "output_type": "stream",
     "text": [
      "countries.json\n",
      "data_sample.csv\n",
      "earth.jpg\n",
      "exam.txt\n",
      "fipi_demo_2022.pdf\n",
      "homework.py\n",
      "python.pdf\n",
      "readme.txt\n",
      "shopping_list.txt\n",
      "task_results.xlsx\n"
     ]
    }
   ],
   "source": [
    "from datetime import *\n",
    "from zipfile import ZipFile\n",
    "\n",
    "with ZipFile(\"workbook.zip\") as z:\n",
    "    info = z.infolist()\n",
    "    res = []\n",
    "    start = datetime(2021, 11, 30, 14, 22, 0)\n",
    "    for el in info:\n",
    "        if not el.is_dir() and start < datetime(*el.date_time):\n",
    "            res.append(el.filename.split(\"/\")[-1])\n",
    "\n",
    "    for i in sorted(res):\n",
    "        print(i)"
   ]
  },
  {
   "cell_type": "code",
   "execution_count": 1,
   "metadata": {},
   "outputs": [
    {
     "name": "stdout",
     "output_type": "stream",
     "text": [
      "Alexandra Savior – Crying All the Time.mp3\n",
      "  Дата модификации файла: 2021-11-30 13:27:02\n",
      "  Объем исходного файла: 5057559 байт(а)\n",
      "  Объем сжатого файла: 5051745 байт(а)\n",
      "\n",
      "Hollow Knight Silksong.exe\n",
      "  Дата модификации файла: 2013-08-22 08:20:06\n",
      "  Объем исходного файла: 805992 байт(а)\n",
      "  Объем сжатого файла: 494930 байт(а)\n",
      "\n",
      "Psychonauts 2.exe\n",
      "  Дата модификации файла: 2013-08-22 08:20:06\n",
      "  Объем исходного файла: 805992 байт(а)\n",
      "  Объем сжатого файла: 494930 байт(а)\n",
      "\n",
      "code.jpeg\n",
      "  Дата модификации файла: 2021-11-30 13:18:26\n",
      "  Объем исходного файла: 412414 байт(а)\n",
      "  Объем сжатого файла: 410006 байт(а)\n",
      "\n",
      "countries.json\n",
      "  Дата модификации файла: 2021-11-30 19:42:40\n",
      "  Объем исходного файла: 22 байт(а)\n",
      "  Объем сжатого файла: 22 байт(а)\n",
      "\n",
      "data_sample.csv\n",
      "  Дата модификации файла: 2021-11-30 19:41:58\n",
      "  Объем исходного файла: 15 байт(а)\n",
      "  Объем сжатого файла: 15 байт(а)\n",
      "\n",
      "earth.jpg\n",
      "  Дата модификации файла: 2021-11-30 20:15:26\n",
      "  Объем исходного файла: 335250 байт(а)\n",
      "  Объем сжатого файла: 330037 байт(а)\n",
      "\n",
      "exam.txt\n",
      "  Дата модификации файла: 2021-11-30 20:16:44\n",
      "  Объем исходного файла: 9 байт(а)\n",
      "  Объем сжатого файла: 9 байт(а)\n",
      "\n",
      "fipi_demo_2022.pdf\n",
      "  Дата модификации файла: 2021-11-30 14:33:56\n",
      "  Объем исходного файла: 682337 байт(а)\n",
      "  Объем сжатого файла: 624606 байт(а)\n",
      "\n",
      "fontlist-v330.json\n",
      "  Дата модификации файла: 2021-11-19 10:53:12\n",
      "  Объем исходного файла: 96401 байт(а)\n",
      "  Объем сжатого файла: 4803 байт(а)\n",
      "\n",
      "homework.py\n",
      "  Дата модификации файла: 2021-11-30 14:36:06\n",
      "  Объем исходного файла: 14 байт(а)\n",
      "  Объем сжатого файла: 14 байт(а)\n",
      "\n",
      "how to prove.pdf\n",
      "  Дата модификации файла: 2021-11-30 13:27:36\n",
      "  Объем исходного файла: 660617 байт(а)\n",
      "  Объем сжатого файла: 654933 байт(а)\n",
      "\n",
      "python.pdf\n",
      "  Дата модификации файла: 2021-11-30 20:22:40\n",
      "  Объем исходного файла: 8237200 байт(а)\n",
      "  Объем сжатого файла: 7606256 байт(а)\n",
      "\n",
      "readme.txt\n",
      "  Дата модификации файла: 2021-11-30 20:16:56\n",
      "  Объем исходного файла: 14 байт(а)\n",
      "  Объем сжатого файла: 14 байт(а)\n",
      "\n",
      "shopping_list.txt\n",
      "  Дата модификации файла: 2021-11-30 14:32:44\n",
      "  Объем исходного файла: 25 байт(а)\n",
      "  Объем сжатого файла: 25 байт(а)\n",
      "\n",
      "stepik.png\n",
      "  Дата модификации файла: 2021-11-30 13:28:14\n",
      "  Объем исходного файла: 11378 байт(а)\n",
      "  Объем сжатого файла: 10294 байт(а)\n",
      "\n",
      "task_results.xlsx\n",
      "  Дата модификации файла: 2021-11-30 20:21:32\n",
      "  Объем исходного файла: 13420 байт(а)\n",
      "  Объем сжатого файла: 11039 байт(а)\n",
      "\n",
      "test.py\n",
      "  Дата модификации файла: 2021-11-30 14:09:04\n",
      "  Объем исходного файла: 42 байт(а)\n",
      "  Объем сжатого файла: 42 байт(а)\n"
     ]
    }
   ],
   "source": [
    "from datetime import *\n",
    "from zipfile import ZipFile\n",
    "\n",
    "with ZipFile(\"workbook.zip\") as z:\n",
    "    info = z.infolist()\n",
    "    res = {}\n",
    "    for el in info:\n",
    "        if not el.is_dir():\n",
    "            res[el.filename.split(\"/\")[-1]] = f\"{el.filename.split('/')[-1]}\\n  Дата модификации файла: {datetime(*el.date_time)}\\n  Объем исходного файла: {el.file_size} байт(а)\\n  Объем сжатого файла: {el.compress_size} байт(а)\"\n",
    "    print(*map(lambda x: res[x],sorted(res),), sep=\"\\n\\n\")"
   ]
  },
  {
   "cell_type": "code",
   "execution_count": 5,
   "metadata": {},
   "outputs": [],
   "source": [
    "from zipfile import ZipFile\n",
    "def extract_this(zip_name,*args):\n",
    "    with  ZipFile(zip_name) as z:\n",
    "        if args:\n",
    "            for name in args:\n",
    "                z.extract(name)\n",
    "        else:\n",
    "            z.extractall()"
   ]
  },
  {
   "cell_type": "code",
   "execution_count": 7,
   "metadata": {},
   "outputs": [],
   "source": [
    "extract_this(\"workbook.zip\")"
   ]
  },
  {
   "cell_type": "code",
   "execution_count": 24,
   "metadata": {},
   "outputs": [
    {
     "name": "stdout",
     "output_type": "stream",
     "text": [
      "Alex Iwobi\n",
      "Alexis Sanchez\n",
      "Hector Bellerin\n",
      "Laurent Koscielny\n",
      "Mesut Ozil\n",
      "Olivier Giroud\n",
      "Petr Cech\n",
      "Theo Walcott\n"
     ]
    }
   ],
   "source": [
    "from zipfile import ZipFile\n",
    "import json\n",
    "\n",
    "def is_correct_json(string):\n",
    "    try:\n",
    "        json.load(string)\n",
    "        return True\n",
    "    except:\n",
    "        return False\n",
    "\n",
    "\n",
    "with ZipFile(\"data.zip\") as z:\n",
    "    z.extractall()\n",
    "    info = z.infolist()\n",
    "    res = []\n",
    "    for el in info:\n",
    "        if not el.is_dir() and el.filename[-4:] == \"json\":\n",
    "            with z.open(el) as file:\n",
    "                if is_correct_json(file):\n",
    "                    with open(z.extract(el)) as f:\n",
    "                        data=json.load(f)\n",
    "                        if data[\"team\"] == \"Arsenal\":\n",
    "                            res.append(f'{data[\"first_name\"]} {data[\"last_name\"]}')\n",
    "    print(*sorted(res),sep=\"\\n\")"
   ]
  },
  {
   "cell_type": "code",
   "execution_count": 73,
   "metadata": {},
   "outputs": [
    {
     "name": "stdout",
     "output_type": "stream",
     "text": [
      "fun\n",
      "  movies\n",
      "  songs\n",
      "    Alexandra Savior Crying All the Time.mp3 5 MB\n",
      "games\n",
      "  not released\n",
      "    Hollow Knight Silksong.exe 787 KB\n",
      "  Psychonauts 2.exe 787 KB\n",
      "images\n",
      "  code.jpeg 403 KB\n",
      "  stepik.png 11 KB\n",
      "studying\n",
      "  books\n",
      "    how to prove.pdf 645 KB\n",
      "  data_sets\n",
      "    countries.json 22 B\n",
      "    data_sample.csv 15 B\n",
      "    fonts\n",
      "      fontlist-v330.json 94 KB\n",
      "    readme.txt 14 B\n",
      "    task_results.xlsx 13 KB\n",
      "  exam.txt 9 B\n",
      "  fipi_demo_2022.pdf 666 KB\n",
      "  homework.py 14 B\n",
      "earth.jpg 327 KB\n",
      "python.pdf 8 MB\n",
      "shopping_list.txt 25 B\n",
      "test.py 42 B\n"
     ]
    }
   ],
   "source": [
    "from zipfile import ZipFile\n",
    "\n",
    "def size_for_output(size_in_bites: int) -> str:\n",
    "    \"\"\"Возвращает строку (для вывода) <размер еденица>\"\"\"\n",
    "    if size_in_bites >= 1024 ** 3:\n",
    "        return f\"{str(round(size_in_bites / 1024 ** 3))} GB\"\n",
    "    if size_in_bites >= 1024 ** 2:\n",
    "        return f\"{str(round(size_in_bites / 1024 ** 2))} MB\"\n",
    "    if size_in_bites >= 1024:\n",
    "        return f\"{str(round(size_in_bites / 1024))} KB\"\n",
    "    return f\"{str(size_in_bites)} B\"\n",
    "    \n",
    "with ZipFile(\"desktop.zip\") as z:\n",
    "    info = z.infolist()\n",
    "    for el in info:\n",
    "        elms = el.filename.split(\"/\")\n",
    "        l = len(elms)\n",
    "        size = el.file_size\n",
    "        if l == 1:\n",
    "            print(elms[0] +\" \" + size_for_output(size))\n",
    "        else:\n",
    "            print([\"  \"*(l-1) + elms[-1] +\" \" + size_for_output(size),\"  \"*(l-2)+elms[-2]][elms[-1] == \"\"])"
   ]
  },
  {
   "cell_type": "code",
   "execution_count": 74,
   "metadata": {},
   "outputs": [
    {
     "name": "stdout",
     "output_type": "stream",
     "text": [
      "fun/\n",
      "fun/movies/\n",
      "fun/songs/\n",
      "fun/songs/Alexandra Savior Crying All the Time.mp3\n",
      "games/\n",
      "games/not released/\n",
      "games/not released/Hollow Knight Silksong.exe\n",
      "games/Psychonauts 2.exe\n",
      "images/\n",
      "images/code.jpeg\n",
      "images/stepik.png\n",
      "studying/\n",
      "studying/books/\n",
      "studying/books/how to prove.pdf\n",
      "studying/data_sets/\n",
      "studying/data_sets/countries.json\n",
      "studying/data_sets/data_sample.csv\n",
      "studying/data_sets/fonts/\n",
      "studying/data_sets/fonts/fontlist-v330.json\n",
      "studying/data_sets/readme.txt\n",
      "studying/data_sets/task_results.xlsx\n",
      "studying/exam.txt\n",
      "studying/fipi_demo_2022.pdf\n",
      "studying/homework.py\n",
      "earth.jpg\n",
      "python.pdf\n",
      "shopping_list.txt\n",
      "test.py\n"
     ]
    }
   ],
   "source": [
    "for el in info:\n",
    "    print(el.filename)"
   ]
  },
  {
   "cell_type": "code",
   "execution_count": 75,
   "metadata": {},
   "outputs": [
    {
     "data": {
      "text/plain": [
       "False"
      ]
     },
     "execution_count": 75,
     "metadata": {},
     "output_type": "execute_result"
    }
   ],
   "source": [
    "\"test.py\".split(\"/\")[-1] == \"\""
   ]
  },
  {
   "cell_type": "markdown",
   "metadata": {},
   "source": [
    "fun\n",
    "  movies\n",
    "  songs\n",
    "    Alexandra Savior Crying All the Time.mp3 5 MB\n",
    "games\n",
    "  not released\n",
    "    Hollow Knight Silksong.exe 489 KB\n",
    "  Psychonauts 2.exe 489 KB\n",
    "images\n",
    "  code.jpeg 400 KB\n",
    "  stepik.png 10 KB\n",
    "studying\n",
    "  books\n",
    "    how to prove.pdf 638 KB\n",
    "  data_sets\n",
    "    countries.json 24 B\n",
    "    data_sample.csv 17 B\n",
    "    fonts\n",
    "      fontlist-v330.json 4 KB\n",
    "    readme.txt 16 B\n",
    "    task_results.xlsx 11 KB\n",
    "  exam.txt 11 B\n",
    "  fipi_demo_2022.pdf 609 KB\n",
    "  homework.py 16 B\n",
    "earth.jpg 322 KB\n",
    "python.pdf 7 MB\n",
    "shopping_list.txt 27 B\n",
    "test.py 44 B"
   ]
  }
 ],
 "metadata": {
  "kernelspec": {
   "display_name": "Python 3",
   "language": "python",
   "name": "python3"
  },
  "language_info": {
   "codemirror_mode": {
    "name": "ipython",
    "version": 3
   },
   "file_extension": ".py",
   "mimetype": "text/x-python",
   "name": "python",
   "nbconvert_exporter": "python",
   "pygments_lexer": "ipython3",
   "version": "3.9.13"
  }
 },
 "nbformat": 4,
 "nbformat_minor": 2
}
