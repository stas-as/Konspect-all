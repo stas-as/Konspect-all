{
 "cells": [
  {
   "cell_type": "code",
   "execution_count": 1,
   "metadata": {},
   "outputs": [
    {
     "name": "stdout",
     "output_type": "stream",
     "text": [
      "Helga LJ Ruslan Riyad Maria\n"
     ]
    }
   ],
   "source": [
    "users = [{'name': 'Todd', 'phone': '551-1414', 'email': 'todd@gmail.com'},\n",
    "         {'name': 'Helga', 'phone': '555-1618', 'email': 'helga@mail.net'},\n",
    "         {'name': 'Olivia', 'phone': '449-3141', 'email': ''},\n",
    "         {'name': 'LJ', 'phone': '555-2718', 'email': 'lj@gmail.net'},\n",
    "         {'name': 'Ruslan', 'phone': '422-145-9098', 'email': 'rus-lan.cha@yandex.ru'},\n",
    "         {'name': 'John', 'phone': '233-421-32', 'email': ''},\n",
    "         {'name': 'Lara', 'phone': '+7998-676-2532', 'email': 'g.lara89@gmail.com'},\n",
    "         {'name': 'Alina', 'phone': '+7948-799-2434', 'email': 'ali.ch.b@gmail.com'},\n",
    "         {'name': 'Robert', 'phone': '420-2011', 'email': ''},\n",
    "         {'name': 'Riyad', 'phone': '128-8890-128', 'email': 'r.mahrez@mail.net'},\n",
    "         {'name': 'Khabib', 'phone': '+7995-600-9080', 'email': 'kh.nurmag@gmail.com'},\n",
    "         {'name': 'Olga', 'phone': '6449-314-1213', 'email': ''},\n",
    "         {'name': 'Roman', 'phone': '+7459-145-8059', 'email': 'roma988@mail.ru'},\n",
    "         {'name': 'Maria', 'phone': '12-129-3148', 'email': 'm.sharapova@gmail.com'},\n",
    "         {'name': 'Fedor', 'phone': '+7445-341-0545', 'email': ''},\n",
    "         {'name': 'Tim', 'phone': '242-449-3141', 'email': 'timm.ggg@yandex.ru'}]\n",
    "my_list = [d[\"name\"] for d in users if d[\"phone\"][-1] == \"8\"]\n",
    "print(*my_list)"
   ]
  },
  {
   "cell_type": "code",
   "execution_count": 2,
   "metadata": {},
   "outputs": [
    {
     "name": "stdout",
     "output_type": "stream",
     "text": [
      "one\n"
     ]
    }
   ],
   "source": [
    "my_dict = {0 :\"zero\", 1: \"one\", 2: \"two\", 3: \"three\", 4: \"four\", 5: \"five\", 6: \"six\", 7: \"seven\", 8: \"eight\", 9: \"nine\"}\n",
    "l = [my_dict[int(i)] for i in input()]\n",
    "print(*l)"
   ]
  },
  {
   "cell_type": "code",
   "execution_count": 3,
   "metadata": {},
   "outputs": [],
   "source": [
    "d = {\n",
    "    \".,?!:\" : \"1\",\n",
    "    \"ABC\"   : \"2\",\n",
    "    \"DEF\"   : \"3\",\n",
    "    \"GHI\"   : \"4\",\n",
    "    \"JKL\"   : \"5\",\n",
    "    \"MNO\"   : \"6\",\n",
    "    \"PQRS\"  : \"7\",\n",
    "    \"TUV\"   : \"8\",\n",
    "    \"WXYZ\"  : \"9\",\n",
    "    \" \"     : \"0\"\n",
    "}\n",
    "n = input().upper().replace('\"', \"\")\n",
    "for el in n:\n",
    "    for ke in list(d.keys()):\n",
    "        if el in ke:\n",
    "            k = ke\n",
    "            print(d[k] * (k.find(el) + 1),end=\"\")\n",
    "            break\n",
    "        \n"
   ]
  },
  {
   "cell_type": "code",
   "execution_count": 4,
   "metadata": {},
   "outputs": [
    {
     "data": {
      "text/plain": [
       "4433555555666110966677755531111"
      ]
     },
     "execution_count": 4,
     "metadata": {},
     "output_type": "execute_result"
    }
   ],
   "source": [
    "4433555555666110966677755531111\n"
   ]
  },
  {
   "cell_type": "code",
   "execution_count": 5,
   "metadata": {},
   "outputs": [
    {
     "data": {
      "text/plain": [
       "486.0"
      ]
     },
     "execution_count": 5,
     "metadata": {},
     "output_type": "execute_result"
    }
   ],
   "source": [
    "18 * 1.5 * 18\n"
   ]
  },
  {
   "cell_type": "code",
   "execution_count": 4,
   "metadata": {},
   "outputs": [
    {
     "data": {
      "text/plain": [
       "{1: 1,\n",
       " 2: 4,\n",
       " 3: 9,\n",
       " 4: 16,\n",
       " 5: 25,\n",
       " 6: 36,\n",
       " 7: 49,\n",
       " 8: 64,\n",
       " 9: 81,\n",
       " 10: 100,\n",
       " 11: 121,\n",
       " 12: 144,\n",
       " 13: 169,\n",
       " 14: 196,\n",
       " 15: 225}"
      ]
     },
     "execution_count": 4,
     "metadata": {},
     "output_type": "execute_result"
    }
   ],
   "source": [
    "result = {}\n",
    "for i in range(1,16):\n",
    "    result.update({i : i ** 2})\n",
    "result"
   ]
  },
  {
   "cell_type": "code",
   "execution_count": 8,
   "metadata": {},
   "outputs": [
    {
     "data": {
      "text/plain": [
       "{'a': 400,\n",
       " 'z': 999,\n",
       " 'b': 400,\n",
       " 'c': 312,\n",
       " 'd': 445,\n",
       " 'e': 98,\n",
       " 't': 853,\n",
       " 'q': 34,\n",
       " 'f': 90,\n",
       " 'm': 230,\n",
       " 'p': 123,\n",
       " 'w': 111}"
      ]
     },
     "execution_count": 8,
     "metadata": {},
     "output_type": "execute_result"
    }
   ],
   "source": [
    "dict1 = {'a': 100, 'z': 333, 'b': 200, 'c': 300, 'd': 45, 'e': 98, 't': 76, 'q': 34, 'f': 90, 'm': 230}\n",
    "dict2 = {'a': 300, 'b': 200, 'd': 400, 't': 777, 'c': 12, 'p': 123, 'w': 111, 'z': 666}\n",
    "\n",
    "result = dict1.copy()\n",
    "for el in dict2.keys():\n",
    "    result[el] = result.get(el, 0 ) + dict2[el]\n",
    "result"
   ]
  },
  {
   "cell_type": "code",
   "execution_count": 23,
   "metadata": {},
   "outputs": [
    {
     "name": "stdout",
     "output_type": "stream",
     "text": [
      "['banana', 12]\n"
     ]
    }
   ],
   "source": [
    "s = 'orange strawberry barley gooseberry apple apricot barley currant orange melon pomegranate banana banana orange barley apricot plum grapefruit banana quince strawberry barley grapefruit banana grapes melon strawberry apricot currant currant gooseberry raspberry apricot currant orange lime quince grapefruit barley banana melon pomegranate barley banana orange barley apricot plum banana quince lime grapefruit strawberry gooseberry apple barley apricot currant orange melon pomegranate banana banana orange apricot barley plum banana grapefruit banana quince currant orange melon pomegranate barley plum banana quince barley lime grapefruit pomegranate barley'\n",
    "r = {}\n",
    "m = [\"\",0]\n",
    "for el in sorted(s.split(),reverse=True):\n",
    "    r[el] = r.get(el,0) + 1\n",
    "    if r[el] >= m[1]:\n",
    "        m[0],m[1] = el,r[el]\n",
    "print(m)\n"
   ]
  },
  {
   "cell_type": "code",
   "execution_count": 13,
   "metadata": {},
   "outputs": [
    {
     "data": {
      "text/plain": [
       "{('Parker', 'Wilson', 50): ['Hatiko'],\n",
       " ('Josh', 'King', 25): ['Rusty', 'Balto', 'Barry', 'Lassie'],\n",
       " ('John', 'Smith', 28): ['Fido'],\n",
       " ('Jake', 'Smirnoff', 18): ['Butch'],\n",
       " ('Emma', 'Wright', 18): ['Odi'],\n",
       " ('Hannah', 'Taylor', 40): ['Snape'],\n",
       " ('Martha', 'Robinson', 73): ['Horry', 'Chase'],\n",
       " ('Alex', 'Martinez', 65): ['Giro'],\n",
       " ('Simon', 'Nevel', 32): ['Zooma', 'Rocky'],\n",
       " ('Martha', 'Williams', 38): ['Ace']}"
      ]
     },
     "execution_count": 13,
     "metadata": {},
     "output_type": "execute_result"
    }
   ],
   "source": [
    "pets = [('Hatiko', 'Parker', 'Wilson', 50),\n",
    "        ('Rusty', 'Josh', 'King', 25),\n",
    "        ('Fido', 'John', 'Smith', 28),\n",
    "        ('Butch', 'Jake', 'Smirnoff', 18),\n",
    "        ('Odi', 'Emma', 'Wright', 18),\n",
    "        ('Balto', 'Josh', 'King', 25),\n",
    "        ('Barry', 'Josh', 'King', 25),\n",
    "        ('Snape', 'Hannah', 'Taylor', 40),\n",
    "        ('Horry', 'Martha', 'Robinson', 73),\n",
    "        ('Giro', 'Alex', 'Martinez', 65),\n",
    "        ('Zooma', 'Simon', 'Nevel', 32),\n",
    "        ('Lassie', 'Josh', 'King', 25),\n",
    "        ('Chase', 'Martha', 'Robinson', 73),\n",
    "        ('Ace', 'Martha', 'Williams', 38),\n",
    "        ('Rocky', 'Simon', 'Nevel', 32)]\n",
    "\n",
    "result = {}\n",
    "for i in pets:\n",
    "    if i[1:] in result.keys():\n",
    "        result[i[1:]].append(i[0])\n",
    "    else:\n",
    "        result[i[1:]] = [i[0]]\n",
    "result"
   ]
  },
  {
   "cell_type": "code",
   "execution_count": 6,
   "metadata": {},
   "outputs": [
    {
     "data": {
      "text/plain": [
       "('Parker', 'Wilson', 50)"
      ]
     },
     "execution_count": 6,
     "metadata": {},
     "output_type": "execute_result"
    }
   ],
   "source": [
    "pets[0][1:]"
   ]
  },
  {
   "cell_type": "code",
   "execution_count": 9,
   "metadata": {},
   "outputs": [
    {
     "data": {
      "text/plain": [
       "{'l': 2, 'i': 1, 'v': 1, 'e': 1, 'r': 1}"
      ]
     },
     "execution_count": 9,
     "metadata": {},
     "output_type": "execute_result"
    }
   ],
   "source": [
    "a = {}\n",
    "for el in input():\n",
    "    a[el] = a.setdefault(el,0)+1\n",
    "a\n"
   ]
  },
  {
   "cell_type": "code",
   "execution_count": 10,
   "metadata": {},
   "outputs": [
    {
     "data": {
      "text/plain": [
       "{'l': 0, 'i': 0, 'v': 0, 'e': 0}"
      ]
     },
     "execution_count": 10,
     "metadata": {},
     "output_type": "execute_result"
    }
   ],
   "source": [
    "a={}\n",
    "[a[el] if el in a.keys() else a.setdefault(el,0) for el in input()]\n",
    "a"
   ]
  },
  {
   "cell_type": "code",
   "execution_count": 13,
   "metadata": {},
   "outputs": [
    {
     "data": {
      "text/plain": [
       "[[1, 2], [3, 4], [5, 6], [2, 1], [4, 3], [6, 5]]"
      ]
     },
     "execution_count": 13,
     "metadata": {},
     "output_type": "execute_result"
    }
   ],
   "source": [
    "a = [[1,2],[3,4],[5,6]]\n",
    "b = [el[::-1] for el in a]\n",
    "c = a+b\n",
    "c"
   ]
  },
  {
   "cell_type": "code",
   "execution_count": 3,
   "metadata": {},
   "outputs": [
    {
     "data": {
      "text/plain": [
       "{'timur': 17,\n",
       " 'larisa': 19,\n",
       " 'ronald': 76,\n",
       " 'dorothy': 62,\n",
       " 'harold': 36,\n",
       " 'rosaly': 18,\n",
       " 'rustam': 89,\n",
       " 'sveta': 75,\n",
       " 'anna': 55}"
      ]
     },
     "execution_count": 3,
     "metadata": {},
     "output_type": "execute_result"
    }
   ],
   "source": [
    "favorite_numbers = {'timur': 17, 'ruslan': 7, 'larisa': 19, 'roman': 123, 'rebecca': 293, 'ronald': 76, 'dorothy': 62, 'harold': 36, 'matt': 314, 'kim': 451, 'rosaly': 18, 'rustam': 89, 'soltan': 111, 'amir': 654, 'dima': 390, 'amiran': 777, 'geor': 999, 'sveta': 75, 'rita': 909, 'kirill': 404, 'olga': 271, 'anna': 55, 'madlen': 876}\n",
    "\n",
    "result = {k: favorite_numbers[k] for k in favorite_numbers.keys() if len(str(favorite_numbers[k])) == 2 }\n",
    "result"
   ]
  },
  {
   "cell_type": "code",
   "execution_count": 11,
   "metadata": {},
   "outputs": [
    {
     "data": {
      "text/plain": [
       "[{'S001': {'Camila Rodriguez': 86}},\n",
       " {'S002': {'Camila Rodriguez': 86}},\n",
       " {'S003': {'Camila Rodriguez': 86}},\n",
       " {'S004': {'Camila Rodriguez': 86}},\n",
       " {'S005': {'Camila Rodriguez': 86}},\n",
       " {'S006': {'Camila Rodriguez': 86}},\n",
       " {'S007': {'Camila Rodriguez': 86}},\n",
       " {'S008': {'Camila Rodriguez': 86}},\n",
       " {'S009': {'Camila Rodriguez': 86}},\n",
       " {'S010': {'Camila Rodriguez': 86}},\n",
       " {'S011': {'Camila Rodriguez': 86}},\n",
       " {'S012': {'Camila Rodriguez': 86}},\n",
       " {'S013': {'Camila Rodriguez': 86}}]"
      ]
     },
     "execution_count": 11,
     "metadata": {},
     "output_type": "execute_result"
    }
   ],
   "source": [
    "student_ids = ['S001', 'S002', 'S003', 'S004', 'S005', 'S006', 'S007', 'S008', 'S009', 'S010', 'S011', 'S012', 'S013'] \n",
    "student_names = ['Camila Rodriguez', 'Juan Cruz', 'Dan Richards', 'Sam Boyle', 'Batista Cesare', 'Francesco Totti', 'Khalid Hussain', 'Ethan Hawke', 'David Bowman', 'James Milner', 'Michael Owen', 'Gary Oldman', 'Tom Hardy'] \n",
    "student_grades = [86, 98, 89, 92, 45, 67, 89, 90, 100, 98, 10, 96, 93]\n",
    "\n",
    "result =  [{student_ids[i] : {student_names[0] : student_grades[0]}}  for i in range(len(student_ids))]\n",
    "result"
   ]
  },
  {
   "cell_type": "code",
   "execution_count": null,
   "metadata": {},
   "outputs": [],
   "source": [
    "data = ['a','b',{'foo': 1,'bar':{'x' : 10,'y' : 20,'z' : 30},'baz': 3},'c','d']"
   ]
  },
  {
   "cell_type": "code",
   "execution_count": 2,
   "metadata": {},
   "outputs": [
    {
     "data": {
      "text/plain": [
       "{'C1': [10, 20, 7, 6],\n",
       " 'C2': [20, 1, 2, 3, 12],\n",
       " 'C3': [12, 20],\n",
       " 'C4': [7],\n",
       " 'C5': [2, 4, 19],\n",
       " 'C6': [4, 6, 7, 10],\n",
       " 'C7': [4, 8, 12],\n",
       " 'C8': [3, 14, 15],\n",
       " 'C9': [2, 7, 18, 18]}"
      ]
     },
     "execution_count": 2,
     "metadata": {},
     "output_type": "execute_result"
    }
   ],
   "source": [
    "my_dict = {'C1': [10, 20, 30, 7, 6, 23, 90], 'C2': [20, 30, 40, 1, 2, 3, 90, 12], 'C3': [12, 34, 20, 21], 'C4': [22, 54, 209, 21, 7], 'C5': [2, 4, 29, 21, 19], 'C6': [4, 6, 7, 10, 55], 'C7': [4, 8, 12, 23, 42], 'C8': [3, 14, 15, 26, 48], 'C9': [2, 7, 18, 28, 18, 28]}\n",
    "for k,el in my_dict.items():\n",
    "    my_dict[k] = [i for i in el if i <= 20]\n",
    "my_dict"
   ]
  },
  {
   "cell_type": "code",
   "execution_count": 13,
   "metadata": {},
   "outputs": [
    {
     "name": "stdout",
     "output_type": "stream",
     "text": [
      "['angel.down@mail.ru', 'apple.fruit@msu.edu', 'beegeek.school@msu.edu', 'beegeek@msu.edu', 'cream.soda@hse.edu', 'google@yandex.ru', 'joanne@mail.ru', 'joseph@nosu.edu', 'larisa.mamuk@nosu.edu', 'ruslan.chaika@gmail.com', 'rustam.mini@gmail.com', 'stepik-best@gmail.com', 'surface@yandex.ru', 'svetlana.gaeva@nosu.edu', 'the.fame.moster@mail.ru', 'timyr@nosu.edu', 'tomas-henders@hse.edu', 'zivert@hse.edu']\n"
     ]
    }
   ],
   "source": [
    "emails = {'nosu.edu': ['timyr', 'joseph', 'svetlana.gaeva', 'larisa.mamuk'], \n",
    "          'gmail.com': ['ruslan.chaika', 'rustam.mini', 'stepik-best'], \n",
    "          'msu.edu': ['apple.fruit', 'beegeek', 'beegeek.school'], \n",
    "          'yandex.ru': ['surface', 'google'],\n",
    "          'hse.edu': ['tomas-henders', 'cream.soda', 'zivert'],\n",
    "          'mail.ru': ['angel.down', 'joanne', 'the.fame.moster']}\n",
    "b = []\n",
    "[b.extend([i+\"@\"+k for i in el]) for k,el in emails.items()]\n",
    "print(sorted(b))"
   ]
  },
  {
   "cell_type": "code",
   "execution_count": 26,
   "metadata": {},
   "outputs": [
    {
     "name": "stdout",
     "output_type": "stream",
     "text": [
      "age=28&name=timur\n",
      "game=2&sport=hockey&time=17\n",
      "game=2&sport=hockey&time=17\n"
     ]
    }
   ],
   "source": [
    "def build_query_string(params):\n",
    "    a = \"&\".join(sorted([str(k)+\"=\"+str(el) for k,el in params.items()]))\n",
    "    print(a)\n",
    "    return(a)\n",
    "    \n",
    "a = build_query_string({'name': 'timur', 'age': 28})\n",
    "print(build_query_string({'sport': 'hockey', 'game': 2, 'time': 17}))"
   ]
  },
  {
   "cell_type": "code",
   "execution_count": 30,
   "metadata": {},
   "outputs": [
    {
     "name": "stdout",
     "output_type": "stream",
     "text": [
      "{'a': {1, 5}, 'b': {17, 2, 10}, 'c': {50, 100}, 'd': {777}}\n"
     ]
    }
   ],
   "source": [
    "def merge(values):      # values - это список словарей\n",
    "    r = {}\n",
    "    [[r.setdefault(k,set()).add(i) for k,i in el.items()] for el in values]\n",
    "    return(r)\n",
    "result = [{'a': 1, 'b': 2}, {'b': 10, 'c': 100}, {'a': 1, 'b': 17, 'c': 50}, {'a': 5, 'd': 777}]\n",
    "\n",
    "print(merge(result))"
   ]
  },
  {
   "cell_type": "code",
   "execution_count": 31,
   "metadata": {},
   "outputs": [
    {
     "name": "stdout",
     "output_type": "stream",
     "text": [
      "{'a': 1, 'b': 2}\n",
      "{'b': 10, 'c': 100}\n",
      "{'a': 1, 'b': 17, 'c': 50}\n",
      "{'a': 5, 'd': 777}\n"
     ]
    },
    {
     "data": {
      "text/plain": [
       "[None, None, None, None]"
      ]
     },
     "execution_count": 31,
     "metadata": {},
     "output_type": "execute_result"
    }
   ],
   "source": [
    "[print(el) for el in result]"
   ]
  }
 ],
 "metadata": {
  "kernelspec": {
   "display_name": "Python 3",
   "language": "python",
   "name": "python3"
  },
  "language_info": {
   "codemirror_mode": {
    "name": "ipython",
    "version": 3
   },
   "file_extension": ".py",
   "mimetype": "text/x-python",
   "name": "python",
   "nbconvert_exporter": "python",
   "pygments_lexer": "ipython3",
   "version": "3.9.13"
  }
 },
 "nbformat": 4,
 "nbformat_minor": 2
}
