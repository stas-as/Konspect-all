{
 "cells": [
  {
   "cell_type": "code",
   "execution_count": 2,
   "metadata": {},
   "outputs": [],
   "source": [
    "import turtle"
   ]
  },
  {
   "cell_type": "code",
   "execution_count": 3,
   "metadata": {},
   "outputs": [
    {
     "ename": "",
     "evalue": "",
     "output_type": "error",
     "traceback": [
      "\u001b[1;31mThe Kernel crashed while executing code in the the current cell or a previous cell. Please review the code in the cell(s) to identify a possible cause of the failure. Click <a href='https://aka.ms/vscodeJupyterKernelCrash'>here</a> for more info. View Jupyter <a href='command:jupyter.viewOutput'>log</a> for further details."
     ]
    }
   ],
   "source": [
    "turtle.showturtle()\n",
    "turtle.forward(100)\n",
    "turtle.backward(250)"
   ]
  },
  {
   "cell_type": "code",
   "execution_count": 1,
   "metadata": {},
   "outputs": [
    {
     "data": {
      "text/plain": [
       "57.15767664977295"
      ]
     },
     "execution_count": 1,
     "metadata": {},
     "output_type": "execute_result"
    }
   ],
   "source": [
    "(66**2 - 33**2 )**0.5"
   ]
  },
  {
   "cell_type": "code",
   "execution_count": 5,
   "metadata": {},
   "outputs": [
    {
     "ename": "TypeError",
     "evalue": "cannot unpack non-iterable int object",
     "output_type": "error",
     "traceback": [
      "\u001b[1;31m---------------------------------------------------------------------------\u001b[0m",
      "\u001b[1;31mTypeError\u001b[0m                                 Traceback (most recent call last)",
      "Cell \u001b[1;32mIn[5], line 2\u001b[0m\n\u001b[0;32m      1\u001b[0m cor \u001b[38;5;241m=\u001b[39m [\u001b[38;5;241m20\u001b[39m,\u001b[38;5;241m10\u001b[39m,\u001b[38;5;241m30\u001b[39m]\n\u001b[1;32m----> 2\u001b[0m [\u001b[38;5;28mlist\u001b[39m(\u001b[38;5;28mrange\u001b[39m(xi\u001b[38;5;241m-\u001b[39msi,xi\u001b[38;5;241m+\u001b[39msi)) \u001b[38;5;28;01mfor\u001b[39;00m si,xi,yi \u001b[38;5;129;01min\u001b[39;00m cor]\n",
      "Cell \u001b[1;32mIn[5], line 2\u001b[0m, in \u001b[0;36m<listcomp>\u001b[1;34m(.0)\u001b[0m\n\u001b[0;32m      1\u001b[0m cor \u001b[38;5;241m=\u001b[39m [\u001b[38;5;241m20\u001b[39m,\u001b[38;5;241m10\u001b[39m,\u001b[38;5;241m30\u001b[39m]\n\u001b[1;32m----> 2\u001b[0m [\u001b[38;5;28mlist\u001b[39m(\u001b[38;5;28mrange\u001b[39m(xi\u001b[38;5;241m-\u001b[39msi,xi\u001b[38;5;241m+\u001b[39msi)) \u001b[38;5;28;01mfor\u001b[39;00m si,xi,yi \u001b[38;5;129;01min\u001b[39;00m cor]\n",
      "\u001b[1;31mTypeError\u001b[0m: cannot unpack non-iterable int object"
     ]
    }
   ],
   "source": [
    "cor = [20,10,30]\n",
    "[1 if (x in ) else 0 for si,xi,yi in cor]"
   ]
  },
  {
   "cell_type": "code",
   "execution_count": null,
   "metadata": {},
   "outputs": [],
   "source": [
    "from turtle import *\n",
    "\n",
    "speed(0)\n",
    "\n",
    "goto(-200,-200)\n",
    "fillcolor(\"darkblue\")\n",
    "begin_fill()\n",
    "for _ in range(4):\n",
    "  forward(400)\n",
    "  left(90)\n",
    "end_fill()\n",
    "for i in range(100,-100,-10):\n",
    "  penup()\n",
    "  goto(0,-130)\n",
    "  fillcolor(\"orange\")\n",
    "  begin_fill()\n",
    "  circle(130)\n",
    "  end_fill()\n",
    "  \n",
    "  penup()\n",
    "  goto(i,-130)\n",
    "  fillcolor(\"darkblue\")\n",
    "  begin_fill()\n",
    "  circle(130)\n",
    "  end_fill()\n",
    "  update()"
   ]
  }
 ],
 "metadata": {
  "kernelspec": {
   "display_name": "Python 3",
   "language": "python",
   "name": "python3"
  },
  "language_info": {
   "codemirror_mode": {
    "name": "ipython",
    "version": 3
   },
   "file_extension": ".py",
   "mimetype": "text/x-python",
   "name": "python",
   "nbconvert_exporter": "python",
   "pygments_lexer": "ipython3",
   "version": "3.9.13"
  }
 },
 "nbformat": 4,
 "nbformat_minor": 2
}
