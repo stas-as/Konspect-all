{
 "cells": [
  {
   "cell_type": "markdown",
   "metadata": {},
   "source": [
    "<=>?@ABCDEFGHIJKLMNOPQRSTUVWXYZ[]^_`abcdefghijklmnopqrstuvwxyz{|}~абвгдеёжзийклмнопрстуфхцчшщъыьэюяАБВГДЕЁЖЗИЙКЛМНОПРСТУФХЦЧШЩЪЫЬЭЮЯ !\"#$%&\\'()*+,-./0123456789:;"
   ]
  },
  {
   "cell_type": "code",
   "execution_count": null,
   "metadata": {},
   "outputs": [],
   "source": [
    "print(\"Переносим\\nстроку\")\n",
    "print(r\"Переносим\\nстроку\")"
   ]
  },
  {
   "cell_type": "code",
   "execution_count": null,
   "metadata": {},
   "outputs": [],
   "source": [
    "a = int(input(\"первое число\"))\n",
    "b = int(input(\"второе число\"))\n",
    "result = rf'{a}\\n + \\n{b}\\n = \\n{a + b}'\n",
    "print(result)"
   ]
  },
  {
   "cell_type": "code",
   "execution_count": 1,
   "metadata": {},
   "outputs": [
    {
     "name": "stdout",
     "output_type": "stream",
     "text": [
      "0123456789abcdefghijklmnopqrstuvwxyzABCDEFGHIJKLMNOPQRSTUVWXYZ!\"#$%&'()*+,-./:;<=>?@[\\]^_`{|}~ \t\n",
      "\u000b\f\n"
     ]
    }
   ],
   "source": [
    "from string import printable\n",
    "\n",
    "print(printable)"
   ]
  },
  {
   "cell_type": "code",
   "execution_count": null,
   "metadata": {},
   "outputs": [],
   "source": [
    "f\"\\(...\\)\""
   ]
  },
  {
   "cell_type": "markdown",
   "metadata": {},
   "source": [
    "Шаблон\tСоответствие\n",
    "- \\n\t-- Новая строка\n",
    "- .\t    -- Любой символ, кроме символа новой строки. Если flags=re.DOTALL - любой символ.\n",
    "- \\s\t-- Любой символ пробела, табуляции или новой строки.\n",
    "- \\S\t-- Любой символ, кроме пробела, табуляции или новой строки.\n",
    "- \\d\t-- Любая цифра. Ищет все цифры: арабские, персидские, индийские, и так далее. Не эквивалентен [0-9]\n",
    "- \\D\t-- Любой символ, кроме цифр.\n",
    "- \\w\t-- Любая буква, цифра, или _. Шаблон не соответствует выражению [a-zA-Z0-9_]! Буквы используются не только латинские, туда входит множество языков.\n",
    "- \\W\t-- Любой символ, кроме букв, цифр, и _.\n",
    "- \\b\t-- Промежуток между символом, совпадающим с \\w, и символом, не совпадающим с \\w в любом порядке.\n",
    "- \\B\t-- Промежуток между двумя символами, совпадающими с \\w или \\W.\n",
    "- \\A\t-- Начало всего текста\n",
    "- \\Z\t-- Конец всего текста\n",
    "- ^\t    -- Начало всего текста или начало строчки текста, если flags=re.MULTILINE\n",
    "- $\t    -- Конец всего текста или конец строчки текста, если flags=re.MULTILINE"
   ]
  }
 ],
 "metadata": {
  "kernelspec": {
   "display_name": "Python 3",
   "language": "python",
   "name": "python3"
  },
  "language_info": {
   "codemirror_mode": {
    "name": "ipython",
    "version": 3
   },
   "file_extension": ".py",
   "mimetype": "text/x-python",
   "name": "python",
   "nbconvert_exporter": "python",
   "pygments_lexer": "ipython3",
   "version": "3.9.13"
  },
  "orig_nbformat": 4
 },
 "nbformat": 4,
 "nbformat_minor": 2
}
