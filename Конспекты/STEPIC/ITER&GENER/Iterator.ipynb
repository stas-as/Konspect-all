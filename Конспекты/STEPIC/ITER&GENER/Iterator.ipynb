{
 "cells": [
  {
   "cell_type": "code",
   "execution_count": 2,
   "metadata": {},
   "outputs": [
    {
     "name": "stdout",
     "output_type": "stream",
     "text": [
      "1\n",
      "2\n",
      "5\n"
     ]
    }
   ],
   "source": [
    "numbers = [1, 2, 3, 4, 5]\n",
    "\n",
    "iterator = iter(numbers)\n",
    "\n",
    "print(next(iterator))\n",
    "print(next(iterator))\n",
    "\n",
    "del numbers[0]\n",
    "del numbers[1]\n",
    "\n",
    "print(next(iterator))"
   ]
  },
  {
   "cell_type": "code",
   "execution_count": null,
   "metadata": {},
   "outputs": [],
   "source": [
    "class Xrange:\n",
    "    def __init__(self, start, end, step=1):\n",
    "        iter(lambda : start + step)"
   ]
  },
  {
   "cell_type": "code",
   "execution_count": 2,
   "metadata": {},
   "outputs": [
    {
     "name": "stdout",
     "output_type": "stream",
     "text": [
      "10\n",
      "9\n",
      "8\n",
      "7\n",
      "6\n",
      "5\n",
      "4\n",
      "3\n",
      "2\n"
     ]
    }
   ],
   "source": [
    "start, end, step= 10, 1, -1\n",
    "while start > end:\n",
    "    print(start)\n",
    "    start += step"
   ]
  },
  {
   "cell_type": "code",
   "execution_count": 2,
   "metadata": {},
   "outputs": [
    {
     "name": "stdout",
     "output_type": "stream",
     "text": [
      "Jon Bale\n"
     ]
    }
   ],
   "source": [
    "from collections import namedtuple\n",
    "\n",
    "Person = namedtuple('Person', ['name', 'nationality', 'sex', 'birth', 'death'])\n",
    "\n",
    "persons = [Person('E. M. Ashe', 'American', 'male', 1867, 1941),\n",
    "           Person('Goran Aslin', 'Swedish', 'male', 1980, 0),\n",
    "           Person('Erik Gunnar Asplund', 'Swedish', 'male', 1885, 1940),\n",
    "           Person('Genevieve Asse', 'French', 'female', 1949, 0),\n",
    "           Person('Irene Adler', 'Swedish', 'female', 2005, 0),\n",
    "           Person('Sergio Asti', 'Italian', 'male', 1926, 0),\n",
    "           Person('Olof Backman', 'Swedish', 'male', 1999, 0),\n",
    "           Person('Alyson Hannigan', 'Swedish', 'female', 1940, 1987),\n",
    "           Person('Dana Atchley', 'American', 'female', 1941, 2000),\n",
    "           Person('Monika Andersson', 'Swedish', 'female', 1957, 0),\n",
    "           Person('Shura_Stone', 'Russian', 'male', 2000, 0),\n",
    "           Person('Jon Bale', 'Swedish', 'male', 2000, 0)]\n",
    "\n",
    "print(max((el for el in persons if el.nationality == \"Swedish\" and el.death == 0 and el.sex == \"male\"), key=lambda x: x.birth).name)"
   ]
  },
  {
   "cell_type": "code",
   "execution_count": null,
   "metadata": {},
   "outputs": [],
   "source": [
    "def parse_ranges(ranges):\n",
    "    yield from (i for start, end in (el.split(\"-\") for el in ranges.split(\",\")) for i in range(int(start), int(end)+1))"
   ]
  },
  {
   "cell_type": "code",
   "execution_count": null,
   "metadata": {},
   "outputs": [],
   "source": [
    "def filter_names(names: list[str], ignore_char: str, max_names: int):\n",
    "    c = 0\n",
    "    for el in (name for name in names if not name.lower().startswith(ignore_char.lower()) and name.isalpha()):\n",
    "        if c != max_names:\n",
    "            yield el\n",
    "            c += 1"
   ]
  },
  {
   "cell_type": "code",
   "execution_count": 2,
   "metadata": {},
   "outputs": [],
   "source": [
    "def nonempty_lines(file:str):\n",
    "    with open(file, \"r\", encoding=\"utf-8\") as f:\n",
    "        yield from (\"...\" if len(el) >= 25 else el for el in (line.rstrip() for line in f))"
   ]
  },
  {
   "cell_type": "code",
   "execution_count": 7,
   "metadata": {},
   "outputs": [
    {
     "name": "stdout",
     "output_type": "stream",
     "text": [
      "True\n",
      "1\n",
      "2\n"
     ]
    }
   ],
   "source": [
    "list_iterator = iter([1, 2, 3])\n",
    "new_iterator = iter(list_iterator)\n",
    "\n",
    "print(list_iterator is new_iterator)\n",
    "print(next(list_iterator))\n",
    "print(next(new_iterator))"
   ]
  },
  {
   "cell_type": "code",
   "execution_count": 1,
   "metadata": {},
   "outputs": [
    {
     "name": "stdout",
     "output_type": "stream",
     "text": [
      ".-'\"'-._.-'\"'-._.-'\"'-._.-'\"'-._.-'\"'-._.-'\"'-._.-'\"'-._.-'\"'-._.-'\"'-._.-'\"'-._.-'\"'-._.-'\"'-._.-'\"'-._.-'\"'-._.-'\"'-._.-'\"'-._.-'\"'-._.-'\"'-._.-'\"'-._.-'\"'-._.-'\"'-._.-'\"'-._.-'\"'-."
     ]
    },
    {
     "ename": "KeyboardInterrupt",
     "evalue": "",
     "output_type": "error",
     "traceback": [
      "\u001b[1;31m---------------------------------------------------------------------------\u001b[0m",
      "\u001b[1;31mKeyboardInterrupt\u001b[0m                         Traceback (most recent call last)",
      "Cell \u001b[1;32mIn[1], line 8\u001b[0m\n\u001b[0;32m      6\u001b[0m \u001b[38;5;28;01mfor\u001b[39;00m c \u001b[38;5;129;01min\u001b[39;00m it\u001b[38;5;241m.\u001b[39mcycle(symbols):\n\u001b[0;32m      7\u001b[0m     \u001b[38;5;28mprint\u001b[39m(c, end\u001b[38;5;241m=\u001b[39m\u001b[38;5;124m'\u001b[39m\u001b[38;5;124m'\u001b[39m)\n\u001b[1;32m----> 8\u001b[0m     \u001b[43mtime\u001b[49m\u001b[38;5;241;43m.\u001b[39;49m\u001b[43msleep\u001b[49m\u001b[43m(\u001b[49m\u001b[38;5;241;43m0.05\u001b[39;49m\u001b[43m)\u001b[49m\n",
      "\u001b[1;31mKeyboardInterrupt\u001b[0m: "
     ]
    }
   ],
   "source": [
    "import itertools as it\n",
    "import time\n",
    "\n",
    "symbols = ['.', '-', \"'\", '\"', \"'\", '-', '.', '_']\n",
    "\n",
    "for c in it.cycle(symbols):\n",
    "    print(c, end='')\n",
    "    time.sleep(0.05)"
   ]
  },
  {
   "cell_type": "code",
   "execution_count": 2,
   "metadata": {},
   "outputs": [
    {
     "name": "stdout",
     "output_type": "stream",
     "text": [
      "\"'-._.-'"
     ]
    },
    {
     "ename": "KeyboardInterrupt",
     "evalue": "",
     "output_type": "error",
     "traceback": [
      "\u001b[1;31m---------------------------------------------------------------------------\u001b[0m",
      "\u001b[1;31mKeyboardInterrupt\u001b[0m                         Traceback (most recent call last)",
      "Cell \u001b[1;32mIn[2], line 9\u001b[0m\n\u001b[0;32m      7\u001b[0m \u001b[38;5;28mprint\u001b[39m(symbols, end\u001b[38;5;241m=\u001b[39m\u001b[38;5;124m'\u001b[39m\u001b[38;5;124m'\u001b[39m)\n\u001b[0;32m      8\u001b[0m symbols \u001b[38;5;241m=\u001b[39m \u001b[38;5;28mlist\u001b[39m(symbols)[\u001b[38;5;241m1\u001b[39m:]\n\u001b[1;32m----> 9\u001b[0m \u001b[43mtime\u001b[49m\u001b[38;5;241;43m.\u001b[39;49m\u001b[43msleep\u001b[49m\u001b[43m(\u001b[49m\u001b[38;5;241;43m0.1\u001b[39;49m\u001b[43m)\u001b[49m\n",
      "\u001b[1;31mKeyboardInterrupt\u001b[0m: "
     ]
    }
   ],
   "source": [
    "import time\n",
    "\n",
    "symbols = ['.', '-', \"'\", '\"', \"'\", '-', '.', '_']\n",
    "\n",
    "while True:\n",
    "    symbols = '\\r' + symbols.pop() + ''.join(symbols)\n",
    "    print(symbols, end='')\n",
    "    symbols = list(symbols)[1:]\n",
    "    time.sleep(0.1)"
   ]
  },
  {
   "cell_type": "code",
   "execution_count": 7,
   "metadata": {},
   "outputs": [
    {
     "ename": "TypeError",
     "evalue": "'int' object is not iterable",
     "output_type": "error",
     "traceback": [
      "\u001b[1;31m---------------------------------------------------------------------------\u001b[0m",
      "\u001b[1;31mTypeError\u001b[0m                                 Traceback (most recent call last)",
      "Cell \u001b[1;32mIn[7], line 8\u001b[0m\n\u001b[0;32m      6\u001b[0m func \u001b[38;5;241m=\u001b[39m \u001b[38;5;28;01mlambda\u001b[39;00m x: x\u001b[38;5;241m*\u001b[39m\u001b[38;5;241m*\u001b[39m\u001b[38;5;241m2\u001b[39m\n\u001b[0;32m      7\u001b[0m \u001b[38;5;66;03m#print(next(tabulate(func)))\u001b[39;00m\n\u001b[1;32m----> 8\u001b[0m \u001b[43mstarmap\u001b[49m\u001b[43m(\u001b[49m\u001b[43mfunc\u001b[49m\u001b[43m,\u001b[49m\u001b[43m \u001b[49m\u001b[38;5;241;43m1\u001b[39;49m\u001b[43m)\u001b[49m\n",
      "\u001b[1;31mTypeError\u001b[0m: 'int' object is not iterable"
     ]
    }
   ],
   "source": [
    "from itertools import *\n",
    "def tabulate(func):\n",
    "    for res in count(1,1):\n",
    "        print(res)\n",
    "        yield starmap(func, res)\n",
    "func = lambda x: x**2\n",
    "#print(next(tabulate(func)))\n",
    "starmap(func, 1)"
   ]
  },
  {
   "cell_type": "code",
   "execution_count": 20,
   "metadata": {},
   "outputs": [
    {
     "name": "stdout",
     "output_type": "stream",
     "text": [
      "1 A 2 B 3 C 4 D 5 E 6 F 7 G 8 H 9 I 10 J 11 K 12 L 13 M 14 N 15 O 16 P 17 Q 18 R 19 S 20 T 21 U 22 V 23 W 24 X 25 Y 26 Z 1 A 2\n"
     ]
    }
   ],
   "source": [
    "from itertools import *\n",
    "import string\n",
    "\n",
    "def alnum_sequence():\n",
    "    yield from cycle(i for el in enumerate(string.ascii_uppercase,start=1) for i in el)\n",
    "    \n",
    "alnum = alnum_sequence()\n",
    "print(*(next(alnum) for _ in range(55)))"
   ]
  },
  {
   "cell_type": "code",
   "execution_count": 28,
   "metadata": {},
   "outputs": [
    {
     "name": "stdout",
     "output_type": "stream",
     "text": [
      "1 a stert 2 b 3\n"
     ]
    }
   ],
   "source": [
    "def roundrobin(*args:list[iter]):\n",
    "    yield from (i for el in zip_longest(*a) for i in el if i is not None)\n",
    "    \n",
    "\n",
    "a = [[1,2,3], [\"a\",\"b\"], [\"stert\"]]\n",
    "print(*(i for el in zip_longest(*a) for i in el if i is not None))"
   ]
  },
  {
   "cell_type": "code",
   "execution_count": null,
   "metadata": {},
   "outputs": [],
   "source": [
    "from itertools import *\n",
    "def take(iterable, n):\n",
    "    yield from islice(iterable,n)\n"
   ]
  },
  {
   "cell_type": "code",
   "execution_count": 2,
   "metadata": {},
   "outputs": [
    {
     "name": "stdout",
     "output_type": "stream",
     "text": [
      "[1, 2, 3] [4, 5, 6] [7, 8, 9]\n",
      "1 2 3 4 5 6 7 8 9 ['a', 'b', 'c']\n"
     ]
    }
   ],
   "source": [
    "from itertools import chain\n",
    "\n",
    "print(*chain([[1,2,3],[4,5,6],[7,8,9]]))\n",
    "\n",
    "print(*chain.from_iterable([[1,2,3],[4,5,6],[7,8,9,[\"a\",\"b\", \"c\"]]]))"
   ]
  },
  {
   "cell_type": "code",
   "execution_count": 27,
   "metadata": {},
   "outputs": [
    {
     "name": "stdout",
     "output_type": "stream",
     "text": [
      "158: Eva, Ariana\n",
      "172: Mark\n",
      "184: Ryan\n",
      "193: Tim, Alex, Jeff, Liam\n"
     ]
    }
   ],
   "source": [
    "from collections import namedtuple\n",
    "from itertools import groupby, starmap\n",
    "\n",
    "Person = namedtuple('Person', ['name', 'age', 'height'])\n",
    "\n",
    "persons = [Person('Tim', 63, 193), Person('Eva', 47, 158),\n",
    "           Person('Mark', 71, 172), Person('Alex', 45, 193),\n",
    "           Person('Jeff', 63, 193), Person('Ryan', 41, 184),\n",
    "           Person('Ariana', 28, 158), Person('Liam', 69, 193)]\n",
    "f = lambda x: x.height\n",
    "obj =  groupby(sorted(persons, key=f ), key= f)\n",
    "print(*map(lambda el: f\"{el[0]}: {\", \".join(map(lambda x: x.name, el[1]))}\",obj),sep=\"\\n\")"
   ]
  },
  {
   "cell_type": "code",
   "execution_count": 24,
   "metadata": {},
   "outputs": [
    {
     "name": "stdout",
     "output_type": "stream",
     "text": [
      "(158, <itertools._grouper object at 0x00000252D5B43850>)\n",
      "(172, <itertools._grouper object at 0x00000252D5B409D0>)\n",
      "(184, <itertools._grouper object at 0x00000252D5B43190>)\n",
      "(193, <itertools._grouper object at 0x00000252D5B40310>)\n"
     ]
    }
   ],
   "source": [
    "print(*groupby(sorted(persons, key=f ), key= f),sep=\"\\n\")"
   ]
  },
  {
   "cell_type": "code",
   "execution_count": 21,
   "metadata": {},
   "outputs": [
    {
     "name": "stdout",
     "output_type": "stream",
     "text": [
      "straoka 172 Person(name='Mark', age=71, height=172)\n",
      "straoka 184 Person(name='Ryan', age=41, height=184)\n",
      "straoka 193 Person(name='Tim', age=63, height=193) Person(name='Alex', age=45, height=193) Person(name='Jeff', age=63, height=193) Person(name='Liam', age=69, height=193)\n"
     ]
    }
   ],
   "source": [
    "\n",
    "for n, it in obj:\n",
    "    print(\"straoka\", n, *it)"
   ]
  },
  {
   "cell_type": "code",
   "execution_count": 1,
   "metadata": {},
   "outputs": [
    {
     "name": "stdout",
     "output_type": "stream",
     "text": [
      "Илья\n"
     ]
    }
   ],
   "source": [
    "from collections import namedtuple\n",
    "from itertools import groupby\n",
    "\n",
    "Student = namedtuple('Student', ['surname', 'name', 'grade'])\n",
    "\n",
    "students = [Student('Гагиев', 'Александр', 10), Student('Дедегкаев', 'Илья', 11), Student('Кодзаев', 'Георгий', 10),\n",
    "            Student('Набокова', 'Алиса', 11), Student('Кораев', 'Артур', 10), Student('Шилин', 'Александр', 11),\n",
    "            Student('Уртаева', 'Илина', 11), Student('Салбиев', 'Максим', 10), Student('Капустин', 'Илья', 11),\n",
    "            Student('Гудцев', 'Таймураз', 11), Student('Перчиков', 'Максим', 10), Student('Чен', 'Илья', 11),\n",
    "            Student('Елькина', 'Мария', 11),Student('Макоев', 'Руслан', 11), Student('Албегов', 'Хетаг', 11),\n",
    "            Student('Щербак', 'Илья', 10), Student('Идрисов', 'Баграт', 11), Student('Гапбаев', 'Герман', 10),\n",
    "            Student('Цивинская', 'Анна', 10), Student('Туткевич', 'Юрий', 11), Student('Мусиков', 'Андраник', 11),\n",
    "            Student('Гадзиев', 'Георгий', 11), Student('Белов', 'Юрий', 11), Student('Акоева', 'Диана', 11),\n",
    "            Student('Денисов', 'Илья', 11), Student('Букулова', 'Диана', 10), Student('Акоева', 'Лера', 11)]\n",
    "f = lambda x: x.name\n",
    "print(max(groupby(sorted(students, key= f), key=f),key= lambda x: sum((1 for _ in x[1])))[0])"
   ]
  },
  {
   "cell_type": "code",
   "execution_count": 4,
   "metadata": {},
   "outputs": [
    {
     "name": "stdout",
     "output_type": "stream",
     "text": [
      "1 -> s, s, s\n",
      "2 -> oa\n",
      "3 -> iis, soo\n",
      "4 -> ehif\n",
      "5 -> ogjno\n",
      "9 -> sujsuheii\n"
     ]
    }
   ],
   "source": [
    "from itertools import groupby\n",
    "\n",
    "n = input().split()\n",
    "\n",
    "f = lambda x: len(x)\n",
    "for k, el in groupby(sorted(n,key= lambda x: (len(x), x)), key=f):\n",
    "    print(f\"{k} -> {\", \".join(el)}\")"
   ]
  },
  {
   "cell_type": "code",
   "execution_count": 31,
   "metadata": {},
   "outputs": [
    {
     "name": "stdout",
     "output_type": "stream",
     "text": [
      "ЕГЭ Математика:\n",
      "\t1. доделать курс по параметрам\n",
      "\n",
      "Курс по ооп:\n",
      "\t1. обсудить темы\n",
      "\t2. обсудить задачи\n",
      "\n",
      "Ответы на вопросы:\n",
      "\t1. ответить на вопросы в дискорде\n",
      "\t2. ответить на вопросы в курсах\n",
      "\n",
      "Отдых:\n",
      "\t1. погулять утром\n",
      "\t2. погулять днем\n",
      "\t3. поспать днем\n",
      "\t4. погулять вечером\n",
      "\n",
      "Уборка:\n",
      "\t1. убраться в комнате\n",
      "\t2. убраться в ванной\n",
      "\t3. убраться на кухне\n",
      "\n",
      "Урок по groupby:\n",
      "\t1. написать конспект\n",
      "\t2. добавить тестовые задачи\n",
      "\t3. добавить задачи на программирование\n"
     ]
    }
   ],
   "source": [
    "from itertools import groupby\n",
    "\n",
    "tasks = [('Отдых', 'поспать днем', 3),\n",
    "        ('Ответы на вопросы', 'ответить на вопросы в дискорде', 1),\n",
    "        ('ЕГЭ Математика', 'доделать курс по параметрам', 1),\n",
    "        ('Ответы на вопросы', 'ответить на вопросы в курсах', 2),\n",
    "        ('Отдых', 'погулять вечером', 4),\n",
    "        ('Курс по ооп', 'обсудить темы', 1),\n",
    "        ('Урок по groupby', 'добавить задачи на программирование', 3),\n",
    "        ('Урок по groupby', 'написать конспект', 1),\n",
    "        ('Отдых', 'погулять днем', 2),\n",
    "        ('Урок по groupby', 'добавить тестовые задачи', 2),\n",
    "        ('Уборка', 'убраться в ванной', 2),\n",
    "        ('Уборка', 'убраться в комнате', 1),\n",
    "        ('Уборка', 'убраться на кухне', 3),\n",
    "        ('Отдых', 'погулять утром', 1),\n",
    "        ('Курс по ооп', 'обсудить задачи', 2)]\n",
    "\n",
    "\n",
    "print(*map(lambda el: f\"{el[0]}:\\n\\t\"+\"\\n\\t\".join(map(lambda x: f\"{x[2]}. {x[1]}\", el[1])), groupby(sorted(tasks,key=lambda x: (x[0], x[2])), lambda x: x[0])),sep=\"\\n\\n\")\n",
    "    "
   ]
  },
  {
   "cell_type": "code",
   "execution_count": 39,
   "metadata": {},
   "outputs": [
    {
     "name": "stdout",
     "output_type": "stream",
     "text": [
      "('крона', 'норка') ('лучик', 'чулки') ('сеточка', 'тесачок', 'стоечка')\n"
     ]
    }
   ],
   "source": [
    "from itertools import groupby\n",
    "def group_anagrams(words):\n",
    "    return list(map(lambda x: tuple(x[1]),groupby(sorted(words, key=k),key=k)))\n",
    "k = lambda x: sum(map(ord,x))\n",
    "print(*map(lambda x: tuple(x[1]),groupby(sorted(['крона', 'сеточка', 'тесачок', 'лучик', 'стоечка', 'норка', 'чулки'], key=k),key=k)))\n"
   ]
  }
 ],
 "metadata": {
  "kernelspec": {
   "display_name": "Python 3",
   "language": "python",
   "name": "python3"
  },
  "language_info": {
   "codemirror_mode": {
    "name": "ipython",
    "version": 3
   },
   "file_extension": ".py",
   "mimetype": "text/x-python",
   "name": "python",
   "nbconvert_exporter": "python",
   "pygments_lexer": "ipython3",
   "version": "3.12.2"
  }
 },
 "nbformat": 4,
 "nbformat_minor": 2
}
