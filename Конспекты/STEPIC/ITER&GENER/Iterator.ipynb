{
 "cells": [
  {
   "cell_type": "code",
   "execution_count": 2,
   "metadata": {},
   "outputs": [
    {
     "name": "stdout",
     "output_type": "stream",
     "text": [
      "1\n",
      "2\n",
      "5\n"
     ]
    }
   ],
   "source": [
    "numbers = [1, 2, 3, 4, 5]\n",
    "\n",
    "iterator = iter(numbers)\n",
    "\n",
    "print(next(iterator))\n",
    "print(next(iterator))\n",
    "\n",
    "del numbers[0]\n",
    "del numbers[1]\n",
    "\n",
    "print(next(iterator))"
   ]
  },
  {
   "cell_type": "code",
   "execution_count": null,
   "metadata": {},
   "outputs": [],
   "source": [
    "class Xrange:\n",
    "    def __init__(self, start, end, step=1):\n",
    "        iter(lambda : start + step)"
   ]
  },
  {
   "cell_type": "code",
   "execution_count": 2,
   "metadata": {},
   "outputs": [
    {
     "name": "stdout",
     "output_type": "stream",
     "text": [
      "10\n",
      "9\n",
      "8\n",
      "7\n",
      "6\n",
      "5\n",
      "4\n",
      "3\n",
      "2\n"
     ]
    }
   ],
   "source": [
    "start, end, step= 10, 1, -1\n",
    "while start > end:\n",
    "    print(start)\n",
    "    start += step"
   ]
  },
  {
   "cell_type": "code",
   "execution_count": 2,
   "metadata": {},
   "outputs": [
    {
     "name": "stdout",
     "output_type": "stream",
     "text": [
      "Jon Bale\n"
     ]
    }
   ],
   "source": [
    "from collections import namedtuple\n",
    "\n",
    "Person = namedtuple('Person', ['name', 'nationality', 'sex', 'birth', 'death'])\n",
    "\n",
    "persons = [Person('E. M. Ashe', 'American', 'male', 1867, 1941),\n",
    "           Person('Goran Aslin', 'Swedish', 'male', 1980, 0),\n",
    "           Person('Erik Gunnar Asplund', 'Swedish', 'male', 1885, 1940),\n",
    "           Person('Genevieve Asse', 'French', 'female', 1949, 0),\n",
    "           Person('Irene Adler', 'Swedish', 'female', 2005, 0),\n",
    "           Person('Sergio Asti', 'Italian', 'male', 1926, 0),\n",
    "           Person('Olof Backman', 'Swedish', 'male', 1999, 0),\n",
    "           Person('Alyson Hannigan', 'Swedish', 'female', 1940, 1987),\n",
    "           Person('Dana Atchley', 'American', 'female', 1941, 2000),\n",
    "           Person('Monika Andersson', 'Swedish', 'female', 1957, 0),\n",
    "           Person('Shura_Stone', 'Russian', 'male', 2000, 0),\n",
    "           Person('Jon Bale', 'Swedish', 'male', 2000, 0)]\n",
    "\n",
    "print(max((el for el in persons if el.nationality == \"Swedish\" and el.death == 0 and el.sex == \"male\"), key=lambda x: x.birth).name)"
   ]
  },
  {
   "cell_type": "code",
   "execution_count": null,
   "metadata": {},
   "outputs": [],
   "source": [
    "def parse_ranges(ranges):\n",
    "    yield from (i for start, end in (el.split(\"-\") for el in ranges.split(\",\")) for i in range(int(start), int(end)+1))"
   ]
  },
  {
   "cell_type": "code",
   "execution_count": null,
   "metadata": {},
   "outputs": [],
   "source": [
    "def filter_names(names: list[str], ignore_char: str, max_names: int):\n",
    "    c = 0\n",
    "    for el in (name for name in names if not name.lower().startswith(ignore_char.lower()) and name.isalpha()):\n",
    "        if c != max_names:\n",
    "            yield el\n",
    "            c += 1"
   ]
  },
  {
   "cell_type": "code",
   "execution_count": 2,
   "metadata": {},
   "outputs": [],
   "source": [
    "def nonempty_lines(file:str):\n",
    "    with open(file, \"r\", encoding=\"utf-8\") as f:\n",
    "        yield from (\"...\" if len(el) >= 25 else el for el in (line.rstrip() for line in f))"
   ]
  },
  {
   "cell_type": "code",
   "execution_count": 7,
   "metadata": {},
   "outputs": [
    {
     "name": "stdout",
     "output_type": "stream",
     "text": [
      "True\n",
      "1\n",
      "2\n"
     ]
    }
   ],
   "source": [
    "list_iterator = iter([1, 2, 3])\n",
    "new_iterator = iter(list_iterator)\n",
    "\n",
    "print(list_iterator is new_iterator)\n",
    "print(next(list_iterator))\n",
    "print(next(new_iterator))"
   ]
  },
  {
   "cell_type": "code",
   "execution_count": 1,
   "metadata": {},
   "outputs": [
    {
     "name": "stdout",
     "output_type": "stream",
     "text": [
      ".-'\"'-._.-'\"'-._.-'\"'-._.-'\"'-._.-'\"'-._.-'\"'-._.-'\"'-._.-'\"'-._.-'\"'-._.-'\"'-._.-'\"'-._.-'\"'-._.-'\"'-._.-'\"'-._.-'\"'-._.-'\"'-._.-'\"'-._.-'\"'-._.-'\"'-._.-'\"'-._.-'\"'-._.-'\"'-._.-'\"'-."
     ]
    },
    {
     "ename": "KeyboardInterrupt",
     "evalue": "",
     "output_type": "error",
     "traceback": [
      "\u001b[1;31m---------------------------------------------------------------------------\u001b[0m",
      "\u001b[1;31mKeyboardInterrupt\u001b[0m                         Traceback (most recent call last)",
      "Cell \u001b[1;32mIn[1], line 8\u001b[0m\n\u001b[0;32m      6\u001b[0m \u001b[38;5;28;01mfor\u001b[39;00m c \u001b[38;5;129;01min\u001b[39;00m it\u001b[38;5;241m.\u001b[39mcycle(symbols):\n\u001b[0;32m      7\u001b[0m     \u001b[38;5;28mprint\u001b[39m(c, end\u001b[38;5;241m=\u001b[39m\u001b[38;5;124m'\u001b[39m\u001b[38;5;124m'\u001b[39m)\n\u001b[1;32m----> 8\u001b[0m     \u001b[43mtime\u001b[49m\u001b[38;5;241;43m.\u001b[39;49m\u001b[43msleep\u001b[49m\u001b[43m(\u001b[49m\u001b[38;5;241;43m0.05\u001b[39;49m\u001b[43m)\u001b[49m\n",
      "\u001b[1;31mKeyboardInterrupt\u001b[0m: "
     ]
    }
   ],
   "source": [
    "import itertools as it\n",
    "import time\n",
    "\n",
    "symbols = ['.', '-', \"'\", '\"', \"'\", '-', '.', '_']\n",
    "\n",
    "for c in it.cycle(symbols):\n",
    "    print(c, end='')\n",
    "    time.sleep(0.05)"
   ]
  },
  {
   "cell_type": "code",
   "execution_count": 2,
   "metadata": {},
   "outputs": [
    {
     "name": "stdout",
     "output_type": "stream",
     "text": [
      "\"'-._.-'"
     ]
    },
    {
     "ename": "KeyboardInterrupt",
     "evalue": "",
     "output_type": "error",
     "traceback": [
      "\u001b[1;31m---------------------------------------------------------------------------\u001b[0m",
      "\u001b[1;31mKeyboardInterrupt\u001b[0m                         Traceback (most recent call last)",
      "Cell \u001b[1;32mIn[2], line 9\u001b[0m\n\u001b[0;32m      7\u001b[0m \u001b[38;5;28mprint\u001b[39m(symbols, end\u001b[38;5;241m=\u001b[39m\u001b[38;5;124m'\u001b[39m\u001b[38;5;124m'\u001b[39m)\n\u001b[0;32m      8\u001b[0m symbols \u001b[38;5;241m=\u001b[39m \u001b[38;5;28mlist\u001b[39m(symbols)[\u001b[38;5;241m1\u001b[39m:]\n\u001b[1;32m----> 9\u001b[0m \u001b[43mtime\u001b[49m\u001b[38;5;241;43m.\u001b[39;49m\u001b[43msleep\u001b[49m\u001b[43m(\u001b[49m\u001b[38;5;241;43m0.1\u001b[39;49m\u001b[43m)\u001b[49m\n",
      "\u001b[1;31mKeyboardInterrupt\u001b[0m: "
     ]
    }
   ],
   "source": [
    "import time\n",
    "\n",
    "symbols = ['.', '-', \"'\", '\"', \"'\", '-', '.', '_']\n",
    "\n",
    "while True:\n",
    "    symbols = '\\r' + symbols.pop() + ''.join(symbols)\n",
    "    print(symbols, end='')\n",
    "    symbols = list(symbols)[1:]\n",
    "    time.sleep(0.1)"
   ]
  },
  {
   "cell_type": "code",
   "execution_count": 7,
   "metadata": {},
   "outputs": [
    {
     "ename": "TypeError",
     "evalue": "'int' object is not iterable",
     "output_type": "error",
     "traceback": [
      "\u001b[1;31m---------------------------------------------------------------------------\u001b[0m",
      "\u001b[1;31mTypeError\u001b[0m                                 Traceback (most recent call last)",
      "Cell \u001b[1;32mIn[7], line 8\u001b[0m\n\u001b[0;32m      6\u001b[0m func \u001b[38;5;241m=\u001b[39m \u001b[38;5;28;01mlambda\u001b[39;00m x: x\u001b[38;5;241m*\u001b[39m\u001b[38;5;241m*\u001b[39m\u001b[38;5;241m2\u001b[39m\n\u001b[0;32m      7\u001b[0m \u001b[38;5;66;03m#print(next(tabulate(func)))\u001b[39;00m\n\u001b[1;32m----> 8\u001b[0m \u001b[43mstarmap\u001b[49m\u001b[43m(\u001b[49m\u001b[43mfunc\u001b[49m\u001b[43m,\u001b[49m\u001b[43m \u001b[49m\u001b[38;5;241;43m1\u001b[39;49m\u001b[43m)\u001b[49m\n",
      "\u001b[1;31mTypeError\u001b[0m: 'int' object is not iterable"
     ]
    }
   ],
   "source": [
    "from itertools import *\n",
    "def tabulate(func):\n",
    "    for res in count(1,1):\n",
    "        print(res)\n",
    "        yield starmap(func, res)\n",
    "func = lambda x: x**2\n",
    "#print(next(tabulate(func)))\n",
    "starmap(func, 1)"
   ]
  },
  {
   "cell_type": "code",
   "execution_count": 20,
   "metadata": {},
   "outputs": [
    {
     "name": "stdout",
     "output_type": "stream",
     "text": [
      "1 A 2 B 3 C 4 D 5 E 6 F 7 G 8 H 9 I 10 J 11 K 12 L 13 M 14 N 15 O 16 P 17 Q 18 R 19 S 20 T 21 U 22 V 23 W 24 X 25 Y 26 Z 1 A 2\n"
     ]
    }
   ],
   "source": [
    "from itertools import *\n",
    "import string\n",
    "\n",
    "def alnum_sequence():\n",
    "    yield from cycle(i for el in enumerate(string.ascii_uppercase,start=1) for i in el)\n",
    "    \n",
    "alnum = alnum_sequence()\n",
    "print(*(next(alnum) for _ in range(55)))"
   ]
  },
  {
   "cell_type": "code",
   "execution_count": 28,
   "metadata": {},
   "outputs": [
    {
     "name": "stdout",
     "output_type": "stream",
     "text": [
      "1 a stert 2 b 3\n"
     ]
    }
   ],
   "source": [
    "def roundrobin(*args:list[iter]):\n",
    "    yield from (i for el in zip_longest(*a) for i in el if i is not None)\n",
    "    \n",
    "\n",
    "a = [[1,2,3], [\"a\",\"b\"], [\"stert\"]]\n",
    "print(*(i for el in zip_longest(*a) for i in el if i is not None))"
   ]
  },
  {
   "cell_type": "code",
   "execution_count": null,
   "metadata": {},
   "outputs": [],
   "source": [
    "from itertools import *\n",
    "def take(iterable, n):\n",
    "    yield from islice(iterable,n)\n"
   ]
  },
  {
   "cell_type": "code",
   "execution_count": 2,
   "metadata": {},
   "outputs": [
    {
     "name": "stdout",
     "output_type": "stream",
     "text": [
      "[1, 2, 3] [4, 5, 6] [7, 8, 9]\n",
      "1 2 3 4 5 6 7 8 9 ['a', 'b', 'c']\n"
     ]
    }
   ],
   "source": [
    "from itertools import chain\n",
    "\n",
    "print(*chain([[1,2,3],[4,5,6],[7,8,9]]))\n",
    "\n",
    "print(*chain.from_iterable([[1,2,3],[4,5,6],[7,8,9,[\"a\",\"b\", \"c\"]]]))"
   ]
  },
  {
   "cell_type": "code",
   "execution_count": 27,
   "metadata": {},
   "outputs": [
    {
     "name": "stdout",
     "output_type": "stream",
     "text": [
      "158: Eva, Ariana\n",
      "172: Mark\n",
      "184: Ryan\n",
      "193: Tim, Alex, Jeff, Liam\n"
     ]
    }
   ],
   "source": [
    "from collections import namedtuple\n",
    "from itertools import groupby, starmap\n",
    "\n",
    "Person = namedtuple('Person', ['name', 'age', 'height'])\n",
    "\n",
    "persons = [Person('Tim', 63, 193), Person('Eva', 47, 158),\n",
    "           Person('Mark', 71, 172), Person('Alex', 45, 193),\n",
    "           Person('Jeff', 63, 193), Person('Ryan', 41, 184),\n",
    "           Person('Ariana', 28, 158), Person('Liam', 69, 193)]\n",
    "f = lambda x: x.height\n",
    "obj =  groupby(sorted(persons, key=f ), key= f)\n",
    "print(*map(lambda el: f\"{el[0]}: {\", \".join(map(lambda x: x.name, el[1]))}\",obj),sep=\"\\n\")"
   ]
  },
  {
   "cell_type": "code",
   "execution_count": 24,
   "metadata": {},
   "outputs": [
    {
     "name": "stdout",
     "output_type": "stream",
     "text": [
      "(158, <itertools._grouper object at 0x00000252D5B43850>)\n",
      "(172, <itertools._grouper object at 0x00000252D5B409D0>)\n",
      "(184, <itertools._grouper object at 0x00000252D5B43190>)\n",
      "(193, <itertools._grouper object at 0x00000252D5B40310>)\n"
     ]
    }
   ],
   "source": [
    "print(*groupby(sorted(persons, key=f ), key= f),sep=\"\\n\")"
   ]
  },
  {
   "cell_type": "code",
   "execution_count": 21,
   "metadata": {},
   "outputs": [
    {
     "name": "stdout",
     "output_type": "stream",
     "text": [
      "straoka 172 Person(name='Mark', age=71, height=172)\n",
      "straoka 184 Person(name='Ryan', age=41, height=184)\n",
      "straoka 193 Person(name='Tim', age=63, height=193) Person(name='Alex', age=45, height=193) Person(name='Jeff', age=63, height=193) Person(name='Liam', age=69, height=193)\n"
     ]
    }
   ],
   "source": [
    "\n",
    "for n, it in obj:\n",
    "    print(\"straoka\", n, *it)"
   ]
  },
  {
   "cell_type": "code",
   "execution_count": 1,
   "metadata": {},
   "outputs": [
    {
     "name": "stdout",
     "output_type": "stream",
     "text": [
      "Илья\n"
     ]
    }
   ],
   "source": [
    "from collections import namedtuple\n",
    "from itertools import groupby\n",
    "\n",
    "Student = namedtuple('Student', ['surname', 'name', 'grade'])\n",
    "\n",
    "students = [Student('Гагиев', 'Александр', 10), Student('Дедегкаев', 'Илья', 11), Student('Кодзаев', 'Георгий', 10),\n",
    "            Student('Набокова', 'Алиса', 11), Student('Кораев', 'Артур', 10), Student('Шилин', 'Александр', 11),\n",
    "            Student('Уртаева', 'Илина', 11), Student('Салбиев', 'Максим', 10), Student('Капустин', 'Илья', 11),\n",
    "            Student('Гудцев', 'Таймураз', 11), Student('Перчиков', 'Максим', 10), Student('Чен', 'Илья', 11),\n",
    "            Student('Елькина', 'Мария', 11),Student('Макоев', 'Руслан', 11), Student('Албегов', 'Хетаг', 11),\n",
    "            Student('Щербак', 'Илья', 10), Student('Идрисов', 'Баграт', 11), Student('Гапбаев', 'Герман', 10),\n",
    "            Student('Цивинская', 'Анна', 10), Student('Туткевич', 'Юрий', 11), Student('Мусиков', 'Андраник', 11),\n",
    "            Student('Гадзиев', 'Георгий', 11), Student('Белов', 'Юрий', 11), Student('Акоева', 'Диана', 11),\n",
    "            Student('Денисов', 'Илья', 11), Student('Букулова', 'Диана', 10), Student('Акоева', 'Лера', 11)]\n",
    "f = lambda x: x.name\n",
    "print(max(groupby(sorted(students, key= f), key=f),key= lambda x: sum((1 for _ in x[1])))[0])"
   ]
  },
  {
   "cell_type": "code",
   "execution_count": 4,
   "metadata": {},
   "outputs": [
    {
     "name": "stdout",
     "output_type": "stream",
     "text": [
      "1 -> s, s, s\n",
      "2 -> oa\n",
      "3 -> iis, soo\n",
      "4 -> ehif\n",
      "5 -> ogjno\n",
      "9 -> sujsuheii\n"
     ]
    }
   ],
   "source": [
    "from itertools import groupby\n",
    "\n",
    "n = input().split()\n",
    "\n",
    "f = lambda x: len(x)\n",
    "for k, el in groupby(sorted(n,key= lambda x: (len(x), x)), key=f):\n",
    "    print(f\"{k} -> {\", \".join(el)}\")"
   ]
  },
  {
   "cell_type": "code",
   "execution_count": 31,
   "metadata": {},
   "outputs": [
    {
     "name": "stdout",
     "output_type": "stream",
     "text": [
      "ЕГЭ Математика:\n",
      "\t1. доделать курс по параметрам\n",
      "\n",
      "Курс по ооп:\n",
      "\t1. обсудить темы\n",
      "\t2. обсудить задачи\n",
      "\n",
      "Ответы на вопросы:\n",
      "\t1. ответить на вопросы в дискорде\n",
      "\t2. ответить на вопросы в курсах\n",
      "\n",
      "Отдых:\n",
      "\t1. погулять утром\n",
      "\t2. погулять днем\n",
      "\t3. поспать днем\n",
      "\t4. погулять вечером\n",
      "\n",
      "Уборка:\n",
      "\t1. убраться в комнате\n",
      "\t2. убраться в ванной\n",
      "\t3. убраться на кухне\n",
      "\n",
      "Урок по groupby:\n",
      "\t1. написать конспект\n",
      "\t2. добавить тестовые задачи\n",
      "\t3. добавить задачи на программирование\n"
     ]
    }
   ],
   "source": [
    "from itertools import groupby\n",
    "\n",
    "tasks = [('Отдых', 'поспать днем', 3),\n",
    "        ('Ответы на вопросы', 'ответить на вопросы в дискорде', 1),\n",
    "        ('ЕГЭ Математика', 'доделать курс по параметрам', 1),\n",
    "        ('Ответы на вопросы', 'ответить на вопросы в курсах', 2),\n",
    "        ('Отдых', 'погулять вечером', 4),\n",
    "        ('Курс по ооп', 'обсудить темы', 1),\n",
    "        ('Урок по groupby', 'добавить задачи на программирование', 3),\n",
    "        ('Урок по groupby', 'написать конспект', 1),\n",
    "        ('Отдых', 'погулять днем', 2),\n",
    "        ('Урок по groupby', 'добавить тестовые задачи', 2),\n",
    "        ('Уборка', 'убраться в ванной', 2),\n",
    "        ('Уборка', 'убраться в комнате', 1),\n",
    "        ('Уборка', 'убраться на кухне', 3),\n",
    "        ('Отдых', 'погулять утром', 1),\n",
    "        ('Курс по ооп', 'обсудить задачи', 2)]\n",
    "\n",
    "\n",
    "print(*map(lambda el: f\"{el[0]}:\\n\\t\"+\"\\n\\t\".join(map(lambda x: f\"{x[2]}. {x[1]}\", el[1])), groupby(sorted(tasks,key=lambda x: (x[0], x[2])), lambda x: x[0])),sep=\"\\n\\n\")\n",
    "    "
   ]
  },
  {
   "cell_type": "code",
   "execution_count": 39,
   "metadata": {},
   "outputs": [
    {
     "name": "stdout",
     "output_type": "stream",
     "text": [
      "('крона', 'норка') ('лучик', 'чулки') ('сеточка', 'тесачок', 'стоечка')\n"
     ]
    }
   ],
   "source": [
    "from itertools import groupby\n",
    "def group_anagrams(words):\n",
    "    return list(map(lambda x: tuple(x[1]),groupby(sorted(words, key=k),key=k)))\n",
    "k = lambda x: sum(map(ord,x))\n",
    "print(*map(lambda x: tuple(x[1]),groupby(sorted(['крона', 'сеточка', 'тесачок', 'лучик', 'стоечка', 'норка', 'чулки'], key=k),key=k)))\n"
   ]
  },
  {
   "cell_type": "code",
   "execution_count": 21,
   "metadata": {},
   "outputs": [
    {
     "name": "stdout",
     "output_type": "stream",
     "text": [
      "[(1, 4), (7, 8), (10, 10)]\n"
     ]
    }
   ],
   "source": [
    "from itertools import *\n",
    "\n",
    "def prov(n):\n",
    "    return numbers.index(n)-n\n",
    "\n",
    "def ranges(numbers):\n",
    "    res = groupby(numbers,key=prov)\n",
    "    return [((x:= tuple(el[1]))[0], x[-1]) for el in res]\n",
    "\n",
    "numbers = [1, 2, 3, 4, 7, 8, 10]\n",
    "\n",
    "print(ranges(numbers))"
   ]
  },
  {
   "cell_type": "code",
   "execution_count": 23,
   "metadata": {},
   "outputs": [
    {
     "name": "stdout",
     "output_type": "stream",
     "text": [
      "1 1\n"
     ]
    }
   ],
   "source": [
    "a = [1, \"1\", 0, False, None]\n",
    "\n",
    "print(*filter(None, a))"
   ]
  },
  {
   "cell_type": "code",
   "execution_count": null,
   "metadata": {},
   "outputs": [],
   "source": []
  },
  {
   "cell_type": "code",
   "execution_count": 1,
   "metadata": {},
   "outputs": [
    {
     "name": "stdout",
     "output_type": "stream",
     "text": [
      "[('a', 'b', 'c'), ('a', 'c', 'b'), ('b', 'a', 'c'), ('b', 'c', 'a'), ('c', 'a', 'b'), ('c', 'b', 'a')]\n",
      "[(1, 2, 3, 4, 5), (1, 2, 3, 5, 4), (1, 2, 4, 3, 5), (1, 2, 4, 5, 3), (1, 2, 5, 3, 4), (1, 2, 5, 4, 3), (1, 3, 2, 4, 5), (1, 3, 2, 5, 4), (1, 3, 4, 2, 5), (1, 3, 4, 5, 2), (1, 3, 5, 2, 4), (1, 3, 5, 4, 2), (1, 4, 2, 3, 5), (1, 4, 2, 5, 3), (1, 4, 3, 2, 5), (1, 4, 3, 5, 2), (1, 4, 5, 2, 3), (1, 4, 5, 3, 2), (1, 5, 2, 3, 4), (1, 5, 2, 4, 3), (1, 5, 3, 2, 4), (1, 5, 3, 4, 2), (1, 5, 4, 2, 3), (1, 5, 4, 3, 2), (2, 1, 3, 4, 5), (2, 1, 3, 5, 4), (2, 1, 4, 3, 5), (2, 1, 4, 5, 3), (2, 1, 5, 3, 4), (2, 1, 5, 4, 3), (2, 3, 1, 4, 5), (2, 3, 1, 5, 4), (2, 3, 4, 1, 5), (2, 3, 4, 5, 1), (2, 3, 5, 1, 4), (2, 3, 5, 4, 1), (2, 4, 1, 3, 5), (2, 4, 1, 5, 3), (2, 4, 3, 1, 5), (2, 4, 3, 5, 1), (2, 4, 5, 1, 3), (2, 4, 5, 3, 1), (2, 5, 1, 3, 4), (2, 5, 1, 4, 3), (2, 5, 3, 1, 4), (2, 5, 3, 4, 1), (2, 5, 4, 1, 3), (2, 5, 4, 3, 1), (3, 1, 2, 4, 5), (3, 1, 2, 5, 4), (3, 1, 4, 2, 5), (3, 1, 4, 5, 2), (3, 1, 5, 2, 4), (3, 1, 5, 4, 2), (3, 2, 1, 4, 5), (3, 2, 1, 5, 4), (3, 2, 4, 1, 5), (3, 2, 4, 5, 1), (3, 2, 5, 1, 4), (3, 2, 5, 4, 1), (3, 4, 1, 2, 5), (3, 4, 1, 5, 2), (3, 4, 2, 1, 5), (3, 4, 2, 5, 1), (3, 4, 5, 1, 2), (3, 4, 5, 2, 1), (3, 5, 1, 2, 4), (3, 5, 1, 4, 2), (3, 5, 2, 1, 4), (3, 5, 2, 4, 1), (3, 5, 4, 1, 2), (3, 5, 4, 2, 1), (4, 1, 2, 3, 5), (4, 1, 2, 5, 3), (4, 1, 3, 2, 5), (4, 1, 3, 5, 2), (4, 1, 5, 2, 3), (4, 1, 5, 3, 2), (4, 2, 1, 3, 5), (4, 2, 1, 5, 3), (4, 2, 3, 1, 5), (4, 2, 3, 5, 1), (4, 2, 5, 1, 3), (4, 2, 5, 3, 1), (4, 3, 1, 2, 5), (4, 3, 1, 5, 2), (4, 3, 2, 1, 5), (4, 3, 2, 5, 1), (4, 3, 5, 1, 2), (4, 3, 5, 2, 1), (4, 5, 1, 2, 3), (4, 5, 1, 3, 2), (4, 5, 2, 1, 3), (4, 5, 2, 3, 1), (4, 5, 3, 1, 2), (4, 5, 3, 2, 1), (5, 1, 2, 3, 4), (5, 1, 2, 4, 3), (5, 1, 3, 2, 4), (5, 1, 3, 4, 2), (5, 1, 4, 2, 3), (5, 1, 4, 3, 2), (5, 2, 1, 3, 4), (5, 2, 1, 4, 3), (5, 2, 3, 1, 4), (5, 2, 3, 4, 1), (5, 2, 4, 1, 3), (5, 2, 4, 3, 1), (5, 3, 1, 2, 4), (5, 3, 1, 4, 2), (5, 3, 2, 1, 4), (5, 3, 2, 4, 1), (5, 3, 4, 1, 2), (5, 3, 4, 2, 1), (5, 4, 1, 2, 3), (5, 4, 1, 3, 2), (5, 4, 2, 1, 3), (5, 4, 2, 3, 1), (5, 4, 3, 1, 2), (5, 4, 3, 2, 1)]\n"
     ]
    }
   ],
   "source": [
    "## permutations\n",
    "from itertools import permutations\n",
    "\n",
    "a = (\"a\", \"b\", \"c\")\n",
    "b = [1, 2, 3, 4, 5]\n",
    "\n",
    "res_1 = list(permutations(a))\n",
    "res_2 = list(permutations(b))\n",
    "\n",
    "print(res_1)\n",
    "print(res_2)\n"
   ]
  },
  {
   "cell_type": "code",
   "execution_count": 2,
   "metadata": {},
   "outputs": [
    {
     "name": "stdout",
     "output_type": "stream",
     "text": [
      "[('a',), ('b',), ('c',)]\n",
      "[(1, 2), (1, 3), (1, 4), (1, 5), (2, 3), (2, 4), (2, 5), (3, 4), (3, 5), (4, 5)]\n"
     ]
    }
   ],
   "source": [
    "from itertools import combinations\n",
    "\n",
    "a = (\"a\", \"b\", \"c\")\n",
    "b = [1, 2, 3, 4, 5]\n",
    "\n",
    "res_1 = list(combinations(a,1))\n",
    "res_2 = list(combinations(b,2))\n",
    "\n",
    "print(res_1)\n",
    "print(res_2)"
   ]
  },
  {
   "cell_type": "code",
   "execution_count": 2,
   "metadata": {},
   "outputs": [
    {
     "name": "stdout",
     "output_type": "stream",
     "text": [
      "24\n"
     ]
    }
   ],
   "source": [
    "## combinations()\n",
    "\n",
    "print(len(list(permutations(range(4)))))"
   ]
  },
  {
   "cell_type": "code",
   "execution_count": 3,
   "metadata": {},
   "outputs": [
    {
     "data": {
      "text/plain": [
       "256"
      ]
     },
     "execution_count": 3,
     "metadata": {},
     "output_type": "execute_result"
    }
   ],
   "source": [
    "4**4"
   ]
  },
  {
   "cell_type": "code",
   "execution_count": 7,
   "metadata": {},
   "outputs": [
    {
     "name": "stdout",
     "output_type": "stream",
     "text": [
      "325.0\n"
     ]
    }
   ],
   "source": [
    "from math import factorial\n",
    "\n",
    "def func_per(n, k):\n",
    "    res = factorial(n) / (factorial(k) * factorial(n- k))\n",
    "    print(res)\n",
    "\n",
    "func_per(26, 2)"
   ]
  },
  {
   "cell_type": "code",
   "execution_count": 16,
   "metadata": {},
   "outputs": [
    {
     "name": "stdout",
     "output_type": "stream",
     "text": [
      "aab\n",
      "aba\n",
      "baa\n"
     ]
    }
   ],
   "source": [
    "from itertools import *\n",
    "\n",
    "a = \"aab\" #input()\n",
    "print(*sorted(set(map(lambda x: \"\".join(x) , permutations(a)))), sep=\"\\n\")"
   ]
  },
  {
   "cell_type": "code",
   "execution_count": 9,
   "metadata": {},
   "outputs": [
    {
     "name": "stdout",
     "output_type": "stream",
     "text": [
      "16\n"
     ]
    }
   ],
   "source": [
    "from itertools import *\n",
    "from collections import Counter\n",
    "\n",
    "wallet = [100, 100, 50, 50, 50, 50, 20, 20, 20, 10, 10, 10, 10, 10, 5, 5, 1, 1, 1, 1, 1]\n",
    "\n",
    "# my_set = set\n",
    "# a = (el for el_list in (combinations(wallet, i) for i in range(1,16)) for el in el_list if sum(el) == 100)\n",
    "s = []\n",
    "for i in range(1,16):\n",
    "    for el in set(combinations(wallet, i)):\n",
    "            if el not in s and sum(el) == 100:\n",
    "                s.append(el)\n",
    "print(len(s))\n"
   ]
  },
  {
   "cell_type": "code",
   "execution_count": 22,
   "metadata": {},
   "outputs": [
    {
     "name": "stdout",
     "output_type": "stream",
     "text": [
      "[10, 21, 35, 101, 115, 150, 111, 40, 50]\n"
     ]
    }
   ],
   "source": [
    "vlans = [[10, 21, 35], [101, 115, 150], [111, 40, 50]]\n",
    "result = [vlan for vlan_list in vlans for vlan in vlan_list]\n",
    "print(result)"
   ]
  },
  {
   "cell_type": "code",
   "execution_count": 19,
   "metadata": {},
   "outputs": [
    {
     "name": "stdout",
     "output_type": "stream",
     "text": [
      "50\n"
     ]
    }
   ],
   "source": [
    "wallet = [100, 50, 20, 10, 5]\n",
    "s = []\n",
    "for i in range(1,21):\n",
    "    for el in set(combinations_with_replacement(wallet, i)):\n",
    "            if el not in s and sum(el) == 100:\n",
    "                s.append(el)\n",
    "print(len(s))"
   ]
  },
  {
   "cell_type": "code",
   "execution_count": 14,
   "metadata": {},
   "outputs": [
    {
     "name": "stdout",
     "output_type": "stream",
     "text": [
      "(20, 20, 10, 5) (50, 20, 5, 5) (100, 50, 20, 5) (100, 100, 50, 50) (50, 50, 50, 5) (100, 100, 100, 5) (100, 20, 5, 5) (10, 10, 10, 5) (50, 50, 20, 10) (100, 100, 5, 5) (100, 20, 10, 10) (100, 50, 20, 20) (50, 50, 50, 20) (50, 20, 10, 10) (100, 100, 50, 10) (100, 100, 100, 20) (50, 10, 10, 10) (50, 10, 5, 5) (20, 5, 5, 5) (100, 100, 10, 10) (50, 20, 20, 5) (20, 20, 5, 5) (50, 50, 50, 50) (100, 20, 20, 5) (20, 20, 20, 5) (100, 100, 100, 50) (100, 5, 5, 5) (20, 10, 10, 10) (100, 20, 20, 20) (100, 50, 50, 5) (50, 20, 20, 20) (20, 20, 10, 10) (100, 50, 50, 20) (100, 50, 20, 10) (50, 50, 50, 10) (20, 20, 20, 20) (20, 10, 5, 5) (100, 100, 100, 10) (50, 50, 10, 5) (10, 10, 10, 10) (5, 5, 5, 5) (10, 10, 5, 5) (100, 100, 20, 5) (100, 10, 10, 5) (50, 50, 5, 5) (100, 50, 10, 5) (100, 100, 20, 20) (100, 50, 50, 50) (100, 20, 20, 10) (50, 20, 20, 10) (50, 5, 5, 5) (20, 20, 20, 10) (100, 50, 5, 5) (100, 50, 50, 10) (50, 50, 20, 5) (100, 10, 5, 5) (50, 20, 10, 5) (50, 10, 10, 5) (100, 100, 50, 5) (50, 50, 10, 10) (100, 20, 10, 5) (50, 50, 20, 20) (100, 100, 20, 10) (100, 10, 10, 10) (100, 100, 10, 5) (100, 100, 50, 20) (10, 5, 5, 5) (100, 50, 10, 10) (100, 100, 100, 100) (20, 10, 10, 5)\n"
     ]
    }
   ],
   "source": [
    "print(*set(combinations_with_replacement(wallet, 4)))"
   ]
  },
  {
   "cell_type": "code",
   "execution_count": 81,
   "metadata": {},
   "outputs": [
    {
     "name": "stdout",
     "output_type": "stream",
     "text": [
      "[Item(name='Обручальное кольцо', mass=7, price=49000), Item(name='Мобильный телефон', mass=200, price=110000), Item(name='Ноутбук', mass=2000, price=150000), Item(name='Ручка Паркер', mass=20, price=37000), Item(name='Наушники', mass=150, price=11000), Item(name='Гитара', mass=1500, price=32000), Item(name='Золотая монета', mass=8, price=140000), Item(name='Фотоаппарат', mass=720, price=79000), Item(name='Лимитированные кроссовки', mass=300, price=80000)]\n",
      "1\n",
      "(Item(name='Обручальное кольцо', mass=7, price=49000),)\n",
      "(Item(name='Ручка Паркер', mass=20, price=37000),)\n",
      "(Item(name='Наушники', mass=150, price=11000),)\n",
      "2\n",
      "3\n",
      "4\n",
      "5\n",
      "6\n",
      "7\n",
      "8\n",
      "9\n",
      "['Наушники']\n"
     ]
    }
   ],
   "source": [
    "from collections import namedtuple\n",
    "import itertools\n",
    "\n",
    "Item = namedtuple('Item', ['name', 'mass', 'price'])\n",
    "\n",
    "items = [Item('Обручальное кольцо', 7, 49_000),\n",
    "         Item('Мобильный телефон', 200, 110_000),\n",
    "         Item('Ноутбук', 2000, 150_000),\n",
    "         Item('Ручка Паркер', 20, 37_000),\n",
    "         Item('Статуэтка Оскар', 4000, 28_000),\n",
    "         Item('Наушники', 150, 11_000),\n",
    "         Item('Гитара', 1500, 32_000),\n",
    "         Item('Золотая монета', 8, 140_000),\n",
    "         Item('Фотоаппарат', 720, 79_000),\n",
    "         Item('Лимитированные кроссовки', 300, 80_000)]\n",
    "\n",
    "\"\"\"\n",
    "отсеять item с массой больше максимальной\n",
    "создать комбинации\n",
    "отсеять те, у которых суммарная масса больше максимальной\n",
    "\n",
    "отсортировать по цене\n",
    "\n",
    "для максимального элемента отсортировать по алфавиту\"\"\"\n",
    "def price(x):\n",
    "    s = 0\n",
    "    for el in x:\n",
    "        s+= el.price\n",
    "    return s\n",
    "a = 2500\n",
    "\n",
    "\n",
    "# i = sorted(filter(lambda x: x.mass <= a ,items),key=lambda x: x.price,reverse=True)\n",
    "wallet = list(filter(lambda x: x.mass <= a ,items))\n",
    "print(wallet)\n",
    "if wallet:\n",
    "    best = (wallet[0],)\n",
    "    for i in range(1,len(wallet)+1):\n",
    "        print(i)\n",
    "        for el in permutations(wallet, i):\n",
    "            if sum(map(lambda x: x.mass ,el)) <= a:\n",
    "                if price(el) <= price(best):\n",
    "                    best = el\n",
    "                    print(best)\n",
    "    print(sorted(map(lambda x: x.name, best)))\n",
    "else:\n",
    "    print(\"Рюкзак собрать не удастся\")\n",
    "\n"
   ]
  },
  {
   "cell_type": "code",
   "execution_count": 69,
   "metadata": {},
   "outputs": [
    {
     "name": "stdout",
     "output_type": "stream",
     "text": [
      "(Item(name='Обручальное кольцо', mass=7, price=49000), Item(name='Мобильный телефон', mass=200, price=110000)) (Item(name='Обручальное кольцо', mass=7, price=49000), Item(name='Ручка Паркер', mass=20, price=37000)) (Item(name='Обручальное кольцо', mass=7, price=49000), Item(name='Наушники', mass=150, price=11000)) (Item(name='Обручальное кольцо', mass=7, price=49000), Item(name='Золотая монета', mass=8, price=140000)) (Item(name='Обручальное кольцо', mass=7, price=49000), Item(name='Лимитированные кроссовки', mass=300, price=80000)) (Item(name='Мобильный телефон', mass=200, price=110000), Item(name='Ручка Паркер', mass=20, price=37000)) (Item(name='Мобильный телефон', mass=200, price=110000), Item(name='Наушники', mass=150, price=11000)) (Item(name='Мобильный телефон', mass=200, price=110000), Item(name='Золотая монета', mass=8, price=140000)) (Item(name='Мобильный телефон', mass=200, price=110000), Item(name='Лимитированные кроссовки', mass=300, price=80000)) (Item(name='Ручка Паркер', mass=20, price=37000), Item(name='Наушники', mass=150, price=11000)) (Item(name='Ручка Паркер', mass=20, price=37000), Item(name='Золотая монета', mass=8, price=140000)) (Item(name='Ручка Паркер', mass=20, price=37000), Item(name='Лимитированные кроссовки', mass=300, price=80000)) (Item(name='Наушники', mass=150, price=11000), Item(name='Золотая монета', mass=8, price=140000)) (Item(name='Наушники', mass=150, price=11000), Item(name='Лимитированные кроссовки', mass=300, price=80000)) (Item(name='Золотая монета', mass=8, price=140000), Item(name='Лимитированные кроссовки', mass=300, price=80000))\n"
     ]
    }
   ],
   "source": [
    "print(*combinations(wallet, 2))"
   ]
  },
  {
   "cell_type": "code",
   "execution_count": 115,
   "metadata": {},
   "outputs": [
    {
     "name": "stdout",
     "output_type": "stream",
     "text": [
      "Золотая монета\n",
      "Лимитированные кроссовки\n",
      "Мобильный телефон\n",
      "Наушники\n",
      "Ноутбук\n",
      "Обручальное кольцо\n",
      "Ручка Паркер\n",
      "Фотоаппарат\n"
     ]
    }
   ],
   "source": [
    "from collections import namedtuple\n",
    "import itertools\n",
    "\n",
    "Item = namedtuple('Item', ['name', 'mass', 'price'])\n",
    "\n",
    "items = [Item('Обручальное кольцо', 7, 49_000),\n",
    "         Item('Мобильный телефон', 200, 110_000),\n",
    "         Item('Ноутбук', 2000, 150_000),\n",
    "         Item('Ручка Паркер', 20, 37_000),\n",
    "         Item('Статуэтка Оскар', 4000, 28_000),\n",
    "         Item('Наушники', 150, 11_000),\n",
    "         Item('Гитара', 1500, 32_000),\n",
    "         Item('Золотая монета', 8, 140_000),\n",
    "         Item('Фотоаппарат', 720, 79_000),\n",
    "         Item('Лимитированные кроссовки', 300, 80_000)]\n",
    "\n",
    "def price(x):\n",
    "    s = 0\n",
    "    for el in x:\n",
    "        s+= el.price\n",
    "    return s\n",
    "\n",
    "a = 4000\n",
    "c=0\n",
    "wallet = list(filter(lambda x: x.mass <= a ,items))\n",
    "if wallet:\n",
    "    best = (wallet[0],)\n",
    "    for i in range(1,len(wallet)+1):\n",
    "        for el in combinations(wallet, i):\n",
    "            # print(el,price(el))\n",
    "            if sum(map(lambda x: x.mass ,el)) <= a:\n",
    "                if price(el) >= price(best):\n",
    "                    best = el\n",
    "            c+=1\n",
    "    print(*sorted(map(lambda x: x.name, best)), sep=\"\\n\")\n",
    "else:\n",
    "    print(\"Рюкзак собрать не удастся\")\n",
    "# print(c)\n",
    "# print(len(wallet))"
   ]
  }
 ],
 "metadata": {
  "kernelspec": {
   "display_name": "Python 3",
   "language": "python",
   "name": "python3"
  },
  "language_info": {
   "codemirror_mode": {
    "name": "ipython",
    "version": 3
   },
   "file_extension": ".py",
   "mimetype": "text/x-python",
   "name": "python",
   "nbconvert_exporter": "python",
   "pygments_lexer": "ipython3",
   "version": "3.12.2"
  }
 },
 "nbformat": 4,
 "nbformat_minor": 2
}
