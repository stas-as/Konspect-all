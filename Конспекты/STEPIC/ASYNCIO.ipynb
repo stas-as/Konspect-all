{
 "cells": [
  {
   "cell_type": "code",
   "execution_count": 7,
   "metadata": {},
   "outputs": [
    {
     "name": "stdout",
     "output_type": "stream",
     "text": [
      "Начало выполнения длительной операции №1: 0.0000\n",
      "Длительная операция № 1 завершена\n",
      "Начало выполнения длительной операции №2: 1.0021\n",
      "Длительная операция № 2 завершена\n",
      "Начало выполнения длительной операции №3: 2.0023\n",
      "Длительная операция № 3 завершена\n",
      "Начало выполнения длительной операции №4: 3.0207\n",
      "Длительная операция № 4 завершена\n",
      "Начало выполнения длительной операции №5: 4.0209\n",
      "Длительная операция № 5 завершена\n",
      "Начало выполнения длительной операции №6: 5.0222\n",
      "Длительная операция № 6 завершена\n",
      "Начало выполнения длительной операции №7: 6.0227\n",
      "Длительная операция № 7 завершена\n",
      "Начало выполнения длительной операции №8: 7.0236\n",
      "Длительная операция № 8 завершена\n",
      "Начало выполнения длительной операции №9: 8.0250\n",
      "Длительная операция № 9 завершена\n",
      "Начало выполнения длительной операции №10: 9.0266\n",
      "Длительная операция № 10 завершена\n",
      "Начало выполнения длительной операции №11: 10.0275\n",
      "Длительная операция № 11 завершена\n",
      "Начало выполнения длительной операции №12: 11.0280\n",
      "Длительная операция № 12 завершена\n",
      "Начало выполнения длительной операции №13: 12.0285\n",
      "Длительная операция № 13 завершена\n",
      "Начало выполнения длительной операции №14: 13.0299\n",
      "Длительная операция № 14 завершена\n",
      "Начало выполнения длительной операции №15: 14.0310\n",
      "Длительная операция № 15 завершена\n",
      "Начало выполнения длительной операции №16: 15.0324\n",
      "Длительная операция № 16 завершена\n",
      "Начало выполнения длительной операции №17: 16.0337\n",
      "Длительная операция № 17 завершена\n",
      "Начало выполнения длительной операции №18: 17.0422\n",
      "Длительная операция № 18 завершена\n",
      "Начало выполнения длительной операции №19: 18.0432\n",
      "Длительная операция № 19 завершена\n",
      "Начало выполнения длительной операции №20: 19.0444\n",
      "Длительная операция № 20 завершена\n",
      "Начало выполнения длительной операции №21: 20.0449\n",
      "Длительная операция № 21 завершена\n",
      "Начало выполнения длительной операции №22: 21.0460\n",
      "Длительная операция № 22 завершена\n",
      "Начало выполнения длительной операции №23: 22.0465\n",
      "Длительная операция № 23 завершена\n",
      "Начало выполнения длительной операции №24: 23.0471\n",
      "Длительная операция № 24 завершена\n",
      "Начало выполнения длительной операции №25: 24.0475\n",
      "Длительная операция № 25 завершена\n",
      "Начало выполнения длительной операции №26: 25.0489\n",
      "Длительная операция № 26 завершена\n",
      "Начало выполнения длительной операции №27: 26.0501\n",
      "Длительная операция № 27 завершена\n",
      "Начало выполнения длительной операции №28: 27.0506\n",
      "Длительная операция № 28 завершена\n",
      "Начало выполнения длительной операции №29: 28.0525\n",
      "Длительная операция № 29 завершена\n",
      "Начало выполнения длительной операции №30: 29.0538\n",
      "Длительная операция № 30 завершена\n",
      "Выполнено 30 операций.\n",
      "Программа завершена за 30.0546\n"
     ]
    }
   ],
   "source": [
    "# python -W ignore::RuntimeWarning my_file.py\n",
    "\n",
    "import time\n",
    "\n",
    "start = time.time()\n",
    "\n",
    "def sleeping(n):\n",
    "    print(f\"Начало выполнения длительной операции №{n}: {time.time() - start:.4f}\")\n",
    "    time.sleep(1)  # Имитация операции длительностью в 1 секунду.\n",
    "    print(f\"Длительная операция № {n} завершена\")\n",
    "    \n",
    "def main():\n",
    "    # Запускаю 30 операций.\n",
    "    all_results = [sleeping(i) for i in range(1, 31)]\n",
    "    print(f\"Выполнено {len(all_results)} операций.\")\n",
    "    print(f\"Программа завершена за {time.time() - start:.4f}\")\n",
    "    \n",
    "main()"
   ]
  },
  {
   "cell_type": "code",
   "execution_count": 4,
   "metadata": {},
   "outputs": [
    {
     "name": "stdout",
     "output_type": "stream",
     "text": [
      "Начало выполнения длительной операции № 1: 0.0006\n",
      "Начало выполнения длительной операции № 2: 0.0006\n",
      "Начало выполнения длительной операции № 3: 0.0006\n",
      "Начало выполнения длительной операции № 4: 0.0006\n",
      "Начало выполнения длительной операции № 5: 0.0006\n",
      "Начало выполнения длительной операции № 6: 0.0006\n",
      "Начало выполнения длительной операции № 7: 0.0006\n",
      "Начало выполнения длительной операции № 8: 0.0006\n",
      "Начало выполнения длительной операции № 9: 0.0006\n",
      "Начало выполнения длительной операции № 10: 0.0006\n",
      "Начало выполнения длительной операции № 11: 0.0006\n",
      "Начало выполнения длительной операции № 12: 0.0006\n",
      "Начало выполнения длительной операции № 13: 0.0006\n",
      "Начало выполнения длительной операции № 14: 0.0006\n",
      "Начало выполнения длительной операции № 15: 0.0006\n",
      "Начало выполнения длительной операции № 16: 0.0006\n",
      "Начало выполнения длительной операции № 17: 0.0006\n",
      "Начало выполнения длительной операции № 18: 0.0006\n",
      "Начало выполнения длительной операции № 19: 0.0006\n",
      "Начало выполнения длительной операции № 20: 0.0006\n",
      "Начало выполнения длительной операции № 21: 0.0006\n",
      "Начало выполнения длительной операции № 22: 0.0006\n",
      "Начало выполнения длительной операции № 23: 0.0006\n",
      "Начало выполнения длительной операции № 24: 0.0006\n",
      "Начало выполнения длительной операции № 25: 0.0006\n",
      "Начало выполнения длительной операции № 26: 0.0006\n",
      "Начало выполнения длительной операции № 27: 0.0006\n",
      "Начало выполнения длительной операции № 28: 0.0006\n",
      "Начало выполнения длительной операции № 29: 0.0006\n",
      "Начало выполнения длительной операции № 30: 0.0006\n",
      "Длительная операция № 1 завершена\n",
      "Длительная операция № 3 завершена\n",
      "Длительная операция № 7 завершена\n",
      "Длительная операция № 15 завершена\n",
      "Длительная операция № 30 завершена\n",
      "Длительная операция № 29 завершена\n",
      "Длительная операция № 28 завершена\n",
      "Длительная операция № 27 завершена\n",
      "Длительная операция № 26 завершена\n",
      "Длительная операция № 25 завершена\n",
      "Длительная операция № 24 завершена\n",
      "Длительная операция № 23 завершена\n",
      "Длительная операция № 22 завершена\n",
      "Длительная операция № 21 завершена\n",
      "Длительная операция № 20 завершена\n",
      "Длительная операция № 19 завершена\n",
      "Длительная операция № 18 завершена\n",
      "Длительная операция № 17 завершена\n",
      "Длительная операция № 14 завершена\n",
      "Длительная операция № 16 завершена\n",
      "Длительная операция № 13 завершена\n",
      "Длительная операция № 12 завершена\n",
      "Длительная операция № 11 завершена\n",
      "Длительная операция № 10 завершена\n",
      "Длительная операция № 9 завершена\n",
      "Длительная операция № 6 завершена\n",
      "Длительная операция № 8 завершена\n",
      "Длительная операция № 5 завершена\n",
      "Длительная операция № 2 завершена\n",
      "Длительная операция № 4 завершена\n",
      "Выполнено 30 операций.\n",
      "Программа завершена за 1.0019\n"
     ]
    }
   ],
   "source": [
    "import time\n",
    "import asyncio\n",
    "\n",
    "start = time.time()  # Время начала эксперимента!)\n",
    "\n",
    "\n",
    "async def sleeping(n):\n",
    "    # {time.time() - start:.4f} - время от начала работы программы до текущего момента.\n",
    "    # :.4f - ограничение количества знаков после запятой (4).\n",
    "    print(f\"Начало выполнения длительной операции № {n}: {time.time() - start:.4f}\")\n",
    "    await asyncio.sleep(1)  # Имитация длительной операции в 1 секунду длиной.\n",
    "    print(f\"Длительная операция № {n} завершена\")\n",
    "\n",
    "\n",
    "async def main():\n",
    "    # Запускаю 30 операций.\n",
    "    task = [sleeping(i) for i in range(1, 31)]\n",
    "    all_results = await asyncio.gather(*task)\n",
    "    print(f\"Выполнено {len(all_results)} операций.\")\n",
    "    print(f\"Программа завершена за {time.time() - start:.4f}\")\n",
    "\n",
    "# Запуск главной корутины.\n",
    "# asyncio.run(main())\n",
    "await main()"
   ]
  },
  {
   "cell_type": "code",
   "execution_count": 6,
   "metadata": {},
   "outputs": [
    {
     "data": {
      "text/plain": [
       "<coroutine object example_coroutine at 0x000002050D0E9240>"
      ]
     },
     "execution_count": 6,
     "metadata": {},
     "output_type": "execute_result"
    }
   ],
   "source": [
    "#НЕ ПРАВИЛЬНО\n",
    "async def example_coroutine():\n",
    "    print(\"Hello from coroutine!\")\n",
    "\n",
    "example_coroutine()  # создан объект корутины example_coroutine(), корутина не запущена!\n"
   ]
  },
  {
   "cell_type": "code",
   "execution_count": 7,
   "metadata": {},
   "outputs": [
    {
     "name": "stdout",
     "output_type": "stream",
     "text": [
      "Hello from coroutine!\n"
     ]
    }
   ],
   "source": [
    "#ПРАВИЛЬНО\n",
    "async def example_coroutine():\n",
    "    print(\"Hello from coroutine!\")\n",
    "\n",
    "# asyncio.run(example_coroutine())  # корутина example_coroutine() запущена. \n",
    "await example_coroutine() # корутина example_coroutine() запущена. "
   ]
  },
  {
   "cell_type": "code",
   "execution_count": 10,
   "metadata": {},
   "outputs": [
    {
     "name": "stdout",
     "output_type": "stream",
     "text": [
      "Hello from coroutine!\n",
      "Hello from coroutine!\n",
      "Hello from coroutine!\n",
      "Hello from coroutine!\n",
      "Hello from coroutine!\n",
      "Hello from coroutine!\n",
      "Hello from coroutine!\n",
      "Hello from coroutine!\n",
      "Hello from coroutine!\n",
      "Hello from coroutine!\n",
      "Программа отработала за 10.1333 сек\n"
     ]
    }
   ],
   "source": [
    "import asyncio\n",
    "import time \n",
    "start = time.time()\n",
    "\n",
    "async def example_coroutine():\n",
    "    print(\"Hello from coroutine!\")\n",
    "    await asyncio.sleep(1)\n",
    "\n",
    "async def main():\n",
    "    for _ in range(10):\n",
    "        await example_coroutine()\n",
    "    print(f\"Программа отработала за {(time.time()- start):.4f} сек\")\n",
    "# asyncio.run(main())  \n",
    "await main()  "
   ]
  },
  {
   "cell_type": "code",
   "execution_count": 16,
   "metadata": {},
   "outputs": [
    {
     "name": "stdout",
     "output_type": "stream",
     "text": [
      "Hello from coroutine!\n",
      "Hello from coroutine!\n",
      "Hello from coroutine!\n",
      "Hello from coroutine!\n",
      "Hello from coroutine!\n",
      "Hello from coroutine!\n",
      "Hello from coroutine!\n",
      "Hello from coroutine!\n",
      "Hello from coroutine!\n",
      "Hello from coroutine!\n",
      "Конец корутины 0\n",
      "Конец корутины 2\n",
      "Конец корутины 6\n",
      "Конец корутины 4\n",
      "Конец корутины 8\n",
      "Конец корутины 9\n",
      "Конец корутины 5\n",
      "Конец корутины 3\n",
      "Конец корутины 1\n",
      "Конец корутины 7\n",
      "Программа отработала за 2.0317 сек\n"
     ]
    }
   ],
   "source": [
    "import asyncio\n",
    "import time \n",
    "start = time.time()\n",
    "\n",
    "async def example_coroutine(n):\n",
    "    print(\"Hello from coroutine!\")\n",
    "    await asyncio.sleep([1,2][n%2])\n",
    "    print(f\"Конец корутины {n}\")\n",
    "\n",
    "async def main():\n",
    "    task = (example_coroutine(i) for i in range(10))\n",
    "    await asyncio.gather(*task)\n",
    "    print(f\"Программа отработала за {(time.time()- start):.4f} сек\")\n",
    "# asyncio.run(main())  \n",
    "await main()  "
   ]
  },
  {
   "cell_type": "code",
   "execution_count": 2,
   "metadata": {},
   "outputs": [
    {
     "name": "stdout",
     "output_type": "stream",
     "text": [
      "Hello from coroutine!\n",
      "Hello from coroutine!\n",
      "Hello from coroutine!\n",
      "Hello from coroutine!\n",
      "Hello from coroutine!\n",
      "Hello from coroutine!\n",
      "Hello from coroutine!\n",
      "Hello from coroutine!\n",
      "Hello from coroutine!\n",
      "Hello from coroutine!\n"
     ]
    }
   ],
   "source": [
    "import asyncio\n",
    "\n",
    "\n",
    "async def example_coroutine():\n",
    "    await asyncio.sleep(1)\n",
    "    print(\"Hello from coroutine!\")\n",
    "\n",
    "async def main():\n",
    "    tasks = []\n",
    "    for _ in range(10):\n",
    "        task = asyncio.create_task(example_coroutine())  # создаем 10 задач\n",
    "        tasks.append(task)  # добавляем все задачи в список tasks\n",
    "    await asyncio.gather(*tasks)  # запускаем все задачи из списка tasks\n",
    "\n",
    "# asyncio.run(main())\n",
    "await main()"
   ]
  },
  {
   "cell_type": "code",
   "execution_count": 4,
   "metadata": {},
   "outputs": [
    {
     "name": "stdout",
     "output_type": "stream",
     "text": [
      "Running my task\n",
      "Task complete\n"
     ]
    }
   ],
   "source": [
    "import asyncio\n",
    "\n",
    "async def my_task():\n",
    "    print(\"Running my task\")\n",
    "    await asyncio.sleep(1)\n",
    "    print(\"Task complete\")\n",
    "\n",
    "async def main():\n",
    "    task = asyncio.create_task(my_task())\n",
    "    await asyncio.sleep(2)\n",
    "\n",
    "# asyncio.run(main())\n",
    "await main()"
   ]
  },
  {
   "cell_type": "code",
   "execution_count": 7,
   "metadata": {},
   "outputs": [
    {
     "name": "stdout",
     "output_type": "stream",
     "text": [
      "coro2 начала свое выполнение\n",
      "coro2 выполнена за 1 секунду(ы)\n",
      "coro1 начала свое выполнение\n",
      "coro1 выполнена за 2 секунду(ы)\n",
      "Программа выполнена за 3.016 секунд(ы)\n"
     ]
    }
   ],
   "source": [
    "import time\n",
    "import asyncio\n",
    "\n",
    "\n",
    "# Объявление корутинной функции(используется \"async def\")\n",
    "async def coro(num, seconds):\n",
    "    print(f\"coro{num} начала свое выполнение\")\n",
    "    await asyncio.sleep(seconds)\n",
    "    print(f\"coro{num} выполнена за {seconds} секунду(ы)\")\n",
    "\n",
    "\n",
    "async def main():\n",
    "    # Создание объектов корутин путем вызова корутинной функции.\n",
    "    coro1 = coro(1, 2)\n",
    "    coro2 = coro(2, 1)\n",
    "    # Запуск и ожидание выполнения объектов корутин.\n",
    "    await coro2\n",
    "    await coro1\n",
    "\n",
    "start = time.time()\n",
    "# asyncio.run(main())\n",
    "await main()\n",
    "print(f'Программа выполнена за {time.time()-start:.3f} секунд(ы)')"
   ]
  },
  {
   "cell_type": "code",
   "execution_count": 8,
   "metadata": {},
   "outputs": [
    {
     "name": "stdout",
     "output_type": "stream",
     "text": [
      "Программа выполнена за 0.000 секунд(ы)\n",
      "coro1 начала свое выполнение\n",
      "coro2 начала свое выполнение\n"
     ]
    },
    {
     "name": "stdout",
     "output_type": "stream",
     "text": [
      "coro2 выполнена за 1 секунду(ы)\n",
      "coro1 выполнена за 2 секунду(ы)\n"
     ]
    }
   ],
   "source": [
    "import time\n",
    "import asyncio\n",
    "\n",
    "\n",
    "# Объявление корутинной функции(используется \"async def\")\n",
    "async def coro(num, seconds):\n",
    "    print(f\"coro{num} начала свое выполнение\")\n",
    "    await asyncio.sleep(seconds)\n",
    "    print(f\"coro{num} выполнена за {seconds} секунду(ы)\")\n",
    "\n",
    "\n",
    "async def main():\n",
    "    # Создание объектов корутин путем вызова корутинной функции.\n",
    "    task = asyncio.create_task(coro(1, 2))\n",
    "    task = asyncio.create_task(coro(2, 1))\n",
    "    # Запуск и ожидание выполнения объектов корутин.\n",
    "start = time.time()\n",
    "# asyncio.run(main())\n",
    "await main()\n",
    "print(f'Программа выполнена за {time.time()-start:.3f} секунд(ы)')"
   ]
  },
  {
   "cell_type": "code",
   "execution_count": 11,
   "metadata": {},
   "outputs": [
    {
     "name": "stdout",
     "output_type": "stream",
     "text": [
      "corocor1 начала свое выполнение\n",
      "corocor2 начала свое выполнение\n",
      "corocor2 выполнена за 1 секунду(ы)\n",
      "corocor1 выполнена за 2 секунду(ы)\n",
      "Программа выполнена за 2.016 секунд(ы)\n",
      "corotask1 начала свое выполнение\n",
      "corotask2 начала свое выполнение\n",
      "corotask2 выполнена за 1 секунду(ы)\n",
      "corotask1 выполнена за 2 секунду(ы)\n",
      "Программа выполнена за 2.006 секунд(ы)\n"
     ]
    }
   ],
   "source": [
    "import time\n",
    "import asyncio\n",
    "\n",
    "\n",
    "# Объявление корутинной функции(используется \"async def\")\n",
    "async def coro(num, seconds,type=\"cor\"):\n",
    "    print(f\"coro{type}{num} начала свое выполнение\")\n",
    "    await asyncio.sleep(seconds)\n",
    "    print(f\"coro{type}{num} выполнена за {seconds} секунду(ы)\")\n",
    "\n",
    "\n",
    "async def main_cor():\n",
    "    # Создание объектов корутин путем вызова корутинной функции.\n",
    "    task = (coro(1, 2), coro(2, 1))\n",
    "    await asyncio.gather(*task)\n",
    "    # Запуск и ожидание выполнения объектов корутин.\n",
    "    \n",
    "start = time.time()\n",
    "# asyncio.run(main())\n",
    "await main_cor()\n",
    "print(f'Программа выполнена за {time.time()-start:.3f} секунд(ы)')\n",
    "\n",
    "async def main_task():\n",
    "    # Создание объектов корутин путем вызова корутинной функции.\n",
    "    task1 = asyncio.create_task(coro(1, 2, \"task\"))\n",
    "    task2 = asyncio.create_task(coro(2, 1, \"task\"))\n",
    "    await asyncio.gather(task1,task2)\n",
    "    # Запуск и ожидание выполнения объектов корутин.\n",
    "start = time.time()\n",
    "# asyncio.run(main())\n",
    "await main_task()\n",
    "print(f'Программа выполнена за {time.time()-start:.3f} секунд(ы)')"
   ]
  },
  {
   "cell_type": "code",
   "execution_count": null,
   "metadata": {},
   "outputs": [],
   "source": [
    "import asyncio\n",
    "\n",
    "async def my_task():\n",
    "    print(\"Task started\")\n",
    "    await asyncio.sleep(1)\n",
    "    print(\"Task finished\")\n",
    "\n",
    "async def main():\n",
    "    asyncio.create_task(my_task())\n",
    "    await asyncio.sleep(2)\n",
    "\n",
    "asyncio.run(main())"
   ]
  },
  {
   "cell_type": "code",
   "execution_count": 4,
   "metadata": {},
   "outputs": [
    {
     "name": "stdout",
     "output_type": "stream",
     "text": [
      "Coroutine 1 is done\n",
      "Coroutine 2 is done\n",
      "Coroutine 3 is done\n"
     ]
    }
   ],
   "source": [
    "import asyncio\n",
    "\n",
    "async def cor(n):\n",
    "    print(f\"Coroutine {n} is done\")\n",
    "\n",
    "async def main():\n",
    "    tasks = (asyncio.create_task(cor(i)) for i in range(1,4))\n",
    "    await asyncio.gather(*tasks)\n",
    "    \n",
    "# asyncio.run(main())\n",
    "await main()"
   ]
  },
  {
   "cell_type": "code",
   "execution_count": 4,
   "metadata": {},
   "outputs": [
    {
     "name": "stdout",
     "output_type": "stream",
     "text": [
      "Coroutine 0 is done\n",
      "Coroutine 2 is done\n",
      "Coroutine 6 is done\n",
      "Coroutine 9 is done\n",
      "Coroutine 8 is done\n",
      "Coroutine 5 is done\n",
      "Coroutine 7 is done\n",
      "Coroutine 4 is done\n",
      "Coroutine 1 is done\n",
      "Coroutine 3 is done\n"
     ]
    }
   ],
   "source": [
    "import asyncio \n",
    "\n",
    "async def print_with_delay(num):\n",
    "    await asyncio.sleep(1)\n",
    "    print(f'Coroutine {num} is done')\n",
    "\n",
    "async def main():\n",
    "    task = (asyncio.create_task(print_with_delay(i)) for i in range(10))\n",
    "    await asyncio.gather(*task)\n",
    "    \n",
    "# asyncio.run(main())\n",
    "await main()"
   ]
  },
  {
   "cell_type": "code",
   "execution_count": 7,
   "metadata": {},
   "outputs": [
    {
     "name": "stdout",
     "output_type": "stream",
     "text": [
      "Counter 1: 1\n",
      "Counter 2: 1\n",
      "Counter 1: 2\n",
      "Counter 2: 2\n",
      "Counter 1: 3\n",
      "Counter 2: 3\n",
      "Counter 1: 4\n",
      "Counter 2: 4\n",
      "Counter 1: 5\n",
      "Counter 2: 5\n",
      "Counter 1: 6\n",
      "Counter 2: 6\n",
      "Counter 1: 7\n",
      "Counter 2: 7\n",
      "Counter 1: 8\n",
      "Counter 1: 9\n",
      "Counter 1: 10\n",
      "Counter 1: 11\n",
      "Counter 1: 12\n",
      "Counter 1: 13\n"
     ]
    }
   ],
   "source": [
    "import asyncio\n",
    "max_counts = {\n",
    "    \"Counter 1\": 13,\n",
    "    \"Counter 2\": 7\n",
    "}\n",
    "async def Counter(name):\n",
    "    for i in range(1,max_counts[name]+1):\n",
    "        print(f\"{name}: {i}\")\n",
    "        await asyncio.sleep(1)\n",
    "        \n",
    "async def main():\n",
    "    task = map(asyncio.create_task,map(Counter, max_counts))\n",
    "    await asyncio.gather(*task)\n",
    "    \n",
    "await main()\n",
    "# asyncio.run(main())\n",
    "\n"
   ]
  },
  {
   "cell_type": "code",
   "execution_count": 10,
   "metadata": {},
   "outputs": [
    {
     "name": "stdout",
     "output_type": "stream",
     "text": [
      "Counter 1: 1\n",
      "Counter 2: 1\n",
      "Counter 3: 1\n",
      "Counter 3: 2\n",
      "Counter 1: 2\n",
      "Counter 3: 3\n",
      "Counter 3: 4\n",
      "Counter 2: 2\n",
      "Counter 1: 3\n",
      "Counter 3: 5\n",
      "Counter 3: 6\n",
      "Counter 1: 4\n",
      "Counter 3: 7\n",
      "Counter 3: 8\n",
      "Counter 2: 3\n",
      "Counter 1: 5\n",
      "Counter 3: 9\n",
      "Counter 3: 10\n",
      "Counter 1: 6\n",
      "Counter 3: 11\n",
      "Counter 3: 12\n",
      "Counter 2: 4\n",
      "Counter 1: 7\n",
      "Counter 3: 13\n",
      "Counter 3: 14\n",
      "Counter 1: 8\n",
      "Counter 3: 15\n",
      "Counter 2: 5\n",
      "Counter 1: 9\n",
      "Counter 1: 10\n"
     ]
    }
   ],
   "source": [
    "import asyncio\n",
    "from itertools import starmap\n",
    "\n",
    "max_counts = {\n",
    "    \"Counter 1\": 10,\n",
    "    \"Counter 2\": 5,\n",
    "    \"Counter 3\": 15\n",
    "}\n",
    "delays = {\n",
    "    \"Counter 1\": 1,\n",
    "    \"Counter 2\": 2,\n",
    "    \"Counter 3\": 0.5\n",
    "}\n",
    "\n",
    "async def Counter(name,delays):\n",
    "    for i in range(1,max_counts[name]+1):\n",
    "        print(f\"{name}: {i}\")\n",
    "        await asyncio.sleep(delays)\n",
    "        \n",
    "async def main():\n",
    "    task = map(asyncio.create_task, starmap(Counter, delays.items()))\n",
    "    await asyncio.gather(*task)\n",
    "    \n",
    "await main()\n",
    "# asyncio.run(main())\n"
   ]
  },
  {
   "cell_type": "code",
   "execution_count": 1,
   "metadata": {},
   "outputs": [
    {
     "name": "stdout",
     "output_type": "stream",
     "text": [
      "Главная корутина запущена.\n",
      "Начало асинхронной операции.\n",
      "Попытка отмены Future.\n",
      "Асинхронная операция была отменена в процессе выполнения.\n",
      "Обработка исключения: Future был отменен.\n",
      "Проверка: Future был отменен.\n",
      "Главная корутина завершена.\n"
     ]
    }
   ],
   "source": [
    "import asyncio\n",
    "\n",
    "async def async_operation():\n",
    "    print(\"Начало асинхронной операции.\")\n",
    "    try:\n",
    "        await asyncio.sleep(2)\n",
    "    except asyncio.CancelledError:\n",
    "        print(\"Асинхронная операция была отменена в процессе выполнения.\")\n",
    "        raise\n",
    "    print(\"Асинхронная операция успешно завершилась.\")\n",
    "    \n",
    "    \n",
    "async def main():\n",
    "    print(\"Главная корутина запущена.\")\n",
    "    future = asyncio.ensure_future(async_operation())\n",
    "    await asyncio.sleep(0.1)\n",
    "    print(\"Попытка отмены Future.\")\n",
    "    future.cancel()\n",
    "    try:\n",
    "        result = await future\n",
    "        print(\"Результат Future:\", result)\n",
    "    except asyncio.CancelledError:\n",
    "        print(\"Обработка исключения: Future был отменен.\")\n",
    "    \n",
    "    if future.cancelled():\n",
    "        print(\"Проверка: Future был отменен.\")\n",
    "    else:\n",
    "        print(\"Проверка: Future не был отменен.\")\n",
    "        \n",
    "    print(\"Главная корутина завершена.\")\n",
    "    \n",
    "\n",
    "# asyncio.run(main())\n",
    "await main()"
   ]
  },
  {
   "cell_type": "code",
   "execution_count": 3,
   "metadata": {},
   "outputs": [
    {
     "name": "stdout",
     "output_type": "stream",
     "text": [
      "Главная корутина запущена.\n",
      "Начало асинхронной операции.\n",
      "Попытка отмены Future.\n",
      "Обработка исключения: Future был отменен.\n",
      "Проверка: Future был отменен.\n",
      "Главная корутина завершена.\n"
     ]
    }
   ],
   "source": [
    "import asyncio\n",
    "\n",
    "\n",
    "async def async_operation():\n",
    "    print(\"Начало асинхронной операции.\")\n",
    "    await asyncio.sleep(2)\n",
    "    try:\n",
    "        # Имитация асинхронной операции с задержкой\n",
    "        print(\"Асинхронная операция успешно завершилась.\")\n",
    "        return \"success\"\n",
    "    except asyncio.CancelledError:\n",
    "        print(\"Асинхронная операция была отменена в процессе выполнения.\")\n",
    "        raise\n",
    "\n",
    "\n",
    "async def main():\n",
    "    print(\"Главная корутина запущена.\")\n",
    "    # Создаем Future с помощью ensure_future, обернув асинхронную операцию\n",
    "    future = asyncio.ensure_future(async_operation())\n",
    "\n",
    "    # Даём немного времени на старт асинхронной операции\n",
    "    await asyncio.sleep(0.1)\n",
    "    print(\"Попытка отмены Future.\")\n",
    "\n",
    "    # Отменяем Future до его завершения\n",
    "    future.cancel()\n",
    "\n",
    "    try:\n",
    "        # Пытаемся получить результат Future\n",
    "        result = await future\n",
    "        print(\"Результат Future:\", result)\n",
    "    except asyncio.CancelledError:\n",
    "        # Обработка исключения, возникающего при отмене Future\n",
    "        print(\"Обработка исключения: Future был отменен.\")\n",
    "\n",
    "    # Проверяем, отменился ли Future\n",
    "    if future.cancelled():\n",
    "        print(\"Проверка: Future был отменен.\")\n",
    "    else:\n",
    "        print(\"Проверка: Future не был отменен.\")\n",
    "\n",
    "    print(\"Главная корутина завершена.\")\n",
    "\n",
    "\n",
    "# asyncio.run(main())\n",
    "await main() "
   ]
  },
  {
   "cell_type": "code",
   "execution_count": 4,
   "metadata": {},
   "outputs": [
    {
     "name": "stdout",
     "output_type": "stream",
     "text": [
      "Алекс начал читать книгу.\n",
      "Мария начал читать книгу.\n",
      "Иван начал читать книгу.\n",
      "Мария закончил читать книгу за 3 секунд.\n",
      "Иван закончил читать книгу за 4 секунд.\n",
      "Алекс закончил читать книгу за 5 секунд.\n"
     ]
    }
   ],
   "source": [
    "import asyncio\n",
    "from itertools import starmap\n",
    "\n",
    "data ={\n",
    "    \"Алекс\": 5,\n",
    "    \"Мария\": 3,\n",
    "    \"Иван\": 4 \n",
    "}\n",
    "\n",
    "\n",
    "async def read_book(student, time):\n",
    "    print(f\"{student} начал читать книгу.\")\n",
    "    await asyncio.sleep(time)\n",
    "    print(f\"{student} закончил читать книгу за {time} секунд.\")\n",
    "\n",
    "\n",
    "async def main():\n",
    "    tasks = map(asyncio.create_task, starmap(read_book, data.items()))\n",
    "    await asyncio.gather(*tasks)\n",
    "\n",
    "\n",
    "# asyncio.run(main())\n",
    "await main()"
   ]
  },
  {
   "cell_type": "code",
   "execution_count": 34,
   "metadata": {},
   "outputs": [
    {
     "name": "stdout",
     "output_type": "stream",
     "text": [
      "Алекс начал проходить курс Асинхронный Python.\n",
      "Мария начал проходить курс Многопоточный Python.\n",
      "Иван начал проходить курс WEB Парсинг на Python.\n",
      "Алекс прошел курс Асинхронный Python за 6.6 ч.\n",
      "Мария прошел курс Многопоточный Python за 6.95 ч.\n",
      "Иван прошел курс WEB Парсинг на Python за 8.61 ч.\n"
     ]
    }
   ],
   "source": [
    "students = {\n",
    "    \"Алекс\": {\"course\": \"Асинхронный Python\", \"steps\": 515, \"speed\": 78},\n",
    "    \"Мария\": {\"course\": \"Многопоточный Python\", \"steps\": 431, \"speed\": 62},\n",
    "    \"Иван\": {\"course\": \"WEB Парсинг на Python\", \"steps\": 491, \"speed\": 57}\n",
    "}\n",
    "\n",
    "import asyncio\n",
    "from itertools import starmap\n",
    "# Полный словарь students вшит в задачу, вставлять его не нужно\n",
    "# students = {}\n",
    "\n",
    "async def study_course(student, course, steps, speed):\n",
    "    reading_time = steps / speed\n",
    "    print(f\"{student} начал проходить курс {course}.\")\n",
    "    await asyncio.sleep(1)\n",
    "    print(f\"{student} прошел курс {course} за {round(reading_time,2)} ч.\")\n",
    "\n",
    "async def main():\n",
    "    tasks = map(asyncio.create_task, (study_course(k,*el.values()) for k, el in students.items()))\n",
    "    await asyncio.gather(*tasks)\n",
    "    # Ожидание завершения каждой задачи индивидуально\n",
    "\n",
    "await main()\n",
    "# asyncio.run(main())"
   ]
  },
  {
   "cell_type": "code",
   "execution_count": 29,
   "metadata": {},
   "outputs": [
    {
     "name": "stdout",
     "output_type": "stream",
     "text": [
      "('Алекс', 'Асинхронный Python', 515, 78)\n",
      "('Мария', 'Многопоточный Python', 431, 62)\n",
      "('Иван', 'WEB Парсинг на Python', 491, 57)\n"
     ]
    }
   ],
   "source": [
    "students = {\n",
    "    \"Алекс\": {\"course\": \"Асинхронный Python\", \"steps\": 515, \"speed\": 78},\n",
    "    \"Мария\": {\"course\": \"Многопоточный Python\", \"steps\": 431, \"speed\": 62},\n",
    "    \"Иван\": {\"course\": \"WEB Парсинг на Python\", \"steps\": 491, \"speed\": 57}\n",
    "}\n",
    "def study_course(student, course, steps, speed):\n",
    "    return (student, course, steps, speed)\n",
    ":\n",
    "    print(el)"
   ]
  },
  {
   "cell_type": "code",
   "execution_count": 21,
   "metadata": {},
   "outputs": [],
   "source": [
    "\n",
    "[1].extend(students[\"Алекс\"].values())\n"
   ]
  },
  {
   "cell_type": "code",
   "execution_count": 3,
   "metadata": {},
   "outputs": [
    {
     "name": "stdout",
     "output_type": "stream",
     "text": [
      "Задача 1 завершена Задача 2 завершена\n"
     ]
    }
   ],
   "source": [
    "import asyncio\n",
    "\n",
    "async def task_one():\n",
    "    await asyncio.sleep(2)\n",
    "    return \"Задача 1 завершена\"\n",
    "\n",
    "async def task_two():\n",
    "    await asyncio.sleep(1)\n",
    "    return \"Задача 2 завершена\"\n",
    "\n",
    "async def main():\n",
    "    result_one = await task_one()\n",
    "    result_two = await task_two()\n",
    "    print(result_one, result_two)\n",
    "\n",
    "# asyncio.run(main())\n",
    "await main()"
   ]
  },
  {
   "cell_type": "code",
   "execution_count": 6,
   "metadata": {},
   "outputs": [
    {
     "name": "stdout",
     "output_type": "stream",
     "text": [
      "Привет из корутины task1\n",
      "1.010523796081543\n"
     ]
    },
    {
     "name": "stdout",
     "output_type": "stream",
     "text": [
      "Привет из корутины task2\n"
     ]
    }
   ],
   "source": [
    "import asyncio\n",
    "import time\n",
    "\n",
    "async def task1():\n",
    "    await asyncio.sleep(1)\n",
    "    print(\"Привет из корутины task1\")\n",
    "\n",
    "async def task2():\n",
    "    await asyncio.sleep(1)\n",
    "    print(\"Привет из корутины task2\")\n",
    "\n",
    "async def main():\n",
    "    await asyncio.create_task(task1())\n",
    "    asyncio.create_task(task2())\n",
    "\n",
    "start = time.time()\n",
    "await main()\n",
    "print(time.time()-start)"
   ]
  },
  {
   "cell_type": "code",
   "execution_count": 12,
   "metadata": {},
   "outputs": [
    {
     "name": "stdout",
     "output_type": "stream",
     "text": [
      "Начинаем задачу 1\n",
      "Начинаем задачу 2\n",
      "Начинаем задачу 3\n",
      "Привет из корутины task1\n",
      "Привет из корутины task2\n",
      "Задача 1 завершилась\n",
      "Привет из корутины task3\n",
      "Задача 2 завершилась\n",
      "Задача 3 завершилась\n"
     ]
    }
   ],
   "source": [
    "import asyncio\n",
    "\n",
    "async def task1():\n",
    "    print(\"Начинаем задачу 1\")\n",
    "    await asyncio.sleep(1)\n",
    "    print(\"Привет из корутины task1\")\n",
    "    await asyncio.sleep(1)\n",
    "    print(\"Задача 1 завершилась\")\n",
    "\n",
    "async def task2():\n",
    "    print(\"Начинаем задачу 2\")\n",
    "    await asyncio.sleep(2)\n",
    "    print(\"Привет из корутины task2\")\n",
    "    await asyncio.sleep(2)\n",
    "    print(\"Задача 2 завершилась\")\n",
    "\n",
    "async def task3():\n",
    "    print(\"Начинаем задачу 3\")\n",
    "    await asyncio.sleep(3)\n",
    "    print(\"Привет из корутины task3\")\n",
    "    await asyncio.sleep(3)\n",
    "    print(\"Задача 3 завершилась\")\n",
    "\n",
    "async def main():\n",
    "    task_1 = asyncio.create_task(task1())\n",
    "    task_2 = asyncio.create_task(task2())\n",
    "    task_3 = asyncio.create_task(task3())\n",
    "    \n",
    "    await asyncio.gather(task_1, task_2, task_3)\n",
    "    \n",
    "await main()"
   ]
  }
 ],
 "metadata": {
  "kernelspec": {
   "display_name": "Python 3",
   "language": "python",
   "name": "python3"
  },
  "language_info": {
   "codemirror_mode": {
    "name": "ipython",
    "version": 3
   },
   "file_extension": ".py",
   "mimetype": "text/x-python",
   "name": "python",
   "nbconvert_exporter": "python",
   "pygments_lexer": "ipython3",
   "version": "3.12.2"
  }
 },
 "nbformat": 4,
 "nbformat_minor": 2
}
