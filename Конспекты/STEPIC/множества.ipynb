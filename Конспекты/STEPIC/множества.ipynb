{
 "cells": [
  {
   "cell_type": "code",
   "execution_count": 1,
   "metadata": {},
   "outputs": [
    {
     "name": "stdout",
     "output_type": "stream",
     "text": [
      "6.324555320336759\n",
      "5.656854249492381\n",
      "12.0\n",
      "3.0\n"
     ]
    }
   ],
   "source": [
    "from math import *\n",
    "print(sqrt(36 + 4))\n",
    "print(sqrt(36 - 4))\n",
    "print(sqrt(36 * 4))\n",
    "print(sqrt(36 / 4))"
   ]
  },
  {
   "cell_type": "code",
   "execution_count": 2,
   "metadata": {},
   "outputs": [
    {
     "name": "stdout",
     "output_type": "stream",
     "text": [
      "1234567890\n"
     ]
    }
   ],
   "source": [
    "a = \"12345\"\n",
    "b = \"67890\"\n",
    "c = a + b \n",
    "print(c)"
   ]
  },
  {
   "cell_type": "code",
   "execution_count": null,
   "metadata": {},
   "outputs": [],
   "source": []
  },
  {
   "cell_type": "code",
   "execution_count": null,
   "metadata": {},
   "outputs": [
    {
     "data": {
      "text/plain": [
       "{'a', 'c'}"
      ]
     },
     "execution_count": 1,
     "metadata": {},
     "output_type": "execute_result"
    }
   ],
   "source": [
    "set1 = {'a', 'b', 'c', 'd', 'h'}\n",
    "set2 = {'b', 'd', 'f', 'h'}\n",
    "\n",
    "set3 = set1 - set2 & set1\n",
    "set3"
   ]
  },
  {
   "cell_type": "code",
   "execution_count": 7,
   "metadata": {},
   "outputs": [
    {
     "name": "stdout",
     "output_type": "stream",
     "text": [
      "True\n"
     ]
    }
   ],
   "source": [
    "set1 = {'a', 'b', 'c', 'd', 'e'}\n",
    "set2 = {'c', 'e'}\n",
    "\n",
    "print(set1 >= set1)"
   ]
  },
  {
   "cell_type": "code",
   "execution_count": 5,
   "metadata": {},
   "outputs": [
    {
     "name": "stdout",
     "output_type": "stream",
     "text": [
      "a about accident all am and at bloom bottom by can darkest day dells died dusk entered for freak furry golden had hedge her hill hollows i if in infancy know lightning memory midges mother my nothing observation of or over past photogenic picnic pocket rambler redolent remnants save set some stand still style subsists suddenly summer sun surely suspended the those three traversed under very warmth was when which with within writing you\n"
     ]
    }
   ],
   "source": [
    "sentence = '''My very photogenic mother died in a freak accident (picnic, lightning) when I was three, and, save for a pocket of warmth in the darkest past, nothing of her subsists within the hollows and dells of memory, over which, if you can still stand my style (I am writing under observation), the sun of my infancy had set: surely, you all know those redolent remnants of day suspended, with the midges, about some hedge in bloom or suddenly entered and traversed by the rambler, at the bottom of a hill, in the summer dusk; a furry warmth, golden midges.'''\n",
    "for i in \"(,):;.\":\n",
    "    sentence = sentence.replace(i , \"\") \n",
    "print(*sorted(set([el for el in sentence.lower().split()])))\n"
   ]
  },
  {
   "cell_type": "code",
   "execution_count": 6,
   "metadata": {},
   "outputs": [
    {
     "data": {
      "text/plain": [
       "'org'"
      ]
     },
     "execution_count": 6,
     "metadata": {},
     "output_type": "execute_result"
    }
   ],
   "source": [
    "a = \"beegeek.org\"\n",
    "a[-3:]"
   ]
  },
  {
   "cell_type": "code",
   "execution_count": 4,
   "metadata": {},
   "outputs": [
    {
     "name": "stdout",
     "output_type": "stream",
     "text": [
      "4\n"
     ]
    }
   ],
   "source": [
    "j = \"ab\"\n",
    "s = \"aabbccd\"\n",
    "result = 0\n",
    "for ch in s:\n",
    "    if ch in j:\n",
    "        result += 1\n",
    " \n",
    "print(result)"
   ]
  },
  {
   "cell_type": "code",
   "execution_count": 5,
   "metadata": {},
   "outputs": [],
   "source": [
    "import sys\n",
    " \n",
    "#j = sys.stdin.readline().strip()\n",
    "#s = sys.stdin.readline().strip()"
   ]
  },
  {
   "cell_type": "code",
   "execution_count": 4,
   "metadata": {},
   "outputs": [
    {
     "ename": "IndentationError",
     "evalue": "unindent does not match any outer indentation level (<tokenize>, line 8)",
     "output_type": "error",
     "traceback": [
      "\u001b[1;36m  File \u001b[1;32m<tokenize>:8\u001b[1;36m\u001b[0m\n\u001b[1;33m    else:\u001b[0m\n\u001b[1;37m    ^\u001b[0m\n\u001b[1;31mIndentationError\u001b[0m\u001b[1;31m:\u001b[0m unindent does not match any outer indentation level\n"
     ]
    }
   ],
   "source": [
    "n = int(sys.stdin.readline().strip())\n",
    "m = [int(sys.stdin.readline().strip()) for _ in range(n)]\n",
    "counter = [0,0]\n",
    "с = 0\n",
    "for el in m :\n",
    "    if el == 1:\n",
    "        counter[c] += 1\n",
    "    else:\n",
    "        c += 1 \n",
    "        counter.append(0)\n",
    "print(max(counter))"
   ]
  },
  {
   "cell_type": "code",
   "execution_count": 5,
   "metadata": {},
   "outputs": [
    {
     "name": "stdout",
     "output_type": "stream",
     "text": [
      "1\n"
     ]
    }
   ],
   "source": [
    "n = int(input())  # Число элементов в массиве\n",
    "max_length = 0    # Максимальная длина последовательности единиц\n",
    "current_length = 0  # Текущая длина текущей последовательности единиц\n",
    "\n",
    "for _ in range(n):\n",
    "    element = int(input())\n",
    "    \n",
    "    if element == 1:\n",
    "        current_length += 1\n",
    "    else:\n",
    "        # Если текущая последовательность единиц окончилась, обновляем максимальную длину\n",
    "        max_length = max(max_length, current_length)\n",
    "        current_length = 0  # Сбрасываем текущую длину\n",
    "\n",
    "# После окончания цикла проверяем, если последовательность единиц заканчивается на последнем элементе\n",
    "max_length = max(max_length, current_length)\n",
    "\n",
    "print(max_length)"
   ]
  },
  {
   "cell_type": "code",
   "execution_count": 10,
   "metadata": {},
   "outputs": [
    {
     "name": "stdout",
     "output_type": "stream",
     "text": [
      "2\n"
     ]
    }
   ],
   "source": [
    "n=int(input().strip())\n",
    "m = [int(input()) for _ in range(n)]\n",
    "counter = [0,0]\n",
    "ce = int(\"0\")\n",
    "for el in m:\n",
    "    if el == 1:\n",
    "        counter[ce] +=1\n",
    "    else:\n",
    "        ce += 1 \n",
    "        counter.append(0)\n",
    "t = max(counter)\n",
    "print(t)"
   ]
  },
  {
   "cell_type": "code",
   "execution_count": 14,
   "metadata": {},
   "outputs": [
    {
     "name": "stdout",
     "output_type": "stream",
     "text": [
      "5\n",
      "7\n",
      "9\n"
     ]
    }
   ],
   "source": [
    "n = int(input())\n",
    "my_set = set()\n",
    "for _ in range(n):\n",
    "\tmy_set.add(int(input()))\n",
    "print(*sorted(my_set),sep=\"\\n\")"
   ]
  },
  {
   "cell_type": "code",
   "execution_count": 16,
   "metadata": {},
   "outputs": [
    {
     "name": "stdout",
     "output_type": "stream",
     "text": [
      "((()))\n",
      "(()())\n",
      "(())()\n",
      "()(())\n",
      "()()()\n"
     ]
    }
   ],
   "source": [
    "n = int(input())\n",
    "def bracket(count, s='', left=0, right=0):\n",
    "    if left == count and right == count:\n",
    "        print(s)\n",
    "    else:\n",
    "        if left < count:\n",
    "            bracket(count, s + '(', left + 1, right)\n",
    "        if right < left:\n",
    "            bracket(count, s + ')', left, right + 1)\n",
    " \n",
    "\n",
    "bracket(n)"
   ]
  },
  {
   "cell_type": "code",
   "execution_count": null,
   "metadata": {},
   "outputs": [],
   "source": [
    "def sigmoid(z):\n",
    "    # maps R –> (0, 1)\n",
    "    return 1/(1 + np.exp(-z))\n",
    "\n",
    "def logistic_prediction(x: np.ndarray, w: np.ndarray, b: float):\n",
    "    \"\"\"\n",
    "    x: np.ndarray of shape [n_objects, n_features]\n",
    "    w: np.ndarray of shape [n_features, 1]\n",
    "    b: float\n",
    "\n",
    "    Return:\n",
    "        p: np.ndarray of shape [n_objects] wit positive class probabilities\n",
    "    \"\"\"\n",
    "    q = np.dot(x, w) + b\n",
    "    return sigmoid(q)\n",
    "\n",
    "\n",
    "def log_loss(y_true: np.ndarray, y_pred: np.ndarray):\n",
    "    \"\"\"\n",
    "    y_true: np.ndarray of shape [n_objects"
   ]
  }
 ],
 "metadata": {
  "kernelspec": {
   "display_name": "Python 3",
   "language": "python",
   "name": "python3"
  },
  "language_info": {
   "codemirror_mode": {
    "name": "ipython",
    "version": 3
   },
   "file_extension": ".py",
   "mimetype": "text/x-python",
   "name": "python",
   "nbconvert_exporter": "python",
   "pygments_lexer": "ipython3",
   "version": "3.9.13"
  }
 },
 "nbformat": 4,
 "nbformat_minor": 2
}
