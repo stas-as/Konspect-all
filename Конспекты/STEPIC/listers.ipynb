{
 "cells": [
  {
   "cell_type": "markdown",
   "metadata": {},
   "source": [
    "list.append(x)Добавляет элемент в конец списка\n",
    "\n",
    "list.extend(L)Расширяет список list, добавляя в конец все элементы списка L\n",
    "\n",
    "list.insert(i, x)Вставляет на i-ый элемент значение x\n",
    "\n",
    "list.remove(x)Удаляет первый элемент в списке, имеющий значение x. ValueError, если такого элемента не существует\n",
    "\n",
    "list.pop([i])Удаляет i-ый элемент и возвращает его. Если индекс не указан, удаляется последний элемент\n",
    "\n",
    "list.index(x, [start [, end]])Возвращает положение первого элемента со значением x (при этом поиск ведется от start до end)\n",
    "\n",
    "list.count(x)Возвращает количество элементов со значением x\n",
    "\n",
    "list.sort([key=функция])Сортирует список на основе функции\n",
    "\n",
    "list.reverse()Разворачивает список\n",
    "\n",
    "list.copy()Поверхностная копия списка\n",
    "\n",
    "list.clear()Очищает список1"
   ]
  },
  {
   "cell_type": "code",
   "execution_count": 1,
   "metadata": {},
   "outputs": [
    {
     "name": "stdout",
     "output_type": "stream",
     "text": [
      "50\n",
      "5\n",
      "[5, 7, 6, 16, 14, 2, 1, 15, 1, 9, 14, 10, 2, 1, 12, 6, 5, 14, 12, 2, 8, 14, 6, 0, 0, 12, 10, 10, 11, 1, 5, 8, 10, 10, 16, 8, 0, 1, 16, 4, 5, 12, 16, 11, 4, 10, 14, 3, 6, 2]\n",
      "NO\n",
      "[6, 3, 14, 10, 4, 11, 16, 12, 5, 4, 16, 1, 0, 8, 16, 10, 10, 8, 5, 1, 11, 10, 10, 12, 0, 0, 6, 14, 8, 2, 12, 14, 5, 6, 12, 1, 2, 10, 14, 9, 1, 15, 1, 2, 14, 16, 6, 7]\n"
     ]
    }
   ],
   "source": [
    "numbers = [2, 6, 3, 14, 10, 4, 11, 16, 12, 5, 4, 16, 1, 0, 8, 16, 10, 10, 8, 5, 1, 11, 10, 10, 12, 0, 0, 6, 14, 8, 2, 12, 14, 5, 6, 12, 1, 2, 10, 14, 9, 1, 15, 1, 2, 14, 16, 6, 7, 5]\n",
    "print(len(numbers))\n",
    "print(numbers[-1])\n",
    "print(numbers[::-1])\n",
    "if 5 in numbers and 17 in numbers:\n",
    "    print(\"YES\")\n",
    "else:\n",
    "    print(\"NO\")\n",
    "print(numbers[1:-1])"
   ]
  },
  {
   "cell_type": "code",
   "execution_count": 2,
   "metadata": {},
   "outputs": [
    {
     "name": "stdout",
     "output_type": "stream",
     "text": [
      "['a', 'bb', 'ccc', 'dddd', 'eeeee', 'ffffff', 'ggggggg', 'hhhhhhhh', 'iiiiiiiii', 'jjjjjjjjjj', 'kkkkkkkkkkk', 'llllllllllll', 'mmmmmmmmmmmmm', 'nnnnnnnnnnnnnn', 'ooooooooooooooo', 'pppppppppppppppp', 'qqqqqqqqqqqqqqqqq', 'rrrrrrrrrrrrrrrrrr', 'sssssssssssssssssss', 'tttttttttttttttttttt', 'uuuuuuuuuuuuuuuuuuuuu', 'vvvvvvvvvvvvvvvvvvvvvv', 'wwwwwwwwwwwwwwwwwwwwwww', 'xxxxxxxxxxxxxxxxxxxxxxxx', 'yyyyyyyyyyyyyyyyyyyyyyyyy', 'zzzzzzzzzzzzzzzzzzzzzzzzzz']\n"
     ]
    }
   ],
   "source": [
    "a = 26\n",
    "l = []\n",
    "for i in range(0,26):\n",
    "    l.append(chr(ord(\"a\")+i)*(i+1))\n",
    "print(l)"
   ]
  },
  {
   "cell_type": "code",
   "execution_count": 3,
   "metadata": {},
   "outputs": [],
   "source": [
    "a = 'zzzzz zzzzz zzzzz zzzzz zzzzz z'\n"
   ]
  },
  {
   "cell_type": "code",
   "execution_count": 4,
   "metadata": {},
   "outputs": [
    {
     "name": "stdout",
     "output_type": "stream",
     "text": [
      "1\n",
      "\n",
      "4\n"
     ]
    }
   ],
   "source": [
    "n = int(input())\n",
    "a = []\n",
    "for _ in range(n):\n",
    "    a.append(int(input()))\n",
    "print(*a, sep=\"/n\")\n",
    "print()\n",
    "for i in a:\n",
    "    print(i**2 + 2*i +1)"
   ]
  },
  {
   "cell_type": "code",
   "execution_count": 5,
   "metadata": {},
   "outputs": [
    {
     "name": "stdout",
     "output_type": "stream",
     "text": [
      "Язык Python прекрасен\n"
     ]
    }
   ],
   "source": [
    "numbers = \"Язык Python прекрасен\"\n",
    "a = \"Язык\"\n",
    "if a in numbers:\n",
    "    print(numbers)"
   ]
  },
  {
   "cell_type": "markdown",
   "metadata": {},
   "source": [
    "Дополните приведенный код, чтобы он:\n",
    "\n",
    "- Заменил второй элемент списка на 17;\n",
    "- Добавил числа 4, 5 и 6 в конец списка;\n",
    "- Удалил первый элемент списка;\n",
    "- Удвоил список;\n",
    "- Вставил число 25 по индексу 3;\n",
    "- Вывел список, с помощью функции print()"
   ]
  },
  {
   "cell_type": "code",
   "execution_count": 4,
   "metadata": {},
   "outputs": [
    {
     "name": "stdout",
     "output_type": "stream",
     "text": [
      "[17, 10, 11, 25, 4, 5, 6, 17, 10, 11, 4, 5, 6]\n"
     ]
    }
   ],
   "source": [
    "numbers = [8, 9, 10, 11]\n",
    "del numbers[1]\n",
    "numbers.insert(1,17)\n",
    "numbers.extend([4, 5, 6])\n",
    "del numbers[0]\n",
    "numbers.extend(numbers)\n",
    "numbers.insert(3,25)\n",
    "print(numbers)"
   ]
  },
  {
   "cell_type": "code",
   "execution_count": 33,
   "metadata": {},
   "outputs": [
    {
     "name": "stdout",
     "output_type": "stream",
     "text": [
      "1 9 8 7 6 5 4 3 2 10\n"
     ]
    }
   ],
   "source": [
    "n =\"10 9 8 7 6 5 4 3 2 1\".split()\n",
    "i_min = 0\n",
    "i_max = 0\n",
    "for i in range(len(n)):\n",
    "    if int(n[i_min]) > int(n[i]):\n",
    "        i_min = i\n",
    "    if int(n[i_max]) < int(n[i]):\n",
    "        i_max = i\n",
    "n[i_max], n[i_min] = n[i_min],n[i_max]\n",
    "print(*n)"
   ]
  },
  {
   "cell_type": "code",
   "execution_count": 29,
   "metadata": {},
   "outputs": [
    {
     "data": {
      "text/plain": [
       "9"
      ]
     },
     "execution_count": 29,
     "metadata": {},
     "output_type": "execute_result"
    }
   ],
   "source": [
    "i_min"
   ]
  },
  {
   "cell_type": "code",
   "execution_count": 30,
   "metadata": {},
   "outputs": [
    {
     "data": {
      "text/plain": [
       "1"
      ]
     },
     "execution_count": 30,
     "metadata": {},
     "output_type": "execute_result"
    }
   ],
   "source": [
    "i_max"
   ]
  },
  {
   "cell_type": "markdown",
   "metadata": {},
   "source": [
    "Sample Input:\n",
    "\n",
    "William Shakespeare was born in the town of Stratford, England, in the year 1564. When he was a young man, Shakespeare moved to the city of London, where he began writing plays. His plays were soon very successful, and were enjoyed both by the common people of London and also by the rich and famous. In addition to his plays, Shakespeare wrote many short poems and a few longer poems. Like his plays, these poems are still famous today.\n",
    "Sample Output:\n",
    "\n",
    "Общее количество артиклей: 7"
   ]
  },
  {
   "cell_type": "code",
   "execution_count": 36,
   "metadata": {},
   "outputs": [
    {
     "name": "stdout",
     "output_type": "stream",
     "text": [
      "Общее количество артиклей: 7\n"
     ]
    }
   ],
   "source": [
    "a = \"\"\"William Shakespeare was born in the town of Stratford, England, in the year 1564. When he was a young man, Shakespeare moved to the city of London, where he began writing plays. His plays were soon very successful, and were enjoyed both by the common people of London and also by the rich and famous. In addition to his plays, Shakespeare wrote many short poems and a few longer poems. Like his plays, these poems are still famous today.\"\"\"\n",
    "a = input().lower().split()\n",
    "counter = a.count(\"a\")+a.count(\"an\")+a.count(\"the\")\n",
    "\n",
    "print(f\"Общее количество артиклей: {counter}\")"
   ]
  },
  {
   "cell_type": "code",
   "execution_count": 40,
   "metadata": {},
   "outputs": [
    {
     "data": {
      "text/plain": [
       "'    print(\"Здравствуйте, рыцарь\", name)'"
      ]
     },
     "execution_count": 40,
     "metadata": {},
     "output_type": "execute_result"
    }
   ],
   "source": [
    "a =\"\"\"    print(\"Здравствуйте, рыцарь\", name)\"\"\".split(\"#\")\n",
    "a[0]"
   ]
  },
  {
   "cell_type": "code",
   "execution_count": 41,
   "metadata": {},
   "outputs": [
    {
     "data": {
      "text/plain": [
       "'21'"
      ]
     },
     "execution_count": 41,
     "metadata": {},
     "output_type": "execute_result"
    }
   ],
   "source": [
    "a = \"#21\"\n",
    "a =a[1:]\n",
    "a"
   ]
  },
  {
   "cell_type": "code",
   "execution_count": 42,
   "metadata": {},
   "outputs": [
    {
     "name": "stdout",
     "output_type": "stream",
     "text": [
      "[10, 8, 6, 5, 4, 4, 3, 2, 1]\n"
     ]
    }
   ],
   "source": [
    "numbers = [4, 2, 8, 6, 5, 3, 10, 4, 100, 1, -7]\n",
    "numbers.sort()\n",
    "del numbers[0]\n",
    "del numbers[-1]\n",
    "numbers.sort(reverse=True)\n",
    "print(numbers)"
   ]
  },
  {
   "cell_type": "code",
   "execution_count": 50,
   "metadata": {},
   "outputs": [
    {
     "name": "stdout",
     "output_type": "stream",
     "text": [
      "-787 -364 -5 1 4 6 23 75 234 345 543 564 9849\n",
      "9849 564 543 345 234 75 23 6 4 1 -5 -364 -787\n"
     ]
    }
   ],
   "source": [
    "a = input().split()\n",
    "b =[]\n",
    "for i in a:\n",
    "    b.append(int(i))\n",
    "b.sort()\n",
    "print(*b)\n",
    "b.sort(reverse=True)\n",
    "print(*b)"
   ]
  },
  {
   "cell_type": "code",
   "execution_count": null,
   "metadata": {},
   "outputs": [],
   "source": [
    "print(a)"
   ]
  },
  {
   "cell_type": "markdown",
   "metadata": {},
   "source": [
    "Здраствуйте, джун/стажер стучится к вам.\n",
    "Коротко о себе:\n",
    "1. Cреднее-специальное образование(Краный диплом);\n",
    "2. Hard_skills:\n",
    "    - Python(Функцию матричного умножения напишу)\n",
    "    - Pandas,Numpy(Загрузка,обработка,очистка,нормализация данных)\n",
    "    - Plotly.express/Plotly.graph_objects(Визуализаци: Взамосвязей, Распределений, Структуры данных)\n",
    "    - SQL(Присоединения, объединения, гупировки, сортировки и т.д. и т.п)\n",
    "    - Scikit-learn(Начиная с preprocessing для отчиски и преоброзования данных до ансаблей(Gradient_boosting, Random_forests, bagging, voting, stacking))\n",
    "    - Парсинг и сбор данных с помощью requests, BeautifulSoup\n",
    "3. Soft_skills:\n",
    "    - Обучаемость,\n",
    "    - Коммуникабельность,\n",
    "    - Ответственность,\n",
    "\n",
    "Понимаю общие процесы обучения ML и их улучшение с помощью кроссвалидаци и подбор гиперпараметров, так же не проблема обработка и анализ данных, выбор метрик. \n",
    "Пару раз запускал нейронки(Tensorflow) но каую-то настройку и тем более оптимизацию не смогу сделать"
   ]
  },
  {
   "cell_type": "code",
   "execution_count": 16,
   "metadata": {},
   "outputs": [
    {
     "data": {
      "text/plain": [
       "[-97,\n",
       " -96,\n",
       " -95,\n",
       " -94,\n",
       " -91,\n",
       " -84,\n",
       " -84,\n",
       " -84,\n",
       " -83,\n",
       " -79,\n",
       " -78,\n",
       " -78,\n",
       " -78,\n",
       " -76,\n",
       " -76,\n",
       " -75,\n",
       " -74,\n",
       " -74,\n",
       " -73,\n",
       " -71,\n",
       " -71,\n",
       " -71,\n",
       " -68,\n",
       " -68,\n",
       " -66,\n",
       " -65,\n",
       " -62,\n",
       " -61,\n",
       " -58,\n",
       " -56,\n",
       " -55,\n",
       " -55,\n",
       " -51,\n",
       " -47,\n",
       " -41,\n",
       " -40,\n",
       " -37,\n",
       " -32,\n",
       " -29,\n",
       " -27,\n",
       " -26,\n",
       " -26,\n",
       " -24,\n",
       " -20,\n",
       " -19,\n",
       " -17,\n",
       " -17,\n",
       " -16,\n",
       " -16,\n",
       " -13,\n",
       " -11,\n",
       " -9,\n",
       " -8,\n",
       " -6,\n",
       " 0,\n",
       " 1,\n",
       " 7,\n",
       " 7,\n",
       " 11,\n",
       " 14,\n",
       " 16,\n",
       " 17,\n",
       " 17,\n",
       " 21,\n",
       " 21,\n",
       " 24,\n",
       " 25,\n",
       " 32,\n",
       " 36,\n",
       " 38,\n",
       " 38,\n",
       " 39,\n",
       " 44,\n",
       " 44,\n",
       " 47,\n",
       " 48,\n",
       " 50,\n",
       " 52,\n",
       " 56,\n",
       " 58,\n",
       " 63,\n",
       " 67,\n",
       " 69,\n",
       " 70,\n",
       " 75,\n",
       " 78,\n",
       " 79,\n",
       " 79,\n",
       " 88,\n",
       " 88,\n",
       " 88,\n",
       " 91,\n",
       " 92,\n",
       " 93,\n",
       " 93,\n",
       " 94,\n",
       " 96,\n",
       " 96,\n",
       " 97,\n",
       " 98]"
      ]
     },
     "execution_count": 16,
     "metadata": {},
     "output_type": "execute_result"
    }
   ],
   "source": [
    "a = [17, 24, 91, 96, 67, -27, 79, -71, -71, 58, 48, 88, 88, -16, -78, 96, -76, 56, 92, 1, 32, -17, 36, 88, -61, -97, -37, -84, 50, 47, 94, -6, 52, -76, 93, 14, -32, 98, -65, -16, -9, -68, -20, -40, -71, 93, -91, 44, 25, 79, 97, 0, -94, 7, -47, -96, -55, -58, -78, -78, -79, 75, 44, -56, -41, 38, 16, 70, 17, -17, -24, -83, -74, -73, 11, -26, 63, -75, -19, -13, -51, -74, 21, -8, 21, -68, -66, -84, -95, 78, 69, -29, 39, 38, -55, 7, -11, -26, -62, -84]\n",
    "\n",
    "n = len(a)\n",
    "\n",
    "for i in range(n - 1):\n",
    "    c = 0\n",
    "    for j in range(n - i - 1):\n",
    "        if a[j] > a[j + 1]:\n",
    "            a[j], a[j + 1] = a[j + 1], a[j]\n",
    "            c -= 1\n",
    "    if c == 0:\n",
    "        break\n",
    "a"
   ]
  },
  {
   "cell_type": "code",
   "execution_count": 20,
   "metadata": {},
   "outputs": [
    {
     "name": "stdout",
     "output_type": "stream",
     "text": [
      "[-97, -96, -94, -94, -79, -77, -72, -72, -71, -71, -67, -67, -64, -64, -63, -62, -62, -61, -60, -58, -56, -52, -48, -47, -42, -41, -39, -36, -32, -31, -30, -26, -24, -23, -22, -21, -19, -16, -16, -14, -10, -8, -5, -3, -1, 0, 2, 2, 3, 3, 5, 9, 9, 14, 20, 22, 27, 32, 32, 35, 35, 39, 39, 41, 41, 43, 48, 53, 57, 57, 58, 59, 59, 59, 60, 60, 61, 62, 63, 63, 64, 66, 71, 72, 76, 78, 78, 80, 82, 84, 87, 87, 89, 90, 92, 92, 93, 94, 96, 98]\n"
     ]
    }
   ],
   "source": [
    "a = [78, -32, 5, 39, 58, -5, -63, 57, 72, 9, 53, -1, 63, -97, -21, -94, -47, 57, -8, 60, -23, -72, -22, -79, 90, 96, -41, -71, -48, 84, 89, -96, 41, -16, 94, -60, -64, -39, 60, -14, -62, -19, -3, 32, 98, 14, 43, 3, -56, 71, -71, -67, 80, 27, 92, 92, -64, 0, -77, 2, -26, 41, 3, -31, 48, 39, 20, -30, 35, 32, -58, 2, 63, 64, 66, 62, 82, -62, 9, -52, 35, -61, 87, 78, 93, -42, 87, -72, -10, -36, 61, -16, 59, 59, 22, -24, -67, 76, -94, 59]\n",
    "\n",
    "n = len(a)\n",
    "\n",
    "for i in range(n):\n",
    "    i_min = i\n",
    "    for j in range(i,n):\n",
    "        if a[i_min] > a[j]:\n",
    "            i_min = j\n",
    "    a[i], a[i_min] = a[i_min], a[i]\n",
    "        \n",
    "\n",
    "print(a)"
   ]
  },
  {
   "cell_type": "code",
   "execution_count": 15,
   "metadata": {},
   "outputs": [
    {
     "data": {
      "text/plain": [
       "-97"
      ]
     },
     "execution_count": 15,
     "metadata": {},
     "output_type": "execute_result"
    }
   ],
   "source": [
    "a = [78, -32, 5, 39, 58, -5, -63, 57, 72, 9, 53, -1, 63, -97, -21, -94, -47, 57, -8, 60, -23, -72, -22, -79, 90, 96, -41, -71, -48, 84, 89, -96, 41, -16, 94, -60, -64, -39, 60, -14, -62, -19, -3, 32, 98, 14, 43, 3, -56, 71, -71, -67, 80, 27, 92, 92, -64, 0, -77, 2, -26, 41, 3, -31, 48, 39, 20, -30, 35, 32, -58, 2, 63, 64, 66, 62, 82, -62, 9, -52, 35, -61, 87, 78, 93, -42, 87, -72, -10, -36, 61, -16, 59, 59, 22, -24, -67, 76, -94, 59]\n",
    "min(a)"
   ]
  }
 ],
 "metadata": {
  "kernelspec": {
   "display_name": "Python 3",
   "language": "python",
   "name": "python3"
  },
  "language_info": {
   "codemirror_mode": {
    "name": "ipython",
    "version": 3
   },
   "file_extension": ".py",
   "mimetype": "text/x-python",
   "name": "python",
   "nbconvert_exporter": "python",
   "pygments_lexer": "ipython3",
   "version": "3.9.13"
  }
 },
 "nbformat": 4,
 "nbformat_minor": 2
}
