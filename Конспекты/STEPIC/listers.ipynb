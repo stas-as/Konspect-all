{
 "cells": [
  {
   "cell_type": "markdown",
   "metadata": {},
   "source": [
    "list.append(x)Добавляет элемент в конец списка\n",
    "\n",
    "list.extend(L)Расширяет список list, добавляя в конец все элементы списка L\n",
    "\n",
    "list.insert(i, x)Вставляет на i-ый элемент значение x\n",
    "\n",
    "list.remove(x)Удаляет первый элемент в списке, имеющий значение x. ValueError, если такого элемента не существует\n",
    "\n",
    "list.pop([i])Удаляет i-ый элемент и возвращает его. Если индекс не указан, удаляется последний элемент\n",
    "\n",
    "list.index(x, [start [, end]])Возвращает положение первого элемента со значением x (при этом поиск ведется от start до end)\n",
    "\n",
    "list.count(x)Возвращает количество элементов со значением x\n",
    "\n",
    "list.sort([key=функция])Сортирует список на основе функции\n",
    "\n",
    "list.reverse()Разворачивает список\n",
    "\n",
    "list.copy()Поверхностная копия списка\n",
    "\n",
    "list.clear()Очищает список1"
   ]
  },
  {
   "cell_type": "code",
   "execution_count": 1,
   "metadata": {},
   "outputs": [
    {
     "name": "stdout",
     "output_type": "stream",
     "text": [
      "50\n",
      "5\n",
      "[5, 7, 6, 16, 14, 2, 1, 15, 1, 9, 14, 10, 2, 1, 12, 6, 5, 14, 12, 2, 8, 14, 6, 0, 0, 12, 10, 10, 11, 1, 5, 8, 10, 10, 16, 8, 0, 1, 16, 4, 5, 12, 16, 11, 4, 10, 14, 3, 6, 2]\n",
      "NO\n",
      "[6, 3, 14, 10, 4, 11, 16, 12, 5, 4, 16, 1, 0, 8, 16, 10, 10, 8, 5, 1, 11, 10, 10, 12, 0, 0, 6, 14, 8, 2, 12, 14, 5, 6, 12, 1, 2, 10, 14, 9, 1, 15, 1, 2, 14, 16, 6, 7]\n"
     ]
    }
   ],
   "source": [
    "numbers = [2, 6, 3, 14, 10, 4, 11, 16, 12, 5, 4, 16, 1, 0, 8, 16, 10, 10, 8, 5, 1, 11, 10, 10, 12, 0, 0, 6, 14, 8, 2, 12, 14, 5, 6, 12, 1, 2, 10, 14, 9, 1, 15, 1, 2, 14, 16, 6, 7, 5]\n",
    "print(len(numbers))\n",
    "print(numbers[-1])\n",
    "print(numbers[::-1])\n",
    "if 5 in numbers and 17 in numbers:\n",
    "    print(\"YES\")\n",
    "else:\n",
    "    print(\"NO\")\n",
    "print(numbers[1:-1])"
   ]
  },
  {
   "cell_type": "code",
   "execution_count": 2,
   "metadata": {},
   "outputs": [
    {
     "name": "stdout",
     "output_type": "stream",
     "text": [
      "['a', 'bb', 'ccc', 'dddd', 'eeeee', 'ffffff', 'ggggggg', 'hhhhhhhh', 'iiiiiiiii', 'jjjjjjjjjj', 'kkkkkkkkkkk', 'llllllllllll', 'mmmmmmmmmmmmm', 'nnnnnnnnnnnnnn', 'ooooooooooooooo', 'pppppppppppppppp', 'qqqqqqqqqqqqqqqqq', 'rrrrrrrrrrrrrrrrrr', 'sssssssssssssssssss', 'tttttttttttttttttttt', 'uuuuuuuuuuuuuuuuuuuuu', 'vvvvvvvvvvvvvvvvvvvvvv', 'wwwwwwwwwwwwwwwwwwwwwww', 'xxxxxxxxxxxxxxxxxxxxxxxx', 'yyyyyyyyyyyyyyyyyyyyyyyyy', 'zzzzzzzzzzzzzzzzzzzzzzzzzz']\n"
     ]
    }
   ],
   "source": [
    "a = 26\n",
    "l = []\n",
    "for i in range(0,26):\n",
    "    l.append(chr(ord(\"a\")+i)*(i+1))\n",
    "print(l)"
   ]
  },
  {
   "cell_type": "code",
   "execution_count": 3,
   "metadata": {},
   "outputs": [],
   "source": [
    "a = 'zzzzz zzzzz zzzzz zzzzz zzzzz z'\n"
   ]
  },
  {
   "cell_type": "code",
   "execution_count": 4,
   "metadata": {},
   "outputs": [
    {
     "name": "stdout",
     "output_type": "stream",
     "text": [
      "1\n",
      "\n",
      "4\n"
     ]
    }
   ],
   "source": [
    "n = int(input())\n",
    "a = []\n",
    "for _ in range(n):\n",
    "    a.append(int(input()))\n",
    "print(*a, sep=\"/n\")\n",
    "print()\n",
    "for i in a:\n",
    "    print(i**2 + 2*i +1)"
   ]
  },
  {
   "cell_type": "code",
   "execution_count": 5,
   "metadata": {},
   "outputs": [
    {
     "name": "stdout",
     "output_type": "stream",
     "text": [
      "Язык Python прекрасен\n"
     ]
    }
   ],
   "source": [
    "numbers = \"Язык Python прекрасен\"\n",
    "a = \"Язык\"\n",
    "if a in numbers:\n",
    "    print(numbers)"
   ]
  },
  {
   "cell_type": "code",
   "execution_count": null,
   "metadata": {},
   "outputs": [],
   "source": []
  }
 ],
 "metadata": {
  "kernelspec": {
   "display_name": "Python 3",
   "language": "python",
   "name": "python3"
  },
  "language_info": {
   "codemirror_mode": {
    "name": "ipython",
    "version": 3
   },
   "file_extension": ".py",
   "mimetype": "text/x-python",
   "name": "python",
   "nbconvert_exporter": "python",
   "pygments_lexer": "ipython3",
   "version": "3.9.13"
  }
 },
 "nbformat": 4,
 "nbformat_minor": 2
}
