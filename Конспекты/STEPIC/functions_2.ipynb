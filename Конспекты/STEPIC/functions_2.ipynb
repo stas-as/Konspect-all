{
 "cells": [
  {
   "cell_type": "code",
   "execution_count": 6,
   "metadata": {},
   "outputs": [
    {
     "name": "stdout",
     "output_type": "stream",
     "text": [
      "abcdefghijklmnopqrstuvwxyzABCDEFGHIJKLMNOPQRSTUVWXYZ\n",
      "ABCDEFGHIJKLMNOPQRSTUVWXYZ\n",
      "abcdefghijklmnopqrstuvwxyz\n",
      "0123456789\n",
      "0123456789abcdefABCDEF\n",
      "01234567\n",
      "!\"#$%&'()*+,-./:;<=>?@[\\]^_`{|}~\n",
      "0123456789abcdefghijklmnopqrstuvwxyzABCDEFGHIJKLMNOPQRSTUVWXYZ!\"#$%&'()*+,-./:;<=>?@[\\]^_`{|}~ \t\n",
      "\u000b\f\n"
     ]
    }
   ],
   "source": [
    "import string\n",
    "\n",
    "print(string.ascii_letters)\n",
    "print(string.ascii_uppercase)\n",
    "print(string.ascii_lowercase)\n",
    "print(string.digits)\n",
    "print(string.hexdigits)\n",
    "print(string.octdigits)\n",
    "print(string.punctuation)\n",
    "print(string.printable)"
   ]
  },
  {
   "cell_type": "code",
   "execution_count": 1,
   "metadata": {},
   "outputs": [
    {
     "data": {
      "text/plain": [
       "2"
      ]
     },
     "execution_count": 1,
     "metadata": {},
     "output_type": "execute_result"
    }
   ],
   "source": [
    "sum([True,True])"
   ]
  },
  {
   "cell_type": "code",
   "execution_count": 6,
   "metadata": {},
   "outputs": [
    {
     "name": "stdout",
     "output_type": "stream",
     "text": [
      "ginortS1324\n"
     ]
    }
   ],
   "source": [
    "\n",
    "data = {\"a\": [],\"A\": [],\"1\": [],\"2\": []}\n",
    "for el in \"Sorting1234\":\n",
    "    if el.isdigit():\n",
    "        if int(el) % 2 == 0:\n",
    "            data[\"2\"].append(el)\n",
    "        else:\n",
    "            data[\"1\"].append(el)\n",
    "    else:\n",
    "        if el.islower():\n",
    "            data[\"a\"].append(el)\n",
    "        else:\n",
    "            data[\"A\"].append(el)\n",
    "\n",
    "print(\"\".join(map(lambda x: \"\".join(sorted(x)),data.values())))"
   ]
  },
  {
   "cell_type": "code",
   "execution_count": 5,
   "metadata": {},
   "outputs": [
    {
     "name": "stdout",
     "output_type": "stream",
     "text": [
      "Аделина Айлин Александр Александра Алексей Алина Алиса Алёна Амелия Анастасия Андрей Арина Арсен Артемий Артём Мадина Максим Марат Маргарита Мария Матвей Милана Мирон Мирослава\n"
     ]
    }
   ],
   "source": [
    "names = ['ульяна', 'арина', 'Дмитрий', 'Сергей', 'Яна', 'мила', 'Ольга', 'софья', 'семён', 'Никита', 'маргарита', 'Василиса', 'Кирилл', 'александр', 'александра', 'Иван', 'андрей', 'Родион', 'максим', 'алиса', 'Артём', 'софия', 'владимир', 'дамир', 'Валерий', 'степан', 'Алексей', 'Марк', 'олег', 'ирина', 'Милана', 'мия', 'денис', 'Фёдор', 'Елизавета', 'айлин', 'Варвара', 'валерия', 'Алёна', 'Николь', 'юлия', 'Ксения', 'пётр', 'георгий', 'Мария', 'глеб', 'илья', 'Захар', 'Дарья', 'Евгения', 'матвей', 'Серафим', 'екатерина', 'Тимофей', 'виктор', 'Егор', 'Ника', 'анна', 'даниил', 'тихон', 'вера', 'кира', 'Эмилия', 'Виктория', 'Игорь', 'полина', 'алина', 'Давид', 'анастасия', 'Вероника', 'ярослав', 'Руслан', 'татьяна', 'Демид', 'амелия', 'Элина', 'Арсен', 'евгений', 'мадина', 'дарина', 'Савелий', 'Платон', 'Аделина', 'диана', 'Айша', 'павел', 'Стефания', 'Тимур', 'Ева', 'Елисей', 'Артемий', 'григорий', 'Мирон', 'Мирослава', 'Мира', 'Марат', 'Лилия', 'роман', 'владислав', 'Леонид']\n",
    "\n",
    "print(*sorted(map(str.capitalize,filter(lambda x: x[0].upper() in (\"А\", \"М\") and len(x) > 4 ,names))))\n",
    "\n"
   ]
  },
  {
   "cell_type": "code",
   "execution_count": 7,
   "metadata": {},
   "outputs": [
    {
     "name": "stdout",
     "output_type": "stream",
     "text": [
      "abcdefghijklmnopqrstuvwxyzABCDEFGHIJKLMNOPQRSTUVWXYZ\n",
      "ABCDEFGHIJKLMNOPQRSTUVWXYZ\n",
      "abcdefghijklmnopqrstuvwxyz\n",
      "0123456789\n",
      "0123456789abcdefABCDEF\n",
      "01234567\n",
      "!\"#$%&'()*+,-./:;<=>?@[\\]^_`{|}~\n",
      "0123456789abcdefghijklmnopqrstuvwxyzABCDEFGHIJKLMNOPQRSTUVWXYZ!\"#$%&'()*+,-./:;<=>?@[\\]^_`{|}~ \t\n",
      "\u000b\f\n"
     ]
    }
   ],
   "source": [
    "import string\n",
    "\n",
    "print(string.ascii_letters)\n",
    "print(string.ascii_uppercase)\n",
    "print(string.ascii_lowercase)\n",
    "print(string.digits)\n",
    "print(string.hexdigits)\n",
    "print(string.octdigits)\n",
    "print(string.punctuation)\n",
    "print(string.printable)"
   ]
  },
  {
   "cell_type": "markdown",
   "metadata": {},
   "source": [
    "в пароле нет ни одной буквы, если в пароле отсутствуют латинские буквы\n",
    "в пароле нет ни одной заглавной буквы, если в пароле отсутствуют заглавные латинские буквы\n",
    "в пароле нет ни одной строчной буквы, если в пароле отсутствуют строчные латинские буквы\n",
    "в пароле нет ни одной цифры"
   ]
  },
  {
   "cell_type": "code",
   "execution_count": null,
   "metadata": {},
   "outputs": [],
   "source": [
    "import string\n",
    "def verification(login:str, password:str, success, failure):\n",
    "    data = {\n",
    "        \"ab\": [False,\"в пароле нет ни одной буквы\"], \n",
    "        \"A\": [False, \"в пароле нет ни одной заглавной буквы\"], \n",
    "        \"a\":[False, \"в пароле нет ни одной строчной буквы\"], \n",
    "        \"1\": [False, \"в пароле нет ни одной цифры\"]}\n",
    "    for el in password:\n",
    "        if (not data[\"ab\"][0]) and el in string.ascii_letters:\n",
    "            data[\"ab\"][0] = True\n",
    "        if (not data[\"A\"][0]) and el in string.ascii_uppercase:\n",
    "            data[\"A\"][0] = True\n",
    "        if (not data[\"a\"][0]) and el in string.ascii_lowercase:\n",
    "            data[\"a\"][0] = True\n",
    "        if (not data[\"1\"][0]) and el.isdigit():\n",
    "            data[\"1\"][0] = True\n",
    "    for fl,text in data.values():\n",
    "        if not fl:\n",
    "            failure(login,text)\n",
    "            break\n",
    "    else:\n",
    "        success(login)"
   ]
  },
  {
   "cell_type": "code",
   "execution_count": 26,
   "metadata": {},
   "outputs": [],
   "source": [
    "import string\n",
    "def verification(login:str, password:str, success, failure):\n",
    "    data = {\n",
    "        \"ab\": [False,\"в пароле нет ни одной буквы\"], \n",
    "        \"A\": [False, \"в пароле нет ни одной заглавной буквы\"], \n",
    "        \"a\":[False, \"в пароле нет ни одной строчной буквы\"], \n",
    "        \"1\": [False, \"в пароле нет ни одной цифры\"]}\n",
    "    for el in password:\n",
    "        if (not data[\"ab\"][0]) and el in string.ascii_letters:\n",
    "            data[\"ab\"][0] = True\n",
    "        if (not data[\"A\"][0]) and el in string.ascii_uppercase:\n",
    "            data[\"A\"][0] = True\n",
    "        if (not data[\"a\"][0]) and el in string.ascii_lowercase:\n",
    "            data[\"a\"][0] = True\n",
    "        if (not data[\"1\"][0]) and el.isdigit():\n",
    "            data[\"1\"][0] = True\n",
    "    for fl,text in data.values():\n",
    "        if not fl:\n",
    "            failure(login,text)\n",
    "            break\n",
    "    else:\n",
    "        success(login)\n",
    "    return data"
   ]
  },
  {
   "cell_type": "code",
   "execution_count": 31,
   "metadata": {},
   "outputs": [
    {
     "name": "stdout",
     "output_type": "stream",
     "text": [
      "Привет, timyrik20!\n",
      "('ab', [True, 'в пароле нет ни одной буквы'])\n",
      "('A', [True, 'в пароле нет ни одной заглавной буквы'])\n",
      "('a', [True, 'в пароле нет ни одной строчной буквы'])\n",
      "('1', [True, 'в пароле нет ни одной цифры'])\n"
     ]
    }
   ],
   "source": [
    "def success(login):\n",
    "    print(f'Привет, {login}!')\n",
    "\n",
    "def failure(login, text):\n",
    "    print(f'{login}, попробуйте снова. Ошибка: {text}')\n",
    "\n",
    "data = verification('timyrik20', 'ASdf1', success, failure)\n",
    "print(*data.items(),sep=\"\\n\")"
   ]
  },
  {
   "cell_type": "code",
   "execution_count": null,
   "metadata": {},
   "outputs": [],
   "source": [
    "stack = []\n",
    "if not stack or (c == ')' and stack[-1] != '(') or (c == '}' and stack[-1] != '{') or (c == ']' and stack[-1] != '['):\n",
    "    pass"
   ]
  },
  {
   "cell_type": "code",
   "execution_count": null,
   "metadata": {},
   "outputs": [],
   "source": [
    "{((({[]([])([])})))}"
   ]
  },
  {
   "cell_type": "code",
   "execution_count": 34,
   "metadata": {},
   "outputs": [
    {
     "data": {
      "text/plain": [
       "True"
      ]
     },
     "execution_count": 34,
     "metadata": {},
     "output_type": "execute_result"
    }
   ],
   "source": [
    "isValid(\"{((({[]([])([])})))}\")"
   ]
  },
  {
   "cell_type": "code",
   "execution_count": 2,
   "metadata": {},
   "outputs": [
    {
     "name": "stdout",
     "output_type": "stream",
     "text": [
      "01-05-2025\n"
     ]
    }
   ],
   "source": [
    "from datetime import date\n",
    "\n",
    "def date_formatter(country_code):\n",
    "    def func(d: date):\n",
    "        data = {\n",
    "            \"ru\": \"%d.%m.%Y\",\n",
    "            \"us\": \"%m-%d-%Y\",\n",
    "            \"ca\": \"%Y-%m-%d\",\n",
    "            \"br\": \"%d/%m/%Y\",\n",
    "            \"fr\": \"%d.%m.%Y\",\n",
    "            \"pt\": \"%d-%m-%Y\"}\n",
    "        return date.strftime(d,data[country_code])\n",
    "    return func\n",
    "\n",
    "date_ru = date_formatter('us')\n",
    "today = date(2025, 1, 5)\n",
    "print(date_ru(today))"
   ]
  },
  {
   "cell_type": "code",
   "execution_count": 4,
   "metadata": {},
   "outputs": [
    {
     "name": "stdout",
     "output_type": "stream",
     "text": [
      "[11, 10, 12, 13]\n"
     ]
    }
   ],
   "source": [
    "InsertList = [11,12,13]\n",
    "\n",
    "InsertList.insert(1,10)\n",
    "\n",
    "print(InsertList)"
   ]
  },
  {
   "cell_type": "code",
   "execution_count": 20,
   "metadata": {},
   "outputs": [],
   "source": [
    "def sort_priority(values:list, group):\n",
    "    values.sort()\n",
    "    c = 0\n",
    "    for i in range(len(values)):\n",
    "        if values[i] in group:\n",
    "            values.insert(c,values.pop(i))\n",
    "            c+=1"
   ]
  },
  {
   "cell_type": "code",
   "execution_count": 21,
   "metadata": {},
   "outputs": [
    {
     "name": "stdout",
     "output_type": "stream",
     "text": [
      "[2, 3, 5, 7, 1, 4, 6, 8]\n"
     ]
    }
   ],
   "source": [
    "numbers = [8, 3, 1, 2, 5, 4, 7, 6]\n",
    "group = {5, 7, 2, 3}\n",
    "sort_priority(numbers, group)\n",
    "\n",
    "print(numbers)"
   ]
  },
  {
   "cell_type": "code",
   "execution_count": 20,
   "metadata": {},
   "outputs": [
    {
     "name": "stdout",
     "output_type": "stream",
     "text": [
      "[3, 4, 5, 1, 2]\n"
     ]
    }
   ],
   "source": [
    "def cyclic_shift(numbers: list[int | float], step: int) -> None:\n",
    "    if step < 0:\n",
    "        l = len(numbers)\n",
    "        for _ in range(abs(step)):\n",
    "            numbers.insert(l,numbers.pop(0))\n",
    "    else:\n",
    "        for _ in range(step):\n",
    "            numbers.insert(0,numbers.pop(-1))\n",
    "\n",
    "numbers = [1, 2, 3, 4, 5]\n",
    "cyclic_shift(numbers, -2)\n",
    "\n",
    "print(numbers)"
   ]
  },
  {
   "cell_type": "code",
   "execution_count": 24,
   "metadata": {},
   "outputs": [],
   "source": [
    "def matrix_to_dict(matrix : list[list[int | float]]) -> dict[int, list[int | float]]:\n",
    "    return dict(zip(range(1,len(matrix)+1),matrix))"
   ]
  },
  {
   "cell_type": "code",
   "execution_count": 25,
   "metadata": {},
   "outputs": [
    {
     "data": {
      "text/plain": [
       "{1: [1, 2, 3], 2: [4, 5, 6], 3: [7, 8, 9]}"
      ]
     },
     "execution_count": 25,
     "metadata": {},
     "output_type": "execute_result"
    }
   ],
   "source": [
    "matrix_to_dict([[1,2,3],[4,5,6],[7,8,9]])"
   ]
  },
  {
   "cell_type": "code",
   "execution_count": 26,
   "metadata": {},
   "outputs": [
    {
     "name": "stdout",
     "output_type": "stream",
     "text": [
      "<class 'tuple'>\n"
     ]
    }
   ],
   "source": [
    "def a(*args):\n",
    "    print(type(args))\n",
    "    \n",
    "a(1,2,3)"
   ]
  },
  {
   "cell_type": "code",
   "execution_count": 27,
   "metadata": {},
   "outputs": [
    {
     "name": "stdout",
     "output_type": "stream",
     "text": [
      "<class 'TypeError'>\n"
     ]
    }
   ],
   "source": [
    "def takes_positive(func):\n",
    "    def wrapper(*args, **kwargs):\n",
    "        for el in args + kwargs.values():\n",
    "            if not isinstance(el,int):\n",
    "                raise TypeError\n",
    "            elif el <= 0:\n",
    "                raise ValueError\n",
    "        return func(*args, **kwargs)\n",
    "    return wrapper\n",
    "        \n",
    "\n",
    "\n",
    "@takes_positive\n",
    "def positive_sum(*args, **kwargs):\n",
    "    return sum(args) + sum(kwargs.values())\n",
    "    \n",
    "try:\n",
    "    print(positive_sum(1, 2, 3, 4, 5, 6, 7, 8, 9, 10, par1=1, sep=-40))\n",
    "except Exception as err:\n",
    "    print(type(err))\n",
    "    \n",
    "    "
   ]
  },
  {
   "cell_type": "code",
   "execution_count": 30,
   "metadata": {},
   "outputs": [
    {
     "name": "stdout",
     "output_type": "stream",
     "text": [
      "<class 'tuple'>\n"
     ]
    }
   ],
   "source": [
    "def wrapper(*args, **kwargs):\n",
    "        print(type(args + tuple(kwargs.values())))\n",
    "wrapper(1,2,3,a=4,b=5)"
   ]
  },
  {
   "cell_type": "markdown",
   "metadata": {},
   "source": [
    "еализуйте декоратор prefix, который принимает два аргумента в следующем порядке:\n",
    "\n",
    "- string — произвольная строка\n",
    "- to_the_end — булево значение, по умолчанию равное False\n",
    "\n",
    "Декоратор должен добавлять строку string к возвращаемому значению декорируемой функции. Если to_the_end имеет значение True, строка string добавляется в конец, если False — в начало.\n",
    "\n",
    "Также декоратор должен сохранять имя и строку документации декорируемой функции."
   ]
  },
  {
   "cell_type": "code",
   "execution_count": null,
   "metadata": {},
   "outputs": [],
   "source": [
    "import functools\n",
    "\n",
    "def prefix(string: str, to_the_end: bool = False):\n",
    "    def decorator(func):\n",
    "        @functools.wraps(func)\n",
    "        def wrapper(*args, **kwargs):\n",
    "            if to_the_end:\n",
    "                res =  func(*args, **kwargs) + string\n",
    "            else:\n",
    "                res = string + func(*args,**kwargs)\n",
    "            return res\n",
    "        return wrapper\n",
    "    return decorator"
   ]
  },
  {
   "cell_type": "markdown",
   "metadata": {},
   "source": [
    "## Декоратор make_html\n",
    "\n",
    "Тег — элемент языка разметки, используемый для форматирования текста. Например, текст, заключённый между начальным тегом <small> и конечным тегом </small>, отображается с меньшим размером, чем основной текст, а текст между тегами <big> и </big> отображается с большим размером.\n",
    "\n",
    "Реализуйте декоратор make_html(), который принимает один аргумент:\n",
    "\n",
    "tag — HTML-тег, например, del\n",
    "\n",
    "Декоратор должен обрамлять возвращаемое значение декорируемой функции в HTML-тег tag.\n",
    "\n",
    "Также декоратор должен сохранять имя и строку документации декорируемой функции."
   ]
  },
  {
   "cell_type": "code",
   "execution_count": 1,
   "metadata": {},
   "outputs": [
    {
     "name": "stdout",
     "output_type": "stream",
     "text": [
      "<i><del>decorators are so cool!</del></i>\n"
     ]
    }
   ],
   "source": [
    "import  functools\n",
    "\n",
    "def make_html(tag):\n",
    "    def decorator(func):\n",
    "        @functools.wraps(func)\n",
    "        def wrapper(*args, ** kwargs):\n",
    "            return f\"<{tag}>{func(*args, **kwargs)}</{tag}>\"\n",
    "        return wrapper\n",
    "    return decorator\n",
    "\n",
    "@make_html('i')\n",
    "@make_html('del')\n",
    "def get_text(text):\n",
    "    return text\n",
    "    \n",
    "print(get_text(text='decorators are so cool!'))"
   ]
  },
  {
   "cell_type": "markdown",
   "metadata": {},
   "source": [
    "### Декоратор repeat\n",
    "Реализуйте декоратор repeat, который принимает один аргумент:\n",
    "\n",
    "times — натуральное число\n",
    "Декоратор должен вызывать декорируемую функцию times раз.\n",
    "\n",
    "Также декоратор должен сохранять имя и строку документации декорируемой функции."
   ]
  },
  {
   "cell_type": "code",
   "execution_count": 4,
   "metadata": {},
   "outputs": [
    {
     "name": "stdout",
     "output_type": "stream",
     "text": [
      "beegeek\n"
     ]
    }
   ],
   "source": [
    "import functools\n",
    "\n",
    "def repeat(times):\n",
    "    def decorator(func):\n",
    "        @functools.wraps(func)\n",
    "        def wrapper(*args, **kwargs):\n",
    "            for _ in range(times):\n",
    "                res = func(*args, **kwargs)\n",
    "            return res\n",
    "        return wrapper\n",
    "    return decorator\n",
    "\n",
    "\n",
    "@repeat(1)\n",
    "def say_beegeek():\n",
    "    '''documentation'''\n",
    "    print('beegeek')\n",
    "    \n",
    "say_beegeek()"
   ]
  },
  {
   "cell_type": "markdown",
   "metadata": {},
   "source": [
    "### Декоратор strip_range\n",
    "Реализуйте декоратор strip_range, который принимает три аргумента в следующем порядке:\n",
    "\n",
    "- start — неотрицательное целое число\n",
    "- end — неотрицательное целое число\n",
    "- char — одиночный символ, по умолчанию равный точке .\n",
    "\n",
    "Декоратор должен изменять возвращаемое значение декорируемой функции, заменяя все символы в диапазоне индексов от start (включительно) до end (не включительно) на символ char.\n",
    "\n",
    "Также декоратор должен сохранять имя и строку документации декорируемой функции."
   ]
  },
  {
   "cell_type": "code",
   "execution_count": 6,
   "metadata": {},
   "outputs": [
    {
     "name": "stdout",
     "output_type": "stream",
     "text": [
      "bee..ek\n"
     ]
    }
   ],
   "source": [
    "import functools\n",
    "\n",
    "def strip_range(start, end, char=\".\"):\n",
    "    def decorator(func):\n",
    "        @functools.wraps(func)\n",
    "        def wrapper(*args, **kwargs):\n",
    "            res = func(*args, **kwargs)\n",
    "            return res[:start] + len(res[start:end])*char + res[end:]\n",
    "        return wrapper\n",
    "    return decorator\n",
    "\n",
    "@strip_range(3, 5)\n",
    "def beegeek():\n",
    "    return 'beegeek'\n",
    "    \n",
    "print(beegeek()) # bee..ek"
   ]
  },
  {
   "cell_type": "code",
   "execution_count": 18,
   "metadata": {},
   "outputs": [
    {
     "name": "stdout",
     "output_type": "stream",
     "text": [
      "beebeebee\n"
     ]
    }
   ],
   "source": [
    "import functools\n",
    "\n",
    "def takes(*datatypes):\n",
    "    def decorator(func):\n",
    "        @functools.wraps(func)\n",
    "        def wrapper(*args, **kwargs):\n",
    "            res = func(*args, **kwargs)\n",
    "            for el in *args, *kwargs.values():\n",
    "                if not isinstance(el,datatypes):\n",
    "                    raise TypeError\n",
    "            return res\n",
    "        return wrapper\n",
    "    return decorator\n",
    "\n",
    "@takes(int, str)\n",
    "def repeat_string(string, times):\n",
    "    return string * times\n",
    "\n",
    "print(repeat_string('bee', 3))"
   ]
  },
  {
   "cell_type": "markdown",
   "metadata": {},
   "source": [
    "### Декоратор add_attrs\n",
    "Реализуйте декоратор add_attrs, который принимает произвольное количество именованных аргументов и устанавливает их в качестве атрибутов декорируемой функции. Названием атрибута должно являться имя аргумента, значением атрибута — значение аргумента.\n",
    "\n",
    "Также декоратор должен сохранять имя и строку документации декорируемой функции.\n",
    "\n",
    "Примечание 1. Вспомните про атрибут функции `__dict__`."
   ]
  },
  {
   "cell_type": "code",
   "execution_count": 19,
   "metadata": {},
   "outputs": [
    {
     "name": "stdout",
     "output_type": "stream",
     "text": [
      "bee\n",
      "geek\n"
     ]
    }
   ],
   "source": [
    "import functools\n",
    "\n",
    "def add_attrs(**attrs):\n",
    "    def decorator(func):\n",
    "        @functools.wraps(func)\n",
    "        def wrapper(*args, **kwargs):\n",
    "            res = func(*args, **kwargs)\n",
    "            return res\n",
    "        wrapper.__dict__.update(attrs)\n",
    "        return wrapper\n",
    "    return decorator\n",
    "\n",
    "@add_attrs(attr1='bee', attr2='geek')\n",
    "def beegeek():\n",
    "    return 'beegeek'\n",
    "    \n",
    "print(beegeek.attr1)\n",
    "print(beegeek.attr2)"
   ]
  },
  {
   "cell_type": "markdown",
   "metadata": {},
   "source": [
    "### Декоратор ignore_exception\n",
    "Реализуйте декоратор ignore_exception, который принимает произвольное количество позиционных аргументов — типов исключений, и выводит текст:\n",
    "\n",
    "`\"Исключение <тип исключения> обработано\"`\n",
    "если во время выполнения декорируемой функции было возбуждено исключение, принадлежащее одному из переданных типов.\n",
    "\n",
    "Если возбужденное исключение не принадлежит ни одному из переданных типов, оно должно быть возбуждено снова.\n",
    "\n",
    "Также декоратор должен сохранять имя и строку документации декорируемой функции."
   ]
  },
  {
   "cell_type": "markdown",
   "metadata": {},
   "source": [
    "если во время выполнения декорируемой функции было возбуждено исключение, принадлежащее одному из переданных типов.\n",
    "\n",
    "Если возбужденное исключение не принадлежит ни одному из переданных типов, оно должно быть возбуждено снова.\n",
    "\n",
    "Также декоратор должен сохранять имя и строку документации декорируемой функции."
   ]
  },
  {
   "cell_type": "code",
   "execution_count": 23,
   "metadata": {},
   "outputs": [
    {
     "name": "stdout",
     "output_type": "stream",
     "text": [
      "Исключение <<class 'ZeroDivisionError'>> обработано\n"
     ]
    }
   ],
   "source": [
    "import functools\n",
    "\n",
    "def ignore_exception(*type_er):\n",
    "    def decorator(func):\n",
    "        @functools.wraps(func)\n",
    "        def wrapper(*args, **kwargs):\n",
    "            try:\n",
    "                res = func(*args, **kwargs)\n",
    "                return res\n",
    "            except Exception as err:\n",
    "                if isinstance(err,type_er):\n",
    "                    print(f\"Исключение <{type(err)}> обработано\")\n",
    "                else:\n",
    "                    raise err\n",
    "            \n",
    "        return wrapper\n",
    "    return decorator\n",
    "\n",
    "@ignore_exception(ZeroDivisionError, TypeError, ValueError)\n",
    "def f(x):\n",
    "    return 1 / x\n",
    "    \n",
    "f(0)"
   ]
  },
  {
   "cell_type": "code",
   "execution_count": 24,
   "metadata": {},
   "outputs": [
    {
     "name": "stdout",
     "output_type": "stream",
     "text": [
      "<class 'TypeError'>\n"
     ]
    }
   ],
   "source": [
    "min = ignore_exception(ZeroDivisionError)(min)\n",
    "\n",
    "try:\n",
    "    print(min(1, '2', 3, [4, 5]))\n",
    "except Exception as e:\n",
    "    print(type(e))"
   ]
  },
  {
   "cell_type": "markdown",
   "metadata": {},
   "source": [
    "### Декоратор retry\n",
    "Реализуйте декоратор retry, который принимает один аргумент:\n",
    "\n",
    "- times — натуральное число\n",
    "\n",
    "Декоратор должен выполнять повторную попытку вызова декорируемой функции, если во время ее выполнения возникает ошибка. Декоратор должен вызывать ее до тех пор, пока не исчерпает количество попыток times, после чего должен возбуждать исключение MaxRetriesException.\n",
    "\n",
    "Также декоратор должен сохранять имя и строку документации декорируемой функции."
   ]
  },
  {
   "cell_type": "code",
   "execution_count": 25,
   "metadata": {},
   "outputs": [
    {
     "name": "stdout",
     "output_type": "stream",
     "text": [
      "<class '__main__.MaxRetriesException'>\n"
     ]
    }
   ],
   "source": [
    "import functools\n",
    "\n",
    "class MaxRetriesException(Exception):\n",
    "    pass\n",
    "\n",
    "def retry(times: int):\n",
    "    def decorator(func):\n",
    "        @functools.wraps(func)\n",
    "        def wrapper(*args, **kwargs):\n",
    "            for _ in range(times):\n",
    "                try:\n",
    "                    res = func(*args, **kwargs)\n",
    "                    return res\n",
    "                except:\n",
    "                    continue\n",
    "            raise MaxRetriesException\n",
    "        return wrapper\n",
    "    return decorator\n",
    "\n",
    "@retry(3)\n",
    "def no_way():\n",
    "    raise ValueError\n",
    "   \n",
    "try:\n",
    "    no_way()\n",
    "except Exception as e:\n",
    "    print(type(e))"
   ]
  },
  {
   "cell_type": "code",
   "execution_count": 26,
   "metadata": {},
   "outputs": [
    {
     "name": "stdout",
     "output_type": "stream",
     "text": [
      "beegeek\n"
     ]
    }
   ],
   "source": [
    "@retry(8)\n",
    "def beegeek():\n",
    "    beegeek.calls = beegeek.__dict__.get('calls', 0) + 1\n",
    "    if beegeek.calls < 5:\n",
    "        raise ValueError\n",
    "    print('beegeek')\n",
    "    \n",
    "beegeek()"
   ]
  }
 ],
 "metadata": {
  "kernelspec": {
   "display_name": "Python 3",
   "language": "python",
   "name": "python3"
  },
  "language_info": {
   "codemirror_mode": {
    "name": "ipython",
    "version": 3
   },
   "file_extension": ".py",
   "mimetype": "text/x-python",
   "name": "python",
   "nbconvert_exporter": "python",
   "pygments_lexer": "ipython3",
   "version": "3.12.2"
  }
 },
 "nbformat": 4,
 "nbformat_minor": 2
}
