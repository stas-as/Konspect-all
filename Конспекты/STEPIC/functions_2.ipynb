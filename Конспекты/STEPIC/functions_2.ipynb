{
 "cells": [
  {
   "cell_type": "code",
   "execution_count": 6,
   "metadata": {},
   "outputs": [
    {
     "name": "stdout",
     "output_type": "stream",
     "text": [
      "abcdefghijklmnopqrstuvwxyzABCDEFGHIJKLMNOPQRSTUVWXYZ\n",
      "ABCDEFGHIJKLMNOPQRSTUVWXYZ\n",
      "abcdefghijklmnopqrstuvwxyz\n",
      "0123456789\n",
      "0123456789abcdefABCDEF\n",
      "01234567\n",
      "!\"#$%&'()*+,-./:;<=>?@[\\]^_`{|}~\n",
      "0123456789abcdefghijklmnopqrstuvwxyzABCDEFGHIJKLMNOPQRSTUVWXYZ!\"#$%&'()*+,-./:;<=>?@[\\]^_`{|}~ \t\n",
      "\u000b\f\n"
     ]
    }
   ],
   "source": [
    "import string\n",
    "\n",
    "print(string.ascii_letters)\n",
    "print(string.ascii_uppercase)\n",
    "print(string.ascii_lowercase)\n",
    "print(string.digits)\n",
    "print(string.hexdigits)\n",
    "print(string.octdigits)\n",
    "print(string.punctuation)\n",
    "print(string.printable)"
   ]
  },
  {
   "cell_type": "code",
   "execution_count": 1,
   "metadata": {},
   "outputs": [
    {
     "data": {
      "text/plain": [
       "2"
      ]
     },
     "execution_count": 1,
     "metadata": {},
     "output_type": "execute_result"
    }
   ],
   "source": [
    "sum([True,True])"
   ]
  },
  {
   "cell_type": "code",
   "execution_count": 6,
   "metadata": {},
   "outputs": [
    {
     "name": "stdout",
     "output_type": "stream",
     "text": [
      "ginortS1324\n"
     ]
    }
   ],
   "source": [
    "\n",
    "data = {\"a\": [],\"A\": [],\"1\": [],\"2\": []}\n",
    "for el in \"Sorting1234\":\n",
    "    if el.isdigit():\n",
    "        if int(el) % 2 == 0:\n",
    "            data[\"2\"].append(el)\n",
    "        else:\n",
    "            data[\"1\"].append(el)\n",
    "    else:\n",
    "        if el.islower():\n",
    "            data[\"a\"].append(el)\n",
    "        else:\n",
    "            data[\"A\"].append(el)\n",
    "\n",
    "print(\"\".join(map(lambda x: \"\".join(sorted(x)),data.values())))"
   ]
  },
  {
   "cell_type": "code",
   "execution_count": 5,
   "metadata": {},
   "outputs": [
    {
     "name": "stdout",
     "output_type": "stream",
     "text": [
      "Аделина Айлин Александр Александра Алексей Алина Алиса Алёна Амелия Анастасия Андрей Арина Арсен Артемий Артём Мадина Максим Марат Маргарита Мария Матвей Милана Мирон Мирослава\n"
     ]
    }
   ],
   "source": [
    "names = ['ульяна', 'арина', 'Дмитрий', 'Сергей', 'Яна', 'мила', 'Ольга', 'софья', 'семён', 'Никита', 'маргарита', 'Василиса', 'Кирилл', 'александр', 'александра', 'Иван', 'андрей', 'Родион', 'максим', 'алиса', 'Артём', 'софия', 'владимир', 'дамир', 'Валерий', 'степан', 'Алексей', 'Марк', 'олег', 'ирина', 'Милана', 'мия', 'денис', 'Фёдор', 'Елизавета', 'айлин', 'Варвара', 'валерия', 'Алёна', 'Николь', 'юлия', 'Ксения', 'пётр', 'георгий', 'Мария', 'глеб', 'илья', 'Захар', 'Дарья', 'Евгения', 'матвей', 'Серафим', 'екатерина', 'Тимофей', 'виктор', 'Егор', 'Ника', 'анна', 'даниил', 'тихон', 'вера', 'кира', 'Эмилия', 'Виктория', 'Игорь', 'полина', 'алина', 'Давид', 'анастасия', 'Вероника', 'ярослав', 'Руслан', 'татьяна', 'Демид', 'амелия', 'Элина', 'Арсен', 'евгений', 'мадина', 'дарина', 'Савелий', 'Платон', 'Аделина', 'диана', 'Айша', 'павел', 'Стефания', 'Тимур', 'Ева', 'Елисей', 'Артемий', 'григорий', 'Мирон', 'Мирослава', 'Мира', 'Марат', 'Лилия', 'роман', 'владислав', 'Леонид']\n",
    "\n",
    "print(*sorted(map(str.capitalize,filter(lambda x: x[0].upper() in (\"А\", \"М\") and len(x) > 4 ,names))))\n",
    "\n"
   ]
  },
  {
   "cell_type": "code",
   "execution_count": 7,
   "metadata": {},
   "outputs": [
    {
     "name": "stdout",
     "output_type": "stream",
     "text": [
      "abcdefghijklmnopqrstuvwxyzABCDEFGHIJKLMNOPQRSTUVWXYZ\n",
      "ABCDEFGHIJKLMNOPQRSTUVWXYZ\n",
      "abcdefghijklmnopqrstuvwxyz\n",
      "0123456789\n",
      "0123456789abcdefABCDEF\n",
      "01234567\n",
      "!\"#$%&'()*+,-./:;<=>?@[\\]^_`{|}~\n",
      "0123456789abcdefghijklmnopqrstuvwxyzABCDEFGHIJKLMNOPQRSTUVWXYZ!\"#$%&'()*+,-./:;<=>?@[\\]^_`{|}~ \t\n",
      "\u000b\f\n"
     ]
    }
   ],
   "source": [
    "import string\n",
    "\n",
    "print(string.ascii_letters)\n",
    "print(string.ascii_uppercase)\n",
    "print(string.ascii_lowercase)\n",
    "print(string.digits)\n",
    "print(string.hexdigits)\n",
    "print(string.octdigits)\n",
    "print(string.punctuation)\n",
    "print(string.printable)"
   ]
  },
  {
   "cell_type": "markdown",
   "metadata": {},
   "source": [
    "в пароле нет ни одной буквы, если в пароле отсутствуют латинские буквы\n",
    "в пароле нет ни одной заглавной буквы, если в пароле отсутствуют заглавные латинские буквы\n",
    "в пароле нет ни одной строчной буквы, если в пароле отсутствуют строчные латинские буквы\n",
    "в пароле нет ни одной цифры"
   ]
  },
  {
   "cell_type": "code",
   "execution_count": null,
   "metadata": {},
   "outputs": [],
   "source": [
    "import string\n",
    "def verification(login:str, password:str, success, failure):\n",
    "    data = {\n",
    "        \"ab\": [False,\"в пароле нет ни одной буквы\"], \n",
    "        \"A\": [False, \"в пароле нет ни одной заглавной буквы\"], \n",
    "        \"a\":[False, \"в пароле нет ни одной строчной буквы\"], \n",
    "        \"1\": [False, \"в пароле нет ни одной цифры\"]}\n",
    "    for el in password:\n",
    "        if (not data[\"ab\"][0]) and el in string.ascii_letters:\n",
    "            data[\"ab\"][0] = True\n",
    "        if (not data[\"A\"][0]) and el in string.ascii_uppercase:\n",
    "            data[\"A\"][0] = True\n",
    "        if (not data[\"a\"][0]) and el in string.ascii_lowercase:\n",
    "            data[\"a\"][0] = True\n",
    "        if (not data[\"1\"][0]) and el.isdigit():\n",
    "            data[\"1\"][0] = True\n",
    "    for fl,text in data.values():\n",
    "        if not fl:\n",
    "            failure(login,text)\n",
    "            break\n",
    "    else:\n",
    "        success(login)"
   ]
  },
  {
   "cell_type": "code",
   "execution_count": 26,
   "metadata": {},
   "outputs": [],
   "source": [
    "import string\n",
    "def verification(login:str, password:str, success, failure):\n",
    "    data = {\n",
    "        \"ab\": [False,\"в пароле нет ни одной буквы\"], \n",
    "        \"A\": [False, \"в пароле нет ни одной заглавной буквы\"], \n",
    "        \"a\":[False, \"в пароле нет ни одной строчной буквы\"], \n",
    "        \"1\": [False, \"в пароле нет ни одной цифры\"]}\n",
    "    for el in password:\n",
    "        if (not data[\"ab\"][0]) and el in string.ascii_letters:\n",
    "            data[\"ab\"][0] = True\n",
    "        if (not data[\"A\"][0]) and el in string.ascii_uppercase:\n",
    "            data[\"A\"][0] = True\n",
    "        if (not data[\"a\"][0]) and el in string.ascii_lowercase:\n",
    "            data[\"a\"][0] = True\n",
    "        if (not data[\"1\"][0]) and el.isdigit():\n",
    "            data[\"1\"][0] = True\n",
    "    for fl,text in data.values():\n",
    "        if not fl:\n",
    "            failure(login,text)\n",
    "            break\n",
    "    else:\n",
    "        success(login)\n",
    "    return data"
   ]
  },
  {
   "cell_type": "code",
   "execution_count": 31,
   "metadata": {},
   "outputs": [
    {
     "name": "stdout",
     "output_type": "stream",
     "text": [
      "Привет, timyrik20!\n",
      "('ab', [True, 'в пароле нет ни одной буквы'])\n",
      "('A', [True, 'в пароле нет ни одной заглавной буквы'])\n",
      "('a', [True, 'в пароле нет ни одной строчной буквы'])\n",
      "('1', [True, 'в пароле нет ни одной цифры'])\n"
     ]
    }
   ],
   "source": [
    "def success(login):\n",
    "    print(f'Привет, {login}!')\n",
    "\n",
    "def failure(login, text):\n",
    "    print(f'{login}, попробуйте снова. Ошибка: {text}')\n",
    "\n",
    "data = verification('timyrik20', 'ASdf1', success, failure)\n",
    "print(*data.items(),sep=\"\\n\")"
   ]
  },
  {
   "cell_type": "code",
   "execution_count": null,
   "metadata": {},
   "outputs": [],
   "source": [
    "stack = []\n",
    "if not stack or (c == ')' and stack[-1] != '(') or (c == '}' and stack[-1] != '{') or (c == ']' and stack[-1] != '['):\n",
    "    pass"
   ]
  },
  {
   "cell_type": "code",
   "execution_count": null,
   "metadata": {},
   "outputs": [],
   "source": [
    "{((({[]([])([])})))}"
   ]
  },
  {
   "cell_type": "code",
   "execution_count": 34,
   "metadata": {},
   "outputs": [
    {
     "data": {
      "text/plain": [
       "True"
      ]
     },
     "execution_count": 34,
     "metadata": {},
     "output_type": "execute_result"
    }
   ],
   "source": [
    "isValid(\"{((({[]([])([])})))}\")"
   ]
  }
 ],
 "metadata": {
  "kernelspec": {
   "display_name": "Python 3",
   "language": "python",
   "name": "python3"
  },
  "language_info": {
   "codemirror_mode": {
    "name": "ipython",
    "version": 3
   },
   "file_extension": ".py",
   "mimetype": "text/x-python",
   "name": "python",
   "nbconvert_exporter": "python",
   "pygments_lexer": "ipython3",
   "version": "3.12.2"
  }
 },
 "nbformat": 4,
 "nbformat_minor": 2
}
