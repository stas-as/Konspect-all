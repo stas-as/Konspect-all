{
 "cells": [
  {
   "cell_type": "code",
   "execution_count": 2,
   "metadata": {},
   "outputs": [],
   "source": [
    "def greet(name,*args):\n",
    "    if len(args) > 0:\n",
    "        return f\"Hello, {name} and {' and '.join(args)}!\"\n",
    "    else:\n",
    "        return f\"Hello, {name}!\""
   ]
  },
  {
   "cell_type": "code",
   "execution_count": 6,
   "metadata": {},
   "outputs": [
    {
     "data": {
      "text/plain": [
       "'Hello, Timur and Andrei and Evgeni!'"
      ]
     },
     "execution_count": 6,
     "metadata": {},
     "output_type": "execute_result"
    }
   ],
   "source": [
    "greet(\"Timur\",\"Andrei\",\"Evgeni\")"
   ]
  },
  {
   "cell_type": "code",
   "execution_count": 18,
   "metadata": {},
   "outputs": [],
   "source": [
    "def print_products(*args):\n",
    "    result = [i for i in args if type(i) == str and len(i) > 0]\n",
    "    if len(result) > 0:\n",
    "        [print(f\"{i+1}) {result[i]}\") for i in range(len(result))]\n",
    "    else:\n",
    "        print(\"Нет продуктов\")"
   ]
  },
  {
   "cell_type": "code",
   "execution_count": 19,
   "metadata": {},
   "outputs": [
    {
     "name": "stdout",
     "output_type": "stream",
     "text": [
      "1) Бананы\n",
      "2) Яблоки\n",
      "3) Макароны\n"
     ]
    }
   ],
   "source": [
    "print_products('Бананы', [1, 2], ('Stepik',), 'Яблоки', '', 'Макароны', 5, True)"
   ]
  },
  {
   "cell_type": "code",
   "execution_count": 25,
   "metadata": {},
   "outputs": [
    {
     "name": "stdout",
     "output_type": "stream",
     "text": [
      "age: 28\n",
      "first_name: Timur\n",
      "job: teacher\n",
      "last_name: Guev\n"
     ]
    }
   ],
   "source": [
    "def info_kwargs(**kwargs):\n",
    "    [print(f\"{i}: {kwargs[i]}\") for i in sorted(kwargs)]\n",
    "    \n",
    "info_kwargs(first_name='Timur', last_name='Guev', age=28, job='teacher') "
   ]
  }
 ],
 "metadata": {
  "kernelspec": {
   "display_name": "Python 3",
   "language": "python",
   "name": "python3"
  },
  "language_info": {
   "codemirror_mode": {
    "name": "ipython",
    "version": 3
   },
   "file_extension": ".py",
   "mimetype": "text/x-python",
   "name": "python",
   "nbconvert_exporter": "python",
   "pygments_lexer": "ipython3",
   "version": "3.9.13"
  }
 },
 "nbformat": 4,
 "nbformat_minor": 2
}
