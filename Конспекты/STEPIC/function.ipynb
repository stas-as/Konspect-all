{
 "cells": [
  {
   "cell_type": "markdown",
   "metadata": {},
   "source": [
    "`from functools import reduce`\n",
    "\n",
    "`from operator import *  `\n",
    "\n",
    "|Операция |Синтаксис |Функция |\n",
    "|---------|----------|--------|\n",
    "Addition\t|a + b\t|add(a, b)\n",
    "Containment Test\t|obj in seq\t|contains(seq, obj)\n",
    "Division\t|a / b\t|truediv(a, b)\n",
    "Division\t|a // b\t|floordiv(a, b)\n",
    "Exponentiation\t|a ** b\t|pow(a, b)\n",
    "Modulo\t|a % b\t|mod(a, b)\n",
    "Multiplication\t|a * b\t|mul(a, b)\n",
    "Negation (Arithmetic)\t|-a\t|neg(a)\n",
    "Subtraction\t|a - b\t|sub(a, b)\n",
    "Ordering\t|a < b\t|lt(a, b)\n",
    "Ordering\t|a <= b\t|le(a, b)\n",
    "Equality\t|a == b\t|eq(a, b)\n",
    "Difference\t|a != b\t|ne(a, b)\n",
    "Ordering\t|a >= b\t|ge(a, b)\n",
    "Ordering\t|a > b\t|gt(a, b)"
   ]
  },
  {
   "cell_type": "code",
   "execution_count": 1,
   "metadata": {},
   "outputs": [],
   "source": [
    "def greet(name,*args):\n",
    "    if len(args) > 0:\n",
    "        return f\"Hello, {name} and {' and '.join(args)}!\"\n",
    "    else:\n",
    "        return f\"Hello, {name}!\""
   ]
  },
  {
   "cell_type": "code",
   "execution_count": 2,
   "metadata": {},
   "outputs": [
    {
     "data": {
      "text/plain": [
       "'Hello, Timur and Andrei and Evgeni!'"
      ]
     },
     "execution_count": 2,
     "metadata": {},
     "output_type": "execute_result"
    }
   ],
   "source": [
    "greet(\"Timur\",\"Andrei\",\"Evgeni\")"
   ]
  },
  {
   "cell_type": "code",
   "execution_count": 3,
   "metadata": {},
   "outputs": [],
   "source": [
    "def print_products(*args):\n",
    "    result = [i for i in args if type(i) == str and len(i) > 0]\n",
    "    if len(result) > 0:\n",
    "        [print(f\"{i+1}) {result[i]}\") for i in range(len(result))]\n",
    "    else:\n",
    "        print(\"Нет продуктов\")"
   ]
  },
  {
   "cell_type": "code",
   "execution_count": 4,
   "metadata": {},
   "outputs": [
    {
     "name": "stdout",
     "output_type": "stream",
     "text": [
      "1) Бананы\n",
      "2) Яблоки\n",
      "3) Макароны\n"
     ]
    }
   ],
   "source": [
    "print_products('Бананы', [1, 2], ('Stepik',), 'Яблоки', '', 'Макароны', 5, True)"
   ]
  },
  {
   "cell_type": "code",
   "execution_count": 5,
   "metadata": {},
   "outputs": [
    {
     "name": "stdout",
     "output_type": "stream",
     "text": [
      "age: 28\n",
      "first_name: Timur\n",
      "job: teacher\n",
      "last_name: Guev\n"
     ]
    }
   ],
   "source": [
    "def info_kwargs(**kwargs):\n",
    "    [print(f\"{i}: {kwargs[i]}\") for i in sorted(kwargs)]\n",
    "    \n",
    "info_kwargs(first_name='Timur', last_name='Guev', age=28, job='teacher') "
   ]
  },
  {
   "cell_type": "code",
   "execution_count": 6,
   "metadata": {},
   "outputs": [
    {
     "name": "stdout",
     "output_type": "stream",
     "text": [
      "beegeek\n",
      "stepicon\n"
     ]
    }
   ],
   "source": [
    "s1 = 'python'\n",
    "s2 = 'stepicon'\n",
    "s3 = 'beegeek'\n",
    " \n",
    "print(min(s1, s2, s3))\n",
    "print(max(s1, s2, s3))"
   ]
  },
  {
   "cell_type": "code",
   "execution_count": 7,
   "metadata": {},
   "outputs": [
    {
     "name": "stdout",
     "output_type": "stream",
     "text": [
      "283593393\n",
      "758550528\n",
      "154854153\n",
      "8869743\n",
      "16974593\n",
      "12487168\n",
      "6028568\n",
      "849278123\n",
      "2863288\n",
      "57960603\n",
      "575930368\n"
     ]
    },
    {
     "data": {
      "text/plain": [
       "[None, None, None, None, None, None, None, None, None, None, None]"
      ]
     },
     "execution_count": 7,
     "metadata": {},
     "output_type": "execute_result"
    }
   ],
   "source": [
    "def map(function, items):\n",
    "    result = []\n",
    "    for item in items:\n",
    "        result.append(function(item))\n",
    "    return result\n",
    "\n",
    "\n",
    "def filter(function, items):\n",
    "    result = []\n",
    "    for item in items:\n",
    "        if function(item):\n",
    "            result.append(item)\n",
    "    return result\n",
    "def f(x):\n",
    "    return 99 < x < 1000 and x % 5 == 2\n",
    "\n",
    "def c(x):\n",
    "    return x**3\n",
    "\n",
    "numbers = [1014, 1321, 675, 1215, 56, 1386, 1385, 431, 1058, 486, 1434, 696, 1016, 1084, 424, 1189, 475, 95, 1434, 1462, 815, 776, 657, 1225, 912, 537, 1478, 1176, 544, 488, 668, 944, 207, 266, 1309, 1027, 257, 1374, 1289, 1155, 230, 866, 708, 144, 1434, 1163, 345, 394, 560, 338, 232, 182, 1438, 1127, 928, 1309, 98, 530, 1013, 898, 669, 105, 130, 1363, 947, 72, 1278, 166, 904, 349, 831, 1207, 1496, 370, 725, 926, 175, 959, 1282, 336, 1268, 351, 1439, 186, 273, 1008, 231, 138, 142, 433, 456, 1268, 1018, 1274, 387, 120, 340, 963, 832, 1127]\n",
    "\n",
    "n = map(c,filter(f,numbers))\n",
    "\n",
    "[print(i) for i in n]"
   ]
  },
  {
   "cell_type": "code",
   "execution_count": 8,
   "metadata": {},
   "outputs": [
    {
     "name": "stdout",
     "output_type": "stream",
     "text": [
      "       *\n",
      "      ***\n",
      "     *****\n",
      "    *******\n",
      "   *********\n",
      "  ***********\n",
      " *************\n",
      "***************\n"
     ]
    }
   ],
   "source": [
    "def draw_triangle():\n",
    "    c=1\n",
    "    for i in range(8):\n",
    "        print(\" \"*(7-i)+\"*\"*c)\n",
    "        c +=2\n",
    "\n",
    "# основная программа\n",
    "draw_triangle()  # вызов функции"
   ]
  },
  {
   "cell_type": "code",
   "execution_count": 9,
   "metadata": {},
   "outputs": [
    {
     "name": "stdout",
     "output_type": "stream",
     "text": [
      "1\n"
     ]
    }
   ],
   "source": [
    "from functools import reduce\n",
    "def comp(x,acc):\n",
    "    return acc * x\n",
    "    \n",
    "def compute_binom(n, k):\n",
    "    return int(reduce(comp,[i for i in range(1,n+1)],1)/(reduce(comp,[i for i in range(1,k+1)],1)*reduce(comp,[i for i in range(1,(n-k)+1)],1)))\n",
    "\n",
    "# считываем данные\n",
    "n = int(input())\n",
    "k = int(input())\n",
    "\n",
    "# вызываем функцию\n",
    "print(compute_binom(n, k))"
   ]
  },
  {
   "cell_type": "code",
   "execution_count": 10,
   "metadata": {},
   "outputs": [
    {
     "name": "stdout",
     "output_type": "stream",
     "text": [
      "один\n"
     ]
    }
   ],
   "source": [
    "# объявление функции\n",
    "d = {0:\"\",1: 'один', 2: 'два', 3: 'три', 4: 'четыре', 5: 'пять', 6: 'шесть', 7: 'семь', 8: 'восемь', 9: 'девять', 10: 'десять', 11: 'одиннадцать', 12: 'двенадцать', 13: 'тринадцать', 14: 'четырнадцать', 15: 'пятнадцать', 16: 'шестнадцать',17: 'семнадцать', 18: 'восемнадцать', 19: 'девятнадцать', 20: 'двадцать', 30: 'тридцать', 40: 'сорок', 50: 'пятьдесят', 60: 'шестьдесят', 70: 'семьдесят', 80: 'восемьдесят', 90: 'девяносто'}\n",
    "\n",
    "def number_to_words(num):\n",
    "    if num < 21:\n",
    "        return d[num]\n",
    "    else:\n",
    "        return d[num//10 * 10] +\" \"+ d[num%10]\n",
    "\n",
    "# считываем данные\n",
    "n = int(input())\n",
    "\n",
    "# вызываем функцию\n",
    "print(number_to_words(n))"
   ]
  },
  {
   "cell_type": "code",
   "execution_count": 11,
   "metadata": {},
   "outputs": [
    {
     "ename": "KeyError",
     "evalue": "'1'",
     "output_type": "error",
     "traceback": [
      "\u001b[1;31m---------------------------------------------------------------------------\u001b[0m",
      "\u001b[1;31mKeyError\u001b[0m                                  Traceback (most recent call last)",
      "Cell \u001b[1;32mIn[11], line 11\u001b[0m\n\u001b[0;32m      8\u001b[0m num \u001b[38;5;241m=\u001b[39m \u001b[38;5;28mint\u001b[39m(\u001b[38;5;28minput\u001b[39m())\n\u001b[0;32m     10\u001b[0m \u001b[38;5;66;03m# вызываем функцию\u001b[39;00m\n\u001b[1;32m---> 11\u001b[0m \u001b[38;5;28mprint\u001b[39m(\u001b[43mget_month\u001b[49m\u001b[43m(\u001b[49m\u001b[43mlan\u001b[49m\u001b[43m,\u001b[49m\u001b[43m \u001b[49m\u001b[43mnum\u001b[49m\u001b[43m)\u001b[49m)\n",
      "Cell \u001b[1;32mIn[11], line 4\u001b[0m, in \u001b[0;36mget_month\u001b[1;34m(language, number)\u001b[0m\n\u001b[0;32m      3\u001b[0m \u001b[38;5;28;01mdef\u001b[39;00m \u001b[38;5;21mget_month\u001b[39m(language, number):\n\u001b[1;32m----> 4\u001b[0m     \u001b[38;5;28;01mreturn\u001b[39;00m \u001b[43md\u001b[49m\u001b[43m[\u001b[49m\u001b[43mlanguage\u001b[49m\u001b[43m]\u001b[49m[number\u001b[38;5;241m-\u001b[39m\u001b[38;5;241m1\u001b[39m]\n",
      "\u001b[1;31mKeyError\u001b[0m: '1'"
     ]
    }
   ],
   "source": [
    "d = {\"ru\": ['январь', 'февраль', 'март', 'апрель', 'май', 'июнь', 'июль', 'август', 'сентябрь', 'октябрь', 'ноябрь', 'декабрь'],\n",
    "    \"en\": ['january', 'february', 'march', 'april', 'may', 'june', 'july', 'august', 'september', 'october', 'november', 'december']}\n",
    "def get_month(language, number):\n",
    "    return d[language][number-1]\n",
    "\n",
    "# считываем данные\n",
    "lan = input()\n",
    "num = int(input())\n",
    "\n",
    "# вызываем функцию\n",
    "print(get_month(lan, num))"
   ]
  },
  {
   "cell_type": "code",
   "execution_count": null,
   "metadata": {},
   "outputs": [
    {
     "data": {
      "text/plain": [
       "60"
      ]
     },
     "execution_count": 20,
     "metadata": {},
     "output_type": "execute_result"
    }
   ],
   "source": [
    "date = \"10.06.1960\".split(\".\")\n",
    "x,y,z = int(date[0]),int(date[1]),int(date[2][-2:])\n",
    "z"
   ]
  },
  {
   "cell_type": "code",
   "execution_count": 14,
   "metadata": {},
   "outputs": [],
   "source": [
    "numbers = range(10)\n",
    "obj = map(lambda x: x + 1, numbers)\n"
   ]
  },
  {
   "cell_type": "code",
   "execution_count": 16,
   "metadata": {},
   "outputs": [
    {
     "data": {
      "text/plain": [
       "'dcba'"
      ]
     },
     "execution_count": 16,
     "metadata": {},
     "output_type": "execute_result"
    }
   ],
   "source": [
    "a = \"abcd\"\n",
    "a[::-1]"
   ]
  },
  {
   "cell_type": "code",
   "execution_count": 1,
   "metadata": {},
   "outputs": [
    {
     "name": "stdout",
     "output_type": "stream",
     "text": [
      "23 17 8 28 13 0 1 41 18 40 13 47 17 50 18 16 33 20 40 40 20 17 16 8 2 8 20 18 4 9 4 33 10 36 16 20 17 32 39 13 21 17 24 8 9 20 45 28 40 45 13 13 3 2 11 26 19 37 7 33 14 44 47 18 22 1 19 18 16 2 16 30 47 4 18 47 23 16\n"
     ]
    }
   ],
   "source": [
    "numbers = [46, 61, 34, 17, 56, 26, 93, 1, 3, 82, 71, 37, 80, 27, 77, 94, 34, 100, 36, 81, 33, 81, 66, 83, 41, 80, 80, 93, 40, 34, 32, 16, 5, 16, 40, 93, 36, 65, 8, 19, 8, 75, 66, 21, 72, 32, 41, 59, 35, 64, 49, 78, 83, 27, 57, 53, 43, 35, 48, 17, 19, 40, 90, 57, 77, 56, 80, 95, 90, 27, 26, 6, 4, 23, 52, 39, 63, 74, 15, 66, 29, 88, 94, 37, 44, 2, 38, 36, 32, 49, 5, 33, 60, 94, 89, 8, 36, 94, 46, 33]\n",
    "numbers = filter(lambda x: not(x%2 != 0 and x > 47) ,numbers)\n",
    "numbers = list(map(lambda x: x // 2,numbers))\n",
    "print(*numbers)"
   ]
  },
  {
   "cell_type": "code",
   "execution_count": 5,
   "metadata": {},
   "outputs": [
    {
     "name": "stdout",
     "output_type": "stream",
     "text": [
      "0 1 3 5 8 a aab ab ac c\n"
     ]
    }
   ],
   "source": [
    "mixed_list = ['a', 'ab', 3, 5, 1, 8, 0, 'c', 'ac', 'aab']\n",
    "res = list(sorted(filter(lambda x: type(x) == int,mixed_list))) + list(sorted(filter(lambda x: type(x) == str, mixed_list)))\n",
    "print(*sorted(mixed_list,key=str))"
   ]
  },
  {
   "cell_type": "code",
   "execution_count": 16,
   "metadata": {},
   "outputs": [
    {
     "data": {
      "text/plain": [
       "[6, 5, 4, 3, 2, 1]"
      ]
     },
     "execution_count": 16,
     "metadata": {},
     "output_type": "execute_result"
    }
   ],
   "source": [
    "from functools import reduce\n",
    "from operator import *\n",
    "\n",
    "def evaluate(coefficients, x):\n",
    "    num= [i for i in range(len(coefficients),0,-1)]\n",
    "    *coef,a_o = coefficients\n",
    "    res = reduce(add,map(lambda a,n:  a* x**n ,coef, num),a_o)\n",
    "    return res\n"
   ]
  },
  {
   "cell_type": "code",
   "execution_count": 3,
   "metadata": {},
   "outputs": [],
   "source": [
    "def generate_letter(mail, name, date, time, place, teacher=\"Тимур Гуев\", number=17):\n",
    "    print(f\"To: {mail}\")\n",
    "    print(f\"Приветствую, {name}!\")\n",
    "    print(f\"Вам назначен экзамен, который пройдет {date}, в {time}.\")\n",
    "    print(f\"По адресу: {place}.\")\n",
    "    print(f\"Экзамен будет проводить {teacher} в кабинете {number}.\")\n",
    "    return \"Желаем удачи на экзамене!\""
   ]
  },
  {
   "cell_type": "code",
   "execution_count": 4,
   "metadata": {},
   "outputs": [
    {
     "name": "stdout",
     "output_type": "stream",
     "text": [
      "To: lara@yandex.ru\n",
      "Приветствую, Лариса!\n",
      "Вам назначен экзамен, который пройдет 10 декабря, в 12:00.\n",
      "По адресу: Часова 23, корпус 2.\n",
      "Экзамен будет проводить Тимур Гуев в кабинете 17.\n",
      "Желаем удачи на экзамене!\n",
      "\n",
      "To: lara@yandex.ru\n",
      "Приветствую, Лариса!\n",
      "Вам назначен экзамен, который пройдет 10 декабря, в 12:00.\n",
      "По адресу: Часова 23, корпус 2.\n",
      "Экзамен будет проводить Василь Ярошевич в кабинете 23.\n",
      "Желаем удачи на экзамене!\n"
     ]
    }
   ],
   "source": [
    "print(generate_letter('lara@yandex.ru', 'Лариса', '10 декабря', '12:00', 'Часова 23, корпус 2'))\n",
    "print()\n",
    "print(generate_letter('lara@yandex.ru', 'Лариса', '10 декабря', '12:00', \n",
    "                      'Часова 23, корпус 2', 'Василь Ярошевич', 23))"
   ]
  },
  {
   "cell_type": "markdown",
   "metadata": {},
   "source": [
    "Pretty print\n",
    "Напишите функцию pretty_print(), которая выводит содержимое списка с рамкой. \n",
    "\n",
    "Функция должна получать на вход один обязательный аргумент data – список, который следует вывести и два необязательных строковых односимвольных  аргумента side и delimiter и выводить содержимое списка в соответствии с примерами.\n",
    "\n",
    "В случае если отсутствует аргумент side, то полагаем side='-', а если отсутствует аргумент delimiter, то полагаем delimiter='|'.\n",
    "\n",
    "Примечание 1. Следующий программный код:\n",
    "\n",
    "`pretty_print([1, 2, 10, 23, 123, 3000])\n",
    "pretty_print(['abc', 'def', 'ghi', '12345'])\n",
    "pretty_print(['abc', 'def', 'ghi'], side='*')\n",
    "pretty_print(['abc', 'def', 'ghi'], delimiter='#')\n",
    "pretty_print(['abc', 'def', 'ghi'], side='*', delimiter='#')`\n"
   ]
  },
  {
   "cell_type": "code",
   "execution_count": null,
   "metadata": {},
   "outputs": [],
   "source": [
    "#  ------------------------------ \n",
    "# | 1 | 2 | 10 | 23 | 123 | 3000 |\n",
    "#  ------------------------------ "
   ]
  },
  {
   "cell_type": "code",
   "execution_count": 23,
   "metadata": {},
   "outputs": [],
   "source": [
    "def pretty_print(data, side=\"-\", delimiter=\"|\"):\n",
    "    a = delimiter.join([\" \",\" \"]).join([str(i) for i in data])\n",
    "    print(\" \"+ side*(len(a) + 2)+ \" \")\n",
    "    print(delimiter + \" \" + a + \" \" + delimiter)\n",
    "    print(\" \" + side*(len(a) + 2)+ \" \")"
   ]
  },
  {
   "cell_type": "code",
   "execution_count": 24,
   "metadata": {},
   "outputs": [
    {
     "name": "stdout",
     "output_type": "stream",
     "text": [
      " ------------------------------ \n",
      "| 1 | 2 | 10 | 23 | 123 | 3000 |\n",
      " ------------------------------ \n"
     ]
    }
   ],
   "source": [
    "pretty_print([1, 2, 10, 23, 123, 3000])"
   ]
  },
  {
   "cell_type": "code",
   "execution_count": 26,
   "metadata": {},
   "outputs": [
    {
     "name": "stdout",
     "output_type": "stream",
     "text": [
      "['a', '1', 'b', '2']\n"
     ]
    }
   ],
   "source": [
    "result = list(filter(str.swapcase, ['a', '1', '', 'b', '2']))\n",
    "\n",
    "print(result)"
   ]
  },
  {
   "cell_type": "code",
   "execution_count": 27,
   "metadata": {},
   "outputs": [
    {
     "name": "stdout",
     "output_type": "stream",
     "text": [
      "[1, 2, 3, 4, 5]\n"
     ]
    }
   ],
   "source": [
    "from functools import reduce\n",
    "import operator\n",
    "\n",
    "def flatten(data):\n",
    "    return reduce(operator.concat, data, [])\n",
    "\n",
    "result = flatten([[1, 2], [3, 4], [], [5]])\n",
    "\n",
    "print(result)"
   ]
  },
  {
   "cell_type": "code",
   "execution_count": 3,
   "metadata": {},
   "outputs": [
    {
     "name": "stdout",
     "output_type": "stream",
     "text": [
      "True\n",
      "True\n",
      "True\n",
      "True\n",
      "True\n",
      "True\n",
      "True\n"
     ]
    }
   ],
   "source": [
    "def get_biggest(numbers):\n",
    "    \n",
    "    if numbers:\n",
    "        m = max(map(lambda x: len(str(x)),numbers))\n",
    "        res = sorted(numbers,key=lambda x: str(x)*m,reverse=True)\n",
    "        a = \"\"\n",
    "        for i in res:\n",
    "            a += str(i)\n",
    "        return int(a)\n",
    "    else:\n",
    "        return -1\n",
    "\n",
    "print(get_biggest([7, 71, 72]) == 77271)\n",
    "print(get_biggest([0, 0, 0, 0, 0, 0]) == 0)\n",
    "print(get_biggest([]) == -1)\n",
    "print(get_biggest([72, 7274]) == 727472)\n",
    "print(get_biggest([62, 626]) == 62662)\n",
    "print(get_biggest([953, 9534]) == 9539534)\n",
    "print(get_biggest([262, 26]) == 26262)"
   ]
  },
  {
   "cell_type": "code",
   "execution_count": 4,
   "metadata": {},
   "outputs": [
    {
     "name": "stdout",
     "output_type": "stream",
     "text": [
      "77271\n"
     ]
    }
   ],
   "source": [
    "print(get_biggest([7, 71, 72]))"
   ]
  },
  {
   "cell_type": "code",
   "execution_count": 1,
   "metadata": {},
   "outputs": [
    {
     "ename": "FileNotFoundError",
     "evalue": "[Errno 2] No such file or directory: 'files.txt'",
     "output_type": "error",
     "traceback": [
      "\u001b[1;31m---------------------------------------------------------------------------\u001b[0m",
      "\u001b[1;31mFileNotFoundError\u001b[0m                         Traceback (most recent call last)",
      "Cell \u001b[1;32mIn[1], line 1\u001b[0m\n\u001b[1;32m----> 1\u001b[0m \u001b[38;5;28;01mwith\u001b[39;00m \u001b[38;5;28;43mopen\u001b[39;49m\u001b[43m(\u001b[49m\u001b[38;5;124;43m\"\u001b[39;49m\u001b[38;5;124;43mfiles.txt\u001b[39;49m\u001b[38;5;124;43m\"\u001b[39;49m\u001b[43m,\u001b[49m\u001b[43m \u001b[49m\u001b[38;5;124;43m'\u001b[39;49m\u001b[38;5;124;43mr\u001b[39;49m\u001b[38;5;124;43m'\u001b[39;49m\u001b[43m,\u001b[49m\u001b[43m \u001b[49m\u001b[43mencoding\u001b[49m\u001b[38;5;241;43m=\u001b[39;49m\u001b[38;5;124;43m\"\u001b[39;49m\u001b[38;5;124;43mutf-8\u001b[39;49m\u001b[38;5;124;43m\"\u001b[39;49m\u001b[43m)\u001b[49m \u001b[38;5;28;01mas\u001b[39;00m f:\n\u001b[0;32m      2\u001b[0m     l \u001b[38;5;241m=\u001b[39m [i\u001b[38;5;241m.\u001b[39msplit() \u001b[38;5;28;01mfor\u001b[39;00m i \u001b[38;5;129;01min\u001b[39;00m f\u001b[38;5;241m.\u001b[39mreadlines()]\n\u001b[0;32m      3\u001b[0m d \u001b[38;5;241m=\u001b[39m {}\n",
      "File \u001b[1;32m~\\AppData\\Roaming\\Python\\Python39\\site-packages\\IPython\\core\\interactiveshell.py:282\u001b[0m, in \u001b[0;36m_modified_open\u001b[1;34m(file, *args, **kwargs)\u001b[0m\n\u001b[0;32m    275\u001b[0m \u001b[38;5;28;01mif\u001b[39;00m file \u001b[38;5;129;01min\u001b[39;00m {\u001b[38;5;241m0\u001b[39m, \u001b[38;5;241m1\u001b[39m, \u001b[38;5;241m2\u001b[39m}:\n\u001b[0;32m    276\u001b[0m     \u001b[38;5;28;01mraise\u001b[39;00m \u001b[38;5;167;01mValueError\u001b[39;00m(\n\u001b[0;32m    277\u001b[0m         \u001b[38;5;124mf\u001b[39m\u001b[38;5;124m\"\u001b[39m\u001b[38;5;124mIPython won\u001b[39m\u001b[38;5;124m'\u001b[39m\u001b[38;5;124mt let you open fd=\u001b[39m\u001b[38;5;132;01m{\u001b[39;00mfile\u001b[38;5;132;01m}\u001b[39;00m\u001b[38;5;124m by default \u001b[39m\u001b[38;5;124m\"\u001b[39m\n\u001b[0;32m    278\u001b[0m         \u001b[38;5;124m\"\u001b[39m\u001b[38;5;124mas it is likely to crash IPython. If you know what you are doing, \u001b[39m\u001b[38;5;124m\"\u001b[39m\n\u001b[0;32m    279\u001b[0m         \u001b[38;5;124m\"\u001b[39m\u001b[38;5;124myou can use builtins\u001b[39m\u001b[38;5;124m'\u001b[39m\u001b[38;5;124m open.\u001b[39m\u001b[38;5;124m\"\u001b[39m\n\u001b[0;32m    280\u001b[0m     )\n\u001b[1;32m--> 282\u001b[0m \u001b[38;5;28;01mreturn\u001b[39;00m io_open(file, \u001b[38;5;241m*\u001b[39margs, \u001b[38;5;241m*\u001b[39m\u001b[38;5;241m*\u001b[39mkwargs)\n",
      "\u001b[1;31mFileNotFoundError\u001b[0m: [Errno 2] No such file or directory: 'files.txt'"
     ]
    }
   ],
   "source": []
  }
 ],
 "metadata": {
  "kernelspec": {
   "display_name": "Python 3",
   "language": "python",
   "name": "python3"
  },
  "language_info": {
   "codemirror_mode": {
    "name": "ipython",
    "version": 3
   },
   "file_extension": ".py",
   "mimetype": "text/x-python",
   "name": "python",
   "nbconvert_exporter": "python",
   "pygments_lexer": "ipython3",
   "version": "3.9.13"
  }
 },
 "nbformat": 4,
 "nbformat_minor": 2
}
