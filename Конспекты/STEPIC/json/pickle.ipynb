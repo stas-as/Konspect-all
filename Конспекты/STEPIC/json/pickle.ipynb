{
 "cells": [
  {
   "cell_type": "code",
   "execution_count": 1,
   "metadata": {},
   "outputs": [],
   "source": [
    "import pickle\n",
    "\n",
    "obj = {'Python': 1991, 'Java': 1995, 'C#': 2002}\n",
    "\n",
    "with open('file.pkl', 'wb') as file:\n",
    "    pickle.dump(obj, file)"
   ]
  },
  {
   "cell_type": "code",
   "execution_count": 2,
   "metadata": {},
   "outputs": [
    {
     "name": "stdout",
     "output_type": "stream",
     "text": [
      "{'Python': 1991, 'Java': 1995, 'C#': 2002}\n",
      "<class 'dict'>\n"
     ]
    }
   ],
   "source": [
    "with open('file.pkl', 'rb') as file:     # используется файл полученный на предыдущем шаге\n",
    "    obj = pickle.load(file)\n",
    "    print(obj)\n",
    "    print(type(obj))"
   ]
  },
  {
   "cell_type": "code",
   "execution_count": 3,
   "metadata": {},
   "outputs": [
    {
     "name": "stdout",
     "output_type": "stream",
     "text": [
      "b'\\x80\\x04\\x95#\\x00\\x00\\x00\\x00\\x00\\x00\\x00}\\x94(\\x8c\\x06Python\\x94M\\xc7\\x07\\x8c\\x04Java\\x94M\\xcb\\x07\\x8c\\x02C#\\x94M\\xd2\\x07u.'\n",
      "<class 'bytes'>\n"
     ]
    }
   ],
   "source": [
    "obj = {'Python': 1991, 'Java': 1995, 'C#': 2002}\n",
    "binary_obj = pickle.dumps(obj)\n",
    "\n",
    "print(binary_obj)\n",
    "print(type(binary_obj))"
   ]
  },
  {
   "cell_type": "code",
   "execution_count": 4,
   "metadata": {},
   "outputs": [
    {
     "name": "stdout",
     "output_type": "stream",
     "text": [
      "{'Python': 1991, 'Java': 1995, 'C#': 2002}\n"
     ]
    }
   ],
   "source": [
    "obj = {'Python': 1991, 'Java': 1995, 'C#': 2002}\n",
    "binary_obj = pickle.dumps(obj)\n",
    "\n",
    "new_obj = pickle.loads(binary_obj)\n",
    "\n",
    "print(new_obj)"
   ]
  },
  {
   "cell_type": "code",
   "execution_count": 5,
   "metadata": {},
   "outputs": [
    {
     "name": "stdout",
     "output_type": "stream",
     "text": [
      "6\n"
     ]
    }
   ],
   "source": [
    "def abc(a,b,c):\n",
    "    print(a+b+c)\n",
    "abc(*[1,2,3])"
   ]
  }
 ],
 "metadata": {
  "kernelspec": {
   "display_name": "Python 3",
   "language": "python",
   "name": "python3"
  },
  "language_info": {
   "codemirror_mode": {
    "name": "ipython",
    "version": 3
   },
   "file_extension": ".py",
   "mimetype": "text/x-python",
   "name": "python",
   "nbconvert_exporter": "python",
   "pygments_lexer": "ipython3",
   "version": "3.9.13"
  }
 },
 "nbformat": 4,
 "nbformat_minor": 2
}
