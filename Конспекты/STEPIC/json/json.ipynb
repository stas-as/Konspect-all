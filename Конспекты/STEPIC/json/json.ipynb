{
 "cells": [
  {
   "cell_type": "code",
   "execution_count": 2,
   "metadata": {},
   "outputs": [
    {
     "name": "stdout",
     "output_type": "stream",
     "text": [
      "<_io.TextIOWrapper name='countries.json' mode='r' encoding='cp1251'>\n"
     ]
    }
   ],
   "source": [
    "import json\n",
    "\n",
    "data = {'name': 'Russia', 'phone_code': 7, 'capital': 'Moscow', 'currency': 'RUB'}\n",
    "\n",
    "with open('countries.json', 'w') as file:\n",
    "    json.dump(data, file)\n",
    "with open('countries.json', 'r') as file:\n",
    "    print(file)"
   ]
  },
  {
   "cell_type": "code",
   "execution_count": null,
   "metadata": {},
   "outputs": [],
   "source": [
    "import json\n",
    "\n",
    "club1 = {\"name\": \"FC Byern Munchen\", \"country\": \"Germany\", \"founded\": 1900,\n",
    "         \"trainer\": \"Julian Nagelsmann\", \"goalkeeper\": \"M. Neuer\", \"league_position\": 1}\n",
    "\n",
    "club2 = {\"name\": \"FC Barcelona\", \"country\": \"Spain\", \"founded\": 1899,\n",
    "         \"trainer\": \"Xavier Creus\", \"goalkeeper\": \"M. Ter Stegen\", \"league_position\": 7}\n",
    "\n",
    "club3 = {\"name\": \"FC Manchester United\", \"country\": \"England\", \"founded\": 1878,\n",
    "         \"trainer\": \"Michael Carrick\", \"goalkeeper\": \"D. De Gea\", \"league_position\": 8}\n",
    "\n",
    "with open(\"data.json\", \"w\", encoding=\"utf-8\") as f:\n",
    "    json.dump([club1, club2, club3],f,indent=3)"
   ]
  },
  {
   "cell_type": "code",
   "execution_count": 4,
   "metadata": {},
   "outputs": [
    {
     "data": {
      "text/plain": [
       "85500"
      ]
     },
     "execution_count": 4,
     "metadata": {},
     "output_type": "execute_result"
    }
   ],
   "source": [
    "1500 * 53 + 6000 "
   ]
  },
  {
   "cell_type": "code",
   "execution_count": 5,
   "metadata": {},
   "outputs": [
    {
     "name": "stdout",
     "output_type": "stream",
     "text": [
      "['nwkWXma!', {'ISgHT': 'dIUbf', 'newkey': None}, 'Pzt!', 'BXcbGVTE!', {'LWNYiqhXtl': 'rwFBU', 'iQaSJsM': 53, 'JVWjOTogU': 'oGqQ', 'newkey': None}, [96, 96], 150, True, 'xUHtgILQd!', {'ktqUJTjVQe': 'LChifQXrwR', 'DnqEYoMwB': 634, 'sKdo': False, 'cxYvOAngb': 'iZwU', 'GaKQU': True, 'newkey': None}, 'bnhJw!', 'DKVIheq!', 'xAcIYUErm!', False, True, False, True, [162, 'pZguxv', 162, 'pZguxv'], False, True, {'goRanNsLQH': 60, 'arlmf': -386, 'KsyqhZRUoB': False, 'OjvtQMXyr': 'Ylg', 'newkey': None}, 'HpBTLJI!', 'NEnKdMsUGY!', [-758, 'cPOF', 'BzKLP', 452, 'PKB', -758, 'cPOF', 'BzKLP', 452, 'PKB'], 'LMGjnHO!', 'Rlh!', {'kRqKOU': True, 'eiVyxPNqg': 'mRBZPx', 'HykC': False, 'jVhOzYtEF': False, 'newkey': None}, 56, [-639, 684, -842, 697, -639, 684, -842, 697], {'knFIHdp': -442, 'NXoOiqCH': True, 'newkey': None}, {'zFuM': 'utarA', 'newkey': None}, ['VScw', 'VScw'], 'rZvfoeaib!', {'TwARD': 12, 'ASzHDBorl': True, 'newkey': None}, [674, 674], False, {'EtkKUXgWh': 488, 'YUSk': 1000, 'newkey': None}, -552, {'QwSGm': 'iYN', 'evXIOKpt': 474, 'newkey': None}, 588, False, True, {'pTBdc': -688, 'newkey': None}, {'vDmrRpKt': False, 'UalI': 'BvLMU', 'zhgcAGY': 'CImYcyfv', 'newkey': None}, True, True, False, ['zSYIaiCwqh', 'oMg', 'BsiLYWnJ', 'zSYIaiCwqh', 'oMg', 'BsiLYWnJ'], 'tmDUw!', ['jAtmchWls', 800, 285, 'xRpdbA', 471, 'jAtmchWls', 800, 285, 'xRpdbA', 471], {'mrd': False, 'CxGTv': 'hrVtMOLX', 'obG': 'PptM', 'dyraemiMT': 'HGBEk', 'fNocLRG': False, 'newkey': None}, {'nGpZKIDY': True, 'RkdCA': False, 'txe': 'jkDHOab', 'lLIkaoiN': 58, 'newkey': None}, False, False, [-433, 103, 132, 'prxsKVmq', -89, -433, 103, 132, 'prxsKVmq', -89], 'uEkOagUr!', -248, True, 'NnTUeA!', [324, 'RTxD', 'FlCe', 324, 'RTxD', 'FlCe'], {'FzUgtEGdC': 'fqkHACzY', 'fsLqzHKC': True, 'gEsbVRu': 'nvYejkEuWx', 'newkey': None}, 370, 'NyqOUQSV!', 'YlbnQiV!', False, 'miXqOPBl!', True, {'FdLflUV': 813, 'newkey': None}, True, -897, 'pcDO!', True, 810, True, {'zofFZTDH': False, 'aQbPd': True, 'bFluJCiNx': -142, 'newkey': None}, 'KZdhmiBIfG!', False, False, {'dKIXJrv': 'UuKS', 'newkey': None}, True, False, 451, 'MHTLfk!', 'zABdPk!', {'iKVWORBYEe': 297, 'scFagqH': False, 'GeP': 178, 'nzRSCkW': -15, 'EpyX': -344, 'newkey': None}, ['dHb', 55, 'MxRi', 266, -146, 'dHb', 55, 'MxRi', 266, -146], 'bjG!', 197, [500, -254, -320, 500, -254, -320], 'ukYHxRcOX!', True, 'gnPGDI!', {'Lgld': False, 'newkey': None}, {'XoJNtB': False, 'BzGZvO': 821, 'tHMU': True, 'RHOwonTuEW': False, 'dCMAlNYjIf': 443, 'newkey': None}, {'XhvPIUa': 'GFZBeE', 'newkey': None}, 779, ['kvRNM', 721, 'jqmguPbDkF', -171, 'rYtlDyXnEW', 'kvRNM', 721, 'jqmguPbDkF', -171, 'rYtlDyXnEW'], ['EYjAtbOd', 499, 'LNe', 'EYjAtbOd', 499, 'LNe'], 'Xnbr!', True, {'ZwAJsvDxh': 'EGLfMFPk', 'iSujlaEwJg': 'ESKPCZ', 'qAZWoYNv': True, 'PsQo': 790, 'newkey': None}, 'lHcraxuKI!', [-311, 95, 'aWIK', -311, 95, 'aWIK'], 'SaTylICpxP!', -770, -671, -483, ['lveanodcN', -493, 'lveanodcN', -493], 'ohuTXmDEx!', {'jzq': 'CVa', 'igUDGthK': 'nmAH', 'xeiIEnrP': True, 'eaOoyf': True, 'newkey': None}, [648, 192, 170, -303, -652, 648, 192, 170, -303, -652], ['IemoYaiA', 498, -860, 'IemoYaiA', 498, -860], {'ahAsd': False, 'newkey': None}, False, {'FWNBXeDrt': False, 'Mbv': True, 'FtmpL': -768, 'NjMHKLvA': 'EBl', 'oasBf': 'dGeCJ', 'newkey': None}, 842, {'lIyUAa': 502, 'QwCgPM': True, 'newkey': None}, -1, 'lVK!', True, [-198, 'OmrKUYJ', -535, -198, 'OmrKUYJ', -535], True, [11, 'vHxgXTQ', 252, 'NTd', 'etldjagIZ', 11, 'vHxgXTQ', 252, 'NTd', 'etldjagIZ'], 794, ['dfsImJ', 'khVHZEb', 'UkcZEr', 'emGasWZJwn', -693, 'dfsImJ', 'khVHZEb', 'UkcZEr', 'emGasWZJwn', -693], 'XHlM!', 'elsCiId!', {'Ydx': 'tGPWy', 'bMz': True, 'KPdhRAIT': 416, 'GeADNhjIaY': 299, 'hzcuWiI': 'LaSNsucKtO', 'newkey': None}, -489, 508, [-397, 34, 'Qab', -397, 34, 'Qab'], {'wPrJHS': False, 'lse': True, 'newkey': None}, [-354, 'pcTk', 'EWZd', -354, 'pcTk', 'EWZd'], True, ['nBAk', 'nBAk'], False, ['ZwA', 649, 'ZwA', 649], False, {'EoMG': 'BoiX', 'kCrwFy': 'MyowFvP', 'newkey': None}, {'geurJDEftd': 'CYfeEu', 'newkey': None}, 'iHk!', {'CzqcHxFsgr': -232, 'FlC': True, 'GWh': 'oTRBFu', 'newkey': None}, 'dnGbCDMNlP!', 'LeIblTUW!', [-753, -753], -859, False, ['FWCe', -446, 'JjYaR', 181, -428, 'FWCe', -446, 'JjYaR', 181, -428], True, -224, False, False, {'nkXRcm': 'rRZKecYM', 'TqJYE': True, 'newkey': None}, 'CUZNg!', 'aMKhB!', False, 56, False, True]\n"
     ]
    }
   ],
   "source": [
    "\n",
    "import json\n",
    "with open(\"data.json\", \"r\", encoding=\"utf-8\") as f, open(\"updated_data.json\", \"w\", encoding=\"utf-8\") as w:\n",
    "    data = json.load(f)\n",
    "    res = []\n",
    "    for i in data:\n",
    "        if type(i) is str:\n",
    "            res.append(i+\"!\")\n",
    "        elif type(i) is bool:\n",
    "            if i is True:\n",
    "                res.append(False)\n",
    "            else:\n",
    "                res.append(True)\n",
    "        elif type(i) is int or type(i) is float:\n",
    "            res.append(i + 1)\n",
    "        elif type(i) is list:\n",
    "            res.append(i*2)\n",
    "        elif type(i) is dict:\n",
    "            i.update({\"newkey\": None}) \n",
    "            res.append(i)\n",
    "    print(res)\n",
    "    json.dump(res, w,indent=3)"
   ]
  },
  {
   "cell_type": "code",
   "execution_count": 6,
   "metadata": {},
   "outputs": [],
   "source": [
    "with open(\"data1.json\", \"w\", encoding=\"utf-8\") as dr:\n",
    "    json.dump([\"Hello\", 179, True, None, [1, 2, 3], {\"key\": \"value\"}], dr,indent=3)\n",
    "    "
   ]
  },
  {
   "cell_type": "code",
   "execution_count": 8,
   "metadata": {},
   "outputs": [
    {
     "name": "stdout",
     "output_type": "stream",
     "text": [
      "['Hello!', 180, False, [1, 2, 3, 1, 2, 3], {'key': 'value', 'newkey': None}]\n"
     ]
    }
   ],
   "source": [
    "import json\n",
    "with open(\"data1.json\", \"r\", encoding=\"utf-8\") as f, open(\"up1.json\", \"w\", encoding=\"utf-8\") as w:\n",
    "    data = json.load(f)\n",
    "    res = []\n",
    "    for i in data:\n",
    "        if type(i) is str:\n",
    "            res.append(i+\"!\")\n",
    "        elif type(i) is bool:\n",
    "            if i is True:\n",
    "                res.append(False)\n",
    "            else:\n",
    "                res.append(True)\n",
    "        elif type(i) is int or type(i) is float:\n",
    "            res.append(i + 1)\n",
    "        elif type(i) is list:\n",
    "            res.append(i*2)\n",
    "        elif type(i) is dict:\n",
    "            i.update({\"newkey\": None}) \n",
    "            res.append(i)\n",
    "    print(res)\n",
    "    json.dump(res, w)"
   ]
  },
  {
   "cell_type": "code",
   "execution_count": 12,
   "metadata": {},
   "outputs": [],
   "source": [
    "import json\n",
    "with open(\"people.json\", \"r\", encoding=\"utf-8\") as f, open(\"updated_people.json\", \"w\", encoding=\"utf-8\") as w:\n",
    "    date = json.load(f)\n",
    "    l = []\n",
    "    for d in date:\n",
    "        if len(d) > len(l):\n",
    "            l = list(d.keys())\n",
    "    new_d = {k:None for k in l}\n",
    "    res = []\n",
    "    for i in date:\n",
    "        res.append(new_d | i)\n",
    "    json.dump(res,w,indent=3)"
   ]
  },
  {
   "cell_type": "code",
   "execution_count": 11,
   "metadata": {},
   "outputs": [
    {
     "data": {
      "text/plain": [
       "{'age': 33,\n",
       " 'country': 'Lesotho',\n",
       " 'name': None,\n",
       " 'university': None,\n",
       " 'children': None,\n",
       " 'email': 'neonatus@outlook.com',\n",
       " 'family_status': 'married',\n",
       " 'phone': '(927) 316-2249'}"
      ]
     },
     "execution_count": 11,
     "metadata": {},
     "output_type": "execute_result"
    }
   ],
   "source": [
    "new_d | date[0]"
   ]
  },
  {
   "cell_type": "code",
   "execution_count": 13,
   "metadata": {},
   "outputs": [],
   "source": [
    "# ObjectName;AdmArea;District;Address\n",
    "import csv\n",
    "import json\n",
    "with open(\"playgrounds.csv\", \"r\", encoding=\"utf-8\") as f, open(\"addresses.json\", \"w\", encoding=\"utf-8\") as w:\n",
    "    rows = csv.reader(f, delimiter=';')\n",
    "    next(rows)\n",
    "    d = {}\n",
    "    for _,adm,dis,add in rows:\n",
    "        d.setdefault(adm,{}).setdefault(dis,[]).append(add)\n",
    "    json.dump(d,w,indent=3,ensure_ascii=False)"
   ]
  },
  {
   "cell_type": "code",
   "execution_count": 14,
   "metadata": {},
   "outputs": [
    {
     "name": "stdout",
     "output_type": "stream",
     "text": [
      "{\n",
      "   \"Северо-Восточный административный округ\": {\n",
      "      \"район Лианозово\": [\n",
      "         \"Угличская улица, дом 13\",\n",
      "         \"Алтуфьевское шоссе, дом 147А\"\n",
      "      ],\n",
      "      \"район Отрадное\": [\n",
      "         \"Алтуфьевское шоссе, дом 20А\",\n",
      "         \"Юрловский проезд, дом 8, строение 1\",\n",
      "         \"Юрловский проезд, дом 8, строение 1\"\n",
      "      ],\n",
      "      \"Алексеевский район\": [\n",
      "         \"Ракетный бульвар, дом 8\"\n",
      "      ],\n",
      "      \"район Северное Медведково\": [\n",
      "         \"Олонецкий проезд, дом 20\"\n",
      "      ],\n",
      "      \"Бабушкинский район\": [\n",
      "         \"Олонецкий проезд, дом 20\",\n",
      "         \"Осташковская улица, дом 14, строение 3\"\n",
      "      ],\n",
      "      \"район Южное Медведково\": [\n",
      "         \"Олонецкий проезд, дом 20\"\n",
      "      ],\n",
      "      \"район Ростокино\": [\n",
      "         \"улица Бажова, дом 2\",\n",
      "         \"проспект Мира, дом 161\"\n",
      "      ],\n",
      "      \"Останкинский район\": [\n",
      "         \"проспект Мира, дом 119, строение 6\"\n",
      "      ],\n",
      "      \"Бутырский район\": [\n",
      "         \"улица Руставели, дом 7, строение 1\"\n",
      "      ],\n",
      "      \"район Бибирево\": [\n",
      "         \"Белозерская улица, дом 23\"\n",
      "      ],\n",
      "      \"Лосиноостровский район\": [\n",
      "         \"улица Менжинского, дом 6\"\n",
      "      ]\n",
      "   },\n",
      "   \"Троицкий административный округ\": {\n",
      "      \"поселение Краснопахорское\": [\n",
      "         \"село Былово, дом 3\",\n",
      "         \"улица Лазо, дом 4, корпус 2\"\n",
      "      ],\n",
      "      \"поселение Новофедоровское\": [\n",
      "         \"деревня Яковлевское, дом 17\"\n",
      "      ]\n",
      "   },\n",
      "   \"Восточный административный округ\": {\n",
      "      \"район Вешняки\": [\n",
      "         \"Вешняковская улица, дом 16\"\n",
      "      ],\n",
      "      \"район Гольяново\": [\n",
      "         \"Алтайская улица, дом 4\"\n",
      "      ],\n",
      "      \"район Восточное Измайлово\": [\n",
      "         \"16-я Парковая улица, дом 4\",\n",
      "         \"Измайловский бульвар, дом 60/10\",\n",
      "         \"Сиреневый бульвар, дом 40, корпус 2\"\n",
      "      ],\n",
      "      \"район Ивановское\": [\n",
      "         \"улица Сталеваров, дом 4, корпус 4\",\n",
      "         \"Измайловский проспект, владение 54\",\n",
      "         \"улица Металлургов, дом 52\",\n",
      "         \"улица Металлургов, дом 41, строение 1\"\n",
      "      ],\n",
      "      \"район Преображенское\": [\n",
      "         \"Большая Черкизовская улица, владение 125, строение 1\",\n",
      "         \"Большая Черкизовская улица, дом 125, строение 11\"\n",
      "      ],\n",
      "      \"район Косино-Ухтомский\": [\n",
      "         \"Оранжерейная улица, владение 24, строение 1\"\n",
      "      ],\n",
      "      \"район Сокольники\": [\n",
      "         \"1-й Лучевой просек, дом 5\"\n",
      "      ],\n",
      "      \"район Измайлово\": [\n",
      "         \"Измайловский проезд, дом 3, корпус 1\",\n",
      "         \"Измайловский проспект, владение 54\"\n",
      "      ]\n",
      "   },\n",
      "   \"Южный административный округ\": {\n",
      "      \"район Бирюлёво Восточное\": [\n",
      "         \"Дольская улица, дом 1\",\n",
      "         \"Загорьевский проезд, дом 4\",\n",
      "         \"Липецкая улица, дом 26\",\n",
      "         \"Липецкая улица, дом 10, корпус 2\"\n",
      "      ],\n",
      "      \"район Братеево\": [\n",
      "         \"улица Борисовские Пруды, дом 8, корпус 1\",\n",
      "         \"Братеевская улица, владение 4, корпус 1\"\n",
      "      ],\n",
      "      \"Донской район\": [\n",
      "         \"Загородное шоссе, дом 2, сооружение 1\"\n",
      "      ],\n",
      "      \"район Чертаново Центральное\": [\n",
      "         \"Кировоградская улица, дом 19, корпус 1\",\n",
      "         \"Новоясеневский тупик, дом 1, строение 2\"\n",
      "      ],\n",
      "      \"район Чертаново Южное\": [\n",
      "         \"Кировоградская улица, дом 21, корпус 1, строение 2\"\n",
      "      ],\n",
      "      \"район Нагатино-Садовники\": [\n",
      "         \"проспект Андропова, дом 58А\"\n",
      "      ],\n",
      "      \"район Москворечье-Сабурово\": [\n",
      "         \"улица Борисовские Пруды, дом 1, строение 15А\"\n",
      "      ],\n",
      "      \"район Орехово-Борисово Северное\": [\n",
      "         \"улица Маршала Захарова, дом 6, корпус 1\"\n",
      "      ]\n",
      "   },\n",
      "   \"Северный административный округ\": {\n",
      "      \"Головинский район\": [\n",
      "         \"1-й Лихачёвский переулок, дом 4, корпус 2А\",\n",
      "         \"Кронштадтский бульвар, дом 39, корпус 1\"\n",
      "      ],\n",
      "      \"Хорошёвский район\": [\n",
      "         \"улица Куусинена, дом 15, корпус 3\",\n",
      "         \"Ленинградский проспект, дом 59\"\n",
      "      ],\n",
      "      \"Дмитровский район\": [\n",
      "         \"Ангарская улица, дом 53, корпус 1\"\n",
      "      ],\n",
      "      \"Тимирязевский район\": [\n",
      "         \"улица Дубки, дом 6\"\n",
      "      ],\n",
      "      \"район Восточное Дегунино\": [\n",
      "         \"Керамический проезд, дом 65, корпус 1\"\n",
      "      ]\n",
      "   },\n",
      "   \"Северо-Западный административный округ\": {\n",
      "      \"район Покровское-Стрешнево\": [\n",
      "         \"Иваньковское шоссе, дом 6\"\n",
      "      ],\n",
      "      \"район Щукино\": [\n",
      "         \"Сосновая улица, дом 3, строение 2\"\n",
      "      ],\n",
      "      \"район Строгино\": [\n",
      "         \"Неманский проезд, дом 9\",\n",
      "         \"улица Исаковского, дом 24, корпус 1\"\n",
      "      ],\n",
      "      \"район Северное Тушино\": [\n",
      "         \"улица Свободы, дом 56\"\n",
      "      ]\n",
      "   },\n",
      "   \"Центральный административный округ\": {\n",
      "      \"Басманный район\": [\n",
      "         \"улица Покровка, дом 48, строение 1\",\n",
      "         \"Большой Спасоглинищевский переулок, дом 9, строение 7\"\n",
      "      ],\n",
      "      \"Мещанский район\": [\n",
      "         \"улица Сущёвский Вал, дом 56, строение 2\"\n",
      "      ]\n",
      "   },\n",
      "   \"Новомосковский административный округ\": {\n",
      "      \"поселение Марушкинское\": [\n",
      "         \"деревня Марушкино, улица Липовая Аллея, дом 5\"\n",
      "      ]\n",
      "   },\n",
      "   \"Западный административный округ\": {\n",
      "      \"район Тропарёво-Никулино\": [\n",
      "         \"проспект Вернадского, дом 86Д\",\n",
      "         \"улица Лобачевского, владение 3\",\n",
      "         \"проспект Вернадского, дом 89\",\n",
      "         \"улица Мичуринский Проспект, Олимпийская Деревня, дом 16, корпус 2\",\n",
      "         \"улица 26-ти Бакинских Комиссаров, дом 4, корпус 4\"\n",
      "      ],\n",
      "      \"район Крылатское\": [\n",
      "         \"Крылатская улица, дом 28\",\n",
      "         \"Крылатская улица, дом 16\"\n",
      "      ],\n",
      "      \"район Фили-Давыдково\": [\n",
      "         \"Кременчугская улица, дом 36\"\n",
      "      ],\n",
      "      \"район Ново-Переделкино\": [\n",
      "         \"Чоботовская улица, дом 4\"\n",
      "      ],\n",
      "      \"район Солнцево\": [\n",
      "         \"улица Богданова, дом 6\"\n",
      "      ],\n",
      "      \"район Кунцево\": [\n",
      "         \"улица Василия Ботылева, дом 41\"\n",
      "      ],\n",
      "      \"район Дорогомилово\": [\n",
      "         \"улица Братьев Фонченко, дом 7\"\n",
      "      ],\n",
      "      \"район Проспект Вернадского\": [\n",
      "         \"улица Удальцова, дом 22, корпус 2\"\n",
      "      ],\n",
      "      \"район Филёвский Парк\": [\n",
      "         \"Большая Филёвская улица, дом 22, строение 2\"\n",
      "      ],\n",
      "      \"Можайский район\": [\n",
      "         \"улица Гришина, дом 8, корпус 3\"\n",
      "      ]\n",
      "   },\n",
      "   \"Юго-Восточный административный округ\": {\n",
      "      \"Южнопортовый район\": [\n",
      "         \"2-й Южнопортовый проезд, дом 15\"\n",
      "      ],\n",
      "      \"район Выхино-Жулебино\": [\n",
      "         \"улица Заречье, владение 14\",\n",
      "         \"Привольный проезд, дом 12\"\n",
      "      ],\n",
      "      \"район Печатники\": [\n",
      "         \"улица Гурьянова, дом 83, строение 13\"\n",
      "      ],\n",
      "      \"район Марьино\": [\n",
      "         \"улица Верхние Поля, дом 8\",\n",
      "         \"Поречная улица, дом 13, корпус 1\",\n",
      "         \"улица Перерва, дом 41, корпус 1\"\n",
      "      ],\n",
      "      \"район Капотня\": [\n",
      "         \"3-й квартал Капотня, дом 3\"\n",
      "      ],\n",
      "      \"район Текстильщики\": [\n",
      "         \"улица Шкулёва, дом 2А, строение 1\"\n",
      "      ],\n",
      "      \"район Люблино\": [\n",
      "         \"Краснодарская улица, дом 48\"\n",
      "      ]\n",
      "   },\n",
      "   \"Юго-Западный административный округ\": {\n",
      "      \"район Южное Бутово\": [\n",
      "         \"улица Адмирала Лазарева, владение 17, строение 2\"\n",
      "      ],\n",
      "      \"Обручевский район\": [\n",
      "         \"улица 26-ти Бакинских Комиссаров, дом 4, корпус 4\",\n",
      "         \"улица Миклухо-Маклая, дом 9\"\n",
      "      ],\n",
      "      \"район Северное Бутово\": [\n",
      "         \"улица Инессы Арманд, дом 13\"\n",
      "      ],\n",
      "      \"район Зюзино\": [\n",
      "         \"улица Каховка, дом 9, корпус 2\"\n",
      "      ],\n",
      "      \"район Ясенево\": [\n",
      "         \"улица Миклухо-Маклая, дом 65, корпус 1\"\n",
      "      ],\n",
      "      \"район Тёплый Стан\": [\n",
      "         \"улица Академика Виноградова, дом 12\"\n",
      "      ]\n",
      "   }\n",
      "}\n"
     ]
    }
   ],
   "source": [
    "print(a)"
   ]
  },
  {
   "cell_type": "code",
   "execution_count": 20,
   "metadata": {},
   "outputs": [
    {
     "name": "stdout",
     "output_type": "stream",
     "text": [
      "1900-01-01 10:00:00 1900-01-01 12:59:00\n",
      "True\n"
     ]
    }
   ],
   "source": [
    "from datetime import *\n",
    "import json\n",
    "s,e = [datetime.strptime(el,\"%H:%M\") for el in \"10:00-12:59\".split(\"-\")]\n",
    "ns,ne = datetime.strptime(\"10:00\",\"%H:%M\"),datetime.strptime(\"12:00\",\"%H:%M\")\n",
    "print(s,e)\n",
    "print(s <= ns and e >= ne)"
   ]
  },
  {
   "cell_type": "code",
   "execution_count": 17,
   "metadata": {},
   "outputs": [],
   "source": [
    "import json\n",
    "import csv\n",
    "from datetime import *\n",
    "with open(\"exam_results.csv\", \"r\", encoding=\"utf-8\") as f, open(\"best_scores.json\", \"w\", encoding=\"utf-8\") as w:\n",
    "    rows = csv.DictReader(f)\n",
    "    d = {}\n",
    "    for i in rows:\n",
    "        d.setdefault(i[\"email\"],[]).append(i | {\"best_score\":int(i.pop(\"score\")),\"date_and_time\":i.pop(\"date_and_time\"),\"email\":i.pop(\"email\")})\n",
    "    res = [max(d[i],key= lambda x: (x[\"best_score\"], datetime.strptime(x[\"date_and_time\"],\"%Y-%m-%d %H:%M:%S\"))) for i in sorted(d)]\n",
    "    json.dump(res,w,indent=3)"
   ]
  },
  {
   "cell_type": "code",
   "execution_count": 3,
   "metadata": {},
   "outputs": [
    {
     "name": "stdout",
     "output_type": "stream",
     "text": [
      "Тверской район: 963\n",
      "KFC: 230\n"
     ]
    }
   ],
   "source": [
    "import json\n",
    "with open(\"food_services.json\", \"r\", encoding=\"utf-8\") as f:\n",
    "    rain = {}\n",
    "    seti = {}\n",
    "    data = json.load(f)\n",
    "    for el in data:\n",
    "        rain[el[\"District\"]] = rain.get(el[\"District\"],0) + 1\n",
    "        if el[\"IsNetObject\"] == \"да\":\n",
    "            seti[el[\"OperatingCompany\"]] = seti.get(el[\"OperatingCompany\"],0) + 1\n",
    "    m_r = max(rain, key = lambda x: rain[x]) \n",
    "    m_s = max(seti, key = lambda x: seti[x]) \n",
    "    print(f\"{m_r}: {rain[m_r]}\")\n",
    "    print(f\"{m_s}: {seti[m_s]}\")\n"
   ]
  }
 ],
 "metadata": {
  "kernelspec": {
   "display_name": "Python 3",
   "language": "python",
   "name": "python3"
  },
  "language_info": {
   "codemirror_mode": {
    "name": "ipython",
    "version": 3
   },
   "file_extension": ".py",
   "mimetype": "text/x-python",
   "name": "python",
   "nbconvert_exporter": "python",
   "pygments_lexer": "ipython3",
   "version": "3.9.13"
  }
 },
 "nbformat": 4,
 "nbformat_minor": 2
}
