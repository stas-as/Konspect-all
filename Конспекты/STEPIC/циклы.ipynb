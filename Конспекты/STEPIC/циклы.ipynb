{
 "cells": [
  {
   "cell_type": "markdown",
   "metadata": {},
   "source": [
    "12x+13y=777.\n",
    "28n+30k+31m=365."
   ]
  },
  {
   "cell_type": "code",
   "execution_count": 1,
   "metadata": {},
   "outputs": [
    {
     "name": "stdout",
     "output_type": "stream",
     "text": [
      "x = 3 y = 57\n",
      "x = 16 y = 45\n",
      "x = 29 y = 33\n",
      "x = 42 y = 21\n",
      "x = 55 y = 9\n",
      "Общее количество натуральных решений = 5\n"
     ]
    }
   ],
   "source": [
    "total = 0\n",
    "for x in range(1, 65):\n",
    "    for y in range(1, 60):\n",
    "        if 12 * x + 13 * y == 777:\n",
    "            total += 1\n",
    "            print('x =', x, 'y =', y)\n",
    "print('Общее количество натуральных решений =', total)"
   ]
  },
  {
   "cell_type": "code",
   "execution_count": null,
   "metadata": {},
   "outputs": [],
   "source": [
    "def rechen(a,b,c,s):\n",
    "    total = 0\n",
    "    x_max = int(s/a)\n",
    "    y_max = int(s/b)\n",
    "    m_max = int(s/c)\n",
    "    for x in range(1, x_max):\n",
    "        for y in range(1, y_max):\n",
    "            for m in range(1, m_max):\n",
    "                if a * x + b * y + m * c  == s:\n",
    "                    total += 1\n",
    "                    print('x =', x, 'y =', y, 'm =', m )\n",
    "    print('Общее количество натуральных решений =', total)\n",
    "\n",
    "rechen(28,30,31,365)"
   ]
  },
  {
   "cell_type": "code",
   "execution_count": 5,
   "metadata": {},
   "outputs": [
    {
     "data": {
      "text/plain": [
       "'for a in range(1, 151):\\n    for b in range(a + 1, 151):\\n        for c in range(b + 1, 151):\\n            for d in range(c + 1, 151):\\n                e = int(((a ** 5) + (b ** 5) + (c ** 5) + (d ** 5)) ** 0.2)\\n                if e ** 5 == int((a ** 5) + (b ** 5) + (c ** 5) + (d ** 5)):\\n                    print(a + b + c + d + e)'"
      ]
     },
     "execution_count": 5,
     "metadata": {},
     "output_type": "execute_result"
    }
   ],
   "source": [
    "\"\"\"for a in range(1, 151):\n",
    "    for b in range(a + 1, 151):\n",
    "        for c in range(b + 1, 151):\n",
    "            for d in range(c + 1, 151):\n",
    "                e = int(((a ** 5) + (b ** 5) + (c ** 5) + (d ** 5)) ** 0.2)\n",
    "                if e ** 5 == int((a ** 5) + (b ** 5) + (c ** 5) + (d ** 5)):\n",
    "                    print(a + b + c + d + e)\"\"\""
   ]
  },
  {
   "cell_type": "code",
   "execution_count": null,
   "metadata": {},
   "outputs": [],
   "source": [
    "\"\"\"Численный треугольник 2\n",
    "Дано натуральное число \n",
    "�\n",
    "n. Напишите программу, которая печатает численный треугольник с высотой равной \n",
    "�\n",
    "n, в соответствии с примером:\"\"\"\n",
    "\"\"\"\n",
    "1\n",
    "2 3\n",
    "4 5 6\n",
    "7 8 9 10\n",
    "11 12 13 14 15\n",
    "16 17 18 19 20 21\n",
    "\"\"\""
   ]
  },
  {
   "cell_type": "code",
   "execution_count": 11,
   "metadata": {},
   "outputs": [
    {
     "name": "stdout",
     "output_type": "stream",
     "text": [
      "\n",
      "1 \n",
      "2 3 \n",
      "4 5 6 \n",
      "7 8 9 10 \n",
      "11 12 13 14 15 \n"
     ]
    }
   ],
   "source": [
    "a = int(input())\n",
    "count = 0\n",
    "for i in range(a+1):\n",
    "    for j in range(i):\n",
    "        count+=1\n",
    "        print(count,end=\" \")\n",
    "    print()"
   ]
  },
  {
   "cell_type": "markdown",
   "metadata": {},
   "source": [
    "Численный треугольник 3\n",
    "- Дано натуральное число \n",
    "- n. Напишите программу, которая печатает численный треугольник с высотой равной \n",
    "- n, в соответствии с примером:"
   ]
  },
  {
   "cell_type": "code",
   "execution_count": 12,
   "metadata": {},
   "outputs": [
    {
     "data": {
      "text/plain": [
       "''"
      ]
     },
     "execution_count": 12,
     "metadata": {},
     "output_type": "execute_result"
    }
   ],
   "source": [
    "\"\"\"\n",
    "1\n",
    "121\n",
    "12321\n",
    "1234321\n",
    "123454321\n",
    "...\"\"\"\n",
    "\n"
   ]
  },
  {
   "cell_type": "code",
   "execution_count": 18,
   "metadata": {},
   "outputs": [
    {
     "name": "stdout",
     "output_type": "stream",
     "text": [
      "\n",
      "1\n",
      "121\n",
      "12321\n",
      "1234321\n"
     ]
    }
   ],
   "source": [
    "a = int(input())\n",
    "for i in range(a+1):\n",
    "    count = 0\n",
    "    for j in range(i):\n",
    "        count+=1\n",
    "        print(count,end=\"\")\n",
    "        if j+1 == i:\n",
    "            while count != 1:\n",
    "                count-=1\n",
    "                print(count,end=\"\")\n",
    "    print()"
   ]
  },
  {
   "cell_type": "code",
   "execution_count": 14,
   "metadata": {},
   "outputs": [
    {
     "name": "stdout",
     "output_type": "stream",
     "text": [
      "70 144\n"
     ]
    }
   ],
   "source": [
    "a = int(input())\n",
    "b = int(input())\n",
    "max_num = [0,0]\n",
    "\n",
    "for i in range(a,b+1):\n",
    "    num_cel = list()\n",
    "    for j in range(i,0,-1):\n",
    "        if i % j == 0:\n",
    "            num_cel.append(j)\n",
    "#            print(j,end=\" \")\n",
    "            if sum(num_cel) >= max_num[1]:\n",
    "                max_num[0] =  i\n",
    "                max_num[1] =  sum(num_cel)\n",
    "\n",
    "print(max_num[0],max_num[1])"
   ]
  },
  {
   "cell_type": "markdown",
   "metadata": {},
   "source": [
    "Делители-2\n",
    "На вход программе подается натуральное число \n",
    "\n",
    "n. Напишите программу, выводящую графическое изображение делимости чисел от \n",
    "1\n",
    "1 до \n",
    "n включительно. В каждой строке надо напечатать очередное число и столько символов «+», сколько делителей у этого числа.\n",
    "\n",
    "Формат входных данных\n",
    "На вход программе подается одно натуральное число.\n",
    "\n",
    "Формат выходных данных\n",
    "Программа должна вывести графическое изображение чисел от \n",
    "1\n",
    "1 до \n",
    "�\n",
    "n, каждое на отдельной строке."
   ]
  },
  {
   "cell_type": "code",
   "execution_count": 15,
   "metadata": {},
   "outputs": [
    {
     "name": "stdout",
     "output_type": "stream",
     "text": [
      "1+\n",
      "2++\n",
      "3++\n",
      "4+++\n",
      "5++\n"
     ]
    }
   ],
   "source": [
    "n = int(input())\n",
    "max_num = [0,0]\n",
    "\n",
    "for i in range(1,n+1):\n",
    "    print(i,end=\"\")\n",
    "    for j in range(i,0,-1):\n",
    "        if i % j == 0:\n",
    "            print(\"+\",end=\"\")\n",
    "    print()"
   ]
  },
  {
   "cell_type": "markdown",
   "metadata": {},
   "source": [
    "### <center> Цифровой корень\n",
    "На вход программе подается натуральное число \n",
    "�\n",
    "n. Напишите программу, которая находит цифровой корень данного числа. Цифровой корень числа \n",
    "�\n",
    "n получается следующим образом: если сложить все цифры этого числа, затем все цифры найденной суммы и повторять этот процесс до тех пор, пока в результате не будет получено однозначное число (цифра), которое и называется цифровым корнем изначального числа.\n",
    "\n",
    "Формат входных данных\n",
    "На вход программе подается одно натуральное число.\n",
    "\n",
    "Формат выходных данных\n",
    "Программа должна вывести цифровой корень введенного числа.\n",
    "\n",
    "Примечание. Используйте вложенные циклы while."
   ]
  },
  {
   "cell_type": "code",
   "execution_count": 17,
   "metadata": {},
   "outputs": [
    {
     "ename": "SyntaxError",
     "evalue": "invalid syntax (4206840727.py, line 8)",
     "output_type": "error",
     "traceback": [
      "\u001b[1;36m  Cell \u001b[1;32mIn[17], line 8\u001b[1;36m\u001b[0m\n\u001b[1;33m    n =\u001b[0m\n\u001b[1;37m        ^\u001b[0m\n\u001b[1;31mSyntaxError\u001b[0m\u001b[1;31m:\u001b[0m invalid syntax\n"
     ]
    }
   ],
   "source": [
    "n = int(input())\n",
    "\n",
    "while n // 10 != 0:\n",
    "    sumers = n\n",
    "    n = 0\n",
    "    while sumers // 10 != 0:\n",
    "        num = sumers // 10\n",
    "        n = \n",
    "\n",
    "\n",
    "print(n)"
   ]
  },
  {
   "cell_type": "code",
   "execution_count": 3,
   "metadata": {},
   "outputs": [
    {
     "name": "stdout",
     "output_type": "stream",
     "text": [
      "0\n"
     ]
    }
   ],
   "source": [
    "n=0\n",
    "sumers = 6\n",
    "while sumers // 10 != 0:\n",
    "        if\n",
    "        while True:\n",
    "                num = sumers % 10\n",
    "                sumers = sumers // 10\n",
    "                n += num\n",
    "                if sumers // 100 == 0:\n",
    "                        a = sumers % 10\n",
    "                        b = sumers // 10\n",
    "                        n += a\n",
    "                        break\n",
    "        sumers = n               \n",
    "                \n",
    "print(n)"
   ]
  },
  {
   "cell_type": "markdown",
   "metadata": {},
   "source": [
    "![Alt text](image.png)"
   ]
  },
  {
   "cell_type": "code",
   "execution_count": 6,
   "metadata": {},
   "outputs": [
    {
     "name": "stdout",
     "output_type": "stream",
     "text": [
      "3\n"
     ]
    }
   ],
   "source": [
    "n = int(input())\n",
    "while n > 9:\n",
    "        sum = 0\n",
    "        while n > 0 :\n",
    "                last_digit = n % 10 \n",
    "                sum += last_digit\n",
    "                n = n // 10\n",
    "        n = sum\n",
    "print(n)"
   ]
  },
  {
   "cell_type": "code",
   "execution_count": 3,
   "metadata": {},
   "outputs": [
    {
     "name": "stdout",
     "output_type": "stream",
     "text": [
      "9\n"
     ]
    }
   ],
   "source": [
    "n = int(input())\n",
    "sum = 0\n",
    "while n > 0 :\n",
    "    j = n\n",
    "    last_fac = 1\n",
    "    while j > 1:    \n",
    "        last_fac = last_fac * j\n",
    "        j = j - 1\n",
    "    sum += last_fac\n",
    "    n = n -1\n",
    "print(sum)"
   ]
  },
  {
   "cell_type": "code",
   "execution_count": null,
   "metadata": {},
   "outputs": [],
   "source": [
    "a = int(input())\n",
    "b = int(input())\n",
    "delitel = [2,3,5,7]\n",
    "for i in range(a,b+1):\n",
    "    triger = 0 \n",
    "    if i < 10:\n",
    "        if i in delitel:\n",
    "            print(i)\n",
    "            continue\n",
    "        continue\n",
    "    for j in delitel:\n",
    "        if i % j == 0:\n",
    "            triger += 1\n",
    "    for k in range(11,i):\n",
    "        if i % k == 0:\n",
    "            triger += 1\n",
    "            continue\n",
    "    if triger == 0:     \n",
    "        print(i)  "
   ]
  },
  {
   "cell_type": "code",
   "execution_count": 45,
   "metadata": {},
   "outputs": [],
   "source": [
    "a = int(input())\n",
    "b = int(input())\n",
    "iters = list()\n",
    "delitel = [2,3,5,7]\n",
    "for i in range(a,b+1):\n",
    "    triger = 0 \n",
    "    if i < 10:\n",
    "        if i in delitel:\n",
    "            iters.append(i)\n",
    "            continue\n",
    "        continue\n",
    "    for j in delitel:\n",
    "        if i % j == 0:\n",
    "            triger += 1\n",
    "    for k in range(11,i):\n",
    "        if i % k == 0:\n",
    "            triger += 1\n",
    "            continue\n",
    "    if triger == 0:     \n",
    "        iters.append(i)"
   ]
  },
  {
   "cell_type": "code",
   "execution_count": 46,
   "metadata": {},
   "outputs": [
    {
     "name": "stdout",
     "output_type": "stream",
     "text": [
      "493\n",
      "329\n",
      "197\n",
      "141\n"
     ]
    },
    {
     "data": {
      "text/plain": [
       "987"
      ]
     },
     "execution_count": 46,
     "metadata": {},
     "output_type": "execute_result"
    }
   ],
   "source": [
    "for j in delitel:\n",
    "        if i // j == 0:\n",
    "            triger += 1\n",
    "        print(i // j)\n",
    "432\n",
    "987"
   ]
  },
  {
   "cell_type": "code",
   "execution_count": 47,
   "metadata": {},
   "outputs": [],
   "source": [
    "#lers = [433,439,443,449,457,461,463,467,479,487,491,499,503,509,521,523,541,547,557,563,569,571,577,587,593,599,601,607,613,617,619,631,641,643,647,653,659,661,673,677,683,691,701,709,719,727,733,739,743,751,757,761,769,773,787,797,809,811,821,823,827,829,839,853,857,859,863,877,881,883,887,907,911,919,929,937,941,947,953,967,971,977,983]\n",
    "#iters =[433,437,439,443,449, 451, 457, 461, 463, 467, 473, 479, 481, 487, 491, 493, 499, 503, 509, 517, 521, 523, 527, 529, 533, 541, 547, 551, 557, 559, 563, 569, 571, 577, 583, 587, 589, 593, 599, 601, 607, 611, 613, 617, 619, 629, 631, 641, 643, 647, 649, 653, 659, 661, 667, 671, 673, 677, 683, 689, 691, 697, 701, 703, 709, 713, 719, 727, 731, 733, 737, 739, 743, 751, 757, 761, 767, 769, 773, 779, 781, 787, 793, 797, 799, 803, 809, 811, 817, 821, 823, 827, 829, 839, 841, 851, 853, 857, 859, 863, 869, 871, 877, 881, 883, 887, 893, 899, 901, 907, 911, 913, 919, 923, 929, 937, 941, 943, 947, 949, 953, 961, 967, 971, 977, 979, 983]"
   ]
  },
  {
   "cell_type": "code",
   "execution_count": 48,
   "metadata": {},
   "outputs": [
    {
     "name": "stdout",
     "output_type": "stream",
     "text": [
      "83\n",
      "83\n"
     ]
    }
   ],
   "source": [
    "print(len(iters))\n",
    "print(len(lers))"
   ]
  },
  {
   "cell_type": "code",
   "execution_count": 1,
   "metadata": {},
   "outputs": [
    {
     "name": "stdout",
     "output_type": "stream",
     "text": [
      "051217"
     ]
    }
   ],
   "source": [
    "s = '01234567891011121314151617'\n",
    "for i in range(0, len(s), 5):\n",
    "    print(s[i], end='')"
   ]
  },
  {
   "cell_type": "code",
   "execution_count": 2,
   "metadata": {},
   "outputs": [
    {
     "name": "stdout",
     "output_type": "stream",
     "text": [
      "a\n",
      "c\n",
      "e\n",
      "g\n",
      "i\n",
      "k\n",
      "m\n",
      "o\n"
     ]
    }
   ],
   "source": [
    "a = str(input())\n",
    "lens = len(a)\n",
    "for i in range(0,lens,2):\n",
    "    print(a[i])"
   ]
  },
  {
   "cell_type": "code",
   "execution_count": 8,
   "metadata": {},
   "outputs": [
    {
     "name": "stdout",
     "output_type": "stream",
     "text": [
      "e\n",
      "d\n",
      "c\n",
      "b\n",
      "a\n"
     ]
    }
   ],
   "source": [
    "a = str(input())\n",
    "lens = len(a)\n",
    "for i in range(lens-1,-1,-1):\n",
    "    print(a[i])"
   ]
  },
  {
   "cell_type": "code",
   "execution_count": 10,
   "metadata": {},
   "outputs": [
    {
     "name": "stdout",
     "output_type": "stream",
     "text": [
      "Цифр нет\n",
      "Цифр нет\n",
      "Цифр нет\n",
      "Цифр нет\n",
      "Цифр нет\n",
      "Цифр нет\n",
      "Цифра\n",
      "Цифра\n",
      "Цифра\n"
     ]
    }
   ],
   "source": [
    "# put your python code here\n",
    "a = str(input())\n",
    "for i in a:\n",
    "    if i in \"0123456789\":\n",
    "        print(\"Цифра\")\n",
    "    else:\n",
    "        print(\"Цифр нет\")"
   ]
  },
  {
   "cell_type": "code",
   "execution_count": 1,
   "metadata": {},
   "outputs": [
    {
     "name": "stdout",
     "output_type": "stream",
     "text": [
      "Символ + встречается 3 раз\n",
      "Символ * встречается 4 раз\n"
     ]
    }
   ],
   "source": [
    "a = str(input())\n",
    "pls_sum = 0\n",
    "zvd_sum = 0\n",
    "for i in a:\n",
    "    if i == \"+\":\n",
    "        pls_sum +=1\n",
    "    if i == \"*\":\n",
    "        zvd_sum +=1\n",
    "print(f\"Символ + встречается {pls_sum} раз\")\n",
    "print(f\"Символ * встречается {zvd_sum} раз\")\n"
   ]
  },
  {
   "cell_type": "code",
   "execution_count": 3,
   "metadata": {},
   "outputs": [
    {
     "name": "stdout",
     "output_type": "stream",
     "text": [
      "3\n"
     ]
    }
   ],
   "source": [
    "a = str(input())\n",
    "counter = 0\n",
    "for i in range(0,len(a)-1):\n",
    "    if a[i] == a[i+1]:\n",
    "        counter +=1\n",
    "print(counter)"
   ]
  },
  {
   "cell_type": "code",
   "execution_count": 7,
   "metadata": {},
   "outputs": [
    {
     "name": "stdout",
     "output_type": "stream",
     "text": [
      "Количество гласных букв равно 17\n",
      "Количество согласных букв равно 23\n"
     ]
    }
   ],
   "source": [
    "a = str(input())\n",
    "gl_sum = 0\n",
    "sogl_sum = 0\n",
    "for i in a:\n",
    "    if i in \"аАуУоОыЫиИэЭяЯюЮёЁеЕ\":\n",
    "        gl_sum +=1\n",
    "    if i in \"бБвВгГдДжЖзЗйЙкКлЛмМнНпПрРсСтТфФхХцЦчЧшШщЩ\":\n",
    "        sogl_sum +=1\n",
    "print(f\"Количество гласных букв равно {gl_sum}\")\n",
    "print(f\"Количество согласных букв равно {sogl_sum}\")"
   ]
  },
  {
   "cell_type": "markdown",
   "metadata": {},
   "source": [
    "На вход программе подается натуральное число, записанное в десятичной системе счисления. Напишите программу, которая переводит данное число в двоичную систему счисления.\n",
    "\n",
    "Формат входных данных\n",
    "На вход программе подается одно натуральное число.\n",
    "\n",
    "Формат выходных данных\n",
    "Программа должна вывести число записанное в двоичной системе счисления."
   ]
  },
  {
   "cell_type": "code",
   "execution_count": 8,
   "metadata": {},
   "outputs": [
    {
     "name": "stdout",
     "output_type": "stream",
     "text": [
      "10011\n"
     ]
    }
   ],
   "source": [
    "a = int(input())\n",
    "n = \"\"\n",
    "while a != 0:\n",
    "    n = str(a % 2) + n\n",
    "    a = a//2\n",
    "n = int(n)\n",
    "print(n)"
   ]
  },
  {
   "cell_type": "code",
   "execution_count": 1,
   "metadata": {},
   "outputs": [
    {
     "name": "stdout",
     "output_type": "stream",
     "text": [
      "gda\n"
     ]
    }
   ],
   "source": [
    "s = 'abcdefg'\n",
    "print(s[::-3])"
   ]
  },
  {
   "cell_type": "code",
   "execution_count": 2,
   "metadata": {},
   "outputs": [
    {
     "name": "stdout",
     "output_type": "stream",
     "text": [
      "In 2010, some\n"
     ]
    }
   ],
   "source": [
    "s = \"In 2010, someone paid 10k Bitcoin for two pizzas.\"\n",
    "print(s[:13])"
   ]
  },
  {
   "cell_type": "code",
   "execution_count": 3,
   "metadata": {},
   "outputs": [
    {
     "data": {
      "text/plain": [
       "70"
      ]
     },
     "execution_count": 3,
     "metadata": {},
     "output_type": "execute_result"
    }
   ],
   "source": [
    "s = \"The weak can never forgive. Forgiveness is the attribute of the strong\"\n",
    "len(s)"
   ]
  },
  {
   "cell_type": "code",
   "execution_count": 6,
   "metadata": {},
   "outputs": [
    {
     "name": "stdout",
     "output_type": "stream",
     "text": [
      "26\n",
      "abcdefghijklmnopqrstuvwxyzabcdefghijklmnopqrstuvwxyzabcdefghijklmnopqrstuvwxyz\n",
      "a\n",
      "abc\n",
      "xyz\n",
      "zyxwvutsrqponmlkjihgfedcba\n",
      "bcdefghijklmnopqrstuvwxy\n"
     ]
    }
   ],
   "source": [
    "a = str(input())\n",
    "print(len(a))\n",
    "print(a+a+a)\n",
    "print(a[0])\n",
    "print(a[:3])\n",
    "print(a[-3:])\n",
    "print(a[::-1])\n",
    "print(a[1:-1])"
   ]
  },
  {
   "cell_type": "code",
   "execution_count": 13,
   "metadata": {},
   "outputs": [
    {
     "name": "stdout",
     "output_type": "stream",
     "text": [
      "c\n",
      "s\n",
      "Succe\n",
      "Success is the ability to go from failure to failure without losing your enthusia\n",
      "Scesi h blt og rmfiuet alr ihu oigyu nhsam\n",
      "ucs steaiiyt ofo alr ofiuewtotlsn oretuis\n",
      "msaisuhtne ruoy gnisol tuohtiw eruliaf ot eruliaf morf og ot ytiliba eht si sseccuS\n",
      "mashn uygio uhi rla teuifmr go tlb h isecS\n"
     ]
    }
   ],
   "source": [
    "a = str(input())\n",
    "print(a[2])\n",
    "print(a[-2])\n",
    "print(a[:5])\n",
    "print(a[:-2])\n",
    "print(a[::2])\n",
    "print(a[1::2])\n",
    "print(a[::-1])\n",
    "print(a[::-2])"
   ]
  },
  {
   "cell_type": "markdown",
   "metadata": {},
   "source": [
    "Две половинки\n",
    "На вход программе подается строка текста. Напишите программу, которая разрежет ее на две равные части, переставит их местами и выведет на экран.\n",
    "\n",
    "Формат входных данных\n",
    "На вход программе подается строка текста.\n",
    "\n",
    "Формат выходных данных\n",
    "Программа должна вывести текст в соответствии с условием задачи.\n",
    "\n",
    "Примечание. Если длина строки нечетная, то длина первой части должна быть на один символ больше."
   ]
  },
  {
   "cell_type": "code",
   "execution_count": 21,
   "metadata": {},
   "outputs": [
    {
     "name": "stdout",
     "output_type": "stream",
     "text": [
      "deabc\n"
     ]
    }
   ],
   "source": [
    "a= str(input())\n",
    "l = len(a)\n",
    "if l == 1:\n",
    "    print(a)   \n",
    "elif l % 2 == 0:\n",
    "    print(a[-(l//2):] + a[:(l//2)])\n",
    "elif l % 2 == 1:\n",
    "    print(a[-(l//2):] + a[:(l//2)+1])\n"
   ]
  },
  {
   "cell_type": "code",
   "execution_count": 3,
   "metadata": {},
   "outputs": [
    {
     "name": "stdout",
     "output_type": "stream",
     "text": [
      "10\n",
      "9\n",
      "8\n",
      "7\n",
      "6\n"
     ]
    }
   ],
   "source": [
    "for i in range(10, 5, -1):\n",
    "    print(i)"
   ]
  },
  {
   "cell_type": "code",
   "execution_count": 4,
   "metadata": {},
   "outputs": [
    {
     "name": "stdout",
     "output_type": "stream",
     "text": [
      "Python awesome!\n",
      "Python awesome!\n",
      "Python awesome!\n",
      "Python awesome!\n",
      "Python awesome!\n",
      "Python awesome!\n",
      "Python awesome!\n",
      "Python awesome!\n",
      "Python awesome!\n",
      "Python awesome!\n",
      "Python awesome!\n",
      "Python awesome!\n",
      "Python awesome!\n",
      "Python awesome!\n",
      "Python awesome!\n"
     ]
    }
   ],
   "source": [
    "for i in range(10, 25):\n",
    "    print('Python awesome!')"
   ]
  },
  {
   "cell_type": "code",
   "execution_count": 5,
   "metadata": {},
   "outputs": [
    {
     "name": "stdout",
     "output_type": "stream",
     "text": [
      "2\n",
      "6\n",
      "24\n",
      "120\n",
      "720\n",
      "5040\n",
      "40320\n",
      "362880\n",
      "3628800\n",
      "3628800\n"
     ]
    }
   ],
   "source": [
    "n = int(input())\n",
    "res = 1\n",
    "i = 2\n",
    "while i <= n:\n",
    "    res *= i\n",
    "    print(res)\n",
    "    i += 1\n",
    "print(res)"
   ]
  },
  {
   "cell_type": "code",
   "execution_count": 8,
   "metadata": {},
   "outputs": [
    {
     "name": "stdout",
     "output_type": "stream",
     "text": [
      "0\n"
     ]
    }
   ],
   "source": [
    "n = int(input())#\n",
    "s = 0\n",
    "while n > 10:\n",
    "    if n % 2 == 0: #\n",
    "        s += n % 10 #\n",
    "        print(s)\n",
    "    n //= 10\n",
    "print(s)"
   ]
  },
  {
   "cell_type": "code",
   "execution_count": 12,
   "metadata": {},
   "outputs": [
    {
     "name": "stdout",
     "output_type": "stream",
     "text": [
      "*******************\n",
      "*                 *\n",
      "*                 *\n",
      "*                 *\n",
      "*                 *\n",
      "*******************\n"
     ]
    }
   ],
   "source": [
    "n = 6\n",
    "print(\"*\"*19)\n",
    "for i in range(n-2):\n",
    "    print(\"*\"+\" \"*17+\"*\")\n",
    "print(\"*\"*19)"
   ]
  },
  {
   "cell_type": "markdown",
   "metadata": {},
   "source": [
    "- количество цифр 3 в нем;\n",
    "- сколько раз в нем встречается последняя цифра;\n",
    "- количество четных цифр;\n",
    "- сумму его цифр, больших пяти;\n",
    "- произведение цифр, больших семи (если цифр больших семи нет, то вывести 1, если такая цифра одна, то вывести ее);\n",
    "- сколько раз в нем встречается цифры 0 и 5 (всего суммарно)."
   ]
  },
  {
   "cell_type": "code",
   "execution_count": 16,
   "metadata": {},
   "outputs": [
    {
     "name": "stdout",
     "output_type": "stream",
     "text": [
      "0\n",
      "2\n",
      "1\n",
      "0\n",
      "1\n",
      "2\n"
     ]
    }
   ],
   "source": [
    "a = 255\n",
    "count_three = 0\n",
    "last_digit = a % 10\n",
    "count_last_d = 0\n",
    "count_even = 0\n",
    "sum_num = 0\n",
    "prozved_sev = 1\n",
    "count_zero = 0\n",
    "while a > 0:\n",
    "    n = a % 10\n",
    "    if n == 3:\n",
    "        count_three += 1\n",
    "    if n == last_digit:\n",
    "        count_last_d += 1\n",
    "    if n % 2 == 0:\n",
    "        count_even += 1\n",
    "    if n > 5:\n",
    "        sum_num += n\n",
    "    if n > 7:\n",
    "        prozved_sev *= n\n",
    "    if n == 0 or n == 5:\n",
    "        count_zero += 1\n",
    "    a //= 10\n",
    "    \n",
    "print(count_three)\n",
    "print(count_last_d)\n",
    "print(count_even)\n",
    "print(sum_num)\n",
    "print(prozved_sev)\n",
    "print(count_zero)\n"
   ]
  },
  {
   "cell_type": "code",
   "execution_count": 26,
   "metadata": {},
   "outputs": [
    {
     "name": "stdout",
     "output_type": "stream",
     "text": [
      "[1729, 4104, 13832, 32832, 20683]\n"
     ]
    }
   ],
   "source": [
    "n = 34\n",
    "lister = []\n",
    "for i in range(1,n):\n",
    "    for j in range(1,n):\n",
    "        for k in range(1,n):\n",
    "            for l in range(1,n):\n",
    "                if i in [k,j,l] or j in [i,k,l] or k in [i,j,l]:\n",
    "                    continue\n",
    "                if i**3 + k**3 == l ** 3 + j ** 3:\n",
    "                    if (i ** 3+k ** 3 ) not in lister:    \n",
    "                        lister.append(i ** 3+k ** 3 )\n",
    "                        if len(lister) > 4:\n",
    "                            break\n",
    "print(lister)"
   ]
  },
  {
   "cell_type": "code",
   "execution_count": 1,
   "metadata": {},
   "outputs": [
    {
     "data": {
      "text/plain": [
       "5"
      ]
     },
     "execution_count": 1,
     "metadata": {},
     "output_type": "execute_result"
    }
   ],
   "source": [
    "a = \"20683\"\n",
    "len(a)"
   ]
  }
 ],
 "metadata": {
  "kernelspec": {
   "display_name": "Python 3",
   "language": "python",
   "name": "python3"
  },
  "language_info": {
   "codemirror_mode": {
    "name": "ipython",
    "version": 3
   },
   "file_extension": ".py",
   "mimetype": "text/x-python",
   "name": "python",
   "nbconvert_exporter": "python",
   "pygments_lexer": "ipython3",
   "version": "3.9.13"
  },
  "orig_nbformat": 4
 },
 "nbformat": 4,
 "nbformat_minor": 2
}
