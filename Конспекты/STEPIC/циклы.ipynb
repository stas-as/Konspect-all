{
 "cells": [
  {
   "cell_type": "markdown",
   "metadata": {},
   "source": [
    "12x+13y=777.\n",
    "28n+30k+31m=365."
   ]
  },
  {
   "cell_type": "code",
   "execution_count": 1,
   "metadata": {},
   "outputs": [
    {
     "name": "stdout",
     "output_type": "stream",
     "text": [
      "x = 3 y = 57\n",
      "x = 16 y = 45\n",
      "x = 29 y = 33\n",
      "x = 42 y = 21\n",
      "x = 55 y = 9\n",
      "Общее количество натуральных решений = 5\n"
     ]
    }
   ],
   "source": [
    "total = 0\n",
    "for x in range(1, 65):\n",
    "    for y in range(1, 60):\n",
    "        if 12 * x + 13 * y == 777:\n",
    "            total += 1\n",
    "            print('x =', x, 'y =', y)\n",
    "print('Общее количество натуральных решений =', total)"
   ]
  },
  {
   "cell_type": "code",
   "execution_count": null,
   "metadata": {},
   "outputs": [],
   "source": [
    "def rechen(a,b,c,s):\n",
    "    total = 0\n",
    "    x_max = int(s/a)\n",
    "    y_max = int(s/b)\n",
    "    m_max = int(s/c)\n",
    "    for x in range(1, x_max):\n",
    "        for y in range(1, y_max):\n",
    "            for m in range(1, m_max):\n",
    "                if a * x + b * y + m * c  == s:\n",
    "                    total += 1\n",
    "                    print('x =', x, 'y =', y, 'm =', m )\n",
    "    print('Общее количество натуральных решений =', total)\n",
    "\n",
    "rechen(28,30,31,365)"
   ]
  }
 ],
 "metadata": {
  "kernelspec": {
   "display_name": "Python 3",
   "language": "python",
   "name": "python3"
  },
  "language_info": {
   "codemirror_mode": {
    "name": "ipython",
    "version": 3
   },
   "file_extension": ".py",
   "mimetype": "text/x-python",
   "name": "python",
   "nbconvert_exporter": "python",
   "pygments_lexer": "ipython3",
   "version": "3.9.13"
  },
  "orig_nbformat": 4
 },
 "nbformat": 4,
 "nbformat_minor": 2
}
