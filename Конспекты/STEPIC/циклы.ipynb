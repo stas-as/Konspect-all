{
 "cells": [
  {
   "cell_type": "markdown",
   "metadata": {},
   "source": [
    "12x+13y=777.\n",
    "28n+30k+31m=365."
   ]
  },
  {
   "cell_type": "code",
   "execution_count": 1,
   "metadata": {},
   "outputs": [
    {
     "name": "stdout",
     "output_type": "stream",
     "text": [
      "x = 3 y = 57\n",
      "x = 16 y = 45\n",
      "x = 29 y = 33\n",
      "x = 42 y = 21\n",
      "x = 55 y = 9\n",
      "Общее количество натуральных решений = 5\n"
     ]
    }
   ],
   "source": [
    "total = 0\n",
    "for x in range(1, 65):\n",
    "    for y in range(1, 60):\n",
    "        if 12 * x + 13 * y == 777:\n",
    "            total += 1\n",
    "            print('x =', x, 'y =', y)\n",
    "print('Общее количество натуральных решений =', total)"
   ]
  },
  {
   "cell_type": "code",
   "execution_count": null,
   "metadata": {},
   "outputs": [],
   "source": [
    "def rechen(a,b,c,s):\n",
    "    total = 0\n",
    "    x_max = int(s/a)\n",
    "    y_max = int(s/b)\n",
    "    m_max = int(s/c)\n",
    "    for x in range(1, x_max):\n",
    "        for y in range(1, y_max):\n",
    "            for m in range(1, m_max):\n",
    "                if a * x + b * y + m * c  == s:\n",
    "                    total += 1\n",
    "                    print('x =', x, 'y =', y, 'm =', m )\n",
    "    print('Общее количество натуральных решений =', total)\n",
    "\n",
    "rechen(28,30,31,365)"
   ]
  },
  {
   "cell_type": "code",
   "execution_count": 5,
   "metadata": {},
   "outputs": [
    {
     "data": {
      "text/plain": [
       "'for a in range(1, 151):\\n    for b in range(a + 1, 151):\\n        for c in range(b + 1, 151):\\n            for d in range(c + 1, 151):\\n                e = int(((a ** 5) + (b ** 5) + (c ** 5) + (d ** 5)) ** 0.2)\\n                if e ** 5 == int((a ** 5) + (b ** 5) + (c ** 5) + (d ** 5)):\\n                    print(a + b + c + d + e)'"
      ]
     },
     "execution_count": 5,
     "metadata": {},
     "output_type": "execute_result"
    }
   ],
   "source": [
    "\"\"\"for a in range(1, 151):\n",
    "    for b in range(a + 1, 151):\n",
    "        for c in range(b + 1, 151):\n",
    "            for d in range(c + 1, 151):\n",
    "                e = int(((a ** 5) + (b ** 5) + (c ** 5) + (d ** 5)) ** 0.2)\n",
    "                if e ** 5 == int((a ** 5) + (b ** 5) + (c ** 5) + (d ** 5)):\n",
    "                    print(a + b + c + d + e)\"\"\""
   ]
  },
  {
   "cell_type": "code",
   "execution_count": null,
   "metadata": {},
   "outputs": [],
   "source": [
    "\"\"\"Численный треугольник 2\n",
    "Дано натуральное число \n",
    "�\n",
    "n. Напишите программу, которая печатает численный треугольник с высотой равной \n",
    "�\n",
    "n, в соответствии с примером:\"\"\"\n",
    "\"\"\"\n",
    "1\n",
    "2 3\n",
    "4 5 6\n",
    "7 8 9 10\n",
    "11 12 13 14 15\n",
    "16 17 18 19 20 21\n",
    "\"\"\""
   ]
  },
  {
   "cell_type": "code",
   "execution_count": 11,
   "metadata": {},
   "outputs": [
    {
     "name": "stdout",
     "output_type": "stream",
     "text": [
      "\n",
      "1 \n",
      "2 3 \n",
      "4 5 6 \n",
      "7 8 9 10 \n",
      "11 12 13 14 15 \n"
     ]
    }
   ],
   "source": [
    "a = int(input())\n",
    "count = 0\n",
    "for i in range(a+1):\n",
    "    for j in range(i):\n",
    "        count+=1\n",
    "        print(count,end=\" \")\n",
    "    print()"
   ]
  },
  {
   "cell_type": "markdown",
   "metadata": {},
   "source": [
    "Численный треугольник 3\n",
    "- Дано натуральное число \n",
    "- n. Напишите программу, которая печатает численный треугольник с высотой равной \n",
    "- n, в соответствии с примером:"
   ]
  },
  {
   "cell_type": "code",
   "execution_count": 12,
   "metadata": {},
   "outputs": [
    {
     "data": {
      "text/plain": [
       "''"
      ]
     },
     "execution_count": 12,
     "metadata": {},
     "output_type": "execute_result"
    }
   ],
   "source": [
    "\"\"\"\n",
    "1\n",
    "121\n",
    "12321\n",
    "1234321\n",
    "123454321\n",
    "...\"\"\"\n",
    "\n"
   ]
  },
  {
   "cell_type": "code",
   "execution_count": 18,
   "metadata": {},
   "outputs": [
    {
     "name": "stdout",
     "output_type": "stream",
     "text": [
      "\n",
      "1\n",
      "121\n",
      "12321\n",
      "1234321\n"
     ]
    }
   ],
   "source": [
    "a = int(input())\n",
    "for i in range(a+1):\n",
    "    count = 0\n",
    "    for j in range(i):\n",
    "        count+=1\n",
    "        print(count,end=\"\")\n",
    "        if j+1 == i:\n",
    "            while count != 1:\n",
    "                count-=1\n",
    "                print(count,end=\"\")\n",
    "    print()"
   ]
  }
 ],
 "metadata": {
  "kernelspec": {
   "display_name": "Python 3",
   "language": "python",
   "name": "python3"
  },
  "language_info": {
   "codemirror_mode": {
    "name": "ipython",
    "version": 3
   },
   "file_extension": ".py",
   "mimetype": "text/x-python",
   "name": "python",
   "nbconvert_exporter": "python",
   "pygments_lexer": "ipython3",
   "version": "3.9.13"
  },
  "orig_nbformat": 4
 },
 "nbformat": 4,
 "nbformat_minor": 2
}
