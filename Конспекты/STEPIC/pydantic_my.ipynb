{
 "cells": [
  {
   "cell_type": "code",
   "execution_count": 24,
   "metadata": {},
   "outputs": [],
   "source": [
    "from pydantic import BaseModel, ValidationError\n",
    "from datetime import date\n",
    "\n",
    "class my_class(BaseModel):\n",
    "    id: int\n",
    "    name: str\n",
    "    date_to: date\n",
    "    date_from: date\n",
    "    \n",
    "    \n",
    "json_row = \"\"\"\n",
    "{\n",
    "    \"id\": \"132\",\n",
    "    \"name\": \"stas\",\n",
    "    \"date_to\": \"2020-01-01\",\n",
    "    \"date_from\": \"2020-01-02\"\n",
    "}\n",
    "\"\"\"\n",
    "try:\n",
    "    a = my_class.parse_raw(json_row)\n",
    "except ValidationError as e:\n",
    "    print(e)\n",
    "# print(a)\n",
    "# print(type(a))\n",
    "# print(dir(a))\n"
   ]
  },
  {
   "cell_type": "code",
   "execution_count": 14,
   "metadata": {},
   "outputs": [
    {
     "name": "stdout",
     "output_type": "stream",
     "text": [
      "2020-01-01\n"
     ]
    },
    {
     "data": {
      "text/plain": [
       "'\"2020-01-01\"'"
      ]
     },
     "execution_count": 14,
     "metadata": {},
     "output_type": "execute_result"
    }
   ],
   "source": [
    "import json\n",
    "from datetime import date\n",
    "\n",
    "a = date(2020,1,1)\n",
    "print(a)\n",
    "json.dumps(str(a))"
   ]
  },
  {
   "cell_type": "code",
   "execution_count": 20,
   "metadata": {},
   "outputs": [
    {
     "name": "stdout",
     "output_type": "stream",
     "text": [
      "{'id': 123, 'name': 'a', 'surname': 'Sergevich'}\n",
      "{'id': 321, 'name': 'a', 'surname': 'Sergevich'}\n",
      "{\n",
      "    \"id\": 321,\n",
      "    \"name\": \"a\",\n",
      "    \"surname\": \"Sergevich\"\n",
      "}\n"
     ]
    }
   ],
   "source": [
    "from pydantic import BaseModel\n",
    "\n",
    "class User(BaseModel):\n",
    "    id: int\n",
    "    name: str|None = \"Petia\"\n",
    "    surname: str | None = \"Sergevich\"\n",
    "    \n",
    "user = User(id=123,name=\"a\")\n",
    "assert user.id == 123\n",
    "assert isinstance(user.id, int)\n",
    "\n",
    "print(user.model_dump())\n",
    "user.id = 321\n",
    "print(dict(user))\n",
    "\n",
    "print(user.model_dump_json(indent=4))"
   ]
  },
  {
   "cell_type": "code",
   "execution_count": 31,
   "metadata": {},
   "outputs": [
    {
     "data": {
      "text/plain": [
       "Spam(foo=Foo(count=4, size=None), bars=[Bar(apple='x1', banana='y'), Bar(apple='x2', banana='y')])"
      ]
     },
     "metadata": {},
     "output_type": "display_data"
    },
    {
     "data": {
      "text/plain": [
       "{'foo': {'count': 4, 'size': None},\n",
       " 'bars': [{'apple': 'x1', 'banana': 'y'}, {'apple': 'x2', 'banana': 'y'}]}"
      ]
     },
     "metadata": {},
     "output_type": "display_data"
    }
   ],
   "source": [
    "from pydantic import BaseModel\n",
    "\n",
    "class Foo(BaseModel):\n",
    "    count: int\n",
    "    size: float|None = None\n",
    "    \n",
    "class Bar(BaseModel):\n",
    "    apple: str = \"x\"\n",
    "    banana: str = \"y\"\n",
    "    \n",
    "class Spam(BaseModel):\n",
    "    foo: Foo\n",
    "    bars: list[Bar]\n",
    "    \n",
    "m = Spam(foo={'count': 4}, bars=[{'apple': 'x1'}, {'apple': 'x2'}])\n",
    "display(m)\n",
    "display(m.model_dump())"
   ]
  },
  {
   "cell_type": "code",
   "execution_count": 35,
   "metadata": {},
   "outputs": [
    {
     "name": "stdout",
     "output_type": "stream",
     "text": [
      "`Foo` is not fully defined; you should define `Barsic`, then call `Foo.model_rebuild()`.\n",
      "\n",
      "For further information visit https://errors.pydantic.dev/2.6/u/class-not-fully-defined\n"
     ]
    },
    {
     "data": {
      "text/plain": [
       "{'$defs': {'Barsic': {'properties': {}, 'title': 'Barsic', 'type': 'object'}},\n",
       " 'properties': {'x': {'$ref': '#/$defs/Barsic'}},\n",
       " 'required': ['x'],\n",
       " 'title': 'Foo',\n",
       " 'type': 'object'}"
      ]
     },
     "metadata": {},
     "output_type": "display_data"
    }
   ],
   "source": [
    "from pydantic import BaseModel, PydanticUserError\n",
    "\n",
    "\n",
    "class Foo(BaseModel):\n",
    "    x: 'Barsic'\n",
    "\n",
    "\n",
    "try:\n",
    "    display(Foo.model_json_schema())\n",
    "except PydanticUserError as e:\n",
    "    print(e)\n",
    "    \n",
    "class Barsic(BaseModel):\n",
    "    pass\n",
    "\n",
    "Foo.model_rebuild()\n",
    "display(Foo.model_json_schema())"
   ]
  },
  {
   "cell_type": "code",
   "execution_count": 13,
   "metadata": {},
   "outputs": [
    {
     "name": "stdout",
     "output_type": "stream",
     "text": [
      "<__main__.CompanyOrm object at 0x0000026F409D3C50>\n",
      "id=123 public_key='foobaroefhoehoshfoso' name='Testing' domains=['example.com', 'foobar.com']\n",
      "<class 'str'>\n",
      "<class 'str'>\n"
     ]
    }
   ],
   "source": [
    "from sqlalchemy import Column, Integer, String\n",
    "from sqlalchemy.dialects.postgresql import ARRAY\n",
    "from sqlalchemy.orm import declarative_base\n",
    "from typing_extensions import Annotated\n",
    "\n",
    "from pydantic import BaseModel, ConfigDict, StringConstraints\n",
    "\n",
    "Base = declarative_base()\n",
    "\n",
    "class CompanyOrm(Base):\n",
    "    __tablename__ = 'companies'\n",
    "    \n",
    "    id = Column(Integer, primary_key=True, nullable=False)\n",
    "    public_key = Column(String(20), index=True, nullable=False, unique=True)\n",
    "    name = Column(String(63), unique=True)\n",
    "    domains = Column(ARRAY(String(63)))\n",
    "    \n",
    "\n",
    "class CompanyModel(BaseModel):\n",
    "    model_config = ConfigDict(from_attributes=True)\n",
    "    \n",
    "    id: int\n",
    "    public_key: Annotated[str, StringConstraints(max_length=20)]\n",
    "    name: Annotated[str, StringConstraints(max_length=63)]\n",
    "    domains: list[Annotated[str, StringConstraints(max_length=255)]]\n",
    "    \n",
    "    \n",
    "\n",
    "co_orm = CompanyOrm(\n",
    "    id=123,\n",
    "    public_key=\"foobaroefhoehoshfoso\",\n",
    "    name=\"Testing\",\n",
    "    domains=['example.com', 'foobar.com'],\n",
    ")\n",
    "print(co_orm)\n",
    "\n",
    "co_model = CompanyModel.model_validate(co_orm)\n",
    "print(co_model)\n",
    "print(type(co_model.public_key))\n",
    "print(type(co_model.name))"
   ]
  },
  {
   "cell_type": "code",
   "execution_count": null,
   "metadata": {},
   "outputs": [],
   "source": [
    "import typing\n",
    "\n",
    "import sqlalchemy as sa\n",
    "from sqlalchemy.orm import declarative_base\n",
    "\n",
    "from pydantic import BaseModel, ConfigDict, Field\n",
    "\n",
    "\n",
    "class MyModel(BaseModel):\n",
    "    model_config = ConfigDict(from_attributes=True)\n",
    "\n",
    "    metadata: typing.Dict[str, str] = Field(alias='metadata_')"
   ]
  },
  {
   "cell_type": "code",
   "execution_count": 46,
   "metadata": {},
   "outputs": [
    {
     "name": "stdout",
     "output_type": "stream",
     "text": [
      "tr-TR\n",
      "name='Filiz' language_code='tr-TR'\n",
      "{'Name': 'Filiz', 'Language_Code': 'tr-TR'}\n"
     ]
    }
   ],
   "source": [
    "from pydantic import BaseModel, ConfigDict, Field, AliasGenerator\n",
    "\n",
    "\n",
    "def to_camel(string: str) -> str:\n",
    "    return ''.join(word.capitalize() for word in string.split('_'))\n",
    "\n",
    "\n",
    "class Voice(BaseModel):\n",
    "    model_config = ConfigDict(\n",
    "        alias_generator=AliasGenerator(\n",
    "            validation_alias=lambda field_name: field_name.upper(),\n",
    "            serialization_alias=lambda field_name: field_name.title(),\n",
    "        )\n",
    "    )\n",
    "\n",
    "    name: str\n",
    "    language_code: str \n",
    "\n",
    "voice = Voice(NAME='Filiz', LANGUAGE_CODE ='tr-TR')\n",
    "print(voice.language_code)\n",
    "print(voice)\n",
    "#> tr-TR\n",
    "print(voice.model_dump(by_alias=True))\n",
    "#> {'Name': 'Filiz', 'lang': 'tr-TR'}"
   ]
  },
  {
   "cell_type": "code",
   "execution_count": 31,
   "metadata": {},
   "outputs": [
    {
     "name": "stdout",
     "output_type": "stream",
     "text": [
      "first_name='John' last_name='Doe'\n"
     ]
    }
   ],
   "source": [
    "from pydantic import BaseModel, Field, AliasPath\n",
    "\n",
    "\n",
    "class User(BaseModel):\n",
    "    first_name: str = Field(validation_alias=AliasPath('names', 0))\n",
    "    last_name: str = Field(validation_alias=AliasPath('names', 1))\n",
    "\n",
    "user = User.model_validate({'names': ['John', 'Doe']})  \n",
    "print(user)\n",
    "#> first_name='John' last_name='Doe'"
   ]
  },
  {
   "cell_type": "code",
   "execution_count": null,
   "metadata": {},
   "outputs": [],
   "source": [
    "from pydantic import BaseModel, Field, AliasChoices\n",
    "\n",
    "\n",
    "class User(BaseModel):\n",
    "    first_name: str = Field(validation_alias=AliasChoices('first_name', 'fname'))\n",
    "    last_name: str = Field(validation_alias=AliasChoices('last_name', 'lname'))\n",
    "\n",
    "user = User.model_validate({'fname': 'John', 'lname': 'Doe'})  \n",
    "print(user)\n",
    "#> first_name='John' last_name='Doe'\n",
    "user = User.model_validate({'first_name': 'John', 'lname': 'Doe'})  \n",
    "print(user)\n",
    "#> first_name='John' last_name='Doe'"
   ]
  },
  {
   "cell_type": "code",
   "execution_count": 33,
   "metadata": {},
   "outputs": [
    {
     "name": "stdout",
     "output_type": "stream",
     "text": [
      "first_name='John' last_name='Doe'\n",
      "first_name='John' last_name='Doe'\n",
      "first_name='John' last_name='Doe'\n"
     ]
    }
   ],
   "source": [
    "from pydantic import BaseModel, Field, AliasPath, AliasChoices\n",
    "\n",
    "\n",
    "class User(BaseModel):\n",
    "    first_name: str = Field(validation_alias=AliasChoices('first_name', AliasPath('names', 0)))\n",
    "    last_name: str = Field(validation_alias=AliasChoices('last_name', AliasPath('names', 1)))\n",
    "\n",
    "\n",
    "user = User.model_validate({'first_name': 'John', 'last_name': 'Doe'})\n",
    "print(user)\n",
    "#> first_name='John' last_name='Doe'\n",
    "user = User.model_validate({'names': ['John', 'Doe']})\n",
    "print(user)\n",
    "#> first_name='John' last_name='Doe'\n",
    "user = User.model_validate({'names': ['John'], 'last_name': 'Doe'})\n",
    "print(user)\n",
    "#> first_name='John' last_name='Doe'"
   ]
  },
  {
   "cell_type": "code",
   "execution_count": 36,
   "metadata": {},
   "outputs": [
    {
     "name": "stdout",
     "output_type": "stream",
     "text": [
      "{'AGE': 12, 'HEIGHT': 1.2, 'KIND': 'oak'}\n",
      "{'age': 12, 'height': 1.2, 'kind': 'oak'}\n"
     ]
    }
   ],
   "source": [
    "from pydantic import BaseModel, ConfigDict\n",
    "\n",
    "\n",
    "class Tree(BaseModel):\n",
    "    model_config = ConfigDict(\n",
    "        alias_generator=lambda field_name: field_name.upper()\n",
    "    )\n",
    "\n",
    "    age: int\n",
    "    height: float\n",
    "    kind: str\n",
    "\n",
    "\n",
    "t = Tree.model_validate({'AGE': 12, 'HEIGHT': 1.2, 'KIND': 'oak'})\n",
    "print(t.model_dump(by_alias=True))\n",
    "print(t.model_dump())\n",
    "#> {'AGE': 12, 'HEIGHT': 1.2, 'KIND': 'oak'}"
   ]
  },
  {
   "cell_type": "code",
   "execution_count": 40,
   "metadata": {},
   "outputs": [
    {
     "name": "stdout",
     "output_type": "stream",
     "text": [
      "{'Age': 12, 'Height': 1.2, 'Kind': 'oak'}\n",
      "{'age': 12, 'height': 1.2, 'kind': 'oak'}\n"
     ]
    }
   ],
   "source": [
    "from pydantic import AliasGenerator, BaseModel, ConfigDict\n",
    "\n",
    "\n",
    "class Tree(BaseModel):\n",
    "    model_config = ConfigDict(\n",
    "        alias_generator=AliasGenerator(\n",
    "            validation_alias=lambda field_name: field_name.upper(),\n",
    "            serialization_alias=lambda field_name: field_name.title(),\n",
    "        )\n",
    "    )\n",
    "\n",
    "    age: int\n",
    "    height: float\n",
    "    kind: str\n",
    "\n",
    "\n",
    "t = Tree.model_validate({'AGE': 12, 'HEIGHT': 1.2, 'KIND': 'oak'})\n",
    "print(t.model_dump(by_alias=True))\n",
    "print(t.model_dump())\n",
    "#> {'Age': 12, 'Height': 1.2, 'Kind': 'oak'}"
   ]
  },
  {
   "cell_type": "code",
   "execution_count": null,
   "metadata": {},
   "outputs": [],
   "source": [
    "from typing import List\n",
    "\n",
    "from pydantic import BaseModel, ConfigDict\n",
    "\n",
    "\n",
    "class PetCls:\n",
    "    def __init__(self, *, name: str, species: str):\n",
    "        self.name = name\n",
    "        self.species = species\n",
    "\n",
    "\n",
    "class PersonCls:\n",
    "    def __init__(self, *, name: str, age: float = None, pets: List[PetCls]):\n",
    "        self.name = name\n",
    "        self.age = age\n",
    "        self.pets = pets\n",
    "\n",
    "\n",
    "class Pet(BaseModel):\n",
    "    model_config = ConfigDict(from_attributes=True)\n",
    "\n",
    "    name: str\n",
    "    species: str\n",
    "\n",
    "\n",
    "class Person(BaseModel):\n",
    "    model_config = ConfigDict(from_attributes=True)\n",
    "\n",
    "    name: str\n",
    "    age: float = None\n",
    "    pets: List[Pet]\n",
    "\n",
    "\n",
    "bones = PetCls(name='Bones', species='dog')\n",
    "orion = PetCls(name='Orion', species='cat')\n",
    "anna = PersonCls(name='Anna', age=20, pets=[bones, orion])\n",
    "anna_model = Person.model_validate(anna)\n",
    "print(anna_model)\n",
    "\"\"\"\n",
    "name='Anna' age=20.0 pets=[Pet(name='Bones', species='dog'), Pet(name='Orion', species='cat')]\n",
    "\"\"\""
   ]
  },
  {
   "cell_type": "code",
   "execution_count": 8,
   "metadata": {},
   "outputs": [
    {
     "data": {
      "text/plain": [
       "'{\"list_of_ints\":[1,2,3],\"a_float\":1.2}'"
      ]
     },
     "metadata": {},
     "output_type": "display_data"
    }
   ],
   "source": [
    "from typing import List\n",
    "\n",
    "from pydantic import BaseModel, ValidationError\n",
    "\n",
    "\n",
    "class Model(BaseModel):\n",
    "    list_of_ints: List[int]\n",
    "    a_float: float\n",
    "\n",
    "\n",
    "data = dict(\n",
    "    list_of_ints=['1', 2, 3],\n",
    "    a_float='1.2',\n",
    ")\n",
    "\n",
    "try:\n",
    "    display(Model(**data).model_dump_json())\n",
    "except ValidationError as e:\n",
    "    print(e)"
   ]
  },
  {
   "cell_type": "code",
   "execution_count": 10,
   "metadata": {},
   "outputs": [
    {
     "data": {
      "text/plain": [
       "Model(a=0)"
      ]
     },
     "metadata": {},
     "output_type": "display_data"
    },
    {
     "data": {
      "text/plain": [
       "Model(a='not an int')"
      ]
     },
     "metadata": {},
     "output_type": "display_data"
    },
    {
     "data": {
      "text/plain": [
       "Model(a='not an int')"
      ]
     },
     "metadata": {},
     "output_type": "display_data"
    }
   ],
   "source": [
    "from pydantic import BaseModel\n",
    "\n",
    "\n",
    "class Model(BaseModel):\n",
    "    a: int\n",
    "\n",
    "\n",
    "m = Model(a=0)\n",
    "display(m)\n",
    "# note: the `model_config` setting validate_assignment=True` can prevent this kind of misbehavior\n",
    "m.a = 'not an int'\n",
    "display(m)\n",
    "# doesn't raise a validation error even though m is invalid\n",
    "m2 = Model.model_validate(m)\n",
    "display(m2)"
   ]
  },
  {
   "cell_type": "code",
   "execution_count": 11,
   "metadata": {},
   "outputs": [
    {
     "data": {
      "text/plain": [
       "Model(a=0)"
      ]
     },
     "metadata": {},
     "output_type": "display_data"
    },
    {
     "data": {
      "text/plain": [
       "Model(a='not an int')"
      ]
     },
     "metadata": {},
     "output_type": "display_data"
    },
    {
     "name": "stdout",
     "output_type": "stream",
     "text": [
      "1 validation error for Model\n",
      "a\n",
      "  Input should be a valid integer, unable to parse string as an integer [type=int_parsing, input_value='not an int', input_type=str]\n",
      "    For further information visit https://errors.pydantic.dev/2.6/v/int_parsing\n"
     ]
    }
   ],
   "source": [
    "from pydantic import BaseModel, ConfigDict, ValidationError\n",
    "\n",
    "\n",
    "class Model(BaseModel):\n",
    "    a: int\n",
    "\n",
    "    model_config = ConfigDict(revalidate_instances='always')\n",
    "\n",
    "\n",
    "m = Model(a=0)\n",
    "display(m)\n",
    "# note: the `model_config` setting validate_assignment=True` can prevent this kind of misbehavior\n",
    "m.a = 'not an int'\n",
    "display(m)\n",
    "\n",
    "try:\n",
    "    m2 = Model.model_validate(m)\n",
    "except ValidationError as e:\n",
    "    print(e)\n",
    "    \"\"\"\n",
    "    1 validation error for Model\n",
    "    a\n",
    "      Input should be a valid integer, unable to parse string as an integer [type=int_parsing, input_value='not an int', input_type=str]\n",
    "    \"\"\""
   ]
  },
  {
   "cell_type": "code",
   "execution_count": 19,
   "metadata": {},
   "outputs": [
    {
     "name": "stdout",
     "output_type": "stream",
     "text": [
      "{'id': 123, 'age': 32, 'name': 'John Doe'}\n",
      "{'age', 'id'}\n",
      "User(id=123, age=32, name='John Doe')\n",
      "User(id=123, age=32, name='John Doe')\n",
      "{'age', 'id'}\n",
      "{'age', 'name', 'id'}\n",
      "User(id='dog', name='John Doe')\n"
     ]
    }
   ],
   "source": [
    "from pydantic import BaseModel\n",
    "\n",
    "\n",
    "class User(BaseModel):\n",
    "    id: int\n",
    "    age: int\n",
    "    name: str = 'John Doe'\n",
    "\n",
    "\n",
    "original_user = User(id=123, age=32)\n",
    "\n",
    "user_data = original_user.model_dump()\n",
    "print(user_data)\n",
    "#> {'id': 123, 'age': 32, 'name': 'John Doe'}\n",
    "fields_set = original_user.model_fields_set\n",
    "print(fields_set)\n",
    "#> {'age', 'id'}\n",
    "\n",
    "# ...\n",
    "# pass user_data and fields_set to RPC or save to the database etc.\n",
    "# ...\n",
    "\n",
    "# you can then create a new instance of User without\n",
    "# re-running validation which would be unnecessary at this point:\n",
    "new_user = User.model_construct(_fields_set=fields_set, **user_data)\n",
    "new_user2 = User.model_construct( **user_data)\n",
    "print(repr(new_user))\n",
    "print(repr(new_user2))\n",
    "#> User(id=123, age=32, name='John Doe')\n",
    "print(new_user.model_fields_set)\n",
    "print(new_user2.model_fields_set)\n",
    "#> {'age', 'id'}\n",
    "\n",
    "# construct can be dangerous, only use it with validated data!:\n",
    "bad_user = User.model_construct(id='dog')\n",
    "print(repr(bad_user))\n",
    "#> User(id='dog', name='John Doe')"
   ]
  },
  {
   "cell_type": "code",
   "execution_count": 2,
   "metadata": {},
   "outputs": [
    {
     "name": "stdout",
     "output_type": "stream",
     "text": [
      "IntResponse(data=1)\n",
      "StrResponse(data='a')\n"
     ]
    }
   ],
   "source": [
    "from typing import Any, Generic, Tuple, Type, TypeVar\n",
    "\n",
    "from pydantic import BaseModel\n",
    "\n",
    "DataT = TypeVar('DataT', bound=str)\n",
    "\n",
    "\n",
    "class Response(BaseModel, Generic[DataT]):\n",
    "    data: DataT\n",
    "\n",
    "    @classmethod\n",
    "    def model_parametrized_name(cls, params: Tuple[Type[Any], ...]) -> str:\n",
    "        return f'{params[0].__name__.title()}Response'\n",
    "\n",
    "\n",
    "print(repr(Response[int](data=1)))\n",
    "#> IntResponse(data=1)\n",
    "print(repr(Response[str](data='a')))\n",
    "#> StrResponse(data='a')"
   ]
  },
  {
   "cell_type": "code",
   "execution_count": 6,
   "metadata": {},
   "outputs": [
    {
     "name": "stdout",
     "output_type": "stream",
     "text": [
      "data=1\n",
      "data='value'\n",
      "{'data': 'value'}\n",
      "{'data': {'numbers': [1, 2, 3], 'people': []}}\n",
      "data=13\n"
     ]
    }
   ],
   "source": [
    "from typing import Generic, List, Optional, TypeVar\n",
    "\n",
    "from pydantic import BaseModel, ValidationError\n",
    "\n",
    "DataT = TypeVar('DataT')\n",
    "\n",
    "\n",
    "class DataModel(BaseModel):\n",
    "    numbers: List[int]\n",
    "    people: List[str]\n",
    "\n",
    "\n",
    "class Response(BaseModel, Generic[DataT]):\n",
    "    data: Optional[DataT] = None\n",
    "\n",
    "\n",
    "print(Response[int](data=1))\n",
    "#> data=1\n",
    "print(Response[str](data='value'))\n",
    "#> data='value'\n",
    "print(Response[str](data='value').model_dump())\n",
    "#> {'data': 'value'}\n",
    "\n",
    "data = DataModel(numbers=[1, 2, 3], people=[])\n",
    "print(Response[DataModel](data=data).model_dump())\n",
    "#> {'data': {'numbers': [1, 2, 3], 'people': []}}\n",
    "try:\n",
    "    print(Response[int](data='13'))\n",
    "except ValidationError as e:\n",
    "    print(e)"
   ]
  },
  {
   "cell_type": "code",
   "execution_count": 7,
   "metadata": {},
   "outputs": [
    {
     "data": {
      "text/plain": [
       "ItemBound(item=IntValue(value=3))"
      ]
     },
     "metadata": {},
     "output_type": "display_data"
    },
    {
     "data": {
      "text/plain": [
       "ItemBound[IntValue](item=IntValue(value=3))"
      ]
     },
     "metadata": {},
     "output_type": "display_data"
    },
    {
     "data": {
      "text/plain": [
       "ItemNoBound(item=IntValue(value=3))"
      ]
     },
     "metadata": {},
     "output_type": "display_data"
    },
    {
     "data": {
      "text/plain": [
       "ItemNoBound[IntValue](item=IntValue(value=3))"
      ]
     },
     "metadata": {},
     "output_type": "display_data"
    }
   ],
   "source": [
    "from typing import Generic\n",
    "\n",
    "from typing_extensions import TypeVar\n",
    "\n",
    "from pydantic import BaseModel\n",
    "\n",
    "TBound = TypeVar('TBound', bound=BaseModel)\n",
    "TNoBound = TypeVar('TNoBound')\n",
    "\n",
    "\n",
    "class IntValue(BaseModel):\n",
    "    value: int\n",
    "\n",
    "\n",
    "class ItemBound(BaseModel, Generic[TBound]):\n",
    "    item: TBound\n",
    "\n",
    "\n",
    "class ItemNoBound(BaseModel, Generic[TNoBound]):\n",
    "    item: TNoBound\n",
    "\n",
    "\n",
    "item_bound_inferred =    ItemBound(item=IntValue(value=3))\n",
    "item_bound_explicit =    ItemBound[IntValue](item=IntValue(value=3))\n",
    "item_no_bound_inferred = ItemNoBound(item=IntValue(value=3))\n",
    "item_no_bound_explicit = ItemNoBound[IntValue](item=IntValue(value=3))\n",
    "\n",
    "display(item_bound_inferred)\n",
    "display(item_bound_explicit)\n",
    "display(item_no_bound_inferred)\n",
    "display(item_no_bound_explicit)"
   ]
  },
  {
   "cell_type": "code",
   "execution_count": 12,
   "metadata": {},
   "outputs": [
    {
     "data": {
      "text/plain": [
       "{'message': 'We just had an error', 'details': {'foo': 'var'}}"
      ]
     },
     "metadata": {},
     "output_type": "display_data"
    },
    {
     "data": {
      "text/plain": [
       "{'message': 'We just had an error', 'details': {'foo': 'var', 'bar': 'baz'}}"
      ]
     },
     "metadata": {},
     "output_type": "display_data"
    }
   ],
   "source": [
    "from typing import Generic, Optional\n",
    "\n",
    "from typing_extensions import TypeVar\n",
    "\n",
    "from pydantic import BaseModel, SerializeAsAny\n",
    "\n",
    "\n",
    "class ErrorDetails(BaseModel):\n",
    "    foo: str\n",
    "\n",
    "\n",
    "ErrorDataT = TypeVar('ErrorDataT', default=ErrorDetails)\n",
    "\n",
    "\n",
    "class Error(BaseModel, Generic[ErrorDataT]):\n",
    "    message: str\n",
    "    details: Optional[ErrorDataT]\n",
    "\n",
    "\n",
    "class MyErrorDetails(ErrorDetails):\n",
    "    bar: str\n",
    "\n",
    "\n",
    "# serialized using the default's serializer\n",
    "error = Error(\n",
    "    message='We just had an error',\n",
    "    details=MyErrorDetails(foo='var', bar='var2'),\n",
    ")\n",
    "display(error.model_dump())\n",
    "assert error.model_dump() == {\n",
    "    'message': 'We just had an error',\n",
    "    'details': {\n",
    "        'foo': 'var',\n",
    "    },\n",
    "}\n",
    "\n",
    "\n",
    "class SerializeAsAnyError(BaseModel, Generic[ErrorDataT]):\n",
    "    message: str\n",
    "    details: Optional[SerializeAsAny[ErrorDataT]]\n",
    "\n",
    "\n",
    "# serialized as Any\n",
    "error = SerializeAsAnyError(\n",
    "    message='We just had an error',\n",
    "    details=MyErrorDetails(foo='var', bar='baz'),\n",
    ")\n",
    "display(error.model_dump())\n",
    "assert error.model_dump() == {\n",
    "    'message': 'We just had an error',\n",
    "    'details': {\n",
    "        'foo': 'var',\n",
    "        'bar': 'baz',\n",
    "    },\n",
    "}"
   ]
  },
  {
   "cell_type": "code",
   "execution_count": null,
   "metadata": {},
   "outputs": [],
   "source": [
    "from pydantic import BaseModel, ConfigDict, Field\n",
    "\n",
    "\n",
    "class User(BaseModel):\n",
    "    model_config = ConfigDict(populate_by_name=True)\n",
    "\n",
    "    name: str = Field(alias='full_name')  \n",
    "    age: int\n",
    "\n",
    "\n",
    "user = User(full_name='John Doe', age=20)  \n",
    "print(user)\n",
    "#> name='John Doe' age=20\n",
    "user = User(name='John Doe', age=20)  \n",
    "print(user)\n",
    "#> name='John Doe' age=20"
   ]
  }
 ],
 "metadata": {
  "kernelspec": {
   "display_name": "Python 3",
   "language": "python",
   "name": "python3"
  },
  "language_info": {
   "codemirror_mode": {
    "name": "ipython",
    "version": 3
   },
   "file_extension": ".py",
   "mimetype": "text/x-python",
   "name": "python",
   "nbconvert_exporter": "python",
   "pygments_lexer": "ipython3",
   "version": "3.12.2"
  }
 },
 "nbformat": 4,
 "nbformat_minor": 2
}
