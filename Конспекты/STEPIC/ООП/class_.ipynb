{
 "cells": [
  {
   "cell_type": "code",
   "execution_count": 7,
   "metadata": {},
   "outputs": [],
   "source": [
    "class PiggyBank:\n",
    "    def __init__(\n",
    "        self,\n",
    "        balance: int =0,\n",
    "        volume: int = 400\n",
    ") -> None:\n",
    "        self.balance = balance\n",
    "        self.volume = volume\n",
    "    \n",
    "    def add_coins(self, coins=1): \n",
    "        if self.balance + coins > self.volume:\n",
    "            print(\"Копилка слишком мала\")\n",
    "        else:\n",
    "            self.balance += coins\n",
    "    \n",
    "    def remove_coins(self, coins=1):\n",
    "        if self.balance - coins < 0:\n",
    "            print('В копилке недостаточно монет')\n",
    "        else:\n",
    "            self.balance -= coins"
   ]
  },
  {
   "cell_type": "code",
   "execution_count": 8,
   "metadata": {},
   "outputs": [
    {
     "name": "stdout",
     "output_type": "stream",
     "text": [
      "0\n",
      "7\n",
      "3\n"
     ]
    }
   ],
   "source": [
    "piggybank = PiggyBank()\n",
    "\n",
    "print(piggybank.balance)                              # по умолчанию баланс равен нулю \n",
    "\n",
    "piggybank.add_coins(4)                                # добавляем 4 монеты\n",
    "piggybank.add_coins(3)                                # добавляем 3 монеты\n",
    "\n",
    "print(piggybank.balance)\n",
    "\n",
    "piggybank.remove_coins(2)                             # вынимаем 2 монеты\n",
    "piggybank.remove_coins(1)                             # вынимаем 1 монету\n",
    "piggybank.remove_coins(1)                             # вынимаем 1 монету\n",
    "\n",
    "print(piggybank.balance)"
   ]
  },
  {
   "cell_type": "code",
   "execution_count": null,
   "metadata": {},
   "outputs": [],
   "source": [
    "class Bee:\n",
    "    def __init__(self, x, y) -> None:\n",
    "        self.x = x\n",
    "        self.y = y\n",
    "    def move_up(self, n):\n",
    "        self.y += n\n",
    "    def move_down(self, n): \n",
    "        self.y -= n\n",
    "    def move_right(self, n):\n",
    "        self.x += n\n",
    "    def move_left(self, n):\n",
    "        self.x -= n"
   ]
  },
  {
   "cell_type": "code",
   "execution_count": 10,
   "metadata": {},
   "outputs": [],
   "source": [
    "\"\"\"Реализуйте класс Scales, описывающий весы с двумя чашами. При создании экземпляра класс не должен принимать никаких аргументов.\n",
    "\n",
    "Класс Scales должен иметь три метода экземпляра:\n",
    "\n",
    "add_right() — метод, принимающий в качестве аргумента массу груза в килограммах и добавляющий на правую чашу весов этот груз\n",
    "add_left() — метод, принимающий в качестве аргумента массу груза в килограммах и добавляющий на левую чашу весов этот груз\n",
    "get_result() — метод, возвращающий строку Весы в равновесии, если массы грузов на чашах совпадают, \n",
    "Правая чаша тяжелее — если правая чаша тяжелее, Левая чаша тяжелее — если левая чаша тяжелее\"\"\"\n",
    "        \n",
    "class Scales:\n",
    "    def __init__(self) -> None:\n",
    "        self.right = 0\n",
    "        self.left = 0\n",
    "        \n",
    "    def add_right(self, mass):\n",
    "        self.right += mass\n",
    "    \n",
    "    def add_left(self, mass):\n",
    "        self.left += mass\n",
    "    \n",
    "    def get_result(self):\n",
    "        if self.left > self.right:\n",
    "            return \"Левая чаша тяжелее\" \n",
    "        elif self.left < self.right:\n",
    "            return \"Правая чаша тяжелее\" \n",
    "        else:\n",
    "            return \"Весы в равновесии\""
   ]
  },
  {
   "cell_type": "code",
   "execution_count": 12,
   "metadata": {},
   "outputs": [
    {
     "name": "stdout",
     "output_type": "stream",
     "text": [
      "Левая чаша тяжелее\n"
     ]
    }
   ],
   "source": [
    "scales = Scales()\n",
    "\n",
    "scales.add_right(1)\n",
    "scales.add_left(2)\n",
    "\n",
    "print(scales.get_result())"
   ]
  },
  {
   "cell_type": "code",
   "execution_count": 16,
   "metadata": {},
   "outputs": [
    {
     "name": "stdout",
     "output_type": "stream",
     "text": [
      "[2, 4]\n",
      "[3, 1]\n"
     ]
    }
   ],
   "source": [
    "\"\"\"Класс Numbers\n",
    "Реализуйте класс Numbers, описывающий изначально пустой расширяемый набор целых чисел. При создании экземпляра класс не должен принимать никаких аргументов.\n",
    "\n",
    "Класс Numbers должен иметь три метода экземпляра:\n",
    "\n",
    "add_number() — метод, принимающий в качестве аргумента целое число и добавляющий его в набор\n",
    "get_even() — метод, возвращающий список всех четных чисел из набора\n",
    "get_odd() — метод, возвращающий список всех нечетных чисел из набора\n",
    "Примечание 1. Числа в списках, возвращаемых методами get_even() и get_odd(), должны располагаться в том порядке, в котором они были добавлены в набор.\"\"\"\n",
    "\n",
    "class Numbers:\n",
    "    def __init__(self) -> None:\n",
    "        self.numb = []\n",
    "    \n",
    "    def add_number(self,new):\n",
    "        self.numb.append(new)\n",
    "    \n",
    "    def get_even(self):\n",
    "        return list(filter(lambda x: x % 2 == 0, self.numb))\n",
    "    \n",
    "    def get_odd(self):\n",
    "        return list(filter(lambda x: x % 2 == 1, self.numb))\n",
    "    \n",
    "\n",
    "numbers = Numbers()\n",
    "\n",
    "numbers.add_number(3)\n",
    "numbers.add_number(2)\n",
    "numbers.add_number(1)\n",
    "numbers.add_number(4)\n",
    "\n",
    "print(numbers.get_even())\n",
    "print(numbers.get_odd())"
   ]
  },
  {
   "cell_type": "code",
   "execution_count": 20,
   "metadata": {},
   "outputs": [
    {
     "name": "stdout",
     "output_type": "stream",
     "text": [
      "['my', 'to', 'to']\n",
      "['world', 'trial', 'Never', 'meant', 'never', 'meant']\n"
     ]
    }
   ],
   "source": [
    "\"\"\"Класс TextHandler\n",
    "Будем называть словом любую последовательность из одной или более букв. Текстом будем считать набор слов, разделенных пробельными символами.\n",
    "\n",
    "Реализуйте класс TextHandler, описывающий изначально пустой расширяемый набор слов. При создании экземпляра класс не должен принимать никаких аргументов.\n",
    "\n",
    "Экземпляр класса TextHandler должен иметь три метода:\n",
    "\n",
    "add_words() — метод, принимающий в качестве аргумента текст и добавляющий слова из данного текста в набор\n",
    "get_shortest_words() — метод, возвращающий актуальный список самых коротких слов в наборе\n",
    "get_longest_words() — метод, возвращающий актуальный список самых длинных слов в наборе\n",
    "Примечание 1. Слова в списках, возвращаемых методами get_shortest_words() и get_longest_words(), должны располагаться в том порядке, в котором они были добавлены в набор.\"\"\"\n",
    "\n",
    "\n",
    "class TextHandler:\n",
    "    def __init__(self) -> None:\n",
    "        self.numb = {}\n",
    "    \n",
    "    def add_words(self,text:str):\n",
    "        [self.numb.setdefault(len(el),[]).append(el) for el in text.split()]\n",
    "    \n",
    "    def get_shortest_words(self):\n",
    "        if self.numb:\n",
    "            return self.numb[min(self.numb)]\n",
    "        return []\n",
    "    def get_longest_words(self):\n",
    "        if self.numb:\n",
    "            return self.numb[max(self.numb)]\n",
    "        return []\n",
    "\n",
    "\n",
    "texthandler = TextHandler()\n",
    "\n",
    "texthandler.add_words('The world will hold my trial for your sins')\n",
    "texthandler.add_words('Never meant to see the sky never meant to live')\n",
    "\n",
    "print(texthandler.get_shortest_words())\n",
    "print(texthandler.get_longest_words())"
   ]
  },
  {
   "cell_type": "code",
   "execution_count": null,
   "metadata": {},
   "outputs": [],
   "source": [
    "\"\"\"Класс Todo\n",
    "Реализуйте класс Todo, описывающий список дел. При создании экземпляра класс не должен принимать никаких аргументов.\n",
    "\n",
    "Экземпляр класса Todo должен иметь один атрибут:\n",
    "\n",
    "things — изначально пустой список дел, которые нужно выполнить\n",
    "Класс Todo должен иметь четыре метода экземпляра:\n",
    "\n",
    "add() — метод, принимающий название дела и его приоритет (целое число) и добавляющий данное дело в список дел в виде кортежа:\n",
    "(<название дела>, <приоритет>)\n",
    "get_by_priority() — метод, принимающий в качестве аргумента целое число n и возвращающий список названий дел, имеющих приоритет n\n",
    "get_low_priority() — метод, возвращающий список названий дел, имеющих самый низкий приоритет \n",
    "get_high_priority() — метод, возвращающий список названий дел, имеющих самый высокий приоритет \n",
    "Примечание 1. Названия дел в списках, возвращаемых методами get_by_priority(), get_low_priority() и get_high_priority(), \n",
    "должны располагаться в том порядке, в котором они были добавлены в список.\"\"\"\n",
    "\n",
    "\n",
    "class Todo:\n",
    "    def __init__(self) -> None:\n",
    "        self.things = []\n",
    "        \n",
    "    def add(self):\n",
    "        pass\n",
    "    \n",
    "    def get_by_priority(self):\n",
    "        pass\n",
    "    \n",
    "    def get_low_priority(self):\n",
    "        pass\n",
    "    "
   ]
  },
  {
   "cell_type": "code",
   "execution_count": 8,
   "metadata": {},
   "outputs": [
    {
     "data": {
      "text/plain": [
       "datetime.date(2022, 3, 9)"
      ]
     },
     "execution_count": 8,
     "metadata": {},
     "output_type": "execute_result"
    }
   ],
   "source": [
    "from datetime import date, timedelta\n",
    "d = date(2022, 3, 8)\n",
    "d += timedelta(1)\n",
    "d"
   ]
  }
 ],
 "metadata": {
  "kernelspec": {
   "display_name": "Python 3",
   "language": "python",
   "name": "python3"
  },
  "language_info": {
   "codemirror_mode": {
    "name": "ipython",
    "version": 3
   },
   "file_extension": ".py",
   "mimetype": "text/x-python",
   "name": "python",
   "nbconvert_exporter": "python",
   "pygments_lexer": "ipython3",
   "version": "3.12.2"
  }
 },
 "nbformat": 4,
 "nbformat_minor": 2
}
