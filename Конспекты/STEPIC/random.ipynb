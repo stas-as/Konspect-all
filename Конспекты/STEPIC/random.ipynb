{
 "cells": [
  {
   "cell_type": "code",
   "execution_count": 2,
   "metadata": {},
   "outputs": [],
   "source": [
    "from math import *\n",
    "import random\n",
    "from random import randint as r\n",
    "import numpy as np"
   ]
  },
  {
   "cell_type": "code",
   "execution_count": 3,
   "metadata": {},
   "outputs": [
    {
     "name": "stdout",
     "output_type": "stream",
     "text": [
      "5\n",
      "4\n"
     ]
    }
   ],
   "source": [
    "# как и левая так и правая граница включаются в диапазон вызываемых чисел\n",
    "num1 = r(1,15)\n",
    "num2 = r(2,4)\n",
    "print(num1)\n",
    "print(num2)"
   ]
  },
  {
   "cell_type": "code",
   "execution_count": 4,
   "metadata": {},
   "outputs": [
    {
     "data": {
      "text/plain": [
       "0"
      ]
     },
     "execution_count": 4,
     "metadata": {},
     "output_type": "execute_result"
    }
   ],
   "source": [
    "import random\n",
    "\n",
    "num = random.randrange(0, 101, 10)\n",
    "num"
   ]
  },
  {
   "cell_type": "code",
   "execution_count": 5,
   "metadata": {},
   "outputs": [
    {
     "data": {
      "text/plain": [
       "1.2720686642138324"
      ]
     },
     "execution_count": 5,
     "metadata": {},
     "output_type": "execute_result"
    }
   ],
   "source": [
    "n = random.uniform(1.2,2)\n",
    "n"
   ]
  },
  {
   "cell_type": "code",
   "execution_count": 6,
   "metadata": {},
   "outputs": [
    {
     "data": {
      "text/plain": [
       "[2, 4, 6, 8, 3]"
      ]
     },
     "execution_count": 6,
     "metadata": {},
     "output_type": "execute_result"
    }
   ],
   "source": [
    "numbers = list(range(2, 10, 2)) + [3]\n",
    "numbers"
   ]
  },
  {
   "cell_type": "code",
   "execution_count": 7,
   "metadata": {},
   "outputs": [
    {
     "name": "stdout",
     "output_type": "stream",
     "text": [
      "1 Слишком мaло, попробуйте еще раз\n",
      "1 Слишком мaло, попробуйте еще раз\n",
      "2 Слишком мaло, попробуйте еще раз\n",
      "10 Слишком мaло, попробуйте еще раз\n",
      "20 Слишком мaло, попробуйте еще раз\n",
      "50 Слишком мaло, попробуйте еще раз\n",
      "75 Слишком мaло, попробуйте еще раз\n",
      "90 Слишком мaло, попробуйте еще раз\n",
      "91 Слишком мaло, попробуйте еще раз\n",
      "119 Слишком много, попробуйте еще раз\n",
      "99 Слишком много, попробуйте еще раз\n",
      "95 Слишком много, попробуйте еще раз\n",
      "95 Слишком много, попробуйте еще раз\n",
      "93 Слишком много, попробуйте еще раз\n",
      "Вы угадали, поздравляем!\n"
     ]
    }
   ],
   "source": [
    "num1 = random.randint(1,100)\n",
    "while True:\n",
    "    n = int(input())\n",
    "    if num1 < n:\n",
    "        print(f'{n} Слишком много, попробуйте еще раз')\n",
    "    elif num1 > n:\n",
    "        print(f'{n} Слишком мaло, попробуйте еще раз')\n",
    "    elif n == num1:\n",
    "        print('Вы угадали, поздравляем!')\n",
    "        break"
   ]
  },
  {
   "cell_type": "code",
   "execution_count": 8,
   "metadata": {},
   "outputs": [
    {
     "data": {
      "text/plain": [
       "7"
      ]
     },
     "execution_count": 8,
     "metadata": {},
     "output_type": "execute_result"
    }
   ],
   "source": [
    "from math import *\n",
    "round(log2(100))"
   ]
  },
  {
   "cell_type": "code",
   "execution_count": 10,
   "metadata": {},
   "outputs": [
    {
     "name": "stdout",
     "output_type": "stream",
     "text": [
      "XL35_75PS\n"
     ]
    }
   ],
   "source": [
    "def generate_index():\n",
    "    return(f\"{chr(r(65,90))}{chr(r(65,90))}{r(0,99)}_{r(0,99)}{chr(r(65,90))}{chr(r(65,90))}\")\n",
    "\n",
    "print(generate_index())"
   ]
  },
  {
   "cell_type": "code",
   "execution_count": 20,
   "metadata": {},
   "outputs": [
    {
     "name": "stdout",
     "output_type": "stream",
     "text": [
      "nptir"
     ]
    },
    {
     "data": {
      "text/plain": [
       "[None, None, None, None, None]"
      ]
     },
     "execution_count": 20,
     "metadata": {},
     "output_type": "execute_result"
    }
   ],
   "source": [
    "word = input()\n",
    "n = [i for i in range(len(word))]\n",
    "random.shuffle(n)\n",
    "[print(word[i],end=\"\") for i in n]"
   ]
  },
  {
   "cell_type": "code",
   "execution_count": 41,
   "metadata": {},
   "outputs": [
    {
     "name": "stdout",
     "output_type": "stream",
     "text": [
      "16 53 12 42 9  \n",
      "47 72 54 61 44 \n",
      "52 15 0  43 58 \n",
      "39 27 24 2  62 \n",
      "74 68 25 22 33 \n"
     ]
    }
   ],
   "source": [
    "from random import *\n",
    "matrix = []\n",
    "t = sample(list(range(1,76)), 25)\n",
    "c=0\n",
    "for i in range(5):\n",
    "    matrix.append([])\n",
    "    for _ in range(5):\n",
    "        matrix[i].append([t[c],0][c == 12])\n",
    "        c += 1\n",
    "for el in matrix:\n",
    "    for i in el:\n",
    "        print(str(i).ljust(3),end=\"\")\n",
    "    print()"
   ]
  },
  {
   "cell_type": "code",
   "execution_count": 45,
   "metadata": {},
   "outputs": [
    {
     "name": "stdout",
     "output_type": "stream",
     "text": [
      "30 11 20 39 70 \n",
      "65 8  75 58 18 \n",
      "64 52 0  21 12 \n",
      "31 60 32 24 6  \n",
      "19 41 49 15 5  \n"
     ]
    }
   ],
   "source": [
    "from random import *\n",
    "t = sample(list(range(1,76)), 25)\n",
    "c=0\n",
    "for i in range(5):\n",
    "    for _ in range(5):\n",
    "        print(str([t[c],0][c == 12]).ljust(3),end=\"\")\n",
    "        c += 1\n",
    "    print()"
   ]
  },
  {
   "cell_type": "code",
   "execution_count": 47,
   "metadata": {},
   "outputs": [
    {
     "data": {
      "text/plain": [
       "[4, 0, 1, 2, 3]"
      ]
     },
     "execution_count": 47,
     "metadata": {},
     "output_type": "execute_result"
    }
   ],
   "source": [
    "a = list(range(5))\n",
    "b = [a[-1]] + a[:-1]\n",
    "b"
   ]
  },
  {
   "cell_type": "code",
   "execution_count": 54,
   "metadata": {},
   "outputs": [
    {
     "name": "stdout",
     "output_type": "stream",
     "text": [
      "NKWcrLF\n",
      "HZirGg6\n"
     ]
    }
   ],
   "source": [
    "import string\n",
    "\n",
    "\n",
    "p = string.ascii_letters + string.digits\n",
    "for i in \"lI10oO\":\n",
    "    p = p.replace(i,\"\")\n",
    "def generate_password(length):\n",
    "    return \"\".join(sample(p,length))\n",
    "\n",
    "def generate_passwords(count, length):\n",
    "    return [generate_password(length) for _ in range(count)]\n",
    "\n",
    "n, m = int(input()), int(input())\n",
    "print(*generate_passwords(n, m),sep=\"\\n\")\n"
   ]
  },
  {
   "cell_type": "code",
   "execution_count": 70,
   "metadata": {},
   "outputs": [],
   "source": [
    "import string\n",
    "\n",
    "\n",
    "p_low = \"\".join(set(string.ascii_lowercase) - set(\"ol\"))\n",
    "p_upe = \"\".join(set(string.ascii_uppercase) - set(\"OI\"))\n",
    "p_dig = \"\".join(set(string.digits) - set(\"10\"))\n",
    "p = p_low + p_upe + p_dig\n",
    "def generate_password(length):\n",
    "    result =  list(choice(p_dig) + choice(p_upe) + choice(p_low) + \"\".join(sample(p,length - 3)))\n",
    "    shuffle(result)\n",
    "    return \"\".join(result)\n",
    "def generate_passwords(count, length):\n",
    "    return [generate_password(length) for _ in range(count)]\n",
    "\n",
    "n, m = int(input()), int(input())\n",
    "print(*generate_passwords(n, m),sep=\"\\n\")\n"
   ]
  },
  {
   "cell_type": "code",
   "execution_count": 71,
   "metadata": {},
   "outputs": [
    {
     "data": {
      "text/plain": [
       "'QnkumAq5'"
      ]
     },
     "execution_count": 71,
     "metadata": {},
     "output_type": "execute_result"
    }
   ],
   "source": [
    "generate_password(8)"
   ]
  },
  {
   "cell_type": "code",
   "execution_count": 4,
   "metadata": {},
   "outputs": [
    {
     "name": "stdout",
     "output_type": "stream",
     "text": [
      "None\n"
     ]
    }
   ],
   "source": [
    "import string\n",
    "\n",
    "# объявление функции\n",
    "def is_pangram(text):\n",
    "    set(text.lower()) == set(string.ascii_lowercase + \" \")\n",
    "\n",
    "# считываем данные\n",
    "text = input()\n",
    "\n",
    "# вызываем функцию\n",
    "print(is_pangram(text))"
   ]
  },
  {
   "cell_type": "code",
   "execution_count": 7,
   "metadata": {},
   "outputs": [
    {
     "name": "stdout",
     "output_type": "stream",
     "text": [
      "{'e', 'q', 'b', 'c', 'v', 'i', 'r', ' ', 'f', 'z', 'a', 'd', 'w', 's', 'k', 'm', 'u', 'p', 'n', 'l', 'g', 'x', 'j', 'h', 'y', 'o', 't'}\n"
     ]
    },
    {
     "data": {
      "text/plain": [
       "True"
      ]
     },
     "execution_count": 7,
     "metadata": {},
     "output_type": "execute_result"
    }
   ],
   "source": [
    "a = set(\"Jackdaws love my big sphinx of quartz\".lower())\n",
    "print(a)\n",
    "b = set(string.ascii_lowercase + \" \")\n",
    "b == b"
   ]
  }
 ],
 "metadata": {
  "kernelspec": {
   "display_name": "Python 3",
   "language": "python",
   "name": "python3"
  },
  "language_info": {
   "codemirror_mode": {
    "name": "ipython",
    "version": 3
   },
   "file_extension": ".py",
   "mimetype": "text/x-python",
   "name": "python",
   "nbconvert_exporter": "python",
   "pygments_lexer": "ipython3",
   "version": "3.9.13"
  }
 },
 "nbformat": 4,
 "nbformat_minor": 2
}
