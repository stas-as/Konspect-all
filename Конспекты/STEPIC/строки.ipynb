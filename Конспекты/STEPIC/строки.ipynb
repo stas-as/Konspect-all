{
 "cells": [
  {
   "cell_type": "code",
   "execution_count": null,
   "metadata": {},
   "outputs": [],
   "source": [
    "import string\n",
    "\n",
    "print(string.ascii_letters)\n",
    "print(string.ascii_uppercase)\n",
    "print(string.ascii_lowercase)\n",
    "print(string.digits)\n",
    "print(string.hexdigits)\n",
    "print(string.octdigits)\n",
    "print(string.punctuation)\n",
    "print(string.printable)"
   ]
  },
  {
   "cell_type": "markdown",
   "metadata": {},
   "source": [
    "### Метод `capitalize()`\n",
    "Метод `capitalize()` возвращает копию строки s, в которой первый символ имеет верхний регистр, а все остальные символы имеют нижний регистр.\n",
    "\n",
    "Результатом выполнения следующего кода:\n",
    "```python\n",
    "s = 'foO BaR BAZ quX'\n",
    "print(s.capitalize())\n",
    "```\n",
    "будет:\n",
    "```python\n",
    "Foo bar baz qux\n",
    "```\n",
    "Символы, не являющиеся буквами алфавита, остаются неизменными. Результатом выполнения следующего кода:\n",
    "```python\n",
    "s = 'foo123#BAR#.'\n",
    "print(s.capitalize())\n",
    "```\n",
    "будет:\n",
    "```python\n",
    "Foo123#bar#.\n",
    "```\n",
    "### Метод `swapcase()`\n",
    "Метод `swapcase()` возвращает копию строки s, в которой все символы, имеющие верхний регистр, преобразуются в символы нижнего регистра и наоборот.\n",
    "\n",
    " Результатом выполнения следующего кода:\n",
    "```python\n",
    "s = 'FOO Bar 123 baz qUX'\n",
    "print(s.swapcase())\n",
    "```\n",
    "будет:\n",
    "```python\n",
    "foo bAR 123 BAZ Qux\n",
    "```\n",
    "### Метод `title()`\n",
    "Метод `title()` возвращает копию строки s, в которой первый символ каждого слова переводится в верхний регистр.\n",
    "\n",
    "Результатом выполнения следующего кода:\n",
    "```python\n",
    "s = 'the sun also rises'\n",
    "print(s.title())\n",
    "```\n",
    "будет:\n",
    "```python\n",
    "The Sun Also Rises\n",
    "```\n",
    "Этот метод использует довольно простой алгоритм: он не пытается различить важные и неважные слова и не обрабатывает аббревиатуры и апострофы. Результатом выполнения следующего кода:\n",
    "```python\n",
    "s = \"what's happened to ted's IBM stock?\"\n",
    "print(s.title())\n",
    "```\n",
    "будет:\n",
    "```python\n",
    "What'S Happened To Ted'S Ibm Stock?\n",
    "```\n",
    "###  Метод `lower()`\n",
    "Метод `lower()` возвращает копию строки s, в которой все символы имеют нижний регистр.\n",
    "\n",
    "Результатом выполнения следующего кода:\n",
    "```python\n",
    "s = 'FOO Bar 123 baz qUX'\n",
    "print(s.lower())\n",
    "```\n",
    "будет:\n",
    "```python\n",
    "foo bar 123 baz qux\n",
    "```\n",
    "### Метод `upper()`\n",
    "Метод `upper()` возвращает копию строки s, в которой все символы имеют верхний регистр.\n",
    "\n",
    "Результатом выполнения следующего кода:\n",
    "```python\n",
    "s = 'FOO Bar 123 baz qUX'\n",
    "print(s.upper())\n",
    "```\n",
    "будет:\n",
    "```python\n",
    "FOO BAR 123 BAZ QUX\n",
    "```"
   ]
  },
  {
   "cell_type": "markdown",
   "metadata": {},
   "source": [
    "## Поиск и замена\n",
    "Методы поиска и замены строк внутри других строк.\n",
    "\n",
    "Каждый метод в этой группе поддерживает необязательные аргументы **start** и **end**. Как и в строковых срезах действие метода ограничено частью исходной строки, начинающейся с позиции символа **start** и продолжающейся вплоть до позиции символа **end**, но не включающей ее. Если параметр **start** указан, а параметр **end>**нет, то метод применяется к части исходной строки от **start** до конца строки. Если параметры не заданы, то подразумевается, что **start** = 0 , **end** = len(s).\n",
    "\n",
    "### Метод count()\n",
    "Метод count(**sub**, **start**, **end**) считает количество непересекающихся вхождений подстроки **sub** в исходную строку s.\n",
    "\n",
    "Результатом выполнения следующего кода:\n",
    "```python\n",
    "s = 'foo goo moo'\n",
    "print(s.count('oo'))\n",
    "print(s.count('oo', 0, 8))  # подсчет с 0 по 7 символ\n",
    "```\n",
    "будет:\n",
    "\n",
    "3\n",
    "2\n",
    "### Метод startswith()\n",
    "Метод startswith(**suffix**, **start**, **end**) определяет начинается ли исходная строка s подстрокой **suffix**. Если исходная строка начинается с подстроки **suffix**,метод возвращает значение True, а если нет, то  False.\n",
    "\n",
    "Результатом выполнения следующего кода:\n",
    "```python\n",
    "s = 'foobar'\n",
    "print(s.startswith('foo'))\n",
    "print(s.startswith('baz'))\n",
    "```\n",
    "будет:\n",
    "\n",
    "True\n",
    "False\n",
    "\n",
    "### Метод endswith()\n",
    "Метод endswith(**suffix**, **start**, **end**) определяет оканчивается ли исходная строка s подстрокой **suffix**. Метод возвращает значение True если исходная строка оканчивается на подстроку **suffix** и False в противном случае.\n",
    "\n",
    "Результатом выполнения следующего кода:\n",
    "```python\n",
    "s = 'foobar'\n",
    "print(s.endswith('bar'))\n",
    "print(s.endswith('baz'))\n",
    "```\n",
    "будет:\n",
    "\n",
    "True\n",
    "False\n",
    "\n",
    "### Методы find(), rfind()\n",
    "Метод find(**sub**, **start**, **end**) находит индекс первого вхождения подстроки **sub** в исходной строке s. Если строка s не содержит подстроки **sub**, то метод возвращает значение -1. Мы можем использовать данный метод наравне с оператором in для проверки: содержит ли заданная строка некоторую подстроку или нет.\n",
    "\n",
    "Результатом выполнения следующего кода:\n",
    "```python\n",
    "s = 'foo bar foo baz foo qux'\n",
    "print(s.find('foo'))\n",
    "print(s.find('bar'))\n",
    "print(s.find('qu'))\n",
    "print(s.find('python'))\n",
    "```\n",
    "будет:\n",
    "\n",
    "0\n",
    "4\n",
    "20\n",
    "-1\n",
    "Метод rfind(**sub**, **start**, **end**) идентичен методу find(**sub**, **start**, **end**), за тем исключением, что он ищет первое вхождение подстроки **sub** начиная с конца строки s.\n",
    "\n",
    "### Методы index(), rindex()\n",
    "Метод index(**sub**, **start**, **end**) идентичен методу find(**sub**, **start**, **end**), за тем исключением, что он вызывает ошибку  ValueError: substring not found во время выполнения программы, если подстрока **sub** не найдена.\n",
    "\n",
    "Метод rindex(**sub**, **start**, **end**) идентичен методу index(**sub**, **start**, **end**), за тем исключением, что он ищет первое вхождение подстроки **sub** начиная с конца строки s.\n",
    "\n",
    "Методы find() и rfind() являются более безопасными чем index() и rindex(), так как не приводят к возникновению ошибки во время выполнения программы.\n",
    "\n",
    "### Метод strip()\n",
    "\n",
    "Метод strip() возвращает копию строки s у которой удалены все пробелы стоящие в начале и конце строки.\n",
    "\n",
    "Результатом выполнения следующего кода:\n",
    "```python\n",
    "s = '     foo bar foo baz foo qux      '\n",
    "print(s.strip())\n",
    "```\n",
    "будет:\n",
    "\n",
    "foo bar foo baz foo qux\n",
    "\n",
    "### Метод lstrip()\n",
    "Метод lstrip() возвращает копию строки s у которой удалены все пробелы стоящие в начале строки.\n",
    "\n",
    "Результатом выполнения следующего кода:\n",
    "```python\n",
    "s = '     foo bar foo baz foo qux      '\n",
    "print(s.lstrip())\n",
    "```\n",
    "будет:\n",
    "\n",
    "foo bar foo baz foo qux⎵ ⎵ ⎵ ⎵ ⎵ ⎵\n",
    "\n",
    "### Метод rstrip()\n",
    "Метод rstrip() возвращает копию строки s у которой удалены все пробелы стоящие в конце строки.\n",
    "\n",
    "Результатом выполнения следующего кода:\n",
    "```python\n",
    "s = '      foo bar foo baz foo qux      '\n",
    "print(s.rstrip())\n",
    "```\n",
    "будет:\n",
    "\n",
    "⎵ ⎵ ⎵ ⎵ ⎵ ⎵foo bar foo baz foo qux\n",
    " \n",
    "\n",
    "Методы strip(), lstrip(), rstrip() могут принимать на вход опциональный аргумент**chars**. Необязательный аргумент **chars**– это строка, которая определяет набор символов для удаления.\n",
    "\n",
    "### Метод replace()\n",
    "Метод replace(**old**, **new**) возвращает копию s со всеми вхождениями подстроки **old**, замененными на **new**.\n",
    "\n",
    "Результатом выполнения следующего кода:\n",
    "```python\n",
    "s = 'foo bar foo baz foo qux'\n",
    "print(s.replace('foo', 'grault'))\n",
    "```\n",
    "будет:\n",
    "\n",
    "grault bar grault baz grault qux\n",
    "Метод replace() может принимать опциональный третий аргумент **count**,  который определяет количество замен.\n",
    "\n",
    "Результатом выполнения следующего кода:\n",
    "```python\n",
    "s = 'foo bar foo baz foo qux'\n",
    "print(s.replace('foo', 'grault', 2))\n",
    "```\n",
    "будет:\n",
    "\n",
    "grault bar grault baz foo qux"
   ]
  },
  {
   "cell_type": "code",
   "execution_count": 1,
   "metadata": {},
   "outputs": [
    {
     "name": "stdout",
     "output_type": "stream",
     "text": [
      "Аденин: 1\n",
      "Гуанин: 4\n",
      "Цитозин: 3\n",
      "Тимин: 3\n"
     ]
    }
   ],
   "source": [
    "a = str(input())\n",
    "print(\"Аденин: \" + str(a.count(\"А\") + a.count(\"а\")))\n",
    "print(f\"Гуанин: \" + str(a.count(\"Г\") + a.count(\"г\")))\n",
    "print(f\"Цитозин: \" + str(a.count(\"Ц\") + a.count(\"ц\")))\n",
    "print(f\"Тимин: \" + str(a.count(\"Т\") + a.count(\"т\")))"
   ]
  },
  {
   "cell_type": "code",
   "execution_count": 2,
   "metadata": {},
   "outputs": [
    {
     "data": {
      "text/plain": [
       "2"
      ]
     },
     "execution_count": 2,
     "metadata": {},
     "output_type": "execute_result"
    }
   ],
   "source": [
    "a = \"1111\"\n",
    "a.count(\"11\")"
   ]
  },
  {
   "cell_type": "code",
   "execution_count": 7,
   "metadata": {},
   "outputs": [
    {
     "name": "stdout",
     "output_type": "stream",
     "text": [
      "rerrfergrweffewewf\n"
     ]
    }
   ],
   "source": [
    "a = 14\n",
    "b = \"fsfftsfufksttskskt\"\n",
    "c=\"\"\n",
    "for i in b:\n",
    "    n = ord(i) - a\n",
    "    if n < 97:\n",
    "        c = c + chr(123 - (97 - n)) \n",
    "    else:\n",
    "        c = c + chr(n)\n",
    "print(c)"
   ]
  },
  {
   "cell_type": "code",
   "execution_count": 6,
   "metadata": {},
   "outputs": [
    {
     "name": "stdout",
     "output_type": "stream",
     "text": [
      "97 98 99 100 101 102 103 104 105 106 107 108 109 110 111 112 113 114 115 116 117 118 119 120 121 122 "
     ]
    }
   ],
   "source": [
    "for i in  range(ord(\"a\"),ord(\"z\")+1):\n",
    "    print(i,end=\" \")"
   ]
  },
  {
   "cell_type": "code",
   "execution_count": 2,
   "metadata": {},
   "outputs": [
    {
     "name": "stdout",
     "output_type": "stream",
     "text": [
      "yton\n"
     ]
    }
   ],
   "source": [
    "a = input()\n",
    "b = \"\"\n",
    "count= 0\n",
    "for i in a:\n",
    "    if count == 0 or count == 3:\n",
    "        count = 1\n",
    "        continue\n",
    "    b += i\n",
    "    count +=1\n",
    "print(b)"
   ]
  },
  {
   "cell_type": "code",
   "execution_count": 16,
   "metadata": {},
   "outputs": [
    {
     "name": "stdout",
     "output_type": "stream",
     "text": [
      "-1\n"
     ]
    }
   ],
   "source": [
    "a = input()\n",
    "fast_f = a.find(\"f\")\n",
    "while True:\n",
    "    if fast_f >= 0:\n",
    "        b = a[fast_f+1:]\n",
    "        last_f = b.find(\"f\")\n",
    "        if last_f == -1:\n",
    "            print(-1)\n",
    "            break\n",
    "        else:\n",
    "            print(last_f + (len(a)-len(b)))\n",
    "            break\n",
    "    else:\n",
    "        print(-2)\n",
    "        break"
   ]
  },
  {
   "cell_type": "code",
   "execution_count": 20,
   "metadata": {},
   "outputs": [
    {
     "name": "stdout",
     "output_type": "stream",
     "text": [
      "abch54321h\n"
     ]
    }
   ],
   "source": [
    "a = input()\n",
    "fast_h = a.find(\"h\")\n",
    "last_h = a.rfind(\"h\")\n",
    "fast_s = a[:fast_h+1]\n",
    "body_s = a[fast_h+1:last_h]\n",
    "last_s = a[last_h:]\n",
    "print(fast_s + body_s[::-1] + last_s)\n"
   ]
  },
  {
   "cell_type": "code",
   "execution_count": 13,
   "metadata": {},
   "outputs": [
    {
     "name": "stdout",
     "output_type": "stream",
     "text": [
      "2444\n"
     ]
    }
   ],
   "source": [
    "number = input()\n",
    "print(int(number))"
   ]
  },
  {
   "cell_type": "code",
   "execution_count": 20,
   "metadata": {},
   "outputs": [
    {
     "name": "stdout",
     "output_type": "stream",
     "text": [
      "1,000,000,000\n"
     ]
    }
   ],
   "source": [
    "a = input()\n",
    "c, n = 0, \"\"\n",
    "for i in a[::-1]:\n",
    "    c +=1\n",
    "    n += i\n",
    "    if c % 3 == 0:\n",
    "        n +=\",\"\n",
    "\n",
    "print(n[::-1])"
   ]
  },
  {
   "cell_type": "code",
   "execution_count": 33,
   "metadata": {},
   "outputs": [
    {
     "name": "stdout",
     "output_type": "stream",
     "text": [
      "2\n"
     ]
    }
   ],
   "source": [
    "n = [i for i in range(1,int(input())+1)]\n",
    "k = int(input())\n",
    "def numd(n,k):\n",
    "    c = 0\n",
    "    new = []\n",
    "    if k == 1:\n",
    "        return n[-1]\n",
    "    while len(n) != 1:\n",
    "        new = []\n",
    "        for i in n:\n",
    "            c+=1\n",
    "            if c % k == 0:\n",
    "                continue\n",
    "            new.append(i)\n",
    "        n = new \n",
    "    return(n[0])   \n",
    "print(numd(n,k))"
   ]
  },
  {
   "cell_type": "code",
   "execution_count": 35,
   "metadata": {},
   "outputs": [
    {
     "data": {
      "text/plain": [
       "3"
      ]
     },
     "execution_count": 35,
     "metadata": {},
     "output_type": "execute_result"
    }
   ],
   "source": [
    "import math \n",
    "math.ceil(5/2)"
   ]
  }
 ],
 "metadata": {
  "kernelspec": {
   "display_name": "Python 3",
   "language": "python",
   "name": "python3"
  },
  "language_info": {
   "codemirror_mode": {
    "name": "ipython",
    "version": 3
   },
   "file_extension": ".py",
   "mimetype": "text/x-python",
   "name": "python",
   "nbconvert_exporter": "python",
   "pygments_lexer": "ipython3",
   "version": "3.9.13"
  },
  "orig_nbformat": 4
 },
 "nbformat": 4,
 "nbformat_minor": 2
}
