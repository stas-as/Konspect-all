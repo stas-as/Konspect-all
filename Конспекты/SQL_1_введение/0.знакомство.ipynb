{
 "cells": [
  {
   "attachments": {},
   "cell_type": "markdown",
   "metadata": {},
   "source": [
    "\n",
    "- T-SQL – диалект Microsoft SQL Server\n",
    "\n",
    "- PL/SQL – диалект Oracle Database\n",
    "\n",
    "- PL/pgSQL – диалект PostgreSQL"
   ]
  },
  {
   "attachments": {},
   "cell_type": "markdown",
   "metadata": {},
   "source": [
    "ВИДЫ ОПЕРАТОРОВ SQL\n",
    "\n",
    "Операторы SQL делятся на:\n",
    "\n",
    "\n",
    "- операторы определения данных (Data Definition Language, DDL) — с их помощью создаются и изменяются объекты в БД (сама БД, таблицы, функции, процедуры, пользователи и т. д.);\n",
    "\n",
    "- операторы манипуляции данными (Data Manipulation Language, DML) — с их помощью проводятся манипуляции с данными в таблицах;\n",
    "\n",
    "- операторы определения доступа к данным (Data Control Language, DCL) — с их помощью, как следует из названия, создаются и изменяются разрешения на определённые операции с объектами в БД;\n",
    "\n",
    "- операторы управления транзакциями (Transaction Control Language, TCL) — с их помощью осуществляется комплекс определённых действий, причём так, что либо все эти действия выполняются успешно, либо ни одно из них не выполняется вообще."
   ]
  },
  {
   "attachments": {},
   "cell_type": "markdown",
   "metadata": {},
   "source": [
    "IN\n",
    "\n",
    "Ещё один полезный оператор для фильтрации строк — IN.\n",
    "\n",
    "Конструкции с IN имеют следующий вид:\n",
    "\n",
    "column IN (value1, value2, value3)\n",
    "Эта запись аналогична следующей: column = value1 OR column = value2 OR column = value3 — но выглядит проще и компактнее."
   ]
  }
 ],
 "metadata": {
  "kernelspec": {
   "display_name": "Python 3",
   "language": "python",
   "name": "python3"
  },
  "language_info": {
   "codemirror_mode": {
    "name": "ipython",
    "version": 3
   },
   "file_extension": ".py",
   "mimetype": "text/x-python",
   "name": "python",
   "nbconvert_exporter": "python",
   "pygments_lexer": "ipython3",
   "version": "3.9.13"
  },
  "orig_nbformat": 4
 },
 "nbformat": 4,
 "nbformat_minor": 2
}
