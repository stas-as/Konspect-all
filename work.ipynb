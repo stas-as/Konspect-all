{
 "cells": [
  {
   "cell_type": "code",
   "execution_count": 1,
   "metadata": {},
   "outputs": [
    {
     "name": "stdout",
     "output_type": "stream",
     "text": [
      "hello Gor\n"
     ]
    }
   ],
   "source": [
    "import numpy as np\n",
    "print(\"hello Gor\")"
   ]
  },
  {
   "attachments": {},
   "cell_type": "markdown",
   "metadata": {},
   "source": [
    "## Start"
   ]
  },
  {
   "cell_type": "code",
   "execution_count": 2,
   "metadata": {},
   "outputs": [
    {
     "data": {
      "text/plain": [
       "''"
      ]
     },
     "execution_count": 2,
     "metadata": {},
     "output_type": "execute_result"
    }
   ],
   "source": [
    "b ='Мужчина , 39 лет , родился 27 ноября 1979' \n",
    "a ='Женщина , 21 год , родилась 13 января 2000'\n",
    "\n",
    "def age(x):\n",
    "    split_list = x.split(sep=',')\n",
    "    number = split_list[1].split(sep=' ')\n",
    "    value = number[0]\n",
    "    return value\n",
    "\n",
    "age(a)"
   ]
  },
  {
   "cell_type": "code",
   "execution_count": 3,
   "metadata": {},
   "outputs": [
    {
     "name": "stdout",
     "output_type": "stream",
     "text": [
      "yes\n"
     ]
    }
   ],
   "source": [
    "x = np.NaN\n",
    "\n",
    "if x is np.NaN:\n",
    "    print('yes')"
   ]
  },
  {
   "cell_type": "code",
   "execution_count": 4,
   "metadata": {},
   "outputs": [
    {
     "data": {
      "text/plain": [
       "nan"
      ]
     },
     "execution_count": 4,
     "metadata": {},
     "output_type": "execute_result"
    }
   ],
   "source": [
    "x"
   ]
  },
  {
   "cell_type": "code",
   "execution_count": 5,
   "metadata": {},
   "outputs": [],
   "source": [
    "def wor_number(x):\n",
    "    if x is np.NaN:\n",
    "        return x\n",
    "    split_list = x.split(sep=' ')\n",
    "    lens = len(split_list)\n",
    "    for i in range(0,lens):\n",
    "        if split_list[i] == 'четыре':\n",
    "            split_list[i] = 4"
   ]
  },
  {
   "cell_type": "code",
   "execution_count": 6,
   "metadata": {},
   "outputs": [
    {
     "name": "stdout",
     "output_type": "stream",
     "text": [
      "False\n"
     ]
    }
   ],
   "source": [
    "a = \"Советск (Калининградская область) , не готов к переезду , не готов к командировкам\"\n",
    "\n",
    "def sity(x):\n",
    "    if x is np.NaN:\n",
    "        return x\n",
    "    million_cities = ['Новосибирск', 'Екатеринбург','Нижний Новгород','Казань', 'Челябинск','Омск', 'Самара', 'Ростов-на-Дону', 'Уфа', 'Красноярск', 'Пермь', 'Воронеж','Волгоград']\n",
    "    stolica = [\"Москва\", \"Санкт-Петербург\"]\n",
    "    split_sity = x.split(sep=\",\")\n",
    "    sity_result = split_sity[0]\n",
    "    result = sity_result.split(sep=' ')\n",
    "    value = result[0]\n",
    "    if value in million_cities:\n",
    "        return \"город-миллионник\"\n",
    "    elif value in stolica:\n",
    "        return value\n",
    "    else:\n",
    "        return \"другие\"\n",
    "\n",
    "def relocation(x):\n",
    "    if x is np.NaN:\n",
    "        return x\n",
    "    split_sity = x.split(sep=\",\")\n",
    "    if len(split_sity) == 3:\n",
    "        relocation_result = split_sity[1]\n",
    "    else:\n",
    "        relocation_result = split_sity[2]\n",
    "    result = relocation_result.split(sep=' ')\n",
    "    value = result[1]\n",
    "    if value == 'не':\n",
    "        return False\n",
    "    else:\n",
    "        return True\n",
    "\n",
    "\n",
    "def comandirovka(x):\n",
    "    if x is np.NaN:\n",
    "        return x\n",
    "    split_sity = x.split(sep=\",\")\n",
    "    if len(split_sity) == 3:\n",
    "        relocation_result = split_sity[2]\n",
    "    else:\n",
    "        relocation_result = split_sity[3]\n",
    "    result = relocation_result.split(sep=' ')\n",
    "    value = result[1]\n",
    "    if value == 'не':\n",
    "        return False\n",
    "    else:\n",
    "        return True\n",
    "        \n",
    "        \n",
    "\n",
    "print(comandirovka(a))"
   ]
  },
  {
   "cell_type": "code",
   "execution_count": 7,
   "metadata": {},
   "outputs": [
    {
     "data": {
      "text/plain": [
       "'м'"
      ]
     },
     "execution_count": 7,
     "metadata": {},
     "output_type": "execute_result"
    }
   ],
   "source": [
    "a[-1]"
   ]
  },
  {
   "cell_type": "code",
   "execution_count": null,
   "metadata": {},
   "outputs": [],
   "source": [
    "config = {\"server\": {\"host\": \"127.0.0.1\",\"port\": \"22\"},\"configuration\": {\"ssh\": {\"access\": True,\"login\": \"some\",\"password\": \"some\"},\"name\": \"2491Oaaf1414\"}}"
   ]
  },
  {
   "attachments": {},
   "cell_type": "markdown",
   "metadata": {},
   "source": [
    "Вам предоставлен словарь products, ключами которого являются названия продуктов, а значениями — их цены. Затем к вам приходит другой словарь (stocks), ключи которого — товары, а значения — скидки (в процентах) на товары.\n",
    "\n",
    "Напишите функцию apply_discounts(products, stocks), которая снижает цену продуктов в словаре products на указанный в словаре stocks процент. Функция должна вернуть результирующий словарь, ключи которого — товары, а значения — новые цены. Если продукта из словаря stocks нет в словаре products, то его необходимо пропустить. Цены округлите до второго знака после запятой."
   ]
  },
  {
   "cell_type": "code",
   "execution_count": 4,
   "metadata": {},
   "outputs": [
    {
     "name": "stdout",
     "output_type": "stream",
     "text": [
      "{'Oranges (packaged)': 114.99, 'Candy (Rotfront)': 280.0, 'Boiled sausage': 133.99, 'Juice J7 (orange)': 105.59, 'Trout (Seven Seas)': 327.99}\n"
     ]
    }
   ],
   "source": [
    "products = {\n",
    "    'Oranges (packaged)': 114.99, \n",
    "    'Candy (Rotfront)': 280.0, \n",
    "    'Boiled sausage': 199.99, \n",
    "    'Juice J7 (orange)': 119.99, \n",
    "    'Trout (Seven Seas)': 399.99\n",
    "}\n",
    "stocks = {'Boiled sausage': '33%', \n",
    "          'Juice J7 (orange)': '12%', \n",
    "          'Trout (Seven Seas)': '18%'\n",
    "}\n",
    "\n",
    "def apply_discounts(products, stocks):\n",
    "    new_dict = products\n",
    "    for key,values in stocks.items():\n",
    "        stocks[key] = int(stocks[key].replace(\"%\",''))\n",
    "        new_dict[key] = round(new_dict[key] - (new_dict[key] / 100 * stocks[key]),2)\n",
    "    return new_dict\n",
    "\n",
    "\n",
    "\n",
    "\n",
    "\n",
    "print(apply_discounts(products, stocks))\n"
   ]
  },
  {
   "cell_type": "code",
   "execution_count": 5,
   "metadata": {},
   "outputs": [
    {
     "data": {
      "text/plain": [
       "'18'"
      ]
     },
     "execution_count": 5,
     "metadata": {},
     "output_type": "execute_result"
    }
   ],
   "source": [
    "a = '18%'\n",
    "a = a.replace(\"%\",'')\n",
    "a"
   ]
  },
  {
   "cell_type": "code",
   "execution_count": 6,
   "metadata": {},
   "outputs": [
    {
     "name": "stdout",
     "output_type": "stream",
     "text": [
      "{'Oranges (packaged)': 97.74, 'Candy (Rotfront)': 140.0, 'Boiled sausage': 179.99, 'Juice J7 (orange)': 119.99, 'Trout (Seven Seas)': 399.99}\n"
     ]
    }
   ],
   "source": [
    "products = {'Oranges (packaged)': 114.99, 'Candy (Rotfront)': 280.0, 'Boiled sausage': 199.99, 'Juice J7 (orange)': 119.99, 'Trout (Seven Seas)': 399.99}\n",
    "stocks = {'Oranges (packaged)': '15%', 'Boiled sausage': '10%', 'Candy (Rotfront)': '50%', 'Diapers': '10%'}\n",
    "\n",
    "def apply_discounts(products, stocks):\n",
    "    new_dict = products\n",
    "    for key,values in stocks.items():\n",
    "        if key not in new_dict.keys():\n",
    "            continue\n",
    "        stocks[key] = int(stocks[key].replace(\"%\",''))\n",
    "        new_dict[key] = round(new_dict[key] - (new_dict[key] / 100 * stocks[key]),2)\n",
    "    return new_dict\n",
    "\n",
    "\n",
    "\n",
    "\n",
    "\n",
    "print(apply_discounts(products, stocks))"
   ]
  },
  {
   "cell_type": "code",
   "execution_count": 8,
   "metadata": {},
   "outputs": [],
   "source": [
    "import pandas as pd\n",
    "silver_top = pd.DataFrame({\n",
    "    'country': ['United States', 'Soviet Union', 'United Kingdom', 'France', 'Italy'],\n",
    "    'Total': [1195.0,627.0,591.0,461.0,394.0]\n",
    "})\n",
    "silver_top.index = [0,1,2,3,4]\n",
    "\n",
    "bronze_top = pd.DataFrame({\n",
    "    'country': ['United States', 'Soviet Union', 'United Kingdom', 'France', 'Germany'],\n",
    "    'Total': [1052.0,584.0,505.0,475.0,454.0]\n",
    "})\n",
    "bronze_top.index = [0,1,2,3,4]\n"
   ]
  },
  {
   "cell_type": "code",
   "execution_count": 11,
   "metadata": {},
   "outputs": [
    {
     "data": {
      "text/html": [
       "<div>\n",
       "<style scoped>\n",
       "    .dataframe tbody tr th:only-of-type {\n",
       "        vertical-align: middle;\n",
       "    }\n",
       "\n",
       "    .dataframe tbody tr th {\n",
       "        vertical-align: top;\n",
       "    }\n",
       "\n",
       "    .dataframe thead th {\n",
       "        text-align: right;\n",
       "    }\n",
       "</style>\n",
       "<table border=\"1\" class=\"dataframe\">\n",
       "  <thead>\n",
       "    <tr style=\"text-align: right;\">\n",
       "      <th></th>\n",
       "      <th>country</th>\n",
       "      <th>Total</th>\n",
       "    </tr>\n",
       "  </thead>\n",
       "  <tbody>\n",
       "    <tr>\n",
       "      <th>0</th>\n",
       "      <td>United States</td>\n",
       "      <td>1195.0</td>\n",
       "    </tr>\n",
       "    <tr>\n",
       "      <th>1</th>\n",
       "      <td>Soviet Union</td>\n",
       "      <td>627.0</td>\n",
       "    </tr>\n",
       "    <tr>\n",
       "      <th>2</th>\n",
       "      <td>United Kingdom</td>\n",
       "      <td>591.0</td>\n",
       "    </tr>\n",
       "    <tr>\n",
       "      <th>3</th>\n",
       "      <td>France</td>\n",
       "      <td>461.0</td>\n",
       "    </tr>\n",
       "    <tr>\n",
       "      <th>4</th>\n",
       "      <td>Italy</td>\n",
       "      <td>394.0</td>\n",
       "    </tr>\n",
       "  </tbody>\n",
       "</table>\n",
       "</div>"
      ],
      "text/plain": [
       "          country   Total\n",
       "0   United States  1195.0\n",
       "1    Soviet Union   627.0\n",
       "2  United Kingdom   591.0\n",
       "3          France   461.0\n",
       "4           Italy   394.0"
      ]
     },
     "metadata": {},
     "output_type": "display_data"
    },
    {
     "data": {
      "text/html": [
       "<div>\n",
       "<style scoped>\n",
       "    .dataframe tbody tr th:only-of-type {\n",
       "        vertical-align: middle;\n",
       "    }\n",
       "\n",
       "    .dataframe tbody tr th {\n",
       "        vertical-align: top;\n",
       "    }\n",
       "\n",
       "    .dataframe thead th {\n",
       "        text-align: right;\n",
       "    }\n",
       "</style>\n",
       "<table border=\"1\" class=\"dataframe\">\n",
       "  <thead>\n",
       "    <tr style=\"text-align: right;\">\n",
       "      <th></th>\n",
       "      <th>country</th>\n",
       "      <th>Total</th>\n",
       "    </tr>\n",
       "  </thead>\n",
       "  <tbody>\n",
       "    <tr>\n",
       "      <th>0</th>\n",
       "      <td>United States</td>\n",
       "      <td>1052.0</td>\n",
       "    </tr>\n",
       "    <tr>\n",
       "      <th>1</th>\n",
       "      <td>Soviet Union</td>\n",
       "      <td>584.0</td>\n",
       "    </tr>\n",
       "    <tr>\n",
       "      <th>2</th>\n",
       "      <td>United Kingdom</td>\n",
       "      <td>505.0</td>\n",
       "    </tr>\n",
       "    <tr>\n",
       "      <th>3</th>\n",
       "      <td>France</td>\n",
       "      <td>475.0</td>\n",
       "    </tr>\n",
       "    <tr>\n",
       "      <th>4</th>\n",
       "      <td>Germany</td>\n",
       "      <td>454.0</td>\n",
       "    </tr>\n",
       "  </tbody>\n",
       "</table>\n",
       "</div>"
      ],
      "text/plain": [
       "          country   Total\n",
       "0   United States  1052.0\n",
       "1    Soviet Union   584.0\n",
       "2  United Kingdom   505.0\n",
       "3          France   475.0\n",
       "4         Germany   454.0"
      ]
     },
     "metadata": {},
     "output_type": "display_data"
    }
   ],
   "source": [
    "display(silver_top),\n",
    "display(bronze_top)"
   ]
  },
  {
   "cell_type": "code",
   "execution_count": 14,
   "metadata": {},
   "outputs": [
    {
     "data": {
      "text/html": [
       "<div>\n",
       "<style scoped>\n",
       "    .dataframe tbody tr th:only-of-type {\n",
       "        vertical-align: middle;\n",
       "    }\n",
       "\n",
       "    .dataframe tbody tr th {\n",
       "        vertical-align: top;\n",
       "    }\n",
       "\n",
       "    .dataframe thead th {\n",
       "        text-align: right;\n",
       "    }\n",
       "</style>\n",
       "<table border=\"1\" class=\"dataframe\">\n",
       "  <thead>\n",
       "    <tr style=\"text-align: right;\">\n",
       "      <th></th>\n",
       "      <th>country</th>\n",
       "      <th>Total_bronze</th>\n",
       "      <th>Total_silver</th>\n",
       "    </tr>\n",
       "  </thead>\n",
       "  <tbody>\n",
       "    <tr>\n",
       "      <th>0</th>\n",
       "      <td>United States</td>\n",
       "      <td>1052.0</td>\n",
       "      <td>1195.0</td>\n",
       "    </tr>\n",
       "    <tr>\n",
       "      <th>1</th>\n",
       "      <td>Soviet Union</td>\n",
       "      <td>584.0</td>\n",
       "      <td>627.0</td>\n",
       "    </tr>\n",
       "    <tr>\n",
       "      <th>2</th>\n",
       "      <td>United Kingdom</td>\n",
       "      <td>505.0</td>\n",
       "      <td>591.0</td>\n",
       "    </tr>\n",
       "    <tr>\n",
       "      <th>3</th>\n",
       "      <td>France</td>\n",
       "      <td>475.0</td>\n",
       "      <td>461.0</td>\n",
       "    </tr>\n",
       "  </tbody>\n",
       "</table>\n",
       "</div>"
      ],
      "text/plain": [
       "          country  Total_bronze  Total_silver\n",
       "0   United States        1052.0        1195.0\n",
       "1    Soviet Union         584.0         627.0\n",
       "2  United Kingdom         505.0         591.0\n",
       "3          France         475.0         461.0"
      ]
     },
     "execution_count": 14,
     "metadata": {},
     "output_type": "execute_result"
    }
   ],
   "source": [
    "merged = bronze_top.join(\n",
    "    silver_top.set_index('country'),\n",
    "    how='inner',\n",
    "    on='country',\n",
    "    lsuffix='_bronze',\n",
    "    rsuffix='_silver'\n",
    ")\n",
    "merged"
   ]
  }
 ],
 "metadata": {
  "kernelspec": {
   "display_name": "Python 3",
   "language": "python",
   "name": "python3"
  },
  "language_info": {
   "codemirror_mode": {
    "name": "ipython",
    "version": 3
   },
   "file_extension": ".py",
   "mimetype": "text/x-python",
   "name": "python",
   "nbconvert_exporter": "python",
   "pygments_lexer": "ipython3",
   "version": "3.9.13"
  },
  "orig_nbformat": 4,
  "vscode": {
   "interpreter": {
    "hash": "8f8cf99212f81ad0c4765861267244807ee1c18364846cdce387b28994a977ba"
   }
  }
 },
 "nbformat": 4,
 "nbformat_minor": 2
}
