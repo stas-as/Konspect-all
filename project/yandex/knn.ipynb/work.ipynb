{
 "cells": [
  {
   "cell_type": "code",
   "execution_count": 2,
   "metadata": {},
   "outputs": [
    {
     "data": {
      "text/plain": [
       "sklearn.neighbors._unsupervised.NearestNeighbors"
      ]
     },
     "execution_count": 2,
     "metadata": {},
     "output_type": "execute_result"
    }
   ],
   "source": [
    "from sklearn.neighbors import NearestNeighbors\n",
    "\n",
    "NearestNeighbors"
   ]
  },
  {
   "cell_type": "code",
   "execution_count": 28,
   "metadata": {},
   "outputs": [
    {
     "name": "stdout",
     "output_type": "stream",
     "text": [
      "[[1.         3.60555128 2.82842712 4.        ]\n",
      " [3.60555128 1.         4.         2.82842712]\n",
      " [3.16227766 4.         1.         2.23606798]\n",
      " [6.         4.24264069 3.60555128 1.        ]]\n"
     ]
    }
   ],
   "source": [
    "# Вычисляем квадрат разницы между всеми парами точек\n",
    "import numpy as np\n",
    "X = np.array([[0,2],[-2,0],[1,0],[0,-3]])\n",
    "X_train = np.array([[0,3],[-3,0],[2,0],[0,-2]])\n",
    "num_test = X.shape[0]\n",
    "num_train = X_train.shape[0]\n",
    "dists = np.zeros((num_test, num_train))\n",
    "\n",
    "differences = X[:, np.newaxis, :] - X_train  # Добавляем новую ось для обучающего набора\n",
    "squared_differences = differences ** 2  # Возводим в квадрат\n",
    "sum_squared_differences = np.sum(squared_differences, axis=2)  # Суммируем квадраты по всем признакам\n",
    "dists = np.sqrt(sum_squared_differences)  # Извлекаем корень\n",
    "y_train = np.array([0,1,0,1])\n",
    "print(dists)"
   ]
  },
  {
   "cell_type": "code",
   "execution_count": 29,
   "metadata": {},
   "outputs": [
    {
     "ename": "IndentationError",
     "evalue": "expected an indented block (3821627162.py, line 41)",
     "output_type": "error",
     "traceback": [
      "\u001b[1;36m  Cell \u001b[1;32mIn[29], line 41\u001b[1;36m\u001b[0m\n\u001b[1;33m    return y_pred\u001b[0m\n\u001b[1;37m    ^\u001b[0m\n\u001b[1;31mIndentationError\u001b[0m\u001b[1;31m:\u001b[0m expected an indented block\n"
     ]
    }
   ],
   "source": [
    "def predict_labels(self, dists, k=1):\n",
    "    \"\"\"\n",
    "    Given a matrix of distances between test points and training points,\n",
    "    predict a label for each test point.\n",
    "\n",
    "    Inputs:\n",
    "    - dists: A numpy array of shape (num_test, num_train) where dists[i, j]\n",
    "        gives the distance betwen the ith test point and the jth training point.\n",
    "\n",
    "    Returns:\n",
    "    - y: A numpy array of shape (num_test,) containing predicted labels for the\n",
    "        test data, where y[i] is the predicted label for the test point X[i].\n",
    "    \"\"\"\n",
    "    num_test = dists.shape[0]\n",
    "    y_pred = np.zeros(num_test)\n",
    "    for i in range(num_test):\n",
    "        # A list of length k storing the labels of the k nearest neighbors to\n",
    "        # the ith test point.\n",
    "        #########################################################################\n",
    "        # TODO:                                                                 #\n",
    "        # Use the distance matrix to find the k nearest neighbors of the ith    #\n",
    "        # testing point, and use self.y_train to find the labels of these       #\n",
    "        # neighbors. Store these labels in closest_y.                           #\n",
    "        # Hint: Look up the function numpy.argsort.                             #\n",
    "        #########################################################################\n",
    "        # *****START OF YOUR CODE (DO NOT DELETE/MODIFY THIS LINE)*****\n",
    "\n",
    "        # *****END OF YOUR CODE (DO NOT DELETE/MODIFY THIS LINE)*****\n",
    "        #########################################################################\n",
    "        # TODO:                                                                 #\n",
    "        # Now that you have found the labels of the k nearest neighbors, you    #\n",
    "        # need to find the most common label in the list closest_y of labels.   #\n",
    "        # Store this label in y_pred[i]. Break ties by choosing the smaller     #\n",
    "        # label.                                                                #\n",
    "        #########################################################################\n",
    "        # *****START OF YOUR CODE (DO NOT DELETE/MODIFY THIS LINE)*****\n",
    "        \n",
    "\n",
    "        # *****END OF YOUR CODE (DO NOT DELETE/MODIFY THIS LINE)*****\n",
    "\n",
    "    return y_pred"
   ]
  },
  {
   "cell_type": "code",
   "execution_count": 30,
   "metadata": {},
   "outputs": [],
   "source": [
    "num_test = dists.shape[0]\n",
    "y_pred = np.zeros(num_test)\n"
   ]
  },
  {
   "cell_type": "code",
   "execution_count": 31,
   "metadata": {},
   "outputs": [
    {
     "data": {
      "text/plain": [
       "array([[1.        , 3.60555128, 2.82842712, 4.        ],\n",
       "       [3.60555128, 1.        , 4.        , 2.82842712],\n",
       "       [3.16227766, 4.        , 1.        , 2.23606798],\n",
       "       [6.        , 4.24264069, 3.60555128, 1.        ]])"
      ]
     },
     "execution_count": 31,
     "metadata": {},
     "output_type": "execute_result"
    }
   ],
   "source": [
    "dists"
   ]
  },
  {
   "cell_type": "code",
   "execution_count": 32,
   "metadata": {},
   "outputs": [],
   "source": [
    "k=2\n",
    "for i in range(num_test):\n",
    "    # Находим индексы ближайших соседей для i-й тестовой точки\n",
    "    closest_neighbor_indices = np.argsort(dists[i])[:k]\n",
    "    \n",
    "    # Получаем метки ближайших соседей\n",
    "    closest_labels = y_train[closest_neighbor_indices]\n",
    "    \n",
    "    # Подсчитываем, какие метки встречаются чаще всего\n",
    "    counts = np.bincount(closest_labels)\n",
    "    \n",
    "    # Находим метку, которая встречается максимальное количество раз\n",
    "    predicted_label = np.argmax(counts)\n",
    "    \n",
    "    # Сохраняем предсказанную метку\n",
    "    y_pred[i] = predicted_label"
   ]
  },
  {
   "cell_type": "code",
   "execution_count": 33,
   "metadata": {},
   "outputs": [
    {
     "data": {
      "text/plain": [
       "array([0., 1., 0., 0.])"
      ]
     },
     "execution_count": 33,
     "metadata": {},
     "output_type": "execute_result"
    }
   ],
   "source": [
    "y_pred"
   ]
  },
  {
   "cell_type": "code",
   "execution_count": 34,
   "metadata": {},
   "outputs": [
    {
     "data": {
      "text/plain": [
       "<function RandomState.laplace>"
      ]
     },
     "execution_count": 34,
     "metadata": {},
     "output_type": "execute_result"
    }
   ],
   "source": [
    "np.random.laplace"
   ]
  },
  {
   "cell_type": "code",
   "execution_count": null,
   "metadata": {},
   "outputs": [],
   "source": [
    "import numpy as np\n",
    "X = np.array([[0,2],[-2,0],[1,0],[0,-3]])\n",
    "X_train = np.array([[0,3],[-3,0],[2,0],[0,-2]])\n",
    "\n",
    "num_test = X.shape[0]\n",
    "num_train = X_train.shape[0]\n",
    "dists = np.zeros((num_test, num_train))\n",
    "\n"
   ]
  },
  {
   "cell_type": "code",
   "execution_count": 46,
   "metadata": {},
   "outputs": [],
   "source": [
    "\n",
    "differences = X[:, np.newaxis, :] - X_train  \n",
    "squared_differences = differences ** 2  \n",
    "sum_squared_differences = np.sum(squared_differences, axis=2)  \n",
    "dists = np.sqrt(sum_squared_differences)  "
   ]
  },
  {
   "cell_type": "code",
   "execution_count": 47,
   "metadata": {},
   "outputs": [],
   "source": [
    "\n",
    "\n",
    "X_expand = np.expand_dims(X, axis=1)\n",
    "X_train_expand = np.expand_dims(X_train, axis=0)\n",
    "\n",
    "# Вычисляем квадрат разницы между всеми парами точек\n",
    "squared_differences = (X_expand - X_train_expand) ** 2  # Возводим в квадрат\n",
    "sum_squared_differences = np.sum(squared_differences, axis=2)  # Суммируем квадраты по всем признакам\n",
    "dists = np.sqrt(sum_squared_differences)"
   ]
  }
 ],
 "metadata": {
  "language_info": {
   "name": "python"
  }
 },
 "nbformat": 4,
 "nbformat_minor": 2
}
