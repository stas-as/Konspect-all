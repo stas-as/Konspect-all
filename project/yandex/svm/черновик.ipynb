{
 "cells": [
  {
   "cell_type": "code",
   "execution_count": 1,
   "metadata": {},
   "outputs": [
    {
     "name": "stdout",
     "output_type": "stream",
     "text": [
      "[[0.81873075 0.16529889]\n",
      " [0.81873075 0.81873075]\n",
      " [0.16529889 0.81873075]]\n"
     ]
    }
   ],
   "source": [
    "from sklearn.metrics.pairwise import rbf_kernel\n",
    "\n",
    "def radial_basis_function(X, centroids, gamma):\n",
    "    return rbf_kernel(X, centroids, gamma=gamma)\n",
    "\n",
    "# Пример использования\n",
    "import numpy as np\n",
    "\n",
    "X = np.array([[1, 2], [3, 4], [5, 6]])\n",
    "centroids = np.array([[2, 3], [4, 5]])\n",
    "gamma = 0.1\n",
    "\n",
    "output = radial_basis_function(X, centroids, gamma)\n",
    "print(output)"
   ]
  },
  {
   "cell_type": "code",
   "execution_count": null,
   "metadata": {},
   "outputs": [],
   "source": [
    "output =  = np.exp(-(np.linalg.norm(X - centroids)**2 / (2 * gamma ** 2)))"
   ]
  },
  {
   "cell_type": "code",
   "execution_count": null,
   "metadata": {},
   "outputs": [],
   "source": [
    "import torch "
   ]
  }
 ],
 "metadata": {
  "kernelspec": {
   "display_name": "Python 3",
   "language": "python",
   "name": "python3"
  },
  "language_info": {
   "codemirror_mode": {
    "name": "ipython",
    "version": 3
   },
   "file_extension": ".py",
   "mimetype": "text/x-python",
   "name": "python",
   "nbconvert_exporter": "python",
   "pygments_lexer": "ipython3",
   "version": "3.9.13"
  }
 },
 "nbformat": 4,
 "nbformat_minor": 2
}
