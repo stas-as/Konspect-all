{
 "cells": [
  {
   "cell_type": "code",
   "execution_count": 32,
   "metadata": {},
   "outputs": [],
   "source": [
    "import numpy as np\n",
    "import pandas as pd\n",
    "import matplotlib.pyplot as plt\n",
    "import seaborn as sns\n",
    "import plotly\n",
    "import plotly.express as px\n",
    "\n",
    "from sklearn import linear_model\n",
    "from sklearn import tree\n",
    "from sklearn import ensemble\n",
    "from sklearn import metrics\n",
    "from sklearn import preprocessing\n",
    "from sklearn.model_selection import train_test_split"
   ]
  },
  {
   "cell_type": "code",
   "execution_count": 33,
   "metadata": {},
   "outputs": [],
   "source": [
    "df_bund_19_20 = pd.read_csv(\"data_auto/bundus_2019-2020.csv\")\n",
    "df_bund_20_21 = pd.read_csv(\"data_auto/bundus_2020-2021.csv\")\n",
    "df_bund_21_22 = pd.read_csv(\"data/bundes_21-22.csv\") #308\n",
    "df_bund_22_23 = pd.read_csv(\"data/bundes_22-23.csv\") #308/"
   ]
  },
  {
   "cell_type": "code",
   "execution_count": 34,
   "metadata": {},
   "outputs": [],
   "source": [
    "df = pd.concat([df_bund_19_20, df_bund_20_21, df_bund_21_22, df_bund_22_23])\n",
    "df = df.drop('Unnamed: 0',axis=1)\n",
    "df = df.drop('Матчи 1',axis=1)\n",
    "df = df.drop('Матчи 2',axis=1)\n",
    "df = df[df[\"счет1\"] != '-']\n",
    "df = df.reset_index().drop(['index'], axis = 1)"
   ]
  },
  {
   "cell_type": "code",
   "execution_count": 35,
   "metadata": {},
   "outputs": [
    {
     "name": "stderr",
     "output_type": "stream",
     "text": [
      "C:\\Users\\Lenovo\\AppData\\Local\\Temp\\ipykernel_14456\\844337790.py:10: SettingWithCopyWarning: \n",
      "A value is trying to be set on a copy of a slice from a DataFrame\n",
      "\n",
      "See the caveats in the documentation: https://pandas.pydata.org/pandas-docs/stable/user_guide/indexing.html#returning-a-view-versus-a-copy\n",
      "  df['Офсайды  (соперник) 2'][mask_1] = 4.00\n",
      "C:\\Users\\Lenovo\\AppData\\Local\\Temp\\ipykernel_14456\\844337790.py:11: SettingWithCopyWarning: \n",
      "A value is trying to be set on a copy of a slice from a DataFrame\n",
      "\n",
      "See the caveats in the documentation: https://pandas.pydata.org/pandas-docs/stable/user_guide/indexing.html#returning-a-view-versus-a-copy\n",
      "  df['Офсайды 2'][mask_1] = 1.00\n"
     ]
    }
   ],
   "source": [
    "df = df.astype({'счет1': 'int32'})\n",
    "df = df.astype({'счет2': 'int32'})\n",
    "\n",
    "df[\"тотал\"] = df[\"счет1\"] + df[\"счет2\"]\n",
    "df[\"Дата\"] = pd.to_datetime(df['Дата'],dayfirst=True)\n",
    "df['Температура'] = df['Температура'].apply(lambda x: int(x[1:3]))\n",
    "df['country'] = df['общая информация'].apply(lambda x: x.split()[0])\n",
    "\n",
    "mask_1 = df[\"id\"] == 14898101\n",
    "df['Офсайды  (соперник) 2'][mask_1] = 4.00\n",
    "df['Офсайды 2'][mask_1] = 1.00\n",
    "\n",
    "df = df.astype({'Офсайды  (соперник) 2': 'float32'})\n",
    "df = df.astype({'Офсайды 2': 'float32'})\n",
    "\n",
    "df[\"Сухие матчи 1\"] = df[\"Сухие матчи 1\"].apply(lambda x: int(x.split()[-1]))\n",
    "df[\"Сухие матчи 2\"] = df[\"Сухие матчи 2\"].apply(lambda x: int(x.split()[0]))\n",
    "\n",
    "df[\"обе забьют 1\"] = df[\"обе забьют 1\"].apply(lambda x: int(x.split()[-1]))\n",
    "df[\"обе забьют 2\"] = df[\"обе забьют 2\"].apply(lambda x: int(x.split()[0]))\n",
    "\n",
    "df[\"Тотал больше 2.5 1\"] = df[\"Тотал больше 2.5 1\"].apply(lambda x: int(x.split()[-1]))\n",
    "df[\"Тотал больше 2.5 2\"] = df[\"Тотал больше 2.5 2\"].apply(lambda x: int(x.split()[0]))\n",
    "\n",
    "df[\"Тотал меньше 2.5 1\"] = df[\"Тотал меньше 2.5 1\"].apply(lambda x: int(x.split()[-1]))\n",
    "df[\"Тотал меньше 2.5 2\"] = df[\"Тотал меньше 2.5 2\"].apply(lambda x: int(x.split()[0]))\n",
    "\n",
    "df[\"Поражения 1\"] = df[\"Поражения 1\"].apply(lambda x: int(x.split()[-1]))\n",
    "df[\"Поражения 2\"] = df[\"Поражения 2\"].apply(lambda x: int(x.split()[0]))\n",
    "\n",
    "df[\"Ничьи 1\"] = df[\"Ничьи 1\"].apply(lambda x: int(x.split()[-1]))\n",
    "df[\"Ничьи 2\"] = df[\"Ничьи 2\"].apply(lambda x: int(x.split()[0]))\n",
    "\n",
    "df[\"Победы 1\"] = df[\"Победы 1\"].apply(lambda x: int(x.split()[-1]))\n",
    "df[\"Победы 2\"] = df[\"Победы 2\"].apply(lambda x: int(x.split()[0]))\n",
    "\n",
    "df[\"Отдых: дни (часы) 1\"] = df[\"Отдых: дни (часы) 1\"].apply(lambda x: float(x.split()[-1]))\n",
    "df[\"Отдых: дни (часы) 2\"] = df[\"Отдых: дни (часы) 2\"].apply(lambda x: float(x.split()[0]))"
   ]
  },
  {
   "cell_type": "code",
   "execution_count": 36,
   "metadata": {},
   "outputs": [
    {
     "data": {
      "text/plain": [
       "1097"
      ]
     },
     "execution_count": 36,
     "metadata": {},
     "output_type": "execute_result"
    }
   ],
   "source": [
    "df[\"id\"].nunique()"
   ]
  },
  {
   "cell_type": "code",
   "execution_count": 37,
   "metadata": {},
   "outputs": [
    {
     "data": {
      "text/plain": [
       "308"
      ]
     },
     "metadata": {},
     "output_type": "display_data"
    },
    {
     "data": {
      "text/plain": [
       "308"
      ]
     },
     "metadata": {},
     "output_type": "display_data"
    }
   ],
   "source": [
    "display(df_bund_19_20[\"id\"].nunique())\n",
    "display(df_bund_19_20.shape[0])"
   ]
  },
  {
   "cell_type": "code",
   "execution_count": 38,
   "metadata": {},
   "outputs": [
    {
     "data": {
      "text/plain": [
       "308"
      ]
     },
     "metadata": {},
     "output_type": "display_data"
    },
    {
     "data": {
      "text/plain": [
       "308"
      ]
     },
     "metadata": {},
     "output_type": "display_data"
    }
   ],
   "source": [
    "display(df_bund_20_21[\"id\"].nunique())\n",
    "display(df_bund_20_21.shape[0])"
   ]
  },
  {
   "cell_type": "code",
   "execution_count": 39,
   "metadata": {},
   "outputs": [
    {
     "data": {
      "text/plain": [
       "185"
      ]
     },
     "metadata": {},
     "output_type": "display_data"
    },
    {
     "data": {
      "text/plain": [
       "185"
      ]
     },
     "metadata": {},
     "output_type": "display_data"
    }
   ],
   "source": [
    "display(df_bund_21_22[\"id\"].nunique())\n",
    "display(df_bund_21_22.shape[0])"
   ]
  },
  {
   "cell_type": "code",
   "execution_count": 40,
   "metadata": {},
   "outputs": [
    {
     "data": {
      "text/plain": [
       "298"
      ]
     },
     "metadata": {},
     "output_type": "display_data"
    },
    {
     "data": {
      "text/plain": [
       "298"
      ]
     },
     "metadata": {},
     "output_type": "display_data"
    }
   ],
   "source": [
    "display(df_bund_22_23[\"id\"].nunique())\n",
    "display(df_bund_22_23.shape[0])"
   ]
  }
 ],
 "metadata": {
  "kernelspec": {
   "display_name": "Python 3",
   "language": "python",
   "name": "python3"
  },
  "language_info": {
   "codemirror_mode": {
    "name": "ipython",
    "version": 3
   },
   "file_extension": ".py",
   "mimetype": "text/x-python",
   "name": "python",
   "nbconvert_exporter": "python",
   "pygments_lexer": "ipython3",
   "version": "3.9.13"
  }
 },
 "nbformat": 4,
 "nbformat_minor": 2
}
