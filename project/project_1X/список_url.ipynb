{
 "cells": [
  {
   "cell_type": "code",
   "execution_count": 79,
   "metadata": {},
   "outputs": [],
   "source": [
    "import pandas as pd\n",
    "import requests\n",
    "from bs4 import BeautifulSoup\n",
    "from time import sleep\n",
    "\n",
    "id_groups = 17\n",
    "season = 2021-2022\n",
    "url_team = f\"https://soccer365.ru/competitions/{id_groups}/{season}/results/\"\n",
    "response_1 = requests.get(url_team)\n",
    "soup_1 = BeautifulSoup(response_1.text,'lxml')\n",
    "\n",
    "lister = soup_1.find('div',id=\"result_data\")\n",
    "lister_url = lister.find('div',class_=\"game_block\")"
   ]
  }
 ],
 "metadata": {
  "kernelspec": {
   "display_name": "Python 3",
   "language": "python",
   "name": "python3"
  },
  "language_info": {
   "codemirror_mode": {
    "name": "ipython",
    "version": 3
   },
   "file_extension": ".py",
   "mimetype": "text/x-python",
   "name": "python",
   "nbconvert_exporter": "python",
   "pygments_lexer": "ipython3",
   "version": "3.9.13"
  },
  "orig_nbformat": 4
 },
 "nbformat": 4,
 "nbformat_minor": 2
}
